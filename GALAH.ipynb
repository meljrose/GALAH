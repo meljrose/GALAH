{
 "cells": [
  {
   "cell_type": "markdown",
   "metadata": {},
   "source": [
    "# AAO GALAH RESEARCH JAN-APR 2016"
   ]
  },
  {
   "cell_type": "markdown",
   "metadata": {},
   "source": [
    "### Missy McIntosh, Gayandhi de Silva, Jeffrey Simpson\n",
    "http://www.univie.ac.at/webda/cgi-bin/frame_data_list.cgi?ascc111+ad2k+ad2000.coo"
   ]
  },
  {
   "cell_type": "markdown",
   "metadata": {},
   "source": [
    "#### Check if there are any known open clusters in GALAH\n",
    "#### This is a very slow python script...."
   ]
  },
  {
   "cell_type": "code",
   "execution_count": 5,
   "metadata": {
    "collapsed": false
   },
   "outputs": [],
   "source": [
    "%matplotlib inline\n",
    "import matplotlib.pyplot as plt\n",
    "import numpy as np\n",
    "from astropy import units as u\n",
    "from astropy.coordinates import SkyCoord\n",
    "from astropy.coordinates import FK4\n",
    "import time\n",
    "from tqdm import *\n",
    "import pandas as pd\n",
    "import codecs\n",
    "import numpy as np\n",
    "from lxml import html\n",
    "from lxml import etree\n",
    "import requests\n",
    "from astropy import units as u\n",
    "from astropy.coordinates import SkyCoord\n",
    "from astropy.coordinates import FK4\n",
    "import csv\n",
    "from numpy import genfromtxt"
   ]
  },
  {
   "cell_type": "code",
   "execution_count": 147,
   "metadata": {
    "collapsed": false
   },
   "outputs": [],
   "source": [
    "def coordconvert(ra, dec):\n",
    "    c = SkyCoord(ra, dec, unit=(u.hourangle, u.deg))\n",
    "    newra = c.ra.degree\n",
    "    newdec = c.dec.degree\n",
    "    return(newra, newdec)\n",
    "\n",
    "def getwebda(name):\n",
    "    try:\n",
    "        # fetch coordinates \n",
    "        linkpt1 = \"http://www.univie.ac.at/webda/cgi-bin/frame_data_list.cgi?\"\n",
    "        linkpt2 = \"+ad2k+ad2000.coo\"\n",
    "        link = linkpt1+name+linkpt2\n",
    "        page = requests.get(link)\n",
    "    except:\n",
    "        print(\"Couldn't find coordinate link for\", name)\n",
    "        print(link)\n",
    "    try:\n",
    "        tree = html.fromstring(page.content)\n",
    "        text = str(etree.tostring(tree))\n",
    "        temp = text.split(r'\\n\\n ')\n",
    "        temp = temp[-1]\n",
    "        temp = temp.split(r'\\n')\n",
    "        temp = temp[:-2]\n",
    "        temp = [x.split(r'  ') for x in temp]\n",
    "        temp = [list(filter(None, x)) for x in temp]\n",
    "        subsetcid =np.asarray([x[0] for x in temp])\n",
    "        coords = [coordconvert(coord[2], coord[3]) for coord in temp]\n",
    "        subsetra = np.asarray([coord[0] for coord in coords])\n",
    "        subsetdec = np.asarray([coord[1] for coord in coords])\n",
    "    except:\n",
    "        print(\"error with parsing coords html\")\n",
    "        print(link)\n",
    "        subsetcid = None\n",
    "        subsetra = None\n",
    "        subsetdec = None\n",
    "        return(None, None, None, None, None)\n",
    "        \n",
    "    # fetch magnitudes \n",
    "    try:\n",
    "        linkpt1 = \"http://www.univie.ac.at/webda/cgi-bin/frame_data_list.cgi?\"\n",
    "        linkpt2 = \"+ubvpg+ubv.pgo\"\n",
    "        link = linkpt1+name+linkpt2\n",
    "        page = requests.get(link)\n",
    "    except:\n",
    "        print(\"Couldn't find magnitude link for\", name)\n",
    "        print(link)\n",
    "    try:\n",
    "        tree = html.fromstring(page.content)\n",
    "        text = str(etree.tostring(tree))\n",
    "        temp = text.split(r'\\n\\n ')\n",
    "        temp = temp[-1]\n",
    "        temp = temp.split(r'\\n')\n",
    "        temp = temp[:-2]\n",
    "        temp = [x.split(r'  ') for x in temp]\n",
    "        temp = [list(filter(None, x)) for x in temp]\n",
    "        subsetmid =np.asarray([x[0] for x in temp])\n",
    "        subsetvmag = np.asarray([x[2] for x in temp])\n",
    "    except:\n",
    "        print(\"error with parsing mags html\")\n",
    "        print(link)\n",
    "        subsetmid = None\n",
    "        subsetvmag = None\n",
    "        return(None, None, None, None, None)\n",
    "        \n",
    "    # we only want data where both RA/DEC and Vmag are available\n",
    "    both = list(set(subsetcid).intersection(subsetmid))\n",
    "    \n",
    "    index = np.in1d(subsetcid, both).nonzero()\n",
    "    bothra = subsetra[index]\n",
    "    bothdec = subsetdec[index]\n",
    "    bothcid = subsetcid[index]\n",
    "\n",
    "    index = np.in1d(subsetmid, both).nonzero()\n",
    "    bothvmag = subsetvmag[index]\n",
    "    bothmid = subsetmid[index]\n",
    "        \n",
    "    return(bothcid, bothra, bothdec, bothmid, bothvmag)\n",
    "     \n",
    "   \n",
    "\n",
    "\n",
    "def pbsearch(sorted_data, subset, tolerance):\n",
    "    # a function of the declination \n",
    "    tol = tolerance\n",
    "    searched_arr = []\n",
    "    matched_arr = []\n",
    "    \n",
    "    for i in tqdm(range(len(subset))):\n",
    "        a = subset[i]\n",
    "        tol = abs(a[0]*np.cos(a[1]))\n",
    "        print(tol)\n",
    "        ra = sorted_data[:]\n",
    "        n = list.__len__(ra)\n",
    "        for element in np.arange(0,n):\n",
    "            index = int(n/2)\n",
    "            entry = ra[index]\n",
    "            \n",
    "            if a[0] - tol > entry[0]:\n",
    "                print(\"a[0] - tol > entry[0]\", a[0] - tol > entry[0])\n",
    "                ra = ra[index:]\n",
    "            elif a[0] + tol < entry[0]:\n",
    "                print(\"a[0] + tol < entry[0]\",a[0] + tol < entry[0])\n",
    "                ra = ra[:(index)]\n",
    "            else:\n",
    "                # ra match, check dec\n",
    "                if (np.absolute(a[1] - entry[1]) <= tol):\n",
    "                    matched_arr.append(entry)\n",
    "                    searched_arr.append(a)\n",
    "                    \n",
    "                ra.pop(index)\n",
    "                if not ra:\n",
    "                    break\n",
    "                \n",
    "            try:\n",
    "                n = list.__len__(ra)\n",
    "            except:\n",
    "                break\n",
    "            \n",
    "    \n",
    "\n",
    "    print(\"searched for a subset of \", len(subset), \"RAs against 2mass list of\", len(sorted_data), \"RAs\")\n",
    "    print(\"RA matches: \", len(matched_arr), \"with a tolerance of \", tolerance)\n",
    "    return(searched_arr,matched_arr)\n",
    "\n",
    "# if distance to line is less than 3 * length of 1 sigma from line, add to array\n",
    "def wisigma(a, b, sigma):\n",
    "    a = np.array(a)\n",
    "    b = np.array(b)\n",
    "    dist = np.linalg.norm(a-b)\n",
    "    if dist < 3*sigma:\n",
    "        return(True)\n",
    "    else:\n",
    "        return(False)"
   ]
  },
  {
   "cell_type": "code",
   "execution_count": null,
   "metadata": {
    "collapsed": false
   },
   "outputs": [],
   "source": []
  },
  {
   "cell_type": "code",
   "execution_count": 33,
   "metadata": {
    "collapsed": false
   },
   "outputs": [
    {
     "name": "stdout",
     "output_type": "stream",
     "text": [
      "10 weird sorts\n",
      " "
     ]
    }
   ],
   "source": [
    "%%prun \n",
    "# Read in Jeffrey's 2Mass input database Name, RA, and DEC information\n",
    "# note this data is presorted by RA\n",
    "\n",
    "df = pd.read_csv('jsortedgal.csv', delimiter=',',index_col=False, header=0, dtype=float)\n",
    "df.columns = [\"ID\", \"VMag\", \"RA\", \"DEC\"]\n",
    "\n",
    "#df.sort_values(\"RA\")\n",
    "#all(l[i] <= l[i+1] for i in np.arange(len(l)-1))\n",
    "# there's some weird sorting problems. A few are multiplied by 10^-4 for some reason\n",
    "l = (df[\"RA\"])\n",
    "problems = []\n",
    "for i in np.arange(len(l)-1):\n",
    "    if (l[i] <= l[i+1]):\n",
    "        continue\n",
    "    else:\n",
    "        problems.append(i+1)\n",
    "print(len(problems), \"weird sorts\")\n",
    "for problem in problems:\n",
    "    df[\"RA\"][problem] = df[\"RA\"][problem]*10000\n",
    "\n"
   ]
  },
  {
   "cell_type": "code",
   "execution_count": 36,
   "metadata": {
    "collapsed": false
   },
   "outputs": [
    {
     "name": "stdout",
     "output_type": "stream",
     "text": [
      "9073309\n",
      "[(0.0010089999999999999, -57.713554000000002, 13.429, 1093660.0), (0.0010449999999999999, -75.687950000000001, 12.412000000000001, 179614.0), (0.001108, -34.697871999999997, 11.446, 2969783.0), (0.001129, -9.856497000000001, 12.242000000000001, 4979866.0), (0.00116, 3.0209069999999998, 12.909000000000001, 8247442.0)]\n"
     ]
    }
   ],
   "source": [
    "print(len(df))\n",
    "twomass_ident = np.asarray(df[\"ID\"])\n",
    "twomass_vmag = np.asarray(df[\"VMag\"])\n",
    "twomass_ra = np.asarray(df[\"RA\"])\n",
    "twomass_dec = np.asarray(df[\"DEC\"])\n",
    "\n",
    "twomasszip = list(zip(twomass_ra, twomass_dec, twomass_vmag, twomass_ident))"
   ]
  },
  {
   "cell_type": "code",
   "execution_count": 35,
   "metadata": {
    "collapsed": false,
    "scrolled": true
   },
   "outputs": [
    {
     "name": "stdout",
     "output_type": "stream",
     "text": [
      "428\n",
      "['Collinder 121', 'Collinder 132', 'IC 4651', 'IC 4756', 'NGC 2112', 'NGC 2186', 'NGC 2204', 'NGC 2354', 'NGC 2477', 'NGC 2516', 'NGC 2682', 'NGC 3680', 'NGC 3960', 'NGC 6087', 'NGC 6124', 'NGC 6716', 'Ruprecht 20', 'Tombaugh 1']\n",
      "['cr097', 'cr132', 'ic4651', 'ic4756', 'ngc2112', 'ngc2186', 'ngc2204', 'ngc2354', 'ngc2477', 'ngc2516', 'ngc2682', 'ngc3680', 'ngc3960', 'ngc6087', 'ngc6124', 'ngc6716', 'ru020', 'to01']\n",
      "18\n"
     ]
    }
   ],
   "source": [
    "# Read in WEBDA\n",
    "\n",
    "#I got this html from querying webda for all clusters with J2000 coordinate data available\n",
    "\n",
    "# connect to webda database\n",
    "# grab each cluster name\n",
    "## search this page: http://www.univie.ac.at/webda/cgi-bin/seldb.cgi?\n",
    "## for links like http://www.univie.ac.at/webda/cgi-bin/ocl_page.cgi?dirname=wes02\n",
    "## and grab the string after dirname=  \n",
    "# these are the clusters that have coordinate data\n",
    "# do the same for UBV data, and take only the names of clusters that have both\n",
    "#http://www.univie.ac.at/webda/webda_selection.html\n",
    "#I queried for UBV photoelectric observations\n",
    "#and Equatorial coordinates J2000 and saved the resulting table data to acquire the names of the clusters for which this data was available\n",
    "\n",
    "\n",
    "f = codecs.open(\"webdacoords.html\", \"r\", \"utf-8\")\n",
    "page = f.read()\n",
    "split = page.split(\"dirname=\")\n",
    "coordnames = [split[x].split('\"')[0] for x in np.arange(len(split))]\n",
    "coordnames = coordnames[1:]\n",
    "f = codecs.open(\"webdamag.html\", \"r\", \"utf-8\")\n",
    "page = f.read()\n",
    "split = page.split(\"dirname=\")\n",
    "magnames = [split[x].split('\"')[0] for x in np.arange(len(split))]\n",
    "magnames = magnames[1:]\n",
    "\n",
    "wnindices = [i for (i, x) in enumerate(magnames) if x in coordnames]\n",
    "webnames = [magnames[i] for i in wnindices]\n",
    "print(len(webnames))\n",
    "\n",
    "cnindices = [i for (i, x) in enumerate(magnames) if x in webnames]\n",
    "isplit = [split[i] for i in cnindices]\n",
    "temp = [isplit[x].split(\";\")[1] for x in np.arange(len(isplit))][1:]\n",
    "clusternames = [temp[x].split(\"&\")[0] for x in np.arange(len(temp))]\n",
    "\n",
    "# read in dias results\n",
    "data = genfromtxt('dias_wtol0.005556_matched125.csv', delimiter=',', dtype=None)\n",
    "data = data[0]\n",
    "diasnames = [row.decode('UTF-8') for row in data]\n",
    "\n",
    "fwnindices = [i for (i, x) in enumerate(clusternames) if x in diasnames]\n",
    "print([list(clusternames)[i] for i in fwnindices])\n",
    "filteredwebnames = [(webnames)[i] for i in fwnindices]\n",
    "print(filteredwebnames)\n",
    "print(len(filteredwebnames))\n",
    "\n",
    "# it looks like the first elements don't match\n",
    "names = filteredwebnames[1:]\n",
    "\n",
    "#i = 1\n",
    "#name = names[i]\n",
    "#subsetid, subsetra, subsetdec = getwebda(name)"
   ]
  },
  {
   "cell_type": "code",
   "execution_count": null,
   "metadata": {
    "collapsed": false
   },
   "outputs": [
    {
     "name": "stderr",
     "output_type": "stream",
     "text": [
      "  6%|▌         | 1/17 [00:01<00:26,  1.66s/it]"
     ]
    }
   ],
   "source": [
    "%%prun\n",
    "tol = 0.005556\n",
    "coorddeviation = []\n",
    "\n",
    "for y in tqdm(range(len(names))):\n",
    "\n",
    "    name = names[y]\n",
    "\n",
    "    subsetid, subsetra, subsetdec, subsetmid, subsetvmag = getwebda(name)\n",
    "    if (subsetid) is None:\n",
    "        print(\"skipping\", name)\n",
    "        continue\n",
    "    print(name)\n",
    "    subsetzip = list(zip(subsetra, subsetdec, subsetvmag, subsetmid,subsetid))\n",
    "    print(\"data retrived, starting pbsearch\")\n",
    "    searched_ra, matched_ra = pbsearch(twomasszip, subsetzip, tol)\n",
    "\n",
    "    \n",
    "\n",
    "    n = list.__len__(matched_ra)\n",
    "    if n > 0:\n",
    "        \n",
    "        \n",
    "        # magnitude filter    \n",
    "        x = [float(x[2]) for x in searched_ra]\n",
    "        y = [float(y[2]) for y in matched_ra]\n",
    "\n",
    "        # mostly from http://stackoverflow.com/questions/28505008/numpy-polyfit-how-to-get-1-sigma-uncertainty-around-the-estimated-curve\n",
    "\n",
    "        n = 1# degree of polynomial\n",
    "        s=3 # number of sigma\n",
    "        p, C_p = np.polyfit(x, y, n, cov=True)  # C_z is estimated covariance matrix\n",
    "\n",
    "        # Do the interpolation for plotting:\n",
    "        t = np.linspace(min(x), max(x), len(x))\n",
    "        # Matrix with rows 1, t, t**2, ...:\n",
    "        TT = np.vstack([t**(n-i) for i in range(n+1)]).T\n",
    "        yi = np.dot(TT, p)  # matrix multiplication calculates the polynomial values\n",
    "        C_yi = np.dot(TT, np.dot(C_p, TT.T)) # C_y = TT*C_z*TT.T\n",
    "        sig_yi = np.sqrt(np.diag(C_yi))  # Standard deviations are sqrt of diagonal\n",
    "\n",
    "        # Do the plotting:\n",
    "        fg, ax = plt.subplots(1, 1)\n",
    "        ax.set_title(\"Fit with $\\pm{}\\sigma$-interval\".format(s))\n",
    "        ax.fill_between(t, yi+(s*sig_yi), yi-(s*sig_yi), alpha=.25)\n",
    "        ax.plot(t, yi,'-r')\n",
    "        plt.scatter(x,y, s=30, alpha=0.15, marker='o')\n",
    "        #ax.plot(x, y, 'ro')\n",
    "        ax.axis('tight')\n",
    "\n",
    "        fg.canvas.draw()\n",
    "        plt.show()\n",
    "\n",
    "        a = list(zip(x,y))\n",
    "        b = list(zip(t, yi))\n",
    "\n",
    "        bools = []\n",
    "        for i in np.arange(len(x)):\n",
    "            bol = wisigma(a[i], b[i], s*sig_yi[i])\n",
    "            bools.append(bol)\n",
    "\n",
    "\n",
    "        # what's the average distance away from the line of best fit from these 3 sigma guys?\n",
    "        print(sum(bools))\n",
    "        indices = np.nonzero(bools)[0]\n",
    "        matchedfmag = [matched_ra[index] for index in indices]\n",
    "        a = [np.array([x[0], x[1]]) for x in matchedfmag]\n",
    "        searchedfmag = [searched_ra[index] for index in indices]\n",
    "        b = [np.array([x[0], x[1]]) for x in searchedfmag]\n",
    "        dists = [np.linalg.norm(a[i]-b[i]) for i in np.arange(len(a))]\n",
    "        coorddeviation.append(np.std(dists))\n",
    "\n",
    "        \n",
    "        print(n, \"matches for\", name, \"for tolerance\", tol)\n",
    "        filename = name+\"_wtol\"+str(tol)+\"_matched\"+str(n)+'.csv'\n",
    "        header = [\"webdacoordid\", \"webdaras\", \"webdadecs\", \"webdamagid\", \"webdavmags\", \"galahids\", \"twomassras\", \"twomassdecs\", \"twomassvmags\"]\n",
    "        with open(filename, 'w', newline='') as fp:\n",
    "            a = csv.writer(fp, delimiter=',')\n",
    "            a.writerow(header)\n",
    "            for i in np.arange(n):\n",
    "                data = [searchedfmag[i][4], searchedfmag[i][0], searchedfmag[i][1], searchedfmag[i][3], searchedfmag[i][2], matchedfmag[i][3], matchedfmag[i][0], matchedfmag[i][1], matchedfmag[i][2]]\n",
    "                a.writerow(data)\n",
    "    else:\n",
    "        print(\"No matches for\", name, \"for tolerance\", tol)\n"
   ]
  },
  {
   "cell_type": "code",
   "execution_count": 53,
   "metadata": {
    "collapsed": false
   },
   "outputs": [
    {
     "name": "stdout",
     "output_type": "stream",
     "text": [
      "(279.31554583333332, 5.3178861111111111, ' 9.10', ' 0048', ' 0040')\n",
      "(279.31557299999997, 5.3178739999999998, 9.3239999999999998, 6061249.0)\n",
      "114 matches for ic4756 for tolerance 0.005556\n"
     ]
    }
   ],
   "source": [
    "\n",
    "n = list.__len__(matched_ra)\n",
    "if n > 0:\n",
    "    print(n, \"matches for\", name, \"for tolerance\", tol)\n",
    "    filename = name+\"_wtol\"+str(tol)+\"_matched\"+str(n)+'.csv'\n",
    "    header = [\"webdacoordid\", \"webdaras\", \"webdadecs\", \"webdamagid\", \"webdavmags\", \"galahids\", \"twomassras\", \"twomassdecs\", \"twomassvmags\"]\n",
    "    with open(filename, 'w', newline='') as fp:\n",
    "        a = csv.writer(fp, delimiter=',')\n",
    "        a.writerow(header)\n",
    "        for i in np.arange(n):\n",
    "            data = [searched_ra[i][4], searched_ra[i][0], searched_ra[i][1], searched_ra[i][3], searched_ra[i][2], matched_ra[i][3], matched_ra[i][0], matched_ra[i][1], matched_ra[i][2]]\n",
    "            a.writerow(data)\n",
    "else:\n",
    "    print(\"No matches for\", name, \"for tolerance\", tol)\n"
   ]
  },
  {
   "cell_type": "code",
   "execution_count": null,
   "metadata": {
    "collapsed": true
   },
   "outputs": [],
   "source": []
  },
  {
   "cell_type": "code",
   "execution_count": null,
   "metadata": {
    "collapsed": true
   },
   "outputs": [],
   "source": [
    "print(\"starting dec indexing\")\n",
    "\n",
    "searcheddec = [subsetdec[subsetra == ra] for ra in searched_ra] \n",
    "matcheddec = [twomass_dec[twomass_ra == ra] for ra in matched_ra]\n",
    "\n",
    "print(\"finished dec indexing, comparing decs\")\n",
    "\n",
    "bools = []\n",
    "for i in np.arange(len(matcheddec)):\n",
    "    bol = checkdec(matcheddec[i],searcheddec[i], tol)\n",
    "    bools.append(bol)\n",
    "\n",
    "print(\"writing file\")\n",
    "n= np.sum(bools)\n",
    "if n > 0:\n",
    "    print(n, \"matches for\", name, \"for tolerance\", tol)\n",
    "    fullmatchindex = np.where(bools)[0]\n",
    "\n",
    "\n",
    "    galahids = [twomass_ident[int(index)] for index in fullmatchindex]\n",
    "    twomassvmags = [twomass_vmag[int(index)] for index in fullmatchindex]\n",
    "    twomassras = [twomass_ra[int(index)] for index in fullmatchindex]\n",
    "    twomassdecs =[twomass_dec[int(index)] for index in fullmatchindex]\n",
    "\n",
    "    subindices = [searcheddec_index[int(index)] for index in fullmatchindex]\n",
    "    subsetids = [subsetid[index] for index in subindices]\n",
    "    subsetras = [subsetra[index] for index in subindices]\n",
    "    subsetdecs = [subsetdec[index] for index in subindices]\n",
    "\n",
    "    filename = name+\"_wtol\"+str(tol)+\"_matched\"+str(n)+'.csv'\n",
    "    with open(filename, 'w', newline='') as fp:\n",
    "        a = csv.writer(fp, delimiter=',')\n",
    "        data = [subsetids, webdaras, webdadecs, webdavmags, galahids, twomassras, twomassdecs, twomassvmags]\n",
    "        a.writerows(data)\n",
    "else:\n",
    "    print(\"No matches for\", name, \"for tolerance\", tol)\n",
    "\n"
   ]
  },
  {
   "cell_type": "code",
   "execution_count": 97,
   "metadata": {
    "collapsed": false
   },
   "outputs": [
    {
     "name": "stdout",
     "output_type": "stream",
     "text": [
      "(279.13845833333329, 5.2118888888888888, ' 8.86', ' 0028', ' 0028')\n",
      "(279.13844, 5.2119470000000003, 8.9160000000000004, 6053126.0)\n",
      "114\n"
     ]
    }
   ],
   "source": [
    "print(searched_ra[0])\n",
    "print(matched_ra[0])\n",
    "x = [float(x[2]) for x in searched_ra]\n",
    "y = [float(y[2]) for y in matched_ra]\n",
    "print(len(x))"
   ]
  },
  {
   "cell_type": "code",
   "execution_count": null,
   "metadata": {
    "collapsed": false
   },
   "outputs": [],
   "source": []
  },
  {
   "cell_type": "code",
   "execution_count": 98,
   "metadata": {
    "collapsed": false
   },
   "outputs": [
    {
     "name": "stderr",
     "output_type": "stream",
     "text": [
      "/Users/mmcintosh/anaconda/lib/python3.4/site-packages/matplotlib/collections.py:590: FutureWarning: elementwise comparison failed; returning scalar instead, but in the future will perform elementwise comparison\n",
      "  if self._edgecolors == str('face'):\n"
     ]
    },
    {
     "data": {
      "image/png": "[encoded data removed]",
      "text/plain": [
       "<matplotlib.figure.Figure at 0x109ae4748>"
      ]
     },
     "metadata": {},
     "output_type": "display_data"
    },
    {
     "name": "stdout",
     "output_type": "stream",
     "text": [
      "76\n",
      "1.20530506444 +/- 0.755124048182\n"
     ]
    }
   ],
   "source": []
  },
  {
   "cell_type": "code",
   "execution_count": 143,
   "metadata": {
    "collapsed": false
   },
   "outputs": [],
   "source": []
  },
  {
   "cell_type": "code",
   "execution_count": 145,
   "metadata": {
    "collapsed": false
   },
   "outputs": [
    {
     "name": "stdout",
     "output_type": "stream",
     "text": [
      "0.000177914523765 0.0027419147764\n"
     ]
    }
   ],
   "source": []
  },
  {
   "cell_type": "code",
   "execution_count": null,
   "metadata": {
    "collapsed": false
   },
   "outputs": [],
   "source": [
    "# Read in DIAS \n",
    "# I didn't know an easy way to read in this file so this is very messy and hacked and slow and I apologize\n",
    "\n",
    "\n",
    "dias_data = np.genfromtxt('dias.txt', delimiter='\\t', names=None, dtype=None)\n",
    "dias_data = dias_data[1:]\n",
    "\n",
    "data = []\n",
    "subsetid = []\n",
    "subsetra = []\n",
    "subsetdec = []\n",
    "for line in dias_data:\n",
    " \n",
    "    line = line.decode('UTF-8')\n",
    "\n",
    "    line = (str(line).split(\"  \"))\n",
    "\n",
    "    line = np.array(list(filter(None, line)))\n",
    "    subsetid.append(line[0])\n",
    "    try:\n",
    "        c = SkyCoord(line[1], line[2], unit=(u.hourangle, u.deg))\n",
    "        subsetra.append(c.ra.degree)\n",
    "        subsetdec.append(c.dec.degree)\n",
    "    except:\n",
    "        print(\"error: \", line)\n",
    "    data.append(line)\n",
    "    \n",
    "# some problems with dec\n",
    "subsetra = np.asarray(subsetra)\n",
    "subsetdec = np.asarray(subsetdec)\n",
    "name = \"dias\"\n",
    "\n"
   ]
  },
  {
   "cell_type": "code",
   "execution_count": null,
   "metadata": {
    "collapsed": true
   },
   "outputs": [],
   "source": [
    "# search each coord in file against 2 mass\n",
    "\n",
    "# return subset RAs found within sorted data\n",
    "# tolernece is 20 arc seconds\n",
    "tol = 0.005556\n",
    "searched_ra, matched_ra = pbsearch(twomass_ra, subsetra, tol)"
   ]
  },
  {
   "cell_type": "code",
   "execution_count": null,
   "metadata": {
    "collapsed": true
   },
   "outputs": [],
   "source": [
    "# retrieve the DEC and indicies of the found subset RAs\n",
    "# check that the DEC values are w/i tolerence and return matched indices\n",
    "# indices returned are for 2MASS\n",
    "\n",
    "searcheddec = [subsetdec[subsetra == ra] for ra in searched_ra] \n",
    "matcheddec = [twomass_dec[twomass_ra == ra] for ra in matched_ra]\n"
   ]
  },
  {
   "cell_type": "code",
   "execution_count": null,
   "metadata": {
    "collapsed": false
   },
   "outputs": [],
   "source": [
    "bools = []\n",
    "for i in np.arange(len(matcheddec)):\n",
    "    bol = checkdec(matcheddec[i],searcheddec[i], tol)\n",
    "    bools.append(bol)\n",
    "\n",
    "\n",
    "# select info on the matched RA and DECs\n",
    "n= np.sum(bools)\n",
    "if n > 0:\n",
    "    print(n, \"matches for\", name, \"for tolerance\", tol)\n",
    "    fullmatchindex = np.where(bools)[0]\n",
    "    galahids = [twomass_ident[int(index)] for index in fullmatchindex]\n",
    "    #subsetids = [subsetid[searcheddec_index[index]] for index in fullmatchindex]\n",
    "    subsetids = [searcheddec_index[index] for index in fullmatchindex]\n",
    "    filename = name+\"_wtol\"+str(tol)+\"_matched\"+str(n)+'.csv'\n",
    "    with open(filename, 'w', newline='') as fp:\n",
    "        a = csv.writer(fp, delimiter=',')\n",
    "        data = [subsetids, galahids]\n",
    "        a.writerows(data)\n",
    "else:\n",
    "    print(\"No matches for\", name, \"for tolerance\", tol)\n",
    "   "
   ]
  },
  {
   "cell_type": "code",
   "execution_count": 27,
   "metadata": {
    "collapsed": false
   },
   "outputs": [
    {
     "name": "stdout",
     "output_type": "stream",
     "text": [
      "error with parsing mags html\n",
      "http://www.univie.ac.at/webda/cgi-bin/frame_data_list.cgi?cr132+ubvpg+ubv.pgo\n",
      "error\n"
     ]
    }
   ],
   "source": [
    "name = names[1]\n",
    "\n",
    "subsetid, subsetra, subsetdec, subsetmid, subsetvmag = getwebda(name)\n",
    "\n"
   ]
  },
  {
   "cell_type": "code",
   "execution_count": 24,
   "metadata": {
    "collapsed": false
   },
   "outputs": [
    {
     "name": "stdout",
     "output_type": "stream",
     "text": [
      "[' 0107' ' 0107' ' 0109' ' 0111' ' 0112' ' 0113' ' 0115' ' 0115' ' 0117'\n",
      " ' 0117' ' 0119' ' 0120' ' 0121' ' 0121' ' 0122' ' 0122' ' 0123' ' 0124'\n",
      " ' 0125' ' 0125' ' 0127' ' 0128' ' 0128' ' 0129' ' 0129' ' 0131' ' 0131'\n",
      " ' 0132' ' 0133' ' 0133' ' 0134' ' 0135' ' 0201' ' 0203' ' 0204' ' 0204'\n",
      " ' 0205' ' 0206' ' 0207' ' 0208' ' 0209' ' 0210' ' 0211' ' 0212' ' 0213'\n",
      " ' 0214' ' 0215' ' 0217' ' 0217' ' 0218' ' 0218' ' 0219' ' 0219' ' 0221'\n",
      " ' 0221' ' 0222' ' 0222' ' 0223' ' 0223' ' 0224' ' 0224' ' 0225' ' 0225'\n",
      " ' 0226' ' 0226' ' 0227' ' 0227' ' 0228' ' 0228' ' 0229' ' 0301' ' 0302'\n",
      " ' 0305' ' 0305' ' 0307' ' 0307' ' 0311' ' 0312' ' 0312' ' 0313' ' 0314'\n",
      " ' 0315' ' 0315' ' 0319' ' 0319' ' 0403' ' 0404' ' 0405' ' 0406' ' 0407'\n",
      " ' 0408' ' 0409' ' 0410' ' 0411' ' 0412' ' 0413' ' 0414' ' 0414' ' 0415'\n",
      " ' 0415' ' 0416' ' 0417' ' 0417' ' 0418' ' 0418' ' 0419' ' 0419' ' 0420'\n",
      " ' 0420' ' 0421' ' 0421']\n"
     ]
    }
   ],
   "source": [
    "print(subsetid)\n",
    "#subsetmid =np.asarray([x[0] for x in temp])\n",
    "#subsetvmag = np.asarray([x[2] for x in temp])"
   ]
  },
  {
   "cell_type": "code",
   "execution_count": null,
   "metadata": {
    "collapsed": true
   },
   "outputs": [],
   "source": [
    "# back up for webda, download files individually\n",
    "# Read in Webda observed Name, RA, and DEC information\n",
    "'''\n",
    "\n",
    "df = pd.read_csv('ad2000.coo', delimiter='\\t',index_col=False, header=1)\n",
    "df.columns = [\"ID\", \"ref\", \"RA\", \"DEC\"]\n",
    "\n",
    "\n",
    "coords = [coordconvert(ra, dec) for ra in df[\"RA\"] for dec in df[\"DEC\"]]\n",
    "subsetra = np.asarray([coord[0] for coord in coords])\n",
    "subsetdec = np.asarray([coord[1] for coord in coords])\n",
    "'''\n",
    "\n",
    "# Read in Gayandhi's 2Mass input database Name, RA, and DEC information\n",
    "# note this data is presorted by RA\n",
    "'''\n",
    "\n",
    "df = pd.read_csv('gsortedgal.csv', delimiter=',',index_col=False, header=0)\n",
    "df.columns = [\"ID\", \"RA\", \"DEC\"]\n",
    "\n",
    "# get rid of blank entries\n",
    "print(len(df))\n",
    "df = df.loc[(df != 0).any(1)]\n",
    "print(len(df))\n",
    "print(df.head())\n",
    "\n",
    "# assign to np arrays\n",
    "twomass_ident = np.asarray(df[\"ID\"])\n",
    "twomass_ra = np.asarray(df[\"RA\"])\n",
    "twomass_dec = np.asarray(df[\"DEC\"])\n",
    "\n",
    "'''"
   ]
  },
  {
   "cell_type": "code",
   "execution_count": 73,
   "metadata": {
    "collapsed": false
   },
   "outputs": [
    {
     "name": "stdout",
     "output_type": "stream",
     "text": [
      "none\n"
     ]
    }
   ],
   "source": [
    "if (subsetid) is None:\n",
    "    print(\"none\")"
   ]
  },
  {
   "cell_type": "code",
   "execution_count": 68,
   "metadata": {
    "collapsed": false
   },
   "outputs": [
    {
     "name": "stdout",
     "output_type": "stream",
     "text": [
      "[' 0028' ' 0028' ' 0030' ' 0031' ' 0031' ' 0036' ' 0036' ' 0038' ' 0038'\n",
      " ' 0039' ' 0039' ' 0040' ' 0040' ' 0041' ' 0041' ' 0043' ' 0043' ' 0045'\n",
      " ' 0047' ' 0047' ' 0048' ' 0048' ' 0049' ' 0049' ' 0050' ' 0050' ' 0052'\n",
      " ' 0052' ' 0054' ' 0056' ' 0056' ' 0058' ' 0058' ' 0059' ' 0059' ' 0061'\n",
      " ' 0061' ' 0062' ' 0062' ' 0063' ' 0063' ' 0066' ' 0066' ' 0067' ' 0067'\n",
      " ' 0068' ' 0068' ' 0069' ' 0069' ' 0070' ' 0070' ' 0071' ' 0071' ' 0072'\n",
      " ' 0072' ' 0073' ' 0073' ' 0074' ' 0074' ' 0075' ' 0075' ' 0078' ' 0078'\n",
      " ' 0079' ' 0079' ' 0080' ' 0080' ' 0081' ' 0081' ' 0082' ' 0082' ' 0083'\n",
      " ' 0083' ' 0084' ' 0084' ' 0087' ' 0088' ' 0091' ' 0091' ' 0092' ' 0092'\n",
      " ' 0093' ' 0093' ' 0094' ' 0094' ' 0097' ' 0097' ' 0098' ' 0098' ' 0100'\n",
      " ' 0100' ' 0101' ' 0101' ' 0102' ' 0102' ' 0103' ' 0103' ' 0104' ' 0104'\n",
      " ' 0105' ' 0106' ' 0109' ' 0109' ' 0110' ' 0110' ' 0114' ' 0115' ' 0116'\n",
      " ' 0116' ' 0117' ' 0117' ' 0118' ' 0118' ' 0120' ' 0123' ' 0123' ' 0125'\n",
      " ' 0125' ' 0127' ' 0127' ' 0128' ' 0128' ' 0130' ' 0131' ' 0133' ' 0133'\n",
      " ' 0137' ' 0137' ' 0138' ' 0142' ' 0142' ' 0143' ' 0143' ' 0145' ' 0145'\n",
      " ' 0146' ' 0146' ' 0147' ' 0148' ' 0148' ' 0149' ' 0149' ' 0151' ' 0151'\n",
      " ' 0152' ' 0152' ' 0158' ' 0158' ' 0159' ' 0159' ' 0160' ' 0160' ' 0161'\n",
      " ' 0162' ' 0162' ' 0206' ' 0231' ' 0241' ' 0242' ' 0243' ' 0248' ' 0250'\n",
      " ' 0251' ' 0252' ' 0253' ' 0254' ' 0255' ' 0258' ' 0260' ' 0263' ' 0277'\n",
      " ' 0280' ' 0284' ' 0290' ' 0292' ' 0294' ' 0295' ' 0300' ' 0304' ' 0306'\n",
      " ' 0313' ' 0317' ' 0319' ' 0387' ' 0388' ' 0389' ' 0402' ' 0420' ' 0464'\n",
      " ' 0489']\n"
     ]
    }
   ],
   "source": [
    "print(subsetid)"
   ]
  },
  {
   "cell_type": "code",
   "execution_count": null,
   "metadata": {
    "collapsed": true
   },
   "outputs": [],
   "source": []
  }
 ],
 "metadata": {
  "kernelspec": {
   "display_name": "Python 3",
   "language": "python",
   "name": "python3"
  },
  "language_info": {
   "codemirror_mode": {
    "name": "ipython",
    "version": 3
   },
   "file_extension": ".py",
   "mimetype": "text/x-python",
   "name": "python",
   "nbconvert_exporter": "python",
   "pygments_lexer": "ipython3",
   "version": "3.4.3"
  }
 },
 "nbformat": 4,
 "nbformat_minor": 0
}
