{
 "cells": [
  {
   "cell_type": "markdown",
   "metadata": {},
   "source": [
    "# AAO GALAH RESEARCH JAN-APR 2016"
   ]
  },
  {
   "cell_type": "markdown",
   "metadata": {},
   "source": [
    "### Missy McIntosh, Gayandhi de Silva, Jeffrey Simpson\n",
    "http://www.univie.ac.at/webda/cgi-bin/frame_data_list.cgi?ascc111+ad2k+ad2000.coo"
   ]
  },
  {
   "cell_type": "markdown",
   "metadata": {},
   "source": [
    "#### Check if there are any known open clusters in GALAH\n",
    "#### This is a very slow python script...."
   ]
  },
  {
   "cell_type": "markdown",
   "metadata": {},
   "source": [
    "# Table-of-Contents\n",
    "\n",
    "\n",
    "[Load 2Mass database](#Load-2Mass-Database) \n",
    "\n",
    "[Select Clusters](#Select-Clusters) \n",
    "\n",
    "[Webda Data Retrieval](#Webda-Data-Retrieval) \n",
    "\n",
    "[Database Search](#Database-Search) \n",
    "\n",
    "[Filtering](#Filtering) \n",
    "\n",
    "[Looping](#Looping) \n"
   ]
  },
  {
   "cell_type": "code",
   "execution_count": 1,
   "metadata": {
    "collapsed": false
   },
   "outputs": [
    {
     "name": "stderr",
     "output_type": "stream",
     "text": [
      "/Users/mmcintosh/anaconda/lib/python3.4/site-packages/IPython/kernel/__init__.py:13: ShimWarning: The `IPython.kernel` package has been deprecated. You should import from ipykernel or jupyter_client instead.\n",
      "  \"You should import from ipykernel or jupyter_client instead.\", ShimWarning)\n"
     ]
    }
   ],
   "source": [
    "%matplotlib inline\n",
    "%load_ext Cython\n",
    "import matplotlib.pyplot as plt\n",
    "import numpy as np\n",
    "from astropy import units as u\n",
    "from astropy.coordinates import SkyCoord\n",
    "from astropy.coordinates import FK4\n",
    "import time\n",
    "from tqdm import *\n",
    "import pandas as pd\n",
    "import codecs\n",
    "import numpy as np\n",
    "from lxml import html\n",
    "from lxml import etree\n",
    "import requests\n",
    "import csv\n",
    "from numpy import genfromtxt\n",
    "import cython\n",
    "import pyximport\n",
    "pyximport.install(setup_args={\"include_dirs\":np.get_include()},\n",
    "                  reload_support=True)\n",
    "import glob\n",
    "import pylab as py\n",
    "from scipy import optimize\n",
    "from scipy.stats import chisquare\n",
    "from scipy.stats import norm\n",
    "\n",
    "\n"
   ]
  },
  {
   "cell_type": "code",
   "execution_count": 2,
   "metadata": {
    "collapsed": false
   },
   "outputs": [],
   "source": [
    "# Equation for Gaussian\n",
    "def gauss(x, a, b, c):\n",
    "    return a * py.exp(-(x - b)**2.0 / (2 * c**2))\n",
    "\n",
    "def coordseparation(a, b):\n",
    "    # a = [ra1, dec1]\n",
    "    # b= [ra2, dec2]\n",
    "    c1 = SkyCoord(a[0],a[1], unit='deg')\n",
    "    c2 = SkyCoord(b[0],b[1], unit='deg')\n",
    "    sep = c1.separation(c2)\n",
    "    return(sep.degree) \n",
    "\n",
    "def coordconvert(ra, dec):\n",
    "    c = SkyCoord(ra, dec, unit=(u.hourangle, u.deg))\n",
    "    newra = c.ra.degree\n",
    "    newdec = c.dec.degree\n",
    "    return(newra, newdec)\n",
    "\n",
    "def getwebda(name):\n",
    "    try:\n",
    "        # fetch coordinates \n",
    "        linkpt1 = \"http://www.univie.ac.at/webda/cgi-bin/frame_data_list.cgi?\"\n",
    "        linkpt2 = \"+ad2k+ad2000.coo\"\n",
    "        link = linkpt1+name+linkpt2\n",
    "        page = requests.get(link)\n",
    "    except:\n",
    "        print(\"Couldn't find coordinate link for\", name)\n",
    "        print(link)\n",
    "    try:\n",
    "        tree = html.fromstring(page.content)\n",
    "        text = str(etree.tostring(tree))\n",
    "        temp = text.split(r'\\n\\n ')\n",
    "        temp = temp[-1]\n",
    "        temp = temp.split(r'\\n')\n",
    "        temp = temp[:-2]\n",
    "        temp = [x.split(r'  ') for x in temp]\n",
    "        temp = [list(filter(None, x)) for x in temp]\n",
    "        subsetcid = np.asarray([x[0] for x in temp])\n",
    "        coords = [coordconvert(coord[2], coord[3]) for coord in temp]\n",
    "        subsetra = np.asarray([coord[0] for coord in coords])\n",
    "        subsetdec = np.asarray([coord[1] for coord in coords])\n",
    "    except:\n",
    "        print(\"error with parsing coords html\")\n",
    "        print(link)\n",
    "        return(None, None, None, None, None, None)\n",
    "        \n",
    "    # fetch magnitudes \n",
    "    try:\n",
    "        linkpt1 = \"http://www.univie.ac.at/webda/cgi-bin/frame_data_list.cgi?\"\n",
    "        linkpt2 = \"+ubvpg+ubv.pgo\"\n",
    "        link = linkpt1+name+linkpt2\n",
    "        page = requests.get(link)\n",
    "    except:\n",
    "        print(\"Couldn't find magnitude link for\", name)\n",
    "        print(link)\n",
    "    try:\n",
    "        tree = html.fromstring(page.content)\n",
    "        text = str(etree.tostring(tree))\n",
    "        temp = text.split(r'\\n\\n ')\n",
    "        temp = temp[-1]\n",
    "        temp = temp.split(r'\\n')\n",
    "        temp = temp[:-2]\n",
    "        temp = [x.split(r'  ') for x in temp]\n",
    "        temp = [list(filter(None, x)) for x in temp]\n",
    "        subsetmid =np.asarray([x[0] for x in temp])\n",
    "        subsetvmag = np.asarray([float(x[2]) for x in temp])\n",
    "        subsetbv = np.asarray([float(x[3]) for x in temp])\n",
    "    except:\n",
    "        print(\"error with parsing mags html\")\n",
    "        print(link)\n",
    "        return(None, None, None, None, None, None)\n",
    "    \n",
    "    \n",
    "        \n",
    "    # we only want data where both RA/DEC and Vmag are available\n",
    "    both = list(set(subsetcid).intersection(subsetmid))\n",
    "    \n",
    "    index = np.in1d(subsetcid, both).nonzero()\n",
    "    bothra = subsetra[index]\n",
    "    bothdec = subsetdec[index]\n",
    "    bothcid = subsetcid[index]\n",
    "\n",
    "    index = np.in1d(subsetmid, both).nonzero()\n",
    "    bothvmag = subsetvmag[index]\n",
    "    bothmid = subsetmid[index]\n",
    "    bothbv = subsetbv[index]\n",
    "\n",
    "    return(bothcid, bothra, bothdec, bothmid, bothvmag, bothbv)\n"
   ]
  },
  {
   "cell_type": "code",
   "execution_count": 3,
   "metadata": {
    "collapsed": false
   },
   "outputs": [],
   "source": [
    "%%cython\n",
    "import numpy as np\n",
    "\n",
    "def pbsearch(sorted_data, subset, tolerance):\n",
    "    searched_arr = []\n",
    "    matched_arr = []\n",
    "    \n",
    "    cdef int i, n, N, j, index\n",
    "    cdef double lower, upper, tol\n",
    "    N = len(subset)\n",
    "    for i in range(N):\n",
    "        a = subset[i]\n",
    "        # a function of the declination\n",
    "        tol = abs(tolerance*np.cos(a[1]))\n",
    "        ra = sorted_data[:]\n",
    "        n = list.__len__(ra)\n",
    "        #if (i % 20 == 0):\n",
    "        #    print(i, N)\n",
    "        for j in range(n):\n",
    "            if (n <= 1):\n",
    "                break\n",
    "            index = int(n/2)\n",
    "            entry = ra[index]\n",
    "            lower = a[0] - tol\n",
    "            upper = a[0] + tol\n",
    "            \n",
    "            if lower > entry[0]:\n",
    "                ra = ra[index:]\n",
    "            elif upper < entry[0]:\n",
    "                ra = ra[:(index)]\n",
    "            else:\n",
    "                # ra match, check dec\n",
    "                if (abs(a[1] - entry[1]) <= tol):\n",
    "                    matched_arr.append(entry)\n",
    "                    searched_arr.append(a)\n",
    "                    \n",
    "                ra.pop(index)\n",
    "                if not ra:\n",
    "                    break\n",
    "                \n",
    "            try:\n",
    "                n = list.__len__(ra)\n",
    "            except:\n",
    "                break\n",
    "                \n",
    "    \n",
    "\n",
    "    print(\"searched for a subset of \", len(subset), \"Coords against 2mass list of\", len(sorted_data))\n",
    "    print(\"Coord matches: \", len(matched_arr), \"with a tolerance of \", tolerance)\n",
    "    return(searched_arr,matched_arr)"
   ]
  },
  {
   "cell_type": "markdown",
   "metadata": {},
   "source": [
    "# Load-2Mass-Database"
   ]
  },
  {
   "cell_type": "code",
   "execution_count": 4,
   "metadata": {
    "collapsed": false
   },
   "outputs": [
    {
     "name": "stdout",
     "output_type": "stream",
     "text": [
      "10 weird sorts\n"
     ]
    }
   ],
   "source": [
    "\n",
    "# Read in Jeffrey's 2Mass input database Name, RA, and DEC information\n",
    "# note this data is presorted by RA\n",
    "\n",
    "df = pd.read_csv('jsortedgal.csv', delimiter=',',index_col=False, header=0, dtype=float)\n",
    "df.columns = [\"ID\", \"VMag\", \"RA\", \"DEC\", \"B\",\"V\"]\n",
    "\n",
    "df.sort_values(\"RA\")\n",
    "#all(l[i] <= l[i+1] for i in np.arange(len(l)-1))\n",
    "# there's some weird sorting problems. A few are multiplied by 10^-4 for some reason\n",
    "l = (df[\"RA\"])\n",
    "problems = []\n",
    "for i in np.arange(len(l)-1):\n",
    "    if (l[i] <= l[i+1]):\n",
    "        continue\n",
    "    else:\n",
    "        problems.append(i+1)\n",
    "print(len(problems), \"weird sorts\")\n",
    "for problem in problems:\n",
    "    df[\"RA\"][problem] = df[\"RA\"][problem]*10000\n",
    "\n"
   ]
  },
  {
   "cell_type": "code",
   "execution_count": 5,
   "metadata": {
    "collapsed": false
   },
   "outputs": [
    {
     "name": "stdout",
     "output_type": "stream",
     "text": [
      "9073309\n"
     ]
    }
   ],
   "source": [
    "print(len(df))\n",
    "twomass_ident = np.asarray(df[\"ID\"])\n",
    "twomass_vmag = np.asarray(df[\"VMag\"])\n",
    "twomass_ra = np.asarray(df[\"RA\"])\n",
    "twomass_dec = np.asarray(df[\"DEC\"])\n",
    "twomass_bv = np.asarray(df[\"B\"] - df[\"V\"])\n",
    "\n",
    "twomasszip = list(zip(twomass_ra, twomass_dec, twomass_vmag, twomass_bv, twomass_ident))"
   ]
  },
  {
   "cell_type": "markdown",
   "metadata": {},
   "source": [
    "# Select-Clusters "
   ]
  },
  {
   "cell_type": "code",
   "execution_count": 6,
   "metadata": {
    "collapsed": false,
    "scrolled": true
   },
   "outputs": [
    {
     "name": "stdout",
     "output_type": "stream",
     "text": [
      "428\n"
     ]
    }
   ],
   "source": [
    "\n",
    "\n",
    "#I got this html from querying webda for all clusters with J2000 coordinate data available\n",
    "\n",
    "# connect to webda database\n",
    "# grab each cluster name\n",
    "## search this page: http://www.univie.ac.at/webda/cgi-bin/seldb.cgi?\n",
    "## for links like http://www.univie.ac.at/webda/cgi-bin/ocl_page.cgi?dirname=wes02\n",
    "## and grab the string after dirname=  \n",
    "# these are the clusters that have coordinate data\n",
    "# do the same for UBV data, and take only the names of clusters that have both\n",
    "#http://www.univie.ac.at/webda/webda_selection.html\n",
    "#I queried for UBV photoelectric observations\n",
    "#and Equatorial coordinates J2000 and saved the resulting table data to acquire the names of the clusters for which this data was available\n",
    "\n",
    "\n",
    "f = codecs.open(\"webdacoords.html\", \"r\", \"utf-8\")\n",
    "page = f.read()\n",
    "split = page.split(\"dirname=\")\n",
    "coordnames = [split[x].split('\"')[0] for x in np.arange(len(split))]\n",
    "coordnames = coordnames[1:]\n",
    "f = codecs.open(\"webdamag.html\", \"r\", \"utf-8\")\n",
    "page = f.read()\n",
    "split = page.split(\"dirname=\")\n",
    "magnames = [split[x].split('\"')[0] for x in np.arange(len(split))]\n",
    "magnames = magnames[1:]\n",
    "\n",
    "wnindices = [i for (i, x) in enumerate(magnames) if x in coordnames]\n",
    "webnames = [magnames[i] for i in wnindices]\n",
    "print(len(webnames))\n",
    "\n",
    "cnindices = [i for (i, x) in enumerate(magnames) if x in webnames]\n",
    "isplit = [split[i] for i in cnindices]\n",
    "temp = [isplit[x].split(\";\")[1] for x in np.arange(len(isplit))][1:]\n",
    "clusternames = [temp[x].split(\"&\")[0] for x in np.arange(len(temp))]\n",
    "\n",
    "# read in dias results\n",
    "data = genfromtxt('dias_wtol0.005556_matched125.csv', delimiter=',', dtype=None)\n",
    "data = data[0]\n",
    "diasnames = [row.decode('UTF-8') for row in data]\n",
    "\n",
    "fwnindices = [i for (i, x) in enumerate(clusternames) if x in diasnames]\n",
    "#print([list(clusternames)[i] for i in fwnindices])\n",
    "filteredwebnames = [(webnames)[i] for i in fwnindices]\n",
    "#print(filteredwebnames)\n",
    "#print(len(filteredwebnames))\n",
    "\n",
    "# it looks like the first elements don't match\n",
    "names = filteredwebnames[1:]\n"
   ]
  },
  {
   "cell_type": "code",
   "execution_count": 9,
   "metadata": {
    "collapsed": false
   },
   "outputs": [
    {
     "name": "stdout",
     "output_type": "stream",
     "text": [
      "['bl01', 'bo15', 'ho18', 'ic4665', 'mel066', 'mel071', 'ngc1662', 'ngc2204', 'ngc2215', 'ngc2287', 'ngc2506', 'ngc2516', 'ngc2682', 'ngc6087', 'ngc6208', 'ngc6716'] 16\n"
     ]
    }
   ],
   "source": [
    "print(errnames, len(errnames))"
   ]
  },
  {
   "cell_type": "markdown",
   "metadata": {},
   "source": [
    "# Webda-Data-Retrieval"
   ]
  },
  {
   "cell_type": "code",
   "execution_count": 173,
   "metadata": {
    "collapsed": false,
    "scrolled": false
   },
   "outputs": [
    {
     "name": "stdout",
     "output_type": "stream",
     "text": [
      "ngc6716 21\n"
     ]
    }
   ],
   "source": [
    "\n",
    "tol = 0.005556\n",
    "coorddiff = []\n",
    "y = 15\n",
    "\n",
    "#0 has only 1 that is 1.4 away, \n",
    "#1 had 1 0.1 away\n",
    "#4 had 2, 1 and 0.5 away\n",
    "#5 has 6 but gets some nans\n",
    "# 6 has 24 and nans\n",
    "# 10 had 1 that might be a match, but the rest were >2 away\n",
    "# 12 was really really weird and had nans, also really long, like, 3000\n",
    "# 13, 14, 15 have everything the same distance away\n",
    "\n",
    "#for y in tqdm(range(len(names))):\n",
    "names = errnames\n",
    "name = names[y]\n",
    "subsetid, subsetra, subsetdec, subsetmid, subsetvmag, subsetbv = getwebda(name)\n",
    "print(name, len(subsetid))\n",
    "if (subsetid) is None:\n",
    "    print(\"skipping\", name)\n",
    "    #continue"
   ]
  },
  {
   "cell_type": "markdown",
   "metadata": {},
   "source": [
    "# Database-Search\n"
   ]
  },
  {
   "cell_type": "code",
   "execution_count": 174,
   "metadata": {
    "collapsed": false
   },
   "outputs": [
    {
     "name": "stdout",
     "output_type": "stream",
     "text": [
      "data retrived, starting pbsearch\n",
      "('searched for a subset of ', 335, 'Coords against 2mass list of', 9073309)\n",
      "('Coord matches: ', 310, 'with a tolerance of ', 0.005556)\n"
     ]
    }
   ],
   "source": [
    "subsetzip = list(zip(subsetra, subsetdec, subsetvmag, subsetbv, subsetmid,subsetid))\n",
    "print(\"data retrived, starting pbsearch\")\n",
    "searched_ra, matched_ra = pbsearch(twomasszip, subsetzip, tol)"
   ]
  },
  {
   "cell_type": "code",
   "execution_count": 178,
   "metadata": {
    "collapsed": false
   },
   "outputs": [
    {
     "name": "stdout",
     "output_type": "stream",
     "text": [
      "(283.67240699999996, -19.909775, 13.574000000000002, 1.1430000000000007, 4210929.0)\n",
      "(283.67241666666661, -19.909777777777776, 11.91, 0.46000000000000002, ' 0005', ' 0006')\n"
     ]
    }
   ],
   "source": [
    "print(matched_ra[1])\n",
    "print(searched_ra[1])"
   ]
  },
  {
   "cell_type": "code",
   "execution_count": 175,
   "metadata": {
    "collapsed": false
   },
   "outputs": [
    {
     "name": "stdout",
     "output_type": "stream",
     "text": [
      "[1.7987175987633985, 1.7987175987633985, 1.7987175987633985, 1.7987175987633985, 1.7987175987633985, 1.7987175987633985, 1.7987175987633985, 1.7987175987633985, 1.7987175987633985, 1.7987175987633985, 1.7987175987633985, 0.13473678047659141, 1.7987175987633985, 1.7987175987633985, 1.7987175987633985, 1.7987175987633985, 1.7987175987633985, 1.7987175987633985, 1.7987175987633985, 1.7987175987633985, 1.7987175987633985, 1.7987175987633985, 1.7987175987633985, 1.7987175987633985, 1.7987175987633985, 1.7987175987633985, 1.7987175987633985, 1.7987175987633985, 1.7987175987633985, 1.7987175987633985, 0.13473678047659141, 1.7987175987633985, 1.7987175987633985, 1.7987175987633985, 1.7987175987633985, 1.7987175987633985, 1.7987175987633985, 1.7987175987633985, 1.7987175987633985, 1.7987175987633985, 1.7987175987633985, 1.7987175987633985, 1.7987175987633985, 1.7987175987633985, 1.7987175987633985, 1.7987175987633985, 1.7987175987633985, 1.7987175987633985, 1.7987175987633985, 1.7987175987633985, 1.7987175987633985, 1.7987175987633985, 1.7987175987633985, 1.7987175987633985, 1.7987175987633985, 1.7987175987633985, 1.7987175987633985, 1.7987175987633985, 1.7987175987633985, 1.7987175987633985, 1.7987175987633985, 1.7987175987633985, 1.7987175987633985, 1.7987175987633985, 1.7987175987633985, 1.7987175987633985, 1.7987175987633985, 1.7987175987633985, 0.13473678047659141, 1.7987175987633985, 1.7987175987633985, 1.7987175987633985, 1.7987175987633985, 1.7987175987633985, 1.7987175987633985, 1.7987175987633985, 1.7987175987633985, 1.7987175987633985, 1.7987175987633985, 1.7987175987633985, 1.7987175987633985, 1.7987175987633985, 1.7987175987633985, 1.7987175987633985, 1.7987175987633985, 1.7987175987633985, 1.7987175987633985, 1.7987175987633985, 1.7987175987633985, 1.7987175987633985, 1.7987175987633985, 1.7987175987633985, 0.13473678047659141, 1.7987175987633985, 1.7987175987633985, 1.7987175987633985, 1.7987175987633985, 1.7987175987633985, 1.7987175987633985, 1.7987175987633985, 1.7987175987633985, 1.7987175987633985, 1.7987175987633985, 1.7987175987633985, 1.7987175987633985, 1.7987175987633985, 1.7987175987633985, 1.7987175987633985, 1.7987175987633985, 1.7987175987633985, 1.7987175987633985, 1.7987175987633985, 1.7987175987633985, 1.7987175987633985, 1.7987175987633985, 1.7987175987633985, 1.7987175987633985, 1.7987175987633985, 1.7987175987633985, 1.7987175987633985, 1.7987175987633985, 0.13473678047659141, 0.13473678047659141, 0.13473678047659141, 0.13473678047659141, 0.13473678047659141, 0.13473678047659141, 0.13473678047659141, 0.13473678047659141, 1.7987175987633985, 1.7987175987633985, 0.13473678047659141, 0.13473678047659141, 0.13473678047659141, 1.7987175987633985, 0.13473678047659141, 1.7987175987633985, 0.13473678047659141, 1.7987175987633985, 1.7987175987633985, 1.7987175987633985, 0.13473678047659141, 1.7987175987633985, 1.7987175987633985, 1.7987175987633985, 0.13473678047659141, 0.13473678047659141, 1.7987175987633985, 1.7987175987633985, 0.13473678047659141, 1.7987175987633985, 0.13473678047659141, 1.7987175987633985, 1.7987175987633985, 1.7987175987633985, 1.7987175987633985, 0.13473678047659141, 1.7987175987633985, 0.13473678047659141, 0.13473678047659141, 0.13473678047659141, 0.13473678047659141, 1.7987175987633985, 1.7987175987633985, 1.7987175987633985, 0.13473678047659141, 0.13473678047659141, 1.7987175987633985, 1.7987175987633985, 1.7987175987633985, 1.7987175987633985, 1.7987175987633985, 1.7987175987633985, 1.7987175987633985, 0.13473678047659141, 1.7987175987633985, 1.7987175987633985, 0.13473678047659141, 1.7987175987633985, 1.7987175987633985, 1.7987175987633985, 1.7987175987633985, 1.7987175987633985, 0.13473678047659141, 0.13473678047659141, 0.13473678047659141, 1.7987175987633985, 1.7987175987633985, 1.7987175987633985, 1.7987175987633985, 1.7987175987633985, 1.7987175987633985, 0.13473678047659141, 1.7987175987633985, 1.7987175987633985, 1.7987175987633985, 1.7987175987633985, 1.7987175987633985, 1.7987175987633985, 1.7987175987633985, 0.13473678047659141, 1.7987175987633985, 1.7987175987633985, 0.13473678047659141, 0.13473678047659141, 1.7987175987633985, 1.7987175987633985, 1.7987175987633985, 1.7987175987633985, 0.13473678047659141, 1.7987175987633985, 1.7987175987633985, 1.7987175987633985, 1.7987175987633985, 1.7987175987633985, 1.7987175987633985, 1.7987175987633985, 1.7987175987633985, 1.7987175987633985, 1.7987175987633985, 0.13473678047659141, 1.7987175987633985, 1.7987175987633985, 0.13473678047659141, 1.7987175987633985, 1.7987175987633985, 1.7987175987633985, 0.13473678047659141, 0.13473678047659141, 1.7987175987633985, 1.7987175987633985, 1.7987175987633985, 0.13473678047659141, 1.7987175987633985, 0.13473678047659141, 1.7987175987633985, 0.13473678047659141, 1.7987175987633985, 0.13473678047659141, 1.7987175987633985, 1.7987175987633985, 1.7987175987633985, 0.13473678047659141, 1.7987175987633985, 1.7987175987633985, 1.7987175987633985, 1.7987175987633985, 1.7987175987633985, 0.13473678047659141, 0.13473678047659141, 1.7987175987633985, 0.13473678047659141, 1.7987175987633985, 1.7987175987633985, 0.13473678047659141, 1.7987175987633985, 1.7987175987633985, 1.7987175987633985, 0.13473678047659141, 1.7987175987633985, 1.7987175987633985, 1.7987175987633985, 1.7987175987633985, 1.7987175987633985, 0.13473678047659141, 1.7987175987633985, 1.7987175987633985, 1.7987175987633985, 1.7987175987633985, 1.7987175987633985, 1.7987175987633985, 1.7987175987633985, 1.7987175987633985, 1.7987175987633985, 1.7987175987633985, 1.7987175987633985, 0.13473678047659141, 0.13473678047659141, 1.7987175987633985, 1.7987175987633985, 1.7987175987633985, 1.7987175987633985, 1.7987175987633985, 1.7987175987633985, 1.7987175987633985, 1.7987175987633985, 0.13473678047659141, 1.7987175987633985, 0.13473678047659141, 0.13473678047659141, 0.13473678047659141, 0.13473678047659141, 1.7987175987633985, 1.7987175987633985, 0.13473678047659141, 0.13473678047659141, 1.7987175987633985, 0.13473678047659141, 0.13473678047659141, 1.7987175987633985, 1.7987175987633985, 1.7987175987633985, 0.13473678047659141, 1.7987175987633985, 0.13473678047659141, 0.13473678047659141, 1.7987175987633985, 0.13473678047659141, 1.7987175987633985, 1.7987175987633985]\n"
     ]
    },
    {
     "data": {
      "image/png": "[encoded data removed]",
      "text/plain": [
       "<matplotlib.figure.Figure at 0x10e1fe048>"
      ]
     },
     "metadata": {},
     "output_type": "display_data"
    }
   ],
   "source": [
    "# take the euclidean distance between coordinates, magnitude, and color\n",
    "a = [np.asarray(x[:4]) for x in searched_ra]\n",
    "b = [np.asarray(x[:4]) for x in matched_ra]\n",
    "\n",
    "dists = [np.linalg.norm(a[i]-b[i]) for i in np.arange(len(a))]\n",
    "dists = [dists[~np.isnan(x)] for x in dists]\n",
    "print(dists)\n",
    "plt.hist(dists, bins = 100)\n",
    "plt.show()"
   ]
  },
  {
   "cell_type": "markdown",
   "metadata": {},
   "source": [
    "# Filtering"
   ]
  },
  {
   "cell_type": "code",
   "execution_count": 138,
   "metadata": {
    "collapsed": false
   },
   "outputs": [],
   "source": [
    "# find the repeat matches, and save those who have the lesser distance\n",
    "# how do I quantify how sure I am the lesser one is the true one? \n",
    "matchedid = []\n",
    "searchedid = []\n",
    "d = []\n",
    "for i in np.arange(len(matched_ra)):\n",
    "    matchedid.append(matched_ra[i][4])\n",
    "    searchedid.append(searched_ra[i][4])\n",
    "\n",
    "tmp = []\n",
    "for j in np.arange(len(searchedid)):\n",
    "    x = [i for i, y in enumerate(searchedid) if y == searchedid[j]]\n",
    "    tmp.append(x)\n",
    "    \n",
    "bar = []\n",
    "for entry in np.unique(tmp):\n",
    "    try:\n",
    "        if len(entry) > 1:\n",
    "            foo = [dists[x] for x in entry]\n",
    "            #print(entry, foo)\n",
    "            minindex = [i for i, j in enumerate(foo) if j == min(foo)]\n",
    "            minentry = entry[minindex[0]]\n",
    "            #print(minentry, dists[minentry])\n",
    "            bar.append(minentry)\n",
    "        else:\n",
    "            #print(entry, dists[entry[0]])\n",
    "            bar.append(entry[0])\n",
    "    except:\n",
    "        bar.append(entry)\n"
   ]
  },
  {
   "cell_type": "code",
   "execution_count": 21,
   "metadata": {
    "collapsed": false
   },
   "outputs": [
    {
     "name": "stdout",
     "output_type": "stream",
     "text": [
      "[ 0  1  2  3  4  5  6  7  8  9 10]\n"
     ]
    }
   ],
   "source": [
    "print(np.unique(tmp))"
   ]
  },
  {
   "cell_type": "code",
   "execution_count": null,
   "metadata": {
    "collapsed": true
   },
   "outputs": [],
   "source": []
  },
  {
   "cell_type": "code",
   "execution_count": 139,
   "metadata": {
    "collapsed": false
   },
   "outputs": [
    {
     "name": "stdout",
     "output_type": "stream",
     "text": [
      "using 4 bins\n"
     ]
    }
   ],
   "source": [
    "# so bar has the closest ones and the non-repeated ones. How far away are these?\n",
    "closest = np.asarray([dists[x] for x in bar])\n",
    "\n",
    "# guess a high number of bins\n",
    "bins = 20#14\n",
    "data = py.hist(closest, bins = bins)\n",
    "\n",
    "# is it too small? observed and expected frequencies should be at least 5: http://docs.scipy.org/doc/scipy-0.15.1/reference/generated/scipy.stats.chisquare.html\n",
    "# grab number in each bin, check that most of them are above 5, otherwise decrease bin number and do it again\n",
    "thresh = 0.7\n",
    "toomanybins = len([x for x in data[0] if x >= 5])/len(data[0]) < thresh\n",
    "\n",
    "while toomanybins:\n",
    "    bins = bins - 1\n",
    "    data = py.hist(closest, bins = bins)\n",
    "    toomanybins = len([x for x in data[0] if x >= 5])/len(data[0]) < thresh\n",
    "print(\"using\",bins, \"bins\")\n",
    "plt.close()"
   ]
  },
  {
   "cell_type": "code",
   "execution_count": 148,
   "metadata": {
    "collapsed": true
   },
   "outputs": [],
   "source": [
    "bins=40"
   ]
  },
  {
   "cell_type": "code",
   "execution_count": 149,
   "metadata": {
    "collapsed": false
   },
   "outputs": [
    {
     "name": "stdout",
     "output_type": "stream",
     "text": [
      "Power_divergenceResult(statistic=449758.23844490485, pvalue=0.0) 12155.6280661\n"
     ]
    },
    {
     "name": "stderr",
     "output_type": "stream",
     "text": [
      "/Users/mmcintosh/anaconda/lib/python3.4/site-packages/ipykernel/__main__.py:29: DeprecationWarning: using a non-integer number instead of an integer will result in an error in the future\n"
     ]
    },
    {
     "data": {
      "image/png": "[encoded data removed]",
      "text/plain": [
       "<matplotlib.figure.Figure at 0x10e124438>"
      ]
     },
     "metadata": {},
     "output_type": "display_data"
    }
   ],
   "source": [
    "data = py.hist(closest, bins = bins)\n",
    "# Generate data from bins as a set of points \n",
    "x = [0.5 * (data[1][i] + data[1][i+1]) for i in range(len(data[1])-1)]\n",
    "y = data[0]\n",
    "\n",
    "popt, pcov = optimize.curve_fit(gauss, x, y)\n",
    "x_fit = py.linspace(x[0], x[-1], 100)\n",
    "y_fit = gauss(x_fit, *popt)\n",
    "\n",
    "\n",
    "plt.plot(x_fit, y_fit, lw=4, color=\"r\")\n",
    "\n",
    "cx_fit = py.linspace(x[0], x[-1], len(x))\n",
    "cy_fit = gauss(cx_fit, *popt)\n",
    "\n",
    "# check degrees of freedom - number of bins I think\n",
    "# does this give reduced chi squared? \n",
    "# near 1 is a good fit\n",
    "chi2 = (chisquare(f_obs=y,f_exp=cy_fit))\n",
    "rchi2 = chi2[0]/(len(x)-3)\n",
    "print(chi2, rchi2)\n",
    "plt.xlabel('Angular distance, in degrees')\n",
    "plt.ylabel('Number of Stars')\n",
    "plt.title('Euclidean Distances \\n mu={0:.2e}, std={1:.2e}, rchi2:{2:.2e}, bins:{3}'.format(popt[1], popt[2], rchi2, bins))\n",
    "plt.ticklabel_format(style='sci', axis='x', scilimits=(0,0))\n",
    "\n",
    "# draw 1,2,3 sigma line\n",
    "for i in [1,2,3]:  \n",
    "    sx = [popt[1]+popt[2]*i]*(np.max(data[0]))\n",
    "    sy = np.arange(np.max(data[0]))\n",
    "    plt.plot(sx,sy, color=\"r\")\n",
    "plt.show()"
   ]
  },
  {
   "cell_type": "code",
   "execution_count": 150,
   "metadata": {
    "collapsed": false
   },
   "outputs": [
    {
     "name": "stdout",
     "output_type": "stream",
     "text": [
      "selected 314 from 434\n"
     ]
    }
   ],
   "source": [
    "# maybe just take the data w/i 1 sigma of the mean? \n",
    "\n",
    "s = 1\n",
    "mean = popt[1]\n",
    "std = popt[2]\n",
    "coordmask = np.asarray([int(dist < (mean+s*std) and dist > (mean-s*std)) for dist in dists])\n",
    "print(\"selected\", sum(coordmask), \"from\",len(coordmask))\n",
    "coordfiltered_searched_ra = np.asarray(searched_ra)[coordmask == 1]\n",
    "coordfiltered_matched_ra = np.asarray(matched_ra)[coordmask == 1]\n",
    "\n",
    "\n",
    "\n"
   ]
  },
  {
   "cell_type": "code",
   "execution_count": 130,
   "metadata": {
    "collapsed": false
   },
   "outputs": [
    {
     "name": "stdout",
     "output_type": "stream",
     "text": [
      "[['101.5276125' '-20.7076388889' '9.5' '-0.04' ' 0005' ' 0005']\n",
      " ['101.477008333' '-20.7189527778' '9.41' '-0.01' ' 0020' ' 0020']\n",
      " ['101.592495833' '-20.6966083333' '10.23' '1.01' ' 0046' ' 0046']\n",
      " ['101.614308333' '-20.6583138889' '10.41' '-0.01' ' 0049' ' 0049']\n",
      " ['101.395858333' '-20.7206805556' '9.07' '-0.04' ' 0061' ' 0061']\n",
      " ['101.431783333' '-20.6458083333' '9.68' '-0.07' ' 0063' ' 0063']\n",
      " ['101.354154167' '-20.6737083333' '10.83' '0.01' ' 0067' ' 0067']\n",
      " ['101.546933333' '-20.8131083333' '9.89' '-0.02' ' 0120' ' 0120']\n",
      " ['101.379216667' '-20.7715361111' '10.92' '0.08' ' 0122' ' 0122']\n",
      " ['101.709991667' '-20.7390888889' '11.01' '0.08' ' 0123' ' 0123']]\n",
      "[ 0  1  2  3  4  5  6  7  8  9 10 11 12 13 14 15]\n"
     ]
    }
   ],
   "source": [
    "print(coordfiltered_searched_ra)\n",
    "print(np.where(dists)[0])"
   ]
  },
  {
   "cell_type": "code",
   "execution_count": 151,
   "metadata": {
    "collapsed": false
   },
   "outputs": [
    {
     "name": "stdout",
     "output_type": "stream",
     "text": [
      "314 matches for ngc2516 for tolerance 0.005556\n"
     ]
    }
   ],
   "source": [
    "N = sum(coordmask)\n",
    "if N > 0:\n",
    "\n",
    "    print(N, \"matches for\", name, \"for tolerance\", tol)\n",
    "    filename = \"filteredresults/\"+name+\"_wtol\"+str(tol)+\"_matched\"+str(N)+'.csv'\n",
    "    # subsetra, subsetdec, subsetvmag, subsetbv, subsetmid, subsetid\n",
    "    # twomass_ra, twomass_dec, twomass_vmag, twomass_bv, twomass_ident\n",
    "    header = [\"webdacoordid\", \"webdaras\", \"webdadecs\", \"webdamagid\", \"webdavmags\", \"webdabv\",\"galahids\", \"twomassras\", \"twomassdecs\", \"twomassvmags\", \"twomassbv\"]\n",
    "    with open(filename, 'w', newline='') as fp:\n",
    "        a = csv.writer(fp, delimiter=',')\n",
    "        a.writerow(header)\n",
    "        for i in np.arange(N):\n",
    "            data = [coordfiltered_searched_ra[i][5], coordfiltered_searched_ra[i][0], coordfiltered_searched_ra[i][1], coordfiltered_searched_ra[i][4], coordfiltered_searched_ra[i][2], coordfiltered_searched_ra[i][3], coordfiltered_matched_ra[i][4], coordfiltered_matched_ra[i][0], coordfiltered_matched_ra[i][1], coordfiltered_matched_ra[i][2], coordfiltered_matched_ra[i][3]]\n",
    "            a.writerow(data)\n",
    "else:\n",
    "    print(\"No matches for\", name, \"for tolerance\", tol)"
   ]
  },
  {
   "cell_type": "markdown",
   "metadata": {},
   "source": [
    "# Looping"
   ]
  },
  {
   "cell_type": "code",
   "execution_count": 7,
   "metadata": {
    "collapsed": false,
    "scrolled": true
   },
   "outputs": [
    {
     "name": "stderr",
     "output_type": "stream",
     "text": [
      "\r",
      "  0%|          | 0/946 [00:00<?, ?it/s]"
     ]
    },
    {
     "name": "stdout",
     "output_type": "stream",
     "text": [
      "ale01\n",
      "error with parsing mags html"
     ]
    },
    {
     "name": "stderr",
     "output_type": "stream",
     "text": [
      "\r",
      "  0%|          | 1/946 [00:04<1:16:50,  4.88s/it]"
     ]
    },
    {
     "name": "stdout",
     "output_type": "stream",
     "text": [
      "\n",
      "http://www.univie.ac.at/webda/cgi-bin/frame_data_list.cgi?ale01+ubvpg+ubv.pgo\n",
      "Retrieval error. Skipping ale01\n",
      "ale02\n",
      "error with parsing mags html"
     ]
    },
    {
     "name": "stderr",
     "output_type": "stream",
     "text": [
      "\r",
      "  0%|          | 2/946 [00:06<1:02:53,  4.00s/it]"
     ]
    },
    {
     "name": "stdout",
     "output_type": "stream",
     "text": [
      "\n",
      "http://www.univie.ac.at/webda/cgi-bin/frame_data_list.cgi?ale02+ubvpg+ubv.pgo\n",
      "Retrieval error. Skipping ale02\n",
      "ale03\n",
      "error with parsing mags html"
     ]
    },
    {
     "name": "stderr",
     "output_type": "stream",
     "text": [
      "\r",
      "  0%|          | 3/946 [00:09<54:35,  3.47s/it]  "
     ]
    },
    {
     "name": "stdout",
     "output_type": "stream",
     "text": [
      "\n",
      "http://www.univie.ac.at/webda/cgi-bin/frame_data_list.cgi?ale03+ubvpg+ubv.pgo\n",
      "Retrieval error. Skipping ale03\n",
      "ale05\n",
      "error with parsing mags html"
     ]
    },
    {
     "name": "stderr",
     "output_type": "stream",
     "text": [
      "\r",
      "  0%|          | 4/946 [00:11<48:41,  3.10s/it]"
     ]
    },
    {
     "name": "stdout",
     "output_type": "stream",
     "text": [
      "\n",
      "http://www.univie.ac.at/webda/cgi-bin/frame_data_list.cgi?ale05+ubvpg+ubv.pgo\n",
      "Retrieval error. Skipping ale05\n",
      "ale06\n",
      "error with parsing mags html"
     ]
    },
    {
     "name": "stderr",
     "output_type": "stream",
     "text": [
      "\r",
      "  1%|          | 5/946 [00:13<46:28,  2.96s/it]"
     ]
    },
    {
     "name": "stdout",
     "output_type": "stream",
     "text": [
      "\n",
      "http://www.univie.ac.at/webda/cgi-bin/frame_data_list.cgi?ale06+ubvpg+ubv.pgo\n",
      "Retrieval error. Skipping ale06\n",
      "ale08\n",
      "error with parsing mags html"
     ]
    },
    {
     "name": "stderr",
     "output_type": "stream",
     "text": [
      "  1%|          | 6/946 [00:16<45:42,  2.92s/it]WARNING: IllegalSecondWarning: 'second' was found  to be '60.0', which is not in range [0,60). Treating as 0 sec, +1 min [astropy.coordinates.angle_utilities]\n",
      "WARNING:astropy:IllegalSecondWarning: 'second' was found  to be '60.0', which is not in range [0,60). Treating as 0 sec, +1 min\n"
     ]
    },
    {
     "name": "stdout",
     "output_type": "stream",
     "text": [
      "\n",
      "http://www.univie.ac.at/webda/cgi-bin/frame_data_list.cgi?ale08+ubvpg+ubv.pgo\n",
      "Retrieval error. Skipping ale08\n",
      "ale09\n",
      "error with parsing mags html"
     ]
    },
    {
     "name": "stderr",
     "output_type": "stream",
     "text": [
      "\r",
      "  1%|          | 7/946 [00:27<1:23:13,  5.32s/it]"
     ]
    },
    {
     "name": "stdout",
     "output_type": "stream",
     "text": [
      "\n",
      "http://www.univie.ac.at/webda/cgi-bin/frame_data_list.cgi?ale09+ubvpg+ubv.pgo\n",
      "Retrieval error. Skipping ale09\n",
      "ale10\n",
      "error with parsing mags html"
     ]
    },
    {
     "name": "stderr",
     "output_type": "stream",
     "text": [
      "\r",
      "  1%|          | 8/946 [00:35<1:35:36,  6.12s/it]"
     ]
    },
    {
     "name": "stdout",
     "output_type": "stream",
     "text": [
      "\n",
      "http://www.univie.ac.at/webda/cgi-bin/frame_data_list.cgi?ale10+ubvpg+ubv.pgo\n",
      "Retrieval error. Skipping ale10\n",
      "ale12\n",
      "error with parsing mags html"
     ]
    },
    {
     "name": "stderr",
     "output_type": "stream",
     "text": [
      "\r",
      "  1%|          | 9/946 [00:41<1:36:10,  6.16s/it]"
     ]
    },
    {
     "name": "stdout",
     "output_type": "stream",
     "text": [
      "\n",
      "http://www.univie.ac.at/webda/cgi-bin/frame_data_list.cgi?ale12+ubvpg+ubv.pgo\n",
      "Retrieval error. Skipping ale12\n",
      "ale13\n",
      "error with parsing mags html"
     ]
    },
    {
     "name": "stderr",
     "output_type": "stream",
     "text": [
      "\r",
      "  1%|          | 10/946 [00:50<1:49:35,  7.03s/it]"
     ]
    },
    {
     "name": "stdout",
     "output_type": "stream",
     "text": [
      "\n",
      "http://www.univie.ac.at/webda/cgi-bin/frame_data_list.cgi?ale13+ubvpg+ubv.pgo\n",
      "Retrieval error. Skipping ale13\n",
      "ale19\n",
      "error with parsing mags html"
     ]
    },
    {
     "name": "stderr",
     "output_type": "stream",
     "text": [
      "\r",
      "  1%|          | 11/946 [00:53<1:29:16,  5.73s/it]"
     ]
    },
    {
     "name": "stdout",
     "output_type": "stream",
     "text": [
      "\n",
      "http://www.univie.ac.at/webda/cgi-bin/frame_data_list.cgi?ale19+ubvpg+ubv.pgo\n",
      "Retrieval error. Skipping ale19\n",
      "ale20\n",
      "error with parsing mags html"
     ]
    },
    {
     "name": "stderr",
     "output_type": "stream",
     "text": [
      "\r",
      "  1%|▏         | 12/946 [00:55<1:11:05,  4.57s/it]"
     ]
    },
    {
     "name": "stdout",
     "output_type": "stream",
     "text": [
      "\n",
      "http://www.univie.ac.at/webda/cgi-bin/frame_data_list.cgi?ale20+ubvpg+ubv.pgo\n",
      "Retrieval error. Skipping ale20\n",
      "ale21\n",
      "error with parsing mags html"
     ]
    },
    {
     "name": "stderr",
     "output_type": "stream",
     "text": [
      "\r",
      "  1%|▏         | 13/946 [00:58<1:01:51,  3.98s/it]"
     ]
    },
    {
     "name": "stdout",
     "output_type": "stream",
     "text": [
      "\n",
      "http://www.univie.ac.at/webda/cgi-bin/frame_data_list.cgi?ale21+ubvpg+ubv.pgo\n",
      "Retrieval error. Skipping ale21\n",
      "ale53\n",
      "error with parsing mags html"
     ]
    },
    {
     "name": "stderr",
     "output_type": "stream",
     "text": [
      "\r",
      "  1%|▏         | 14/946 [01:36<3:39:57, 14.16s/it]"
     ]
    },
    {
     "name": "stdout",
     "output_type": "stream",
     "text": [
      "\n",
      "http://www.univie.ac.at/webda/cgi-bin/frame_data_list.cgi?ale53+ubvpg+ubv.pgo\n",
      "Retrieval error. Skipping ale53\n",
      "ali01\n",
      "error with parsing mags html"
     ]
    },
    {
     "name": "stderr",
     "output_type": "stream",
     "text": [
      "\r",
      "  2%|▏         | 15/946 [01:37<2:42:15, 10.46s/it]"
     ]
    },
    {
     "name": "stdout",
     "output_type": "stream",
     "text": [
      "\n",
      "http://www.univie.ac.at/webda/cgi-bin/frame_data_list.cgi?ali01+ubvpg+ubv.pgo\n",
      "Retrieval error. Skipping ali01\n",
      "ali05\n",
      "error with parsing mags html"
     ]
    },
    {
     "name": "stderr",
     "output_type": "stream",
     "text": [
      "\r",
      "  2%|▏         | 16/946 [01:40<2:04:23,  8.03s/it]"
     ]
    },
    {
     "name": "stdout",
     "output_type": "stream",
     "text": [
      "\n",
      "http://www.univie.ac.at/webda/cgi-bin/frame_data_list.cgi?ali05+ubvpg+ubv.pgo\n",
      "Retrieval error. Skipping ali05\n",
      "ant01\n",
      "error with parsing mags html"
     ]
    },
    {
     "name": "stderr",
     "output_type": "stream",
     "text": [
      "\r",
      "  2%|▏         | 17/946 [01:42<1:36:30,  6.23s/it]"
     ]
    },
    {
     "name": "stdout",
     "output_type": "stream",
     "text": [
      "\n",
      "http://www.univie.ac.at/webda/cgi-bin/frame_data_list.cgi?ant01+ubvpg+ubv.pgo\n",
      "Retrieval error. Skipping ant01\n",
      "ascc001\n",
      "error with parsing mags html"
     ]
    },
    {
     "name": "stderr",
     "output_type": "stream",
     "text": [
      "\r",
      "  2%|▏         | 18/946 [01:43<1:15:32,  4.88s/it]"
     ]
    },
    {
     "name": "stdout",
     "output_type": "stream",
     "text": [
      "\n",
      "http://www.univie.ac.at/webda/cgi-bin/frame_data_list.cgi?ascc001+ubvpg+ubv.pgo\n",
      "Retrieval error. Skipping ascc001\n",
      "ascc002\n",
      "error with parsing mags html"
     ]
    },
    {
     "name": "stderr",
     "output_type": "stream",
     "text": [
      "\r",
      "  2%|▏         | 19/946 [01:46<1:02:12,  4.03s/it]"
     ]
    },
    {
     "name": "stdout",
     "output_type": "stream",
     "text": [
      "\n",
      "http://www.univie.ac.at/webda/cgi-bin/frame_data_list.cgi?ascc002+ubvpg+ubv.pgo\n",
      "Retrieval error. Skipping ascc002\n",
      "ascc003\n",
      "error with parsing mags html"
     ]
    },
    {
     "name": "stderr",
     "output_type": "stream",
     "text": [
      "\r",
      "  2%|▏         | 20/946 [01:47<52:38,  3.41s/it]  "
     ]
    },
    {
     "name": "stdout",
     "output_type": "stream",
     "text": [
      "\n",
      "http://www.univie.ac.at/webda/cgi-bin/frame_data_list.cgi?ascc003+ubvpg+ubv.pgo\n",
      "Retrieval error. Skipping ascc003\n",
      "ascc004\n",
      "error with parsing mags html"
     ]
    },
    {
     "name": "stderr",
     "output_type": "stream",
     "text": [
      "\r",
      "  2%|▏         | 21/946 [01:50<46:28,  3.01s/it]"
     ]
    },
    {
     "name": "stdout",
     "output_type": "stream",
     "text": [
      "\n",
      "http://www.univie.ac.at/webda/cgi-bin/frame_data_list.cgi?ascc004+ubvpg+ubv.pgo\n",
      "Retrieval error. Skipping ascc004\n",
      "ascc005\n",
      "error with parsing mags html"
     ]
    },
    {
     "name": "stderr",
     "output_type": "stream",
     "text": [
      "\r",
      "  2%|▏         | 22/946 [01:51<39:52,  2.59s/it]"
     ]
    },
    {
     "name": "stdout",
     "output_type": "stream",
     "text": [
      "\n",
      "http://www.univie.ac.at/webda/cgi-bin/frame_data_list.cgi?ascc005+ubvpg+ubv.pgo\n",
      "Retrieval error. Skipping ascc005\n",
      "ascc006\n",
      "error with parsing mags html"
     ]
    },
    {
     "name": "stderr",
     "output_type": "stream",
     "text": [
      "\r",
      "  2%|▏         | 23/946 [01:53<37:18,  2.43s/it]"
     ]
    },
    {
     "name": "stdout",
     "output_type": "stream",
     "text": [
      "\n",
      "http://www.univie.ac.at/webda/cgi-bin/frame_data_list.cgi?ascc006+ubvpg+ubv.pgo\n",
      "Retrieval error. Skipping ascc006\n",
      "ascc007\n",
      "error with parsing mags html"
     ]
    },
    {
     "name": "stderr",
     "output_type": "stream",
     "text": [
      "\r",
      "  3%|▎         | 24/946 [01:55<34:44,  2.26s/it]"
     ]
    },
    {
     "name": "stdout",
     "output_type": "stream",
     "text": [
      "\n",
      "http://www.univie.ac.at/webda/cgi-bin/frame_data_list.cgi?ascc007+ubvpg+ubv.pgo\n",
      "Retrieval error. Skipping ascc007\n",
      "ascc008\n",
      "error with parsing mags html"
     ]
    },
    {
     "name": "stderr",
     "output_type": "stream",
     "text": [
      "\r",
      "  3%|▎         | 25/946 [01:58<38:17,  2.49s/it]"
     ]
    },
    {
     "name": "stdout",
     "output_type": "stream",
     "text": [
      "\n",
      "http://www.univie.ac.at/webda/cgi-bin/frame_data_list.cgi?ascc008+ubvpg+ubv.pgo\n",
      "Retrieval error. Skipping ascc008\n",
      "ascc009\n",
      "error with parsing mags html"
     ]
    },
    {
     "name": "stderr",
     "output_type": "stream",
     "text": [
      "\r",
      "  3%|▎         | 26/946 [02:00<34:21,  2.24s/it]"
     ]
    },
    {
     "name": "stdout",
     "output_type": "stream",
     "text": [
      "\n",
      "http://www.univie.ac.at/webda/cgi-bin/frame_data_list.cgi?ascc009+ubvpg+ubv.pgo\n",
      "Retrieval error. Skipping ascc009\n",
      "ascc010\n",
      "error with parsing mags html"
     ]
    },
    {
     "name": "stderr",
     "output_type": "stream",
     "text": [
      "\r",
      "  3%|▎         | 27/946 [02:02<33:24,  2.18s/it]"
     ]
    },
    {
     "name": "stdout",
     "output_type": "stream",
     "text": [
      "\n",
      "http://www.univie.ac.at/webda/cgi-bin/frame_data_list.cgi?ascc010+ubvpg+ubv.pgo\n",
      "Retrieval error. Skipping ascc010\n",
      "ascc011\n",
      "error with parsing mags html"
     ]
    },
    {
     "name": "stderr",
     "output_type": "stream",
     "text": [
      "\r",
      "  3%|▎         | 28/946 [02:04<31:47,  2.08s/it]"
     ]
    },
    {
     "name": "stdout",
     "output_type": "stream",
     "text": [
      "\n",
      "http://www.univie.ac.at/webda/cgi-bin/frame_data_list.cgi?ascc011+ubvpg+ubv.pgo\n",
      "Retrieval error. Skipping ascc011\n",
      "ascc012\n",
      "error with parsing mags html"
     ]
    },
    {
     "name": "stderr",
     "output_type": "stream",
     "text": [
      "\r",
      "  3%|▎         | 29/946 [02:06<30:40,  2.01s/it]"
     ]
    },
    {
     "name": "stdout",
     "output_type": "stream",
     "text": [
      "\n",
      "http://www.univie.ac.at/webda/cgi-bin/frame_data_list.cgi?ascc012+ubvpg+ubv.pgo\n",
      "Retrieval error. Skipping ascc012\n",
      "ascc013\n",
      "error with parsing mags html"
     ]
    },
    {
     "name": "stderr",
     "output_type": "stream",
     "text": [
      "\r",
      "  3%|▎         | 30/946 [02:08<34:04,  2.23s/it]"
     ]
    },
    {
     "name": "stdout",
     "output_type": "stream",
     "text": [
      "\n",
      "http://www.univie.ac.at/webda/cgi-bin/frame_data_list.cgi?ascc013+ubvpg+ubv.pgo\n",
      "Retrieval error. Skipping ascc013\n",
      "ascc014\n",
      "error with parsing mags html"
     ]
    },
    {
     "name": "stderr",
     "output_type": "stream",
     "text": [
      "\r",
      "  3%|▎         | 31/946 [02:10<32:23,  2.12s/it]"
     ]
    },
    {
     "name": "stdout",
     "output_type": "stream",
     "text": [
      "\n",
      "http://www.univie.ac.at/webda/cgi-bin/frame_data_list.cgi?ascc014+ubvpg+ubv.pgo\n",
      "Retrieval error. Skipping ascc014\n",
      "ascc015\n",
      "error with parsing mags html"
     ]
    },
    {
     "name": "stderr",
     "output_type": "stream",
     "text": [
      "\r",
      "  3%|▎         | 32/946 [02:12<29:57,  1.97s/it]"
     ]
    },
    {
     "name": "stdout",
     "output_type": "stream",
     "text": [
      "\n",
      "http://www.univie.ac.at/webda/cgi-bin/frame_data_list.cgi?ascc015+ubvpg+ubv.pgo\n",
      "Retrieval error. Skipping ascc015\n",
      "ascc016\n",
      "error with parsing mags html"
     ]
    },
    {
     "name": "stderr",
     "output_type": "stream",
     "text": [
      "\r",
      "  3%|▎         | 33/946 [02:14<32:06,  2.11s/it]"
     ]
    },
    {
     "name": "stdout",
     "output_type": "stream",
     "text": [
      "\n",
      "http://www.univie.ac.at/webda/cgi-bin/frame_data_list.cgi?ascc016+ubvpg+ubv.pgo\n",
      "Retrieval error. Skipping ascc016\n",
      "ascc017\n",
      "error with parsing mags html"
     ]
    },
    {
     "name": "stderr",
     "output_type": "stream",
     "text": [
      "\r",
      "  4%|▎         | 34/946 [02:16<30:12,  1.99s/it]"
     ]
    },
    {
     "name": "stdout",
     "output_type": "stream",
     "text": [
      "\n",
      "http://www.univie.ac.at/webda/cgi-bin/frame_data_list.cgi?ascc017+ubvpg+ubv.pgo\n",
      "Retrieval error. Skipping ascc017\n",
      "ascc018\n",
      "error with parsing mags html"
     ]
    },
    {
     "name": "stderr",
     "output_type": "stream",
     "text": [
      "\r",
      "  4%|▎         | 35/946 [02:18<30:48,  2.03s/it]"
     ]
    },
    {
     "name": "stdout",
     "output_type": "stream",
     "text": [
      "\n",
      "http://www.univie.ac.at/webda/cgi-bin/frame_data_list.cgi?ascc018+ubvpg+ubv.pgo\n",
      "Retrieval error. Skipping ascc018\n",
      "ascc019\n",
      "error with parsing mags html"
     ]
    },
    {
     "name": "stderr",
     "output_type": "stream",
     "text": [
      "\r",
      "  4%|▍         | 36/946 [02:21<32:56,  2.17s/it]"
     ]
    },
    {
     "name": "stdout",
     "output_type": "stream",
     "text": [
      "\n",
      "http://www.univie.ac.at/webda/cgi-bin/frame_data_list.cgi?ascc019+ubvpg+ubv.pgo\n",
      "Retrieval error. Skipping ascc019\n",
      "ascc020\n",
      "error with parsing mags html"
     ]
    },
    {
     "name": "stderr",
     "output_type": "stream",
     "text": [
      "\r",
      "  4%|▍         | 37/946 [02:23<35:51,  2.37s/it]"
     ]
    },
    {
     "name": "stdout",
     "output_type": "stream",
     "text": [
      "\n",
      "http://www.univie.ac.at/webda/cgi-bin/frame_data_list.cgi?ascc020+ubvpg+ubv.pgo\n",
      "Retrieval error. Skipping ascc020\n",
      "ascc021\n",
      "error with parsing mags html"
     ]
    },
    {
     "name": "stderr",
     "output_type": "stream",
     "text": [
      "\r",
      "  4%|▍         | 38/946 [02:27<39:27,  2.61s/it]"
     ]
    },
    {
     "name": "stdout",
     "output_type": "stream",
     "text": [
      "\n",
      "http://www.univie.ac.at/webda/cgi-bin/frame_data_list.cgi?ascc021+ubvpg+ubv.pgo\n",
      "Retrieval error. Skipping ascc021\n",
      "ascc022\n",
      "error with parsing mags html"
     ]
    },
    {
     "name": "stderr",
     "output_type": "stream",
     "text": [
      "\r",
      "  4%|▍         | 39/946 [02:28<35:10,  2.33s/it]"
     ]
    },
    {
     "name": "stdout",
     "output_type": "stream",
     "text": [
      "\n",
      "http://www.univie.ac.at/webda/cgi-bin/frame_data_list.cgi?ascc022+ubvpg+ubv.pgo\n",
      "Retrieval error. Skipping ascc022\n",
      "ascc023\n",
      "error with parsing mags html"
     ]
    },
    {
     "name": "stderr",
     "output_type": "stream",
     "text": [
      "\r",
      "  4%|▍         | 40/946 [02:30<33:04,  2.19s/it]"
     ]
    },
    {
     "name": "stdout",
     "output_type": "stream",
     "text": [
      "\n",
      "http://www.univie.ac.at/webda/cgi-bin/frame_data_list.cgi?ascc023+ubvpg+ubv.pgo\n",
      "Retrieval error. Skipping ascc023\n",
      "ascc024\n",
      "error with parsing mags html"
     ]
    },
    {
     "name": "stderr",
     "output_type": "stream",
     "text": [
      "\r",
      "  4%|▍         | 41/946 [02:32<31:09,  2.07s/it]"
     ]
    },
    {
     "name": "stdout",
     "output_type": "stream",
     "text": [
      "\n",
      "http://www.univie.ac.at/webda/cgi-bin/frame_data_list.cgi?ascc024+ubvpg+ubv.pgo\n",
      "Retrieval error. Skipping ascc024\n",
      "ascc025\n",
      "error with parsing mags html"
     ]
    },
    {
     "name": "stderr",
     "output_type": "stream",
     "text": [
      "\r",
      "  4%|▍         | 42/946 [02:34<29:40,  1.97s/it]"
     ]
    },
    {
     "name": "stdout",
     "output_type": "stream",
     "text": [
      "\n",
      "http://www.univie.ac.at/webda/cgi-bin/frame_data_list.cgi?ascc025+ubvpg+ubv.pgo\n",
      "Retrieval error. Skipping ascc025\n",
      "ascc026\n",
      "error with parsing mags html"
     ]
    },
    {
     "name": "stderr",
     "output_type": "stream",
     "text": [
      "\r",
      "  5%|▍         | 43/946 [02:35<28:12,  1.87s/it]"
     ]
    },
    {
     "name": "stdout",
     "output_type": "stream",
     "text": [
      "\n",
      "http://www.univie.ac.at/webda/cgi-bin/frame_data_list.cgi?ascc026+ubvpg+ubv.pgo\n",
      "Retrieval error. Skipping ascc026\n",
      "ascc027\n",
      "error with parsing mags html"
     ]
    },
    {
     "name": "stderr",
     "output_type": "stream",
     "text": [
      "\r",
      "  5%|▍         | 44/946 [02:37<27:29,  1.83s/it]"
     ]
    },
    {
     "name": "stdout",
     "output_type": "stream",
     "text": [
      "\n",
      "http://www.univie.ac.at/webda/cgi-bin/frame_data_list.cgi?ascc027+ubvpg+ubv.pgo\n",
      "Retrieval error. Skipping ascc027\n",
      "ascc028\n",
      "error with parsing mags html"
     ]
    },
    {
     "name": "stderr",
     "output_type": "stream",
     "text": [
      "\r",
      "  5%|▍         | 45/946 [02:39<28:27,  1.90s/it]"
     ]
    },
    {
     "name": "stdout",
     "output_type": "stream",
     "text": [
      "\n",
      "http://www.univie.ac.at/webda/cgi-bin/frame_data_list.cgi?ascc028+ubvpg+ubv.pgo\n",
      "Retrieval error. Skipping ascc028\n",
      "ascc029\n",
      "error with parsing mags html"
     ]
    },
    {
     "name": "stderr",
     "output_type": "stream",
     "text": [
      "\r",
      "  5%|▍         | 46/946 [02:41<28:38,  1.91s/it]"
     ]
    },
    {
     "name": "stdout",
     "output_type": "stream",
     "text": [
      "\n",
      "http://www.univie.ac.at/webda/cgi-bin/frame_data_list.cgi?ascc029+ubvpg+ubv.pgo\n",
      "Retrieval error. Skipping ascc029\n",
      "ascc030\n",
      "error with parsing mags html"
     ]
    },
    {
     "name": "stderr",
     "output_type": "stream",
     "text": [
      "\r",
      "  5%|▍         | 47/946 [02:43<28:46,  1.92s/it]"
     ]
    },
    {
     "name": "stdout",
     "output_type": "stream",
     "text": [
      "\n",
      "http://www.univie.ac.at/webda/cgi-bin/frame_data_list.cgi?ascc030+ubvpg+ubv.pgo\n",
      "Retrieval error. Skipping ascc030\n",
      "ascc031\n",
      "error with parsing mags html"
     ]
    },
    {
     "name": "stderr",
     "output_type": "stream",
     "text": [
      "\r",
      "  5%|▌         | 48/946 [02:45<27:56,  1.87s/it]"
     ]
    },
    {
     "name": "stdout",
     "output_type": "stream",
     "text": [
      "\n",
      "http://www.univie.ac.at/webda/cgi-bin/frame_data_list.cgi?ascc031+ubvpg+ubv.pgo\n",
      "Retrieval error. Skipping ascc031\n",
      "ascc032\n",
      "error with parsing mags html"
     ]
    },
    {
     "name": "stderr",
     "output_type": "stream",
     "text": [
      "\r",
      "  5%|▌         | 49/946 [02:47<31:56,  2.14s/it]"
     ]
    },
    {
     "name": "stdout",
     "output_type": "stream",
     "text": [
      "\n",
      "http://www.univie.ac.at/webda/cgi-bin/frame_data_list.cgi?ascc032+ubvpg+ubv.pgo\n",
      "Retrieval error. Skipping ascc032\n",
      "ascc033\n",
      "error with parsing mags html"
     ]
    },
    {
     "name": "stderr",
     "output_type": "stream",
     "text": [
      "\r",
      "  5%|▌         | 50/946 [02:53<46:53,  3.14s/it]"
     ]
    },
    {
     "name": "stdout",
     "output_type": "stream",
     "text": [
      "\n",
      "http://www.univie.ac.at/webda/cgi-bin/frame_data_list.cgi?ascc033+ubvpg+ubv.pgo\n",
      "Retrieval error. Skipping ascc033\n",
      "ascc034\n",
      "error with parsing mags html"
     ]
    },
    {
     "name": "stderr",
     "output_type": "stream",
     "text": [
      "\r",
      "  5%|▌         | 51/946 [02:55<40:44,  2.73s/it]"
     ]
    },
    {
     "name": "stdout",
     "output_type": "stream",
     "text": [
      "\n",
      "http://www.univie.ac.at/webda/cgi-bin/frame_data_list.cgi?ascc034+ubvpg+ubv.pgo\n",
      "Retrieval error. Skipping ascc034\n",
      "ascc035\n",
      "error with parsing mags html"
     ]
    },
    {
     "name": "stderr",
     "output_type": "stream",
     "text": [
      "\r",
      "  5%|▌         | 52/946 [02:57<37:30,  2.52s/it]"
     ]
    },
    {
     "name": "stdout",
     "output_type": "stream",
     "text": [
      "\n",
      "http://www.univie.ac.at/webda/cgi-bin/frame_data_list.cgi?ascc035+ubvpg+ubv.pgo\n",
      "Retrieval error. Skipping ascc035\n",
      "ascc036\n",
      "error with parsing mags html"
     ]
    },
    {
     "name": "stderr",
     "output_type": "stream",
     "text": [
      "\r",
      "  6%|▌         | 53/946 [02:58<33:27,  2.25s/it]"
     ]
    },
    {
     "name": "stdout",
     "output_type": "stream",
     "text": [
      "\n",
      "http://www.univie.ac.at/webda/cgi-bin/frame_data_list.cgi?ascc036+ubvpg+ubv.pgo\n",
      "Retrieval error. Skipping ascc036\n",
      "ascc037\n",
      "error with parsing mags html"
     ]
    },
    {
     "name": "stderr",
     "output_type": "stream",
     "text": [
      "\r",
      "  6%|▌         | 54/946 [03:00<30:31,  2.05s/it]"
     ]
    },
    {
     "name": "stdout",
     "output_type": "stream",
     "text": [
      "\n",
      "http://www.univie.ac.at/webda/cgi-bin/frame_data_list.cgi?ascc037+ubvpg+ubv.pgo\n",
      "Retrieval error. Skipping ascc037\n",
      "ascc038\n",
      "error with parsing mags html"
     ]
    },
    {
     "name": "stderr",
     "output_type": "stream",
     "text": [
      "\r",
      "  6%|▌         | 55/946 [03:02<29:33,  1.99s/it]"
     ]
    },
    {
     "name": "stdout",
     "output_type": "stream",
     "text": [
      "\n",
      "http://www.univie.ac.at/webda/cgi-bin/frame_data_list.cgi?ascc038+ubvpg+ubv.pgo\n",
      "Retrieval error. Skipping ascc038\n",
      "ascc039\n",
      "error with parsing mags html"
     ]
    },
    {
     "name": "stderr",
     "output_type": "stream",
     "text": [
      "\r",
      "  6%|▌         | 56/946 [03:04<29:47,  2.01s/it]"
     ]
    },
    {
     "name": "stdout",
     "output_type": "stream",
     "text": [
      "\n",
      "http://www.univie.ac.at/webda/cgi-bin/frame_data_list.cgi?ascc039+ubvpg+ubv.pgo\n",
      "Retrieval error. Skipping ascc039\n",
      "ascc040\n",
      "error with parsing mags html"
     ]
    },
    {
     "name": "stderr",
     "output_type": "stream",
     "text": [
      "\r",
      "  6%|▌         | 57/946 [03:06<29:01,  1.96s/it]"
     ]
    },
    {
     "name": "stdout",
     "output_type": "stream",
     "text": [
      "\n",
      "http://www.univie.ac.at/webda/cgi-bin/frame_data_list.cgi?ascc040+ubvpg+ubv.pgo\n",
      "Retrieval error. Skipping ascc040\n",
      "ascc041\n",
      "error with parsing coords html"
     ]
    },
    {
     "name": "stderr",
     "output_type": "stream",
     "text": [
      "\r",
      "  6%|▌         | 58/946 [03:07<24:23,  1.65s/it]"
     ]
    },
    {
     "name": "stdout",
     "output_type": "stream",
     "text": [
      "\n",
      "http://www.univie.ac.at/webda/cgi-bin/frame_data_list.cgi?ascc041+ad2k+ad2000.coo\n",
      "Retrieval error. Skipping ascc041\n",
      "ascc042\n",
      "error with parsing mags html"
     ]
    },
    {
     "name": "stderr",
     "output_type": "stream",
     "text": [
      "\r",
      "  6%|▌         | 59/946 [03:08<25:38,  1.74s/it]"
     ]
    },
    {
     "name": "stdout",
     "output_type": "stream",
     "text": [
      "\n",
      "http://www.univie.ac.at/webda/cgi-bin/frame_data_list.cgi?ascc042+ubvpg+ubv.pgo\n",
      "Retrieval error. Skipping ascc042\n",
      "ascc043\n",
      "error with parsing mags html"
     ]
    },
    {
     "name": "stderr",
     "output_type": "stream",
     "text": [
      "\r",
      "  6%|▋         | 60/946 [03:11<30:16,  2.05s/it]"
     ]
    },
    {
     "name": "stdout",
     "output_type": "stream",
     "text": [
      "\n",
      "http://www.univie.ac.at/webda/cgi-bin/frame_data_list.cgi?ascc043+ubvpg+ubv.pgo\n",
      "Retrieval error. Skipping ascc043\n",
      "ascc044\n",
      "error with parsing mags html"
     ]
    },
    {
     "name": "stderr",
     "output_type": "stream",
     "text": [
      "\r",
      "  6%|▋         | 61/946 [03:14<34:10,  2.32s/it]"
     ]
    },
    {
     "name": "stdout",
     "output_type": "stream",
     "text": [
      "\n",
      "http://www.univie.ac.at/webda/cgi-bin/frame_data_list.cgi?ascc044+ubvpg+ubv.pgo\n",
      "Retrieval error. Skipping ascc044\n",
      "ascc045\n",
      "error with parsing mags html"
     ]
    },
    {
     "name": "stderr",
     "output_type": "stream",
     "text": [
      "\r",
      "  7%|▋         | 62/946 [03:17<37:01,  2.51s/it]"
     ]
    },
    {
     "name": "stdout",
     "output_type": "stream",
     "text": [
      "\n",
      "http://www.univie.ac.at/webda/cgi-bin/frame_data_list.cgi?ascc045+ubvpg+ubv.pgo\n",
      "Retrieval error. Skipping ascc045\n",
      "ascc046\n",
      "error with parsing mags html"
     ]
    },
    {
     "name": "stderr",
     "output_type": "stream",
     "text": [
      "\r",
      "  7%|▋         | 63/946 [03:24<54:16,  3.69s/it]"
     ]
    },
    {
     "name": "stdout",
     "output_type": "stream",
     "text": [
      "\n",
      "http://www.univie.ac.at/webda/cgi-bin/frame_data_list.cgi?ascc046+ubvpg+ubv.pgo\n",
      "Retrieval error. Skipping ascc046\n",
      "ascc047\n",
      "error with parsing mags html"
     ]
    },
    {
     "name": "stderr",
     "output_type": "stream",
     "text": [
      "\r",
      "  7%|▋         | 64/946 [03:28<56:09,  3.82s/it]"
     ]
    },
    {
     "name": "stdout",
     "output_type": "stream",
     "text": [
      "\n",
      "http://www.univie.ac.at/webda/cgi-bin/frame_data_list.cgi?ascc047+ubvpg+ubv.pgo\n",
      "Retrieval error. Skipping ascc047\n",
      "ascc048\n",
      "error with parsing mags html"
     ]
    },
    {
     "name": "stderr",
     "output_type": "stream",
     "text": [
      "\r",
      "  7%|▋         | 65/946 [03:30<48:17,  3.29s/it]"
     ]
    },
    {
     "name": "stdout",
     "output_type": "stream",
     "text": [
      "\n",
      "http://www.univie.ac.at/webda/cgi-bin/frame_data_list.cgi?ascc048+ubvpg+ubv.pgo\n",
      "Retrieval error. Skipping ascc048\n",
      "ascc049\n",
      "error with parsing mags html"
     ]
    },
    {
     "name": "stderr",
     "output_type": "stream",
     "text": [
      "\r",
      "  7%|▋         | 66/946 [03:32<43:57,  3.00s/it]"
     ]
    },
    {
     "name": "stdout",
     "output_type": "stream",
     "text": [
      "\n",
      "http://www.univie.ac.at/webda/cgi-bin/frame_data_list.cgi?ascc049+ubvpg+ubv.pgo\n",
      "Retrieval error. Skipping ascc049\n",
      "ascc050\n",
      "error with parsing mags html"
     ]
    },
    {
     "name": "stderr",
     "output_type": "stream",
     "text": [
      "\r",
      "  7%|▋         | 67/946 [03:44<1:20:53,  5.52s/it]"
     ]
    },
    {
     "name": "stdout",
     "output_type": "stream",
     "text": [
      "\n",
      "http://www.univie.ac.at/webda/cgi-bin/frame_data_list.cgi?ascc050+ubvpg+ubv.pgo\n",
      "Retrieval error. Skipping ascc050\n",
      "ascc051\n",
      "error with parsing mags html"
     ]
    },
    {
     "name": "stderr",
     "output_type": "stream",
     "text": [
      "\r",
      "  7%|▋         | 68/946 [03:46<1:08:12,  4.66s/it]"
     ]
    },
    {
     "name": "stdout",
     "output_type": "stream",
     "text": [
      "\n",
      "http://www.univie.ac.at/webda/cgi-bin/frame_data_list.cgi?ascc051+ubvpg+ubv.pgo\n",
      "Retrieval error. Skipping ascc051\n",
      "ascc052\n",
      "error with parsing mags html"
     ]
    },
    {
     "name": "stderr",
     "output_type": "stream",
     "text": [
      "\r",
      "  7%|▋         | 69/946 [03:48<56:16,  3.85s/it]  "
     ]
    },
    {
     "name": "stdout",
     "output_type": "stream",
     "text": [
      "\n",
      "http://www.univie.ac.at/webda/cgi-bin/frame_data_list.cgi?ascc052+ubvpg+ubv.pgo\n",
      "Retrieval error. Skipping ascc052\n",
      "ascc053\n",
      "error with parsing mags html"
     ]
    },
    {
     "name": "stderr",
     "output_type": "stream",
     "text": [
      "\r",
      "  7%|▋         | 70/946 [03:50<49:09,  3.37s/it]"
     ]
    },
    {
     "name": "stdout",
     "output_type": "stream",
     "text": [
      "\n",
      "http://www.univie.ac.at/webda/cgi-bin/frame_data_list.cgi?ascc053+ubvpg+ubv.pgo\n",
      "Retrieval error. Skipping ascc053\n",
      "ascc054\n",
      "error with parsing mags html"
     ]
    },
    {
     "name": "stderr",
     "output_type": "stream",
     "text": [
      "\r",
      "  8%|▊         | 71/946 [03:52<43:09,  2.96s/it]"
     ]
    },
    {
     "name": "stdout",
     "output_type": "stream",
     "text": [
      "\n",
      "http://www.univie.ac.at/webda/cgi-bin/frame_data_list.cgi?ascc054+ubvpg+ubv.pgo\n",
      "Retrieval error. Skipping ascc054\n",
      "ascc055\n",
      "error with parsing mags html"
     ]
    },
    {
     "name": "stderr",
     "output_type": "stream",
     "text": [
      "\r",
      "  8%|▊         | 72/946 [03:54<38:20,  2.63s/it]"
     ]
    },
    {
     "name": "stdout",
     "output_type": "stream",
     "text": [
      "\n",
      "http://www.univie.ac.at/webda/cgi-bin/frame_data_list.cgi?ascc055+ubvpg+ubv.pgo\n",
      "Retrieval error. Skipping ascc055\n",
      "ascc056\n",
      "error with parsing mags html"
     ]
    },
    {
     "name": "stderr",
     "output_type": "stream",
     "text": [
      "\r",
      "  8%|▊         | 73/946 [03:56<35:49,  2.46s/it]"
     ]
    },
    {
     "name": "stdout",
     "output_type": "stream",
     "text": [
      "\n",
      "http://www.univie.ac.at/webda/cgi-bin/frame_data_list.cgi?ascc056+ubvpg+ubv.pgo\n",
      "Retrieval error. Skipping ascc056\n",
      "ascc057\n",
      "error with parsing mags html"
     ]
    },
    {
     "name": "stderr",
     "output_type": "stream",
     "text": [
      "\r",
      "  8%|▊         | 74/946 [03:58<34:25,  2.37s/it]"
     ]
    },
    {
     "name": "stdout",
     "output_type": "stream",
     "text": [
      "\n",
      "http://www.univie.ac.at/webda/cgi-bin/frame_data_list.cgi?ascc057+ubvpg+ubv.pgo\n",
      "Retrieval error. Skipping ascc057\n",
      "ascc058\n",
      "error with parsing mags html"
     ]
    },
    {
     "name": "stderr",
     "output_type": "stream",
     "text": [
      "\r",
      "  8%|▊         | 75/946 [04:01<34:19,  2.36s/it]"
     ]
    },
    {
     "name": "stdout",
     "output_type": "stream",
     "text": [
      "\n",
      "http://www.univie.ac.at/webda/cgi-bin/frame_data_list.cgi?ascc058+ubvpg+ubv.pgo\n",
      "Retrieval error. Skipping ascc058\n",
      "ascc059\n",
      "error with parsing mags html"
     ]
    },
    {
     "name": "stderr",
     "output_type": "stream",
     "text": [
      "\r",
      "  8%|▊         | 76/946 [04:03<34:39,  2.39s/it]"
     ]
    },
    {
     "name": "stdout",
     "output_type": "stream",
     "text": [
      "\n",
      "http://www.univie.ac.at/webda/cgi-bin/frame_data_list.cgi?ascc059+ubvpg+ubv.pgo\n",
      "Retrieval error. Skipping ascc059\n",
      "ascc060\n",
      "error with parsing mags html"
     ]
    },
    {
     "name": "stderr",
     "output_type": "stream",
     "text": [
      "\r",
      "  8%|▊         | 77/946 [04:05<31:23,  2.17s/it]"
     ]
    },
    {
     "name": "stdout",
     "output_type": "stream",
     "text": [
      "\n",
      "http://www.univie.ac.at/webda/cgi-bin/frame_data_list.cgi?ascc060+ubvpg+ubv.pgo\n",
      "Retrieval error. Skipping ascc060\n",
      "ascc061\n",
      "error with parsing mags html"
     ]
    },
    {
     "name": "stderr",
     "output_type": "stream",
     "text": [
      "\r",
      "  8%|▊         | 78/946 [04:07<31:31,  2.18s/it]"
     ]
    },
    {
     "name": "stdout",
     "output_type": "stream",
     "text": [
      "\n",
      "http://www.univie.ac.at/webda/cgi-bin/frame_data_list.cgi?ascc061+ubvpg+ubv.pgo\n",
      "Retrieval error. Skipping ascc061\n",
      "ascc062\n",
      "error with parsing mags html"
     ]
    },
    {
     "name": "stderr",
     "output_type": "stream",
     "text": [
      "\r",
      "  8%|▊         | 79/946 [04:10<32:53,  2.28s/it]"
     ]
    },
    {
     "name": "stdout",
     "output_type": "stream",
     "text": [
      "\n",
      "http://www.univie.ac.at/webda/cgi-bin/frame_data_list.cgi?ascc062+ubvpg+ubv.pgo\n",
      "Retrieval error. Skipping ascc062\n",
      "ascc063\n",
      "error with parsing mags html"
     ]
    },
    {
     "name": "stderr",
     "output_type": "stream",
     "text": [
      "\r",
      "  8%|▊         | 80/946 [04:11<30:58,  2.15s/it]"
     ]
    },
    {
     "name": "stdout",
     "output_type": "stream",
     "text": [
      "\n",
      "http://www.univie.ac.at/webda/cgi-bin/frame_data_list.cgi?ascc063+ubvpg+ubv.pgo\n",
      "Retrieval error. Skipping ascc063\n",
      "ascc064\n",
      "error with parsing mags html"
     ]
    },
    {
     "name": "stderr",
     "output_type": "stream",
     "text": [
      "\r",
      "  9%|▊         | 81/946 [04:13<30:04,  2.09s/it]"
     ]
    },
    {
     "name": "stdout",
     "output_type": "stream",
     "text": [
      "\n",
      "http://www.univie.ac.at/webda/cgi-bin/frame_data_list.cgi?ascc064+ubvpg+ubv.pgo\n",
      "Retrieval error. Skipping ascc064\n",
      "ascc065\n",
      "error with parsing mags html"
     ]
    },
    {
     "name": "stderr",
     "output_type": "stream",
     "text": [
      "\r",
      "  9%|▊         | 82/946 [04:16<30:10,  2.10s/it]"
     ]
    },
    {
     "name": "stdout",
     "output_type": "stream",
     "text": [
      "\n",
      "http://www.univie.ac.at/webda/cgi-bin/frame_data_list.cgi?ascc065+ubvpg+ubv.pgo\n",
      "Retrieval error. Skipping ascc065\n",
      "ascc066\n",
      "error with parsing mags html"
     ]
    },
    {
     "name": "stderr",
     "output_type": "stream",
     "text": [
      "\r",
      "  9%|▉         | 83/946 [04:17<29:05,  2.02s/it]"
     ]
    },
    {
     "name": "stdout",
     "output_type": "stream",
     "text": [
      "\n",
      "http://www.univie.ac.at/webda/cgi-bin/frame_data_list.cgi?ascc066+ubvpg+ubv.pgo\n",
      "Retrieval error. Skipping ascc066\n",
      "ascc067\n",
      "error with parsing mags html"
     ]
    },
    {
     "name": "stderr",
     "output_type": "stream",
     "text": [
      "\r",
      "  9%|▉         | 84/946 [04:19<27:59,  1.95s/it]"
     ]
    },
    {
     "name": "stdout",
     "output_type": "stream",
     "text": [
      "\n",
      "http://www.univie.ac.at/webda/cgi-bin/frame_data_list.cgi?ascc067+ubvpg+ubv.pgo\n",
      "Retrieval error. Skipping ascc067\n",
      "ascc068\n",
      "error with parsing mags html"
     ]
    },
    {
     "name": "stderr",
     "output_type": "stream",
     "text": [
      "\r",
      "  9%|▉         | 85/946 [04:21<27:50,  1.94s/it]"
     ]
    },
    {
     "name": "stdout",
     "output_type": "stream",
     "text": [
      "\n",
      "http://www.univie.ac.at/webda/cgi-bin/frame_data_list.cgi?ascc068+ubvpg+ubv.pgo\n",
      "Retrieval error. Skipping ascc068\n",
      "ascc069\n",
      "error with parsing mags html"
     ]
    },
    {
     "name": "stderr",
     "output_type": "stream",
     "text": [
      "\r",
      "  9%|▉         | 86/946 [04:23<27:50,  1.94s/it]"
     ]
    },
    {
     "name": "stdout",
     "output_type": "stream",
     "text": [
      "\n",
      "http://www.univie.ac.at/webda/cgi-bin/frame_data_list.cgi?ascc069+ubvpg+ubv.pgo\n",
      "Retrieval error. Skipping ascc069\n",
      "ascc070\n",
      "error with parsing mags html"
     ]
    },
    {
     "name": "stderr",
     "output_type": "stream",
     "text": [
      "\r",
      "  9%|▉         | 87/946 [04:25<27:29,  1.92s/it]"
     ]
    },
    {
     "name": "stdout",
     "output_type": "stream",
     "text": [
      "\n",
      "http://www.univie.ac.at/webda/cgi-bin/frame_data_list.cgi?ascc070+ubvpg+ubv.pgo\n",
      "Retrieval error. Skipping ascc070\n",
      "ascc071\n",
      "error with parsing mags html"
     ]
    },
    {
     "name": "stderr",
     "output_type": "stream",
     "text": [
      "\r",
      "  9%|▉         | 88/946 [04:27<28:49,  2.02s/it]"
     ]
    },
    {
     "name": "stdout",
     "output_type": "stream",
     "text": [
      "\n",
      "http://www.univie.ac.at/webda/cgi-bin/frame_data_list.cgi?ascc071+ubvpg+ubv.pgo\n",
      "Retrieval error. Skipping ascc071\n",
      "ascc072\n",
      "error with parsing mags html"
     ]
    },
    {
     "name": "stderr",
     "output_type": "stream",
     "text": [
      "\r",
      "  9%|▉         | 89/946 [04:29<28:55,  2.03s/it]"
     ]
    },
    {
     "name": "stdout",
     "output_type": "stream",
     "text": [
      "\n",
      "http://www.univie.ac.at/webda/cgi-bin/frame_data_list.cgi?ascc072+ubvpg+ubv.pgo\n",
      "Retrieval error. Skipping ascc072\n",
      "ascc073\n",
      "error with parsing mags html"
     ]
    },
    {
     "name": "stderr",
     "output_type": "stream",
     "text": [
      "\r",
      " 10%|▉         | 90/946 [04:32<30:21,  2.13s/it]"
     ]
    },
    {
     "name": "stdout",
     "output_type": "stream",
     "text": [
      "\n",
      "http://www.univie.ac.at/webda/cgi-bin/frame_data_list.cgi?ascc073+ubvpg+ubv.pgo\n",
      "Retrieval error. Skipping ascc073\n",
      "ascc074\n",
      "error with parsing mags html"
     ]
    },
    {
     "name": "stderr",
     "output_type": "stream",
     "text": [
      "\r",
      " 10%|▉         | 91/946 [04:33<29:03,  2.04s/it]"
     ]
    },
    {
     "name": "stdout",
     "output_type": "stream",
     "text": [
      "\n",
      "http://www.univie.ac.at/webda/cgi-bin/frame_data_list.cgi?ascc074+ubvpg+ubv.pgo\n",
      "Retrieval error. Skipping ascc074\n",
      "ascc075\n",
      "error with parsing mags html"
     ]
    },
    {
     "name": "stderr",
     "output_type": "stream",
     "text": [
      "\r",
      " 10%|▉         | 92/946 [04:35<28:37,  2.01s/it]"
     ]
    },
    {
     "name": "stdout",
     "output_type": "stream",
     "text": [
      "\n",
      "http://www.univie.ac.at/webda/cgi-bin/frame_data_list.cgi?ascc075+ubvpg+ubv.pgo\n",
      "Retrieval error. Skipping ascc075\n",
      "ascc076\n",
      "error with parsing mags html"
     ]
    },
    {
     "name": "stderr",
     "output_type": "stream",
     "text": [
      "\r",
      " 10%|▉         | 93/946 [04:37<28:33,  2.01s/it]"
     ]
    },
    {
     "name": "stdout",
     "output_type": "stream",
     "text": [
      "\n",
      "http://www.univie.ac.at/webda/cgi-bin/frame_data_list.cgi?ascc076+ubvpg+ubv.pgo\n",
      "Retrieval error. Skipping ascc076\n",
      "ascc077\n",
      "error with parsing mags html"
     ]
    },
    {
     "name": "stderr",
     "output_type": "stream",
     "text": [
      "\r",
      " 10%|▉         | 94/946 [04:39<29:07,  2.05s/it]"
     ]
    },
    {
     "name": "stdout",
     "output_type": "stream",
     "text": [
      "\n",
      "http://www.univie.ac.at/webda/cgi-bin/frame_data_list.cgi?ascc077+ubvpg+ubv.pgo\n",
      "Retrieval error. Skipping ascc077\n",
      "ascc078\n",
      "error with parsing mags html"
     ]
    },
    {
     "name": "stderr",
     "output_type": "stream",
     "text": [
      "\r",
      " 10%|█         | 95/946 [04:41<27:33,  1.94s/it]"
     ]
    },
    {
     "name": "stdout",
     "output_type": "stream",
     "text": [
      "\n",
      "http://www.univie.ac.at/webda/cgi-bin/frame_data_list.cgi?ascc078+ubvpg+ubv.pgo\n",
      "Retrieval error. Skipping ascc078\n",
      "ascc079\n",
      "error with parsing mags html"
     ]
    },
    {
     "name": "stderr",
     "output_type": "stream",
     "text": [
      "\r",
      " 10%|█         | 96/946 [04:44<30:13,  2.13s/it]"
     ]
    },
    {
     "name": "stdout",
     "output_type": "stream",
     "text": [
      "\n",
      "http://www.univie.ac.at/webda/cgi-bin/frame_data_list.cgi?ascc079+ubvpg+ubv.pgo\n",
      "Retrieval error. Skipping ascc079\n",
      "ascc080\n",
      "error with parsing mags html"
     ]
    },
    {
     "name": "stderr",
     "output_type": "stream",
     "text": [
      "\r",
      " 10%|█         | 97/946 [04:46<29:31,  2.09s/it]"
     ]
    },
    {
     "name": "stdout",
     "output_type": "stream",
     "text": [
      "\n",
      "http://www.univie.ac.at/webda/cgi-bin/frame_data_list.cgi?ascc080+ubvpg+ubv.pgo\n",
      "Retrieval error. Skipping ascc080\n",
      "ascc081\n",
      "error with parsing mags html"
     ]
    },
    {
     "name": "stderr",
     "output_type": "stream",
     "text": [
      "\r",
      " 10%|█         | 98/946 [04:48<29:05,  2.06s/it]"
     ]
    },
    {
     "name": "stdout",
     "output_type": "stream",
     "text": [
      "\n",
      "http://www.univie.ac.at/webda/cgi-bin/frame_data_list.cgi?ascc081+ubvpg+ubv.pgo\n",
      "Retrieval error. Skipping ascc081\n",
      "ascc082\n",
      "error with parsing mags html"
     ]
    },
    {
     "name": "stderr",
     "output_type": "stream",
     "text": [
      "\r",
      " 10%|█         | 99/946 [04:50<28:34,  2.02s/it]"
     ]
    },
    {
     "name": "stdout",
     "output_type": "stream",
     "text": [
      "\n",
      "http://www.univie.ac.at/webda/cgi-bin/frame_data_list.cgi?ascc082+ubvpg+ubv.pgo\n",
      "Retrieval error. Skipping ascc082\n",
      "ascc083\n",
      "error with parsing mags html"
     ]
    },
    {
     "name": "stderr",
     "output_type": "stream",
     "text": [
      "\r",
      " 11%|█         | 100/946 [04:52<27:46,  1.97s/it]"
     ]
    },
    {
     "name": "stdout",
     "output_type": "stream",
     "text": [
      "\n",
      "http://www.univie.ac.at/webda/cgi-bin/frame_data_list.cgi?ascc083+ubvpg+ubv.pgo\n",
      "Retrieval error. Skipping ascc083\n",
      "ascc084\n",
      "error with parsing mags html"
     ]
    },
    {
     "name": "stderr",
     "output_type": "stream",
     "text": [
      "\r",
      " 11%|█         | 101/946 [04:53<26:47,  1.90s/it]"
     ]
    },
    {
     "name": "stdout",
     "output_type": "stream",
     "text": [
      "\n",
      "http://www.univie.ac.at/webda/cgi-bin/frame_data_list.cgi?ascc084+ubvpg+ubv.pgo\n",
      "Retrieval error. Skipping ascc084\n",
      "ascc085\n",
      "error with parsing mags html"
     ]
    },
    {
     "name": "stderr",
     "output_type": "stream",
     "text": [
      "\r",
      " 11%|█         | 102/946 [04:55<26:03,  1.85s/it]"
     ]
    },
    {
     "name": "stdout",
     "output_type": "stream",
     "text": [
      "\n",
      "http://www.univie.ac.at/webda/cgi-bin/frame_data_list.cgi?ascc085+ubvpg+ubv.pgo\n",
      "Retrieval error. Skipping ascc085\n",
      "ascc086\n",
      "error with parsing mags html"
     ]
    },
    {
     "name": "stderr",
     "output_type": "stream",
     "text": [
      "\r",
      " 11%|█         | 103/946 [04:57<28:09,  2.00s/it]"
     ]
    },
    {
     "name": "stdout",
     "output_type": "stream",
     "text": [
      "\n",
      "http://www.univie.ac.at/webda/cgi-bin/frame_data_list.cgi?ascc086+ubvpg+ubv.pgo\n",
      "Retrieval error. Skipping ascc086\n",
      "ascc087\n",
      "error with parsing mags html"
     ]
    },
    {
     "name": "stderr",
     "output_type": "stream",
     "text": [
      "\r",
      " 11%|█         | 104/946 [05:01<33:05,  2.36s/it]"
     ]
    },
    {
     "name": "stdout",
     "output_type": "stream",
     "text": [
      "\n",
      "http://www.univie.ac.at/webda/cgi-bin/frame_data_list.cgi?ascc087+ubvpg+ubv.pgo\n",
      "Retrieval error. Skipping ascc087\n",
      "ascc088\n",
      "error with parsing mags html"
     ]
    },
    {
     "name": "stderr",
     "output_type": "stream",
     "text": [
      "\r",
      " 11%|█         | 105/946 [05:03<33:49,  2.41s/it]"
     ]
    },
    {
     "name": "stdout",
     "output_type": "stream",
     "text": [
      "\n",
      "http://www.univie.ac.at/webda/cgi-bin/frame_data_list.cgi?ascc088+ubvpg+ubv.pgo\n",
      "Retrieval error. Skipping ascc088\n",
      "ascc089\n",
      "error with parsing mags html"
     ]
    },
    {
     "name": "stderr",
     "output_type": "stream",
     "text": [
      "\r",
      " 11%|█         | 106/946 [05:09<47:33,  3.40s/it]"
     ]
    },
    {
     "name": "stdout",
     "output_type": "stream",
     "text": [
      "\n",
      "http://www.univie.ac.at/webda/cgi-bin/frame_data_list.cgi?ascc089+ubvpg+ubv.pgo\n",
      "Retrieval error. Skipping ascc089\n",
      "ascc090\n",
      "error with parsing mags html"
     ]
    },
    {
     "name": "stderr",
     "output_type": "stream",
     "text": [
      "\r",
      " 11%|█▏        | 107/946 [05:11<41:01,  2.93s/it]"
     ]
    },
    {
     "name": "stdout",
     "output_type": "stream",
     "text": [
      "\n",
      "http://www.univie.ac.at/webda/cgi-bin/frame_data_list.cgi?ascc090+ubvpg+ubv.pgo\n",
      "Retrieval error. Skipping ascc090\n",
      "ascc091\n",
      "error with parsing mags html"
     ]
    },
    {
     "name": "stderr",
     "output_type": "stream",
     "text": [
      "\r",
      " 11%|█▏        | 108/946 [05:13<39:10,  2.80s/it]"
     ]
    },
    {
     "name": "stdout",
     "output_type": "stream",
     "text": [
      "\n",
      "http://www.univie.ac.at/webda/cgi-bin/frame_data_list.cgi?ascc091+ubvpg+ubv.pgo\n",
      "Retrieval error. Skipping ascc091\n",
      "ascc092\n",
      "error with parsing mags html"
     ]
    },
    {
     "name": "stderr",
     "output_type": "stream",
     "text": [
      "\r",
      " 12%|█▏        | 109/946 [05:15<34:38,  2.48s/it]"
     ]
    },
    {
     "name": "stdout",
     "output_type": "stream",
     "text": [
      "\n",
      "http://www.univie.ac.at/webda/cgi-bin/frame_data_list.cgi?ascc092+ubvpg+ubv.pgo\n",
      "Retrieval error. Skipping ascc092\n",
      "ascc093\n",
      "error with parsing mags html"
     ]
    },
    {
     "name": "stderr",
     "output_type": "stream",
     "text": [
      "\r",
      " 12%|█▏        | 110/946 [05:17<32:21,  2.32s/it]"
     ]
    },
    {
     "name": "stdout",
     "output_type": "stream",
     "text": [
      "\n",
      "http://www.univie.ac.at/webda/cgi-bin/frame_data_list.cgi?ascc093+ubvpg+ubv.pgo\n",
      "Retrieval error. Skipping ascc093\n",
      "ascc094\n",
      "error with parsing mags html"
     ]
    },
    {
     "name": "stderr",
     "output_type": "stream",
     "text": [
      "\r",
      " 12%|█▏        | 111/946 [05:19<30:40,  2.20s/it]"
     ]
    },
    {
     "name": "stdout",
     "output_type": "stream",
     "text": [
      "\n",
      "http://www.univie.ac.at/webda/cgi-bin/frame_data_list.cgi?ascc094+ubvpg+ubv.pgo\n",
      "Retrieval error. Skipping ascc094\n",
      "ascc095\n",
      "error with parsing mags html"
     ]
    },
    {
     "name": "stderr",
     "output_type": "stream",
     "text": [
      "\r",
      " 12%|█▏        | 112/946 [05:21<32:35,  2.34s/it]"
     ]
    },
    {
     "name": "stdout",
     "output_type": "stream",
     "text": [
      "\n",
      "http://www.univie.ac.at/webda/cgi-bin/frame_data_list.cgi?ascc095+ubvpg+ubv.pgo\n",
      "Retrieval error. Skipping ascc095\n",
      "ascc096\n",
      "error with parsing mags html"
     ]
    },
    {
     "name": "stderr",
     "output_type": "stream",
     "text": [
      "\r",
      " 12%|█▏        | 113/946 [05:23<30:32,  2.20s/it]"
     ]
    },
    {
     "name": "stdout",
     "output_type": "stream",
     "text": [
      "\n",
      "http://www.univie.ac.at/webda/cgi-bin/frame_data_list.cgi?ascc096+ubvpg+ubv.pgo\n",
      "Retrieval error. Skipping ascc096\n",
      "ascc097\n",
      "error with parsing mags html"
     ]
    },
    {
     "name": "stderr",
     "output_type": "stream",
     "text": [
      "\r",
      " 12%|█▏        | 114/946 [05:25<29:49,  2.15s/it]"
     ]
    },
    {
     "name": "stdout",
     "output_type": "stream",
     "text": [
      "\n",
      "http://www.univie.ac.at/webda/cgi-bin/frame_data_list.cgi?ascc097+ubvpg+ubv.pgo\n",
      "Retrieval error. Skipping ascc097\n",
      "ascc098\n",
      "error with parsing mags html"
     ]
    },
    {
     "name": "stderr",
     "output_type": "stream",
     "text": [
      "\r",
      " 12%|█▏        | 115/946 [05:28<32:46,  2.37s/it]"
     ]
    },
    {
     "name": "stdout",
     "output_type": "stream",
     "text": [
      "\n",
      "http://www.univie.ac.at/webda/cgi-bin/frame_data_list.cgi?ascc098+ubvpg+ubv.pgo\n",
      "Retrieval error. Skipping ascc098\n",
      "ascc099\n",
      "error with parsing mags html"
     ]
    },
    {
     "name": "stderr",
     "output_type": "stream",
     "text": [
      "\r",
      " 12%|█▏        | 116/946 [05:30<30:11,  2.18s/it]"
     ]
    },
    {
     "name": "stdout",
     "output_type": "stream",
     "text": [
      "\n",
      "http://www.univie.ac.at/webda/cgi-bin/frame_data_list.cgi?ascc099+ubvpg+ubv.pgo\n",
      "Retrieval error. Skipping ascc099\n",
      "ascc100\n",
      "error with parsing mags html"
     ]
    },
    {
     "name": "stderr",
     "output_type": "stream",
     "text": [
      "\r",
      " 12%|█▏        | 117/946 [05:32<29:07,  2.11s/it]"
     ]
    },
    {
     "name": "stdout",
     "output_type": "stream",
     "text": [
      "\n",
      "http://www.univie.ac.at/webda/cgi-bin/frame_data_list.cgi?ascc100+ubvpg+ubv.pgo\n",
      "Retrieval error. Skipping ascc100\n",
      "ascc101\n",
      "error with parsing mags html"
     ]
    },
    {
     "name": "stderr",
     "output_type": "stream",
     "text": [
      "\r",
      " 12%|█▏        | 118/946 [05:34<29:05,  2.11s/it]"
     ]
    },
    {
     "name": "stdout",
     "output_type": "stream",
     "text": [
      "\n",
      "http://www.univie.ac.at/webda/cgi-bin/frame_data_list.cgi?ascc101+ubvpg+ubv.pgo\n",
      "Retrieval error. Skipping ascc101\n",
      "ascc102\n",
      "error with parsing mags html"
     ]
    },
    {
     "name": "stderr",
     "output_type": "stream",
     "text": [
      "\r",
      " 13%|█▎        | 119/946 [05:36<28:43,  2.08s/it]"
     ]
    },
    {
     "name": "stdout",
     "output_type": "stream",
     "text": [
      "\n",
      "http://www.univie.ac.at/webda/cgi-bin/frame_data_list.cgi?ascc102+ubvpg+ubv.pgo\n",
      "Retrieval error. Skipping ascc102\n",
      "ascc103\n",
      "error with parsing mags html"
     ]
    },
    {
     "name": "stderr",
     "output_type": "stream",
     "text": [
      "\r",
      " 13%|█▎        | 120/946 [05:39<30:31,  2.22s/it]"
     ]
    },
    {
     "name": "stdout",
     "output_type": "stream",
     "text": [
      "\n",
      "http://www.univie.ac.at/webda/cgi-bin/frame_data_list.cgi?ascc103+ubvpg+ubv.pgo\n",
      "Retrieval error. Skipping ascc103\n",
      "ascc104\n",
      "error with parsing mags html"
     ]
    },
    {
     "name": "stderr",
     "output_type": "stream",
     "text": [
      "\r",
      " 13%|█▎        | 121/946 [05:41<31:27,  2.29s/it]"
     ]
    },
    {
     "name": "stdout",
     "output_type": "stream",
     "text": [
      "\n",
      "http://www.univie.ac.at/webda/cgi-bin/frame_data_list.cgi?ascc104+ubvpg+ubv.pgo\n",
      "Retrieval error. Skipping ascc104\n",
      "ascc105\n",
      "error with parsing mags html"
     ]
    },
    {
     "name": "stderr",
     "output_type": "stream",
     "text": [
      "\r",
      " 13%|█▎        | 122/946 [05:44<33:02,  2.41s/it]"
     ]
    },
    {
     "name": "stdout",
     "output_type": "stream",
     "text": [
      "\n",
      "http://www.univie.ac.at/webda/cgi-bin/frame_data_list.cgi?ascc105+ubvpg+ubv.pgo\n",
      "Retrieval error. Skipping ascc105\n",
      "ascc106\n",
      "error with parsing mags html"
     ]
    },
    {
     "name": "stderr",
     "output_type": "stream",
     "text": [
      "\r",
      " 13%|█▎        | 123/946 [05:46<31:28,  2.29s/it]"
     ]
    },
    {
     "name": "stdout",
     "output_type": "stream",
     "text": [
      "\n",
      "http://www.univie.ac.at/webda/cgi-bin/frame_data_list.cgi?ascc106+ubvpg+ubv.pgo\n",
      "Retrieval error. Skipping ascc106\n",
      "ascc107\n",
      "error with parsing mags html"
     ]
    },
    {
     "name": "stderr",
     "output_type": "stream",
     "text": [
      "\r",
      " 13%|█▎        | 124/946 [05:47<28:12,  2.06s/it]"
     ]
    },
    {
     "name": "stdout",
     "output_type": "stream",
     "text": [
      "\n",
      "http://www.univie.ac.at/webda/cgi-bin/frame_data_list.cgi?ascc107+ubvpg+ubv.pgo\n",
      "Retrieval error. Skipping ascc107\n",
      "ascc108\n",
      "error with parsing mags html"
     ]
    },
    {
     "name": "stderr",
     "output_type": "stream",
     "text": [
      "\r",
      " 13%|█▎        | 125/946 [05:49<26:31,  1.94s/it]"
     ]
    },
    {
     "name": "stdout",
     "output_type": "stream",
     "text": [
      "\n",
      "http://www.univie.ac.at/webda/cgi-bin/frame_data_list.cgi?ascc108+ubvpg+ubv.pgo\n",
      "Retrieval error. Skipping ascc108\n",
      "ascc109\n",
      "error with parsing mags html"
     ]
    },
    {
     "name": "stderr",
     "output_type": "stream",
     "text": [
      "\r",
      " 13%|█▎        | 126/946 [05:51<28:58,  2.12s/it]"
     ]
    },
    {
     "name": "stdout",
     "output_type": "stream",
     "text": [
      "\n",
      "http://www.univie.ac.at/webda/cgi-bin/frame_data_list.cgi?ascc109+ubvpg+ubv.pgo\n",
      "Retrieval error. Skipping ascc109\n",
      "ascc110\n",
      "error with parsing mags html"
     ]
    },
    {
     "name": "stderr",
     "output_type": "stream",
     "text": [
      "\r",
      " 13%|█▎        | 127/946 [05:53<27:39,  2.03s/it]"
     ]
    },
    {
     "name": "stdout",
     "output_type": "stream",
     "text": [
      "\n",
      "http://www.univie.ac.at/webda/cgi-bin/frame_data_list.cgi?ascc110+ubvpg+ubv.pgo\n",
      "Retrieval error. Skipping ascc110\n",
      "ascc111\n",
      "error with parsing mags html"
     ]
    },
    {
     "name": "stderr",
     "output_type": "stream",
     "text": [
      "\r",
      " 14%|█▎        | 128/946 [05:56<32:06,  2.35s/it]"
     ]
    },
    {
     "name": "stdout",
     "output_type": "stream",
     "text": [
      "\n",
      "http://www.univie.ac.at/webda/cgi-bin/frame_data_list.cgi?ascc111+ubvpg+ubv.pgo\n",
      "Retrieval error. Skipping ascc111\n",
      "ascc112\n",
      "error with parsing mags html"
     ]
    },
    {
     "name": "stderr",
     "output_type": "stream",
     "text": [
      "\r",
      " 14%|█▎        | 129/946 [05:58<30:48,  2.26s/it]"
     ]
    },
    {
     "name": "stdout",
     "output_type": "stream",
     "text": [
      "\n",
      "http://www.univie.ac.at/webda/cgi-bin/frame_data_list.cgi?ascc112+ubvpg+ubv.pgo\n",
      "Retrieval error. Skipping ascc112\n",
      "ascc113\n",
      "error with parsing mags html"
     ]
    },
    {
     "name": "stderr",
     "output_type": "stream",
     "text": [
      "\r",
      " 14%|█▎        | 130/946 [06:01<31:34,  2.32s/it]"
     ]
    },
    {
     "name": "stdout",
     "output_type": "stream",
     "text": [
      "\n",
      "http://www.univie.ac.at/webda/cgi-bin/frame_data_list.cgi?ascc113+ubvpg+ubv.pgo\n",
      "Retrieval error. Skipping ascc113\n",
      "ascc114\n",
      "error with parsing mags html"
     ]
    },
    {
     "name": "stderr",
     "output_type": "stream",
     "text": [
      "\r",
      " 14%|█▍        | 131/946 [06:03<29:10,  2.15s/it]"
     ]
    },
    {
     "name": "stdout",
     "output_type": "stream",
     "text": [
      "\n",
      "http://www.univie.ac.at/webda/cgi-bin/frame_data_list.cgi?ascc114+ubvpg+ubv.pgo\n",
      "Retrieval error. Skipping ascc114\n",
      "ascc115\n",
      "error with parsing mags html"
     ]
    },
    {
     "name": "stderr",
     "output_type": "stream",
     "text": [
      "\r",
      " 14%|█▍        | 132/946 [06:04<27:03,  1.99s/it]"
     ]
    },
    {
     "name": "stdout",
     "output_type": "stream",
     "text": [
      "\n",
      "http://www.univie.ac.at/webda/cgi-bin/frame_data_list.cgi?ascc115+ubvpg+ubv.pgo\n",
      "Retrieval error. Skipping ascc115\n",
      "ascc116\n",
      "error with parsing mags html"
     ]
    },
    {
     "name": "stderr",
     "output_type": "stream",
     "text": [
      "\r",
      " 14%|█▍        | 133/946 [06:06<26:24,  1.95s/it]"
     ]
    },
    {
     "name": "stdout",
     "output_type": "stream",
     "text": [
      "\n",
      "http://www.univie.ac.at/webda/cgi-bin/frame_data_list.cgi?ascc116+ubvpg+ubv.pgo\n",
      "Retrieval error. Skipping ascc116\n",
      "ascc117\n",
      "error with parsing mags html"
     ]
    },
    {
     "name": "stderr",
     "output_type": "stream",
     "text": [
      "\r",
      " 14%|█▍        | 134/946 [06:08<26:47,  1.98s/it]"
     ]
    },
    {
     "name": "stdout",
     "output_type": "stream",
     "text": [
      "\n",
      "http://www.univie.ac.at/webda/cgi-bin/frame_data_list.cgi?ascc117+ubvpg+ubv.pgo\n",
      "Retrieval error. Skipping ascc117\n",
      "ascc118\n",
      "error with parsing mags html"
     ]
    },
    {
     "name": "stderr",
     "output_type": "stream",
     "text": [
      "\r",
      " 14%|█▍        | 135/946 [06:10<25:46,  1.91s/it]"
     ]
    },
    {
     "name": "stdout",
     "output_type": "stream",
     "text": [
      "\n",
      "http://www.univie.ac.at/webda/cgi-bin/frame_data_list.cgi?ascc118+ubvpg+ubv.pgo\n",
      "Retrieval error. Skipping ascc118\n",
      "ascc119\n",
      "error with parsing mags html"
     ]
    },
    {
     "name": "stderr",
     "output_type": "stream",
     "text": [
      "\r",
      " 14%|█▍        | 136/946 [06:12<25:29,  1.89s/it]"
     ]
    },
    {
     "name": "stdout",
     "output_type": "stream",
     "text": [
      "\n",
      "http://www.univie.ac.at/webda/cgi-bin/frame_data_list.cgi?ascc119+ubvpg+ubv.pgo\n",
      "Retrieval error. Skipping ascc119\n",
      "ascc120\n",
      "error with parsing mags html"
     ]
    },
    {
     "name": "stderr",
     "output_type": "stream",
     "text": [
      "\r",
      " 14%|█▍        | 137/946 [06:14<29:00,  2.15s/it]"
     ]
    },
    {
     "name": "stdout",
     "output_type": "stream",
     "text": [
      "\n",
      "http://www.univie.ac.at/webda/cgi-bin/frame_data_list.cgi?ascc120+ubvpg+ubv.pgo\n",
      "Retrieval error. Skipping ascc120\n",
      "ascc121\n",
      "error with parsing mags html"
     ]
    },
    {
     "name": "stderr",
     "output_type": "stream",
     "text": [
      "\r",
      " 15%|█▍        | 138/946 [06:16<27:32,  2.04s/it]"
     ]
    },
    {
     "name": "stdout",
     "output_type": "stream",
     "text": [
      "\n",
      "http://www.univie.ac.at/webda/cgi-bin/frame_data_list.cgi?ascc121+ubvpg+ubv.pgo\n",
      "Retrieval error. Skipping ascc121\n",
      "ascc122\n",
      "error with parsing mags html"
     ]
    },
    {
     "name": "stderr",
     "output_type": "stream",
     "text": [
      "\r",
      " 15%|█▍        | 139/946 [06:19<29:45,  2.21s/it]"
     ]
    },
    {
     "name": "stdout",
     "output_type": "stream",
     "text": [
      "\n",
      "http://www.univie.ac.at/webda/cgi-bin/frame_data_list.cgi?ascc122+ubvpg+ubv.pgo\n",
      "Retrieval error. Skipping ascc122\n",
      "ascc123\n",
      "error with parsing mags html"
     ]
    },
    {
     "name": "stderr",
     "output_type": "stream",
     "text": [
      "\r",
      " 15%|█▍        | 140/946 [06:28<56:09,  4.18s/it]"
     ]
    },
    {
     "name": "stdout",
     "output_type": "stream",
     "text": [
      "\n",
      "http://www.univie.ac.at/webda/cgi-bin/frame_data_list.cgi?ascc123+ubvpg+ubv.pgo\n",
      "Retrieval error. Skipping ascc123\n",
      "ascc124\n",
      "error with parsing mags html"
     ]
    },
    {
     "name": "stderr",
     "output_type": "stream",
     "text": [
      "\r",
      " 15%|█▍        | 141/946 [06:30<46:49,  3.49s/it]"
     ]
    },
    {
     "name": "stdout",
     "output_type": "stream",
     "text": [
      "\n",
      "http://www.univie.ac.at/webda/cgi-bin/frame_data_list.cgi?ascc124+ubvpg+ubv.pgo\n",
      "Retrieval error. Skipping ascc124\n",
      "ascc125\n",
      "error with parsing mags html"
     ]
    },
    {
     "name": "stderr",
     "output_type": "stream",
     "text": [
      "\r",
      " 15%|█▌        | 142/946 [06:32<41:05,  3.07s/it]"
     ]
    },
    {
     "name": "stdout",
     "output_type": "stream",
     "text": [
      "\n",
      "http://www.univie.ac.at/webda/cgi-bin/frame_data_list.cgi?ascc125+ubvpg+ubv.pgo\n",
      "Retrieval error. Skipping ascc125\n",
      "ascc126\n",
      "error with parsing mags html"
     ]
    },
    {
     "name": "stderr",
     "output_type": "stream",
     "text": [
      "\r",
      " 15%|█▌        | 143/946 [06:33<36:04,  2.70s/it]"
     ]
    },
    {
     "name": "stdout",
     "output_type": "stream",
     "text": [
      "\n",
      "http://www.univie.ac.at/webda/cgi-bin/frame_data_list.cgi?ascc126+ubvpg+ubv.pgo\n",
      "Retrieval error. Skipping ascc126\n",
      "ascc127\n",
      "error with parsing mags html"
     ]
    },
    {
     "name": "stderr",
     "output_type": "stream",
     "text": [
      "\r",
      " 15%|█▌        | 144/946 [06:36<35:51,  2.68s/it]"
     ]
    },
    {
     "name": "stdout",
     "output_type": "stream",
     "text": [
      "\n",
      "http://www.univie.ac.at/webda/cgi-bin/frame_data_list.cgi?ascc127+ubvpg+ubv.pgo\n",
      "Retrieval error. Skipping ascc127\n",
      "ascc128\n",
      "error with parsing mags html"
     ]
    },
    {
     "name": "stderr",
     "output_type": "stream",
     "text": [
      "\r",
      " 15%|█▌        | 145/946 [06:38<32:59,  2.47s/it]"
     ]
    },
    {
     "name": "stdout",
     "output_type": "stream",
     "text": [
      "\n",
      "http://www.univie.ac.at/webda/cgi-bin/frame_data_list.cgi?ascc128+ubvpg+ubv.pgo\n",
      "Retrieval error. Skipping ascc128\n",
      "ascc129\n",
      "error with parsing mags html"
     ]
    },
    {
     "name": "stderr",
     "output_type": "stream",
     "text": [
      "\r",
      " 15%|█▌        | 146/946 [06:40<30:16,  2.27s/it]"
     ]
    },
    {
     "name": "stdout",
     "output_type": "stream",
     "text": [
      "\n",
      "http://www.univie.ac.at/webda/cgi-bin/frame_data_list.cgi?ascc129+ubvpg+ubv.pgo\n",
      "Retrieval error. Skipping ascc129\n",
      "ascc130\n",
      "error with parsing mags html"
     ]
    },
    {
     "name": "stderr",
     "output_type": "stream",
     "text": [
      "\r",
      " 16%|█▌        | 147/946 [06:41<27:39,  2.08s/it]"
     ]
    },
    {
     "name": "stdout",
     "output_type": "stream",
     "text": [
      "\n",
      "http://www.univie.ac.at/webda/cgi-bin/frame_data_list.cgi?ascc130+ubvpg+ubv.pgo\n",
      "Retrieval error. Skipping ascc130\n",
      "av01\n",
      "error with parsing mags html"
     ]
    },
    {
     "name": "stderr",
     "output_type": "stream",
     "text": [
      "\r",
      " 16%|█▌        | 148/946 [06:44<28:22,  2.13s/it]"
     ]
    },
    {
     "name": "stdout",
     "output_type": "stream",
     "text": [
      "\n",
      "http://www.univie.ac.at/webda/cgi-bin/frame_data_list.cgi?av01+ubvpg+ubv.pgo\n",
      "Retrieval error. Skipping av01\n",
      "bas01\n",
      "error with parsing mags html"
     ]
    },
    {
     "name": "stderr",
     "output_type": "stream",
     "text": [
      "\r",
      " 16%|█▌        | 149/946 [06:51<50:03,  3.77s/it]"
     ]
    },
    {
     "name": "stdout",
     "output_type": "stream",
     "text": [
      "\n",
      "http://www.univie.ac.at/webda/cgi-bin/frame_data_list.cgi?bas01+ubvpg+ubv.pgo\n",
      "Retrieval error. Skipping bas01\n",
      "bas08\n",
      "error with parsing mags html"
     ]
    },
    {
     "name": "stderr",
     "output_type": "stream",
     "text": [
      "\r",
      " 16%|█▌        | 150/946 [06:53<42:18,  3.19s/it]"
     ]
    },
    {
     "name": "stdout",
     "output_type": "stream",
     "text": [
      "\n",
      "http://www.univie.ac.at/webda/cgi-bin/frame_data_list.cgi?bas08+ubvpg+ubv.pgo\n",
      "Retrieval error. Skipping bas08\n",
      "bas10\n",
      "error with parsing coords html"
     ]
    },
    {
     "name": "stderr",
     "output_type": "stream",
     "text": [
      "\r",
      " 16%|█▌        | 151/946 [06:54<32:52,  2.48s/it]"
     ]
    },
    {
     "name": "stdout",
     "output_type": "stream",
     "text": [
      "\n",
      "http://www.univie.ac.at/webda/cgi-bin/frame_data_list.cgi?bas10+ad2k+ad2000.coo\n",
      "Retrieval error. Skipping bas10\n",
      "bas11a\n",
      "bas11a 39\n",
      "Data retrived, starting pbsearch\n",
      "('searched for a subset of ', 39, 'Coords against 2mass list of', 9073309)"
     ]
    },
    {
     "name": "stderr",
     "output_type": "stream",
     "text": [
      "\r",
      " 16%|█▌        | 152/946 [07:15<1:48:06,  8.17s/it]"
     ]
    },
    {
     "name": "stdout",
     "output_type": "stream",
     "text": [
      "\n",
      "('Coord matches: ', 0, 'with a tolerance of ', 0.005556)\n",
      "No matches. Skipping bas11a\n",
      "bas18\n",
      "error with parsing mags html"
     ]
    },
    {
     "name": "stderr",
     "output_type": "stream",
     "text": [
      "\r",
      " 16%|█▌        | 153/946 [07:17<1:21:43,  6.18s/it]"
     ]
    },
    {
     "name": "stdout",
     "output_type": "stream",
     "text": [
      "\n",
      "http://www.univie.ac.at/webda/cgi-bin/frame_data_list.cgi?bas18+ubvpg+ubv.pgo\n",
      "Retrieval error. Skipping bas18\n",
      "be001\n",
      "error with parsing mags html"
     ]
    },
    {
     "name": "stderr",
     "output_type": "stream",
     "text": [
      "\r",
      " 16%|█▋        | 154/946 [07:38<2:20:02, 10.61s/it]"
     ]
    },
    {
     "name": "stdout",
     "output_type": "stream",
     "text": [
      "\n",
      "http://www.univie.ac.at/webda/cgi-bin/frame_data_list.cgi?be001+ubvpg+ubv.pgo\n",
      "Retrieval error. Skipping be001\n",
      "be004\n",
      "error with parsing mags html"
     ]
    },
    {
     "name": "stderr",
     "output_type": "stream",
     "text": [
      "\r",
      " 16%|█▋        | 155/946 [07:49<2:22:04, 10.78s/it]"
     ]
    },
    {
     "name": "stdout",
     "output_type": "stream",
     "text": [
      "\n",
      "http://www.univie.ac.at/webda/cgi-bin/frame_data_list.cgi?be004+ubvpg+ubv.pgo\n",
      "Retrieval error. Skipping be004\n",
      "be006\n",
      "error with parsing mags html"
     ]
    },
    {
     "name": "stderr",
     "output_type": "stream",
     "text": [
      "\r",
      " 16%|█▋        | 156/946 [08:21<3:46:42, 17.22s/it]"
     ]
    },
    {
     "name": "stdout",
     "output_type": "stream",
     "text": [
      "\n",
      "http://www.univie.ac.at/webda/cgi-bin/frame_data_list.cgi?be006+ubvpg+ubv.pgo\n",
      "Retrieval error. Skipping be006\n",
      "be009\n",
      "error with parsing mags html"
     ]
    },
    {
     "name": "stderr",
     "output_type": "stream",
     "text": [
      "\r",
      " 17%|█▋        | 157/946 [08:33<3:22:55, 15.43s/it]"
     ]
    },
    {
     "name": "stdout",
     "output_type": "stream",
     "text": [
      "\n",
      "http://www.univie.ac.at/webda/cgi-bin/frame_data_list.cgi?be009+ubvpg+ubv.pgo\n",
      "Retrieval error. Skipping be009\n",
      "be011\n",
      "error with parsing mags html"
     ]
    },
    {
     "name": "stderr",
     "output_type": "stream",
     "text": [
      "\r",
      " 17%|█▋        | 158/946 [08:34<2:28:44, 11.32s/it]"
     ]
    },
    {
     "name": "stdout",
     "output_type": "stream",
     "text": [
      "\n",
      "http://www.univie.ac.at/webda/cgi-bin/frame_data_list.cgi?be011+ubvpg+ubv.pgo\n",
      "Retrieval error. Skipping be011\n",
      "be013\n",
      "error with parsing mags html"
     ]
    },
    {
     "name": "stderr",
     "output_type": "stream",
     "text": [
      "\r",
      " 17%|█▋        | 159/946 [08:46<2:30:02, 11.44s/it]"
     ]
    },
    {
     "name": "stdout",
     "output_type": "stream",
     "text": [
      "\n",
      "http://www.univie.ac.at/webda/cgi-bin/frame_data_list.cgi?be013+ubvpg+ubv.pgo\n",
      "Retrieval error. Skipping be013\n",
      "be015\n",
      "error with parsing mags html"
     ]
    },
    {
     "name": "stderr",
     "output_type": "stream",
     "text": [
      "\r",
      " 17%|█▋        | 160/946 [09:01<2:42:46, 12.42s/it]"
     ]
    },
    {
     "name": "stdout",
     "output_type": "stream",
     "text": [
      "\n",
      "http://www.univie.ac.at/webda/cgi-bin/frame_data_list.cgi?be015+ubvpg+ubv.pgo\n",
      "Retrieval error. Skipping be015\n",
      "be017\n",
      "error with parsing mags html"
     ]
    },
    {
     "name": "stderr",
     "output_type": "stream",
     "text": [
      "\r",
      " 17%|█▋        | 161/946 [09:19<3:05:44, 14.20s/it]"
     ]
    },
    {
     "name": "stdout",
     "output_type": "stream",
     "text": [
      "\n",
      "http://www.univie.ac.at/webda/cgi-bin/frame_data_list.cgi?be017+ubvpg+ubv.pgo\n",
      "Retrieval error. Skipping be017\n",
      "be019\n",
      "be019 6\n",
      "Data retrived, starting pbsearch\n",
      "('searched for a subset of ', 6, 'Coords against 2mass list of', 9073309)"
     ]
    },
    {
     "name": "stderr",
     "output_type": "stream",
     "text": [
      "\r",
      " 17%|█▋        | 162/946 [09:23<2:26:30, 11.21s/it]"
     ]
    },
    {
     "name": "stdout",
     "output_type": "stream",
     "text": [
      "\n",
      "('Coord matches: ', 0, 'with a tolerance of ', 0.005556)\n",
      "No matches. Skipping be019\n",
      "be020\n",
      "error with parsing mags html"
     ]
    },
    {
     "name": "stderr",
     "output_type": "stream",
     "text": [
      "\r",
      " 17%|█▋        | 163/946 [09:25<1:48:42,  8.33s/it]"
     ]
    },
    {
     "name": "stdout",
     "output_type": "stream",
     "text": [
      "\n",
      "http://www.univie.ac.at/webda/cgi-bin/frame_data_list.cgi?be020+ubvpg+ubv.pgo\n",
      "Retrieval error. Skipping be020\n",
      "be021\n",
      "error with parsing coords html"
     ]
    },
    {
     "name": "stderr",
     "output_type": "stream",
     "text": [
      "\r",
      " 17%|█▋        | 164/946 [09:26<1:19:17,  6.08s/it]"
     ]
    },
    {
     "name": "stdout",
     "output_type": "stream",
     "text": [
      "\n",
      "http://www.univie.ac.at/webda/cgi-bin/frame_data_list.cgi?be021+ad2k+ad2000.coo\n",
      "Retrieval error. Skipping be021\n",
      "be022\n",
      "error with parsing mags html"
     ]
    },
    {
     "name": "stderr",
     "output_type": "stream",
     "text": [
      "\r",
      " 17%|█▋        | 165/946 [09:37<1:38:24,  7.56s/it]"
     ]
    },
    {
     "name": "stdout",
     "output_type": "stream",
     "text": [
      "\n",
      "http://www.univie.ac.at/webda/cgi-bin/frame_data_list.cgi?be022+ubvpg+ubv.pgo\n",
      "Retrieval error. Skipping be022\n",
      "be025\n",
      "error with parsing mags html"
     ]
    },
    {
     "name": "stderr",
     "output_type": "stream",
     "text": [
      "\r",
      " 18%|█▊        | 166/946 [09:42<1:30:46,  6.98s/it]"
     ]
    },
    {
     "name": "stdout",
     "output_type": "stream",
     "text": [
      "\n",
      "http://www.univie.ac.at/webda/cgi-bin/frame_data_list.cgi?be025+ubvpg+ubv.pgo\n",
      "Retrieval error. Skipping be025\n",
      "be026\n",
      "error with parsing coords html"
     ]
    },
    {
     "name": "stderr",
     "output_type": "stream",
     "text": [
      "\r",
      " 18%|█▊        | 167/946 [09:52<1:41:05,  7.79s/it]"
     ]
    },
    {
     "name": "stdout",
     "output_type": "stream",
     "text": [
      "\n",
      "http://www.univie.ac.at/webda/cgi-bin/frame_data_list.cgi?be026+ad2k+ad2000.coo\n",
      "Retrieval error. Skipping be026\n",
      "be029\n",
      "error with parsing mags html"
     ]
    },
    {
     "name": "stderr",
     "output_type": "stream",
     "text": [
      "\r",
      " 18%|█▊        | 168/946 [10:04<1:58:19,  9.13s/it]"
     ]
    },
    {
     "name": "stdout",
     "output_type": "stream",
     "text": [
      "\n",
      "http://www.univie.ac.at/webda/cgi-bin/frame_data_list.cgi?be029+ubvpg+ubv.pgo\n",
      "Retrieval error. Skipping be029\n",
      "be032\n",
      "error with parsing mags html"
     ]
    },
    {
     "name": "stderr",
     "output_type": "stream",
     "text": [
      "\r",
      " 18%|█▊        | 169/946 [10:17<2:12:38, 10.24s/it]"
     ]
    },
    {
     "name": "stdout",
     "output_type": "stream",
     "text": [
      "\n",
      "http://www.univie.ac.at/webda/cgi-bin/frame_data_list.cgi?be032+ubvpg+ubv.pgo\n",
      "Retrieval error. Skipping be032\n",
      "be033\n",
      "error with parsing mags html"
     ]
    },
    {
     "name": "stderr",
     "output_type": "stream",
     "text": [
      "\r",
      " 18%|█▊        | 170/946 [10:19<1:38:44,  7.63s/it]"
     ]
    },
    {
     "name": "stdout",
     "output_type": "stream",
     "text": [
      "\n",
      "http://www.univie.ac.at/webda/cgi-bin/frame_data_list.cgi?be033+ubvpg+ubv.pgo\n",
      "Retrieval error. Skipping be033\n",
      "be037\n",
      "error with parsing mags html"
     ]
    },
    {
     "name": "stderr",
     "output_type": "stream",
     "text": [
      "\r",
      " 18%|█▊        | 171/946 [10:31<1:55:12,  8.92s/it]"
     ]
    },
    {
     "name": "stdout",
     "output_type": "stream",
     "text": [
      "\n",
      "http://www.univie.ac.at/webda/cgi-bin/frame_data_list.cgi?be037+ubvpg+ubv.pgo\n",
      "Retrieval error. Skipping be037\n",
      "be039\n",
      "error with parsing mags html"
     ]
    },
    {
     "name": "stderr",
     "output_type": "stream",
     "text": [
      "\r",
      " 18%|█▊        | 172/946 [10:33<1:28:04,  6.83s/it]"
     ]
    },
    {
     "name": "stdout",
     "output_type": "stream",
     "text": [
      "\n",
      "http://www.univie.ac.at/webda/cgi-bin/frame_data_list.cgi?be039+ubvpg+ubv.pgo\n",
      "Retrieval error. Skipping be039\n",
      "be043\n",
      "error with parsing mags html"
     ]
    },
    {
     "name": "stderr",
     "output_type": "stream",
     "text": [
      "\r",
      " 18%|█▊        | 173/946 [10:39<1:28:00,  6.83s/it]"
     ]
    },
    {
     "name": "stdout",
     "output_type": "stream",
     "text": [
      "\n",
      "http://www.univie.ac.at/webda/cgi-bin/frame_data_list.cgi?be043+ubvpg+ubv.pgo\n",
      "Retrieval error. Skipping be043\n",
      "be047\n",
      "error with parsing mags html"
     ]
    },
    {
     "name": "stderr",
     "output_type": "stream",
     "text": [
      "\r",
      " 18%|█▊        | 174/946 [10:44<1:20:58,  6.29s/it]"
     ]
    },
    {
     "name": "stdout",
     "output_type": "stream",
     "text": [
      "\n",
      "http://www.univie.ac.at/webda/cgi-bin/frame_data_list.cgi?be047+ubvpg+ubv.pgo\n",
      "Retrieval error. Skipping be047\n",
      "be049\n",
      "error with parsing coords html"
     ]
    },
    {
     "name": "stderr",
     "output_type": "stream",
     "text": [
      "\r",
      " 18%|█▊        | 175/946 [10:46<1:02:35,  4.87s/it]"
     ]
    },
    {
     "name": "stdout",
     "output_type": "stream",
     "text": [
      "\n",
      "http://www.univie.ac.at/webda/cgi-bin/frame_data_list.cgi?be049+ad2k+ad2000.coo\n",
      "Retrieval error. Skipping be049\n",
      "be050\n",
      "error with parsing mags html"
     ]
    },
    {
     "name": "stderr",
     "output_type": "stream",
     "text": [
      "\r",
      " 19%|█▊        | 176/946 [11:31<3:36:23, 16.86s/it]"
     ]
    },
    {
     "name": "stdout",
     "output_type": "stream",
     "text": [
      "\n",
      "http://www.univie.ac.at/webda/cgi-bin/frame_data_list.cgi?be050+ubvpg+ubv.pgo\n",
      "Retrieval error. Skipping be050\n",
      "be051\n",
      "error with parsing mags html"
     ]
    },
    {
     "name": "stderr",
     "output_type": "stream",
     "text": [
      "\r",
      " 19%|█▊        | 177/946 [11:40<3:08:01, 14.67s/it]"
     ]
    },
    {
     "name": "stdout",
     "output_type": "stream",
     "text": [
      "\n",
      "http://www.univie.ac.at/webda/cgi-bin/frame_data_list.cgi?be051+ubvpg+ubv.pgo\n",
      "Retrieval error. Skipping be051\n",
      "be053\n",
      "error with parsing mags html"
     ]
    },
    {
     "name": "stderr",
     "output_type": "stream",
     "text": [
      "\r",
      " 19%|█▉        | 178/946 [11:52<2:56:55, 13.82s/it]"
     ]
    },
    {
     "name": "stdout",
     "output_type": "stream",
     "text": [
      "\n",
      "http://www.univie.ac.at/webda/cgi-bin/frame_data_list.cgi?be053+ubvpg+ubv.pgo\n",
      "Retrieval error. Skipping be053\n",
      "be055\n",
      "error with parsing mags html"
     ]
    },
    {
     "name": "stderr",
     "output_type": "stream",
     "text": [
      "\r",
      " 19%|█▉        | 179/946 [11:58<2:24:05, 11.27s/it]"
     ]
    },
    {
     "name": "stdout",
     "output_type": "stream",
     "text": [
      "\n",
      "http://www.univie.ac.at/webda/cgi-bin/frame_data_list.cgi?be055+ubvpg+ubv.pgo\n",
      "Retrieval error. Skipping be055\n",
      "be058\n",
      "be058 173\n",
      "Data retrived, starting pbsearch\n",
      "('searched for a subset of ', 173, 'Coords against 2mass list of', 9073309)"
     ]
    },
    {
     "name": "stderr",
     "output_type": "stream",
     "text": [
      "\r",
      " 19%|█▉        | 180/946 [13:14<6:33:54, 30.85s/it]"
     ]
    },
    {
     "name": "stdout",
     "output_type": "stream",
     "text": [
      "\n",
      "('Coord matches: ', 0, 'with a tolerance of ', 0.005556)\n",
      "No matches. Skipping be058\n",
      "be059\n",
      "error with parsing mags html"
     ]
    },
    {
     "name": "stderr",
     "output_type": "stream",
     "text": [
      "\r",
      " 19%|█▉        | 181/946 [13:16<4:41:43, 22.10s/it]"
     ]
    },
    {
     "name": "stdout",
     "output_type": "stream",
     "text": [
      "\n",
      "http://www.univie.ac.at/webda/cgi-bin/frame_data_list.cgi?be059+ubvpg+ubv.pgo\n",
      "Retrieval error. Skipping be059\n",
      "be061\n",
      "error with parsing mags html"
     ]
    },
    {
     "name": "stderr",
     "output_type": "stream",
     "text": [
      "\r",
      " 19%|█▉        | 182/946 [13:31<4:14:10, 19.96s/it]"
     ]
    },
    {
     "name": "stdout",
     "output_type": "stream",
     "text": [
      "\n",
      "http://www.univie.ac.at/webda/cgi-bin/frame_data_list.cgi?be061+ubvpg+ubv.pgo\n",
      "Retrieval error. Skipping be061\n",
      "be062\n",
      "error with parsing mags html"
     ]
    },
    {
     "name": "stderr",
     "output_type": "stream",
     "text": [
      "\r",
      " 19%|█▉        | 183/946 [13:33<3:04:19, 14.50s/it]"
     ]
    },
    {
     "name": "stdout",
     "output_type": "stream",
     "text": [
      "\n",
      "http://www.univie.ac.at/webda/cgi-bin/frame_data_list.cgi?be062+ubvpg+ubv.pgo\n",
      "Retrieval error. Skipping be062\n",
      "be063\n",
      "error with parsing mags html"
     ]
    },
    {
     "name": "stderr",
     "output_type": "stream",
     "text": [
      "\r",
      " 19%|█▉        | 184/946 [13:50<3:16:24, 15.47s/it]"
     ]
    },
    {
     "name": "stdout",
     "output_type": "stream",
     "text": [
      "\n",
      "http://www.univie.ac.at/webda/cgi-bin/frame_data_list.cgi?be063+ubvpg+ubv.pgo\n",
      "Retrieval error. Skipping be063\n",
      "be067\n",
      "error with parsing mags html"
     ]
    },
    {
     "name": "stderr",
     "output_type": "stream",
     "text": [
      "\r",
      " 20%|█▉        | 185/946 [13:58<2:47:39, 13.22s/it]"
     ]
    },
    {
     "name": "stdout",
     "output_type": "stream",
     "text": [
      "\n",
      "http://www.univie.ac.at/webda/cgi-bin/frame_data_list.cgi?be067+ubvpg+ubv.pgo\n",
      "Retrieval error. Skipping be067\n",
      "be068\n",
      "error with parsing mags html"
     ]
    },
    {
     "name": "stderr",
     "output_type": "stream",
     "text": [
      "\r",
      " 20%|█▉        | 186/946 [14:01<2:06:37, 10.00s/it]"
     ]
    },
    {
     "name": "stdout",
     "output_type": "stream",
     "text": [
      "\n",
      "http://www.univie.ac.at/webda/cgi-bin/frame_data_list.cgi?be068+ubvpg+ubv.pgo\n",
      "Retrieval error. Skipping be068\n",
      "be071\n",
      "error with parsing mags html"
     ]
    },
    {
     "name": "stderr",
     "output_type": "stream",
     "text": [
      "\r",
      " 20%|█▉        | 187/946 [14:09<2:00:34,  9.53s/it]"
     ]
    },
    {
     "name": "stdout",
     "output_type": "stream",
     "text": [
      "\n",
      "http://www.univie.ac.at/webda/cgi-bin/frame_data_list.cgi?be071+ubvpg+ubv.pgo\n",
      "Retrieval error. Skipping be071\n",
      "be072\n",
      "error with parsing mags html"
     ]
    },
    {
     "name": "stderr",
     "output_type": "stream",
     "text": [
      "\r",
      " 20%|█▉        | 188/946 [14:24<2:19:32, 11.05s/it]"
     ]
    },
    {
     "name": "stdout",
     "output_type": "stream",
     "text": [
      "\n",
      "http://www.univie.ac.at/webda/cgi-bin/frame_data_list.cgi?be072+ubvpg+ubv.pgo\n",
      "Retrieval error. Skipping be072\n",
      "be075\n",
      "error with parsing mags html"
     ]
    },
    {
     "name": "stderr",
     "output_type": "stream",
     "text": [
      "\r",
      " 20%|█▉        | 189/946 [14:29<1:57:17,  9.30s/it]"
     ]
    },
    {
     "name": "stdout",
     "output_type": "stream",
     "text": [
      "\n",
      "http://www.univie.ac.at/webda/cgi-bin/frame_data_list.cgi?be075+ubvpg+ubv.pgo\n",
      "Retrieval error. Skipping be075\n",
      "be076\n",
      "error with parsing coords html"
     ]
    },
    {
     "name": "stderr",
     "output_type": "stream",
     "text": [
      "\r",
      " 20%|██        | 190/946 [14:33<1:35:24,  7.57s/it]"
     ]
    },
    {
     "name": "stdout",
     "output_type": "stream",
     "text": [
      "\n",
      "http://www.univie.ac.at/webda/cgi-bin/frame_data_list.cgi?be076+ad2k+ad2000.coo\n",
      "Retrieval error. Skipping be076\n",
      "be077\n",
      "error with parsing mags html"
     ]
    },
    {
     "name": "stderr",
     "output_type": "stream",
     "text": [
      "\r",
      " 20%|██        | 191/946 [14:43<1:44:45,  8.33s/it]"
     ]
    },
    {
     "name": "stdout",
     "output_type": "stream",
     "text": [
      "\n",
      "http://www.univie.ac.at/webda/cgi-bin/frame_data_list.cgi?be077+ubvpg+ubv.pgo\n",
      "Retrieval error. Skipping be077\n",
      "be082\n",
      "error with parsing mags html"
     ]
    },
    {
     "name": "stderr",
     "output_type": "stream",
     "text": [
      "\r",
      " 20%|██        | 192/946 [14:44<1:19:45,  6.35s/it]"
     ]
    },
    {
     "name": "stdout",
     "output_type": "stream",
     "text": [
      "\n",
      "http://www.univie.ac.at/webda/cgi-bin/frame_data_list.cgi?be082+ubvpg+ubv.pgo\n",
      "Retrieval error. Skipping be082\n",
      "be084\n",
      "error with parsing mags html"
     ]
    },
    {
     "name": "stderr",
     "output_type": "stream",
     "text": [
      "\r",
      " 20%|██        | 193/946 [15:31<3:51:16, 18.43s/it]"
     ]
    },
    {
     "name": "stdout",
     "output_type": "stream",
     "text": [
      "\n",
      "http://www.univie.ac.at/webda/cgi-bin/frame_data_list.cgi?be084+ubvpg+ubv.pgo\n",
      "Retrieval error. Skipping be084\n",
      "be085\n",
      "error with parsing mags html"
     ]
    },
    {
     "name": "stderr",
     "output_type": "stream",
     "text": [
      "\r",
      " 21%|██        | 194/946 [15:40<3:16:18, 15.66s/it]"
     ]
    },
    {
     "name": "stdout",
     "output_type": "stream",
     "text": [
      "\n",
      "http://www.univie.ac.at/webda/cgi-bin/frame_data_list.cgi?be085+ubvpg+ubv.pgo\n",
      "Retrieval error. Skipping be085\n",
      "be086\n",
      "error with parsing mags html"
     ]
    },
    {
     "name": "stderr",
     "output_type": "stream",
     "text": [
      "\r",
      " 21%|██        | 195/946 [15:43<2:28:28, 11.86s/it]"
     ]
    },
    {
     "name": "stdout",
     "output_type": "stream",
     "text": [
      "\n",
      "http://www.univie.ac.at/webda/cgi-bin/frame_data_list.cgi?be086+ubvpg+ubv.pgo\n",
      "Retrieval error. Skipping be086\n",
      "be087\n",
      "be087 65\n",
      "Data retrived, starting pbsearch\n",
      "('searched for a subset of ', 65, 'Coords against 2mass list of', 9073309)"
     ]
    },
    {
     "name": "stderr",
     "output_type": "stream",
     "text": [
      "\r",
      " 21%|██        | 196/946 [16:12<3:32:38, 17.01s/it]"
     ]
    },
    {
     "name": "stdout",
     "output_type": "stream",
     "text": [
      "\n",
      "('Coord matches: ', 0, 'with a tolerance of ', 0.005556)\n",
      "No matches. Skipping be087\n",
      "be089\n",
      "error with parsing mags html"
     ]
    },
    {
     "name": "stderr",
     "output_type": "stream",
     "text": [
      "\r",
      " 21%|██        | 197/946 [16:18<2:49:17, 13.56s/it]"
     ]
    },
    {
     "name": "stdout",
     "output_type": "stream",
     "text": [
      "\n",
      "http://www.univie.ac.at/webda/cgi-bin/frame_data_list.cgi?be089+ubvpg+ubv.pgo\n",
      "Retrieval error. Skipping be089\n",
      "be090\n",
      "error with parsing mags html"
     ]
    },
    {
     "name": "stderr",
     "output_type": "stream",
     "text": [
      "\r",
      " 21%|██        | 198/946 [16:42<3:30:00, 16.85s/it]"
     ]
    },
    {
     "name": "stdout",
     "output_type": "stream",
     "text": [
      "\n",
      "http://www.univie.ac.at/webda/cgi-bin/frame_data_list.cgi?be090+ubvpg+ubv.pgo\n",
      "Retrieval error. Skipping be090\n",
      "be091\n",
      "error with parsing mags html"
     ]
    },
    {
     "name": "stderr",
     "output_type": "stream",
     "text": [
      "\r",
      " 21%|██        | 199/946 [16:50<2:54:43, 14.03s/it]"
     ]
    },
    {
     "name": "stdout",
     "output_type": "stream",
     "text": [
      "\n",
      "http://www.univie.ac.at/webda/cgi-bin/frame_data_list.cgi?be091+ubvpg+ubv.pgo\n",
      "Retrieval error. Skipping be091\n",
      "be093\n",
      "error with parsing mags html"
     ]
    },
    {
     "name": "stderr",
     "output_type": "stream",
     "text": [
      "\r",
      " 21%|██        | 200/946 [16:53<2:12:56, 10.69s/it]"
     ]
    },
    {
     "name": "stdout",
     "output_type": "stream",
     "text": [
      "\n",
      "http://www.univie.ac.at/webda/cgi-bin/frame_data_list.cgi?be093+ubvpg+ubv.pgo\n",
      "Retrieval error. Skipping be093\n",
      "be094\n",
      "error with parsing mags html"
     ]
    },
    {
     "name": "stderr",
     "output_type": "stream",
     "text": [
      "\r",
      " 21%|██        | 201/946 [16:54<1:39:50,  8.04s/it]"
     ]
    },
    {
     "name": "stdout",
     "output_type": "stream",
     "text": [
      "\n",
      "http://www.univie.ac.at/webda/cgi-bin/frame_data_list.cgi?be094+ubvpg+ubv.pgo\n",
      "Retrieval error. Skipping be094\n",
      "be095\n",
      "error with parsing mags html"
     ]
    },
    {
     "name": "stderr",
     "output_type": "stream",
     "text": [
      "\r",
      " 21%|██▏       | 202/946 [17:20<2:43:32, 13.19s/it]"
     ]
    },
    {
     "name": "stdout",
     "output_type": "stream",
     "text": [
      "\n",
      "http://www.univie.ac.at/webda/cgi-bin/frame_data_list.cgi?be095+ubvpg+ubv.pgo\n",
      "Retrieval error. Skipping be095\n",
      "be096\n",
      "error with parsing mags html"
     ]
    },
    {
     "name": "stderr",
     "output_type": "stream",
     "text": [
      "\r",
      " 21%|██▏       | 203/946 [17:21<1:59:57,  9.69s/it]"
     ]
    },
    {
     "name": "stdout",
     "output_type": "stream",
     "text": [
      "\n",
      "http://www.univie.ac.at/webda/cgi-bin/frame_data_list.cgi?be096+ubvpg+ubv.pgo\n",
      "Retrieval error. Skipping be096\n",
      "be097\n",
      "error with parsing coords html"
     ]
    },
    {
     "name": "stderr",
     "output_type": "stream",
     "text": [
      "\r",
      " 22%|██▏       | 204/946 [17:29<1:53:11,  9.15s/it]"
     ]
    },
    {
     "name": "stdout",
     "output_type": "stream",
     "text": [
      "\n",
      "http://www.univie.ac.at/webda/cgi-bin/frame_data_list.cgi?be097+ad2k+ad2000.coo\n",
      "Retrieval error. Skipping be097\n",
      "be098\n",
      "error with parsing mags html"
     ]
    },
    {
     "name": "stderr",
     "output_type": "stream",
     "text": [
      "\r",
      " 22%|██▏       | 205/946 [17:44<2:14:54, 10.92s/it]"
     ]
    },
    {
     "name": "stdout",
     "output_type": "stream",
     "text": [
      "\n",
      "http://www.univie.ac.at/webda/cgi-bin/frame_data_list.cgi?be098+ubvpg+ubv.pgo\n",
      "Retrieval error. Skipping be098\n",
      "be100\n",
      "error with parsing coords html"
     ]
    },
    {
     "name": "stderr",
     "output_type": "stream",
     "text": [
      "\r",
      " 22%|██▏       | 206/946 [17:48<1:47:52,  8.75s/it]"
     ]
    },
    {
     "name": "stdout",
     "output_type": "stream",
     "text": [
      "\n",
      "http://www.univie.ac.at/webda/cgi-bin/frame_data_list.cgi?be100+ad2k+ad2000.coo\n",
      "Retrieval error. Skipping be100\n",
      "be101\n",
      "error with parsing coords html"
     ]
    },
    {
     "name": "stderr",
     "output_type": "stream",
     "text": [
      "\r",
      " 22%|██▏       | 207/946 [17:53<1:35:40,  7.77s/it]"
     ]
    },
    {
     "name": "stdout",
     "output_type": "stream",
     "text": [
      "\n",
      "http://www.univie.ac.at/webda/cgi-bin/frame_data_list.cgi?be101+ad2k+ad2000.coo\n",
      "Retrieval error. Skipping be101\n",
      "be102\n",
      "error with parsing mags html"
     ]
    },
    {
     "name": "stderr",
     "output_type": "stream",
     "text": [
      "\r",
      " 22%|██▏       | 208/946 [19:49<8:13:58, 40.16s/it]"
     ]
    },
    {
     "name": "stdout",
     "output_type": "stream",
     "text": [
      "\n",
      "http://www.univie.ac.at/webda/cgi-bin/frame_data_list.cgi?be102+ubvpg+ubv.pgo\n",
      "Retrieval error. Skipping be102\n",
      "be103\n",
      "error with parsing mags html"
     ]
    },
    {
     "name": "stderr",
     "output_type": "stream",
     "text": [
      "\r",
      " 22%|██▏       | 209/946 [20:06<6:49:20, 33.32s/it]"
     ]
    },
    {
     "name": "stdout",
     "output_type": "stream",
     "text": [
      "\n",
      "http://www.univie.ac.at/webda/cgi-bin/frame_data_list.cgi?be103+ubvpg+ubv.pgo\n",
      "Retrieval error. Skipping be103\n",
      "bh023\n",
      "error with parsing mags html"
     ]
    },
    {
     "name": "stderr",
     "output_type": "stream",
     "text": [
      "\r",
      " 22%|██▏       | 210/946 [20:08<4:52:41, 23.86s/it]"
     ]
    },
    {
     "name": "stdout",
     "output_type": "stream",
     "text": [
      "\n",
      "http://www.univie.ac.at/webda/cgi-bin/frame_data_list.cgi?bh023+ubvpg+ubv.pgo\n",
      "Retrieval error. Skipping bh023\n",
      "bh034\n",
      "error with parsing mags html"
     ]
    },
    {
     "name": "stderr",
     "output_type": "stream",
     "text": [
      "\r",
      " 22%|██▏       | 211/946 [20:10<3:30:41, 17.20s/it]"
     ]
    },
    {
     "name": "stdout",
     "output_type": "stream",
     "text": [
      "\n",
      "http://www.univie.ac.at/webda/cgi-bin/frame_data_list.cgi?bh034+ubvpg+ubv.pgo\n",
      "Retrieval error. Skipping bh034\n",
      "bh047\n",
      "error with parsing coords html"
     ]
    },
    {
     "name": "stderr",
     "output_type": "stream",
     "text": [
      "\r",
      " 22%|██▏       | 212/946 [20:13<2:37:51, 12.90s/it]"
     ]
    },
    {
     "name": "stdout",
     "output_type": "stream",
     "text": [
      "\n",
      "http://www.univie.ac.at/webda/cgi-bin/frame_data_list.cgi?bh047+ad2k+ad2000.coo\n",
      "Retrieval error. Skipping bh047\n",
      "bh056\n",
      "error with parsing mags html"
     ]
    },
    {
     "name": "stderr",
     "output_type": "stream",
     "text": [
      "\r",
      " 23%|██▎       | 213/946 [20:15<1:57:10,  9.59s/it]"
     ]
    },
    {
     "name": "stdout",
     "output_type": "stream",
     "text": [
      "\n",
      "http://www.univie.ac.at/webda/cgi-bin/frame_data_list.cgi?bh056+ubvpg+ubv.pgo\n",
      "Retrieval error. Skipping bh056\n",
      "bh063\n",
      "error with parsing mags html"
     ]
    },
    {
     "name": "stderr",
     "output_type": "stream",
     "text": [
      "\r",
      " 23%|██▎       | 214/946 [20:17<1:30:56,  7.45s/it]"
     ]
    },
    {
     "name": "stdout",
     "output_type": "stream",
     "text": [
      "\n",
      "http://www.univie.ac.at/webda/cgi-bin/frame_data_list.cgi?bh063+ubvpg+ubv.pgo\n",
      "Retrieval error. Skipping bh063\n",
      "bh066\n",
      "error with parsing coords html"
     ]
    },
    {
     "name": "stderr",
     "output_type": "stream",
     "text": [
      "\r",
      " 23%|██▎       | 215/946 [20:18<1:06:20,  5.45s/it]"
     ]
    },
    {
     "name": "stdout",
     "output_type": "stream",
     "text": [
      "\n",
      "http://www.univie.ac.at/webda/cgi-bin/frame_data_list.cgi?bh066+ad2k+ad2000.coo\n",
      "Retrieval error. Skipping bh066\n",
      "bh067\n",
      "error with parsing mags html"
     ]
    },
    {
     "name": "stderr",
     "output_type": "stream",
     "text": [
      "\r",
      " 23%|██▎       | 216/946 [21:17<4:23:30, 21.66s/it]"
     ]
    },
    {
     "name": "stdout",
     "output_type": "stream",
     "text": [
      "\n",
      "http://www.univie.ac.at/webda/cgi-bin/frame_data_list.cgi?bh067+ubvpg+ubv.pgo\n",
      "Retrieval error. Skipping bh067\n",
      "bh091\n",
      "error with parsing mags html"
     ]
    },
    {
     "name": "stderr",
     "output_type": "stream",
     "text": [
      "\r",
      " 23%|██▎       | 217/946 [21:19<3:10:36, 15.69s/it]"
     ]
    },
    {
     "name": "stdout",
     "output_type": "stream",
     "text": [
      "\n",
      "http://www.univie.ac.at/webda/cgi-bin/frame_data_list.cgi?bh091+ubvpg+ubv.pgo\n",
      "Retrieval error. Skipping bh091\n",
      "bh099\n",
      "error with parsing mags html"
     ]
    },
    {
     "name": "stderr",
     "output_type": "stream",
     "text": [
      "\r",
      " 23%|██▎       | 218/946 [21:21<2:20:02, 11.54s/it]"
     ]
    },
    {
     "name": "stdout",
     "output_type": "stream",
     "text": [
      "\n",
      "http://www.univie.ac.at/webda/cgi-bin/frame_data_list.cgi?bh099+ubvpg+ubv.pgo\n",
      "Retrieval error. Skipping bh099\n",
      "bh111\n",
      "error with parsing mags html"
     ]
    },
    {
     "name": "stderr",
     "output_type": "stream",
     "text": [
      "\r",
      " 23%|██▎       | 219/946 [21:23<1:44:00,  8.58s/it]"
     ]
    },
    {
     "name": "stdout",
     "output_type": "stream",
     "text": [
      "\n",
      "http://www.univie.ac.at/webda/cgi-bin/frame_data_list.cgi?bh111+ubvpg+ubv.pgo\n",
      "Retrieval error. Skipping bh111\n",
      "bh121\n",
      "error with parsing mags html"
     ]
    },
    {
     "name": "stderr",
     "output_type": "stream",
     "text": [
      "\r",
      " 23%|██▎       | 220/946 [21:25<1:19:46,  6.59s/it]"
     ]
    },
    {
     "name": "stdout",
     "output_type": "stream",
     "text": [
      "\n",
      "http://www.univie.ac.at/webda/cgi-bin/frame_data_list.cgi?bh121+ubvpg+ubv.pgo\n",
      "Retrieval error. Skipping bh121\n",
      "bh144\n",
      "error with parsing mags html"
     ]
    },
    {
     "name": "stderr",
     "output_type": "stream",
     "text": [
      "\r",
      " 23%|██▎       | 221/946 [21:32<1:21:45,  6.77s/it]"
     ]
    },
    {
     "name": "stdout",
     "output_type": "stream",
     "text": [
      "\n",
      "http://www.univie.ac.at/webda/cgi-bin/frame_data_list.cgi?bh144+ubvpg+ubv.pgo\n",
      "Retrieval error. Skipping bh144\n",
      "bh164\n",
      "error with parsing mags html"
     ]
    },
    {
     "name": "stderr",
     "output_type": "stream",
     "text": [
      "\r",
      " 23%|██▎       | 222/946 [21:34<1:05:17,  5.41s/it]"
     ]
    },
    {
     "name": "stdout",
     "output_type": "stream",
     "text": [
      "\n",
      "http://www.univie.ac.at/webda/cgi-bin/frame_data_list.cgi?bh164+ubvpg+ubv.pgo\n",
      "Retrieval error. Skipping bh164\n",
      "bh205\n",
      "error with parsing mags html"
     ]
    },
    {
     "name": "stderr",
     "output_type": "stream",
     "text": [
      "\r",
      " 24%|██▎       | 223/946 [21:35<51:11,  4.25s/it]  "
     ]
    },
    {
     "name": "stdout",
     "output_type": "stream",
     "text": [
      "\n",
      "http://www.univie.ac.at/webda/cgi-bin/frame_data_list.cgi?bh205+ubvpg+ubv.pgo\n",
      "Retrieval error. Skipping bh205\n",
      "bh217\n",
      "error with parsing mags html"
     ]
    },
    {
     "name": "stderr",
     "output_type": "stream",
     "text": [
      "\r",
      " 24%|██▎       | 224/946 [21:40<50:56,  4.23s/it]"
     ]
    },
    {
     "name": "stdout",
     "output_type": "stream",
     "text": [
      "\n",
      "http://www.univie.ac.at/webda/cgi-bin/frame_data_list.cgi?bh217+ubvpg+ubv.pgo\n",
      "Retrieval error. Skipping bh217\n",
      "bh221\n",
      "error with parsing mags html"
     ]
    },
    {
     "name": "stderr",
     "output_type": "stream",
     "text": [
      "\r",
      " 24%|██▍       | 225/946 [21:43<46:19,  3.85s/it]"
     ]
    },
    {
     "name": "stdout",
     "output_type": "stream",
     "text": [
      "\n",
      "http://www.univie.ac.at/webda/cgi-bin/frame_data_list.cgi?bh221+ubvpg+ubv.pgo\n",
      "Retrieval error. Skipping bh221\n",
      "biu01\n",
      "error with parsing mags html"
     ]
    },
    {
     "name": "stderr",
     "output_type": "stream",
     "text": [
      "\r",
      " 24%|██▍       | 226/946 [21:45<39:23,  3.28s/it]"
     ]
    },
    {
     "name": "stdout",
     "output_type": "stream",
     "text": [
      "\n",
      "http://www.univie.ac.at/webda/cgi-bin/frame_data_list.cgi?biu01+ubvpg+ubv.pgo\n",
      "Retrieval error. Skipping biu01\n",
      "biu02\n",
      "error with parsing coords html"
     ]
    },
    {
     "name": "stderr",
     "output_type": "stream",
     "text": [
      "\r",
      " 24%|██▍       | 227/946 [21:46<32:20,  2.70s/it]"
     ]
    },
    {
     "name": "stdout",
     "output_type": "stream",
     "text": [
      "\n",
      "http://www.univie.ac.at/webda/cgi-bin/frame_data_list.cgi?biu02+ad2k+ad2000.coo\n",
      "Retrieval error. Skipping biu02\n",
      "bl01\n",
      "bl01 58\n",
      "Data retrived, starting pbsearch\n",
      "('searched for a subset of ', 54, 'Coords against 2mass list of', 9073309)"
     ]
    },
    {
     "name": "stderr",
     "output_type": "stream",
     "text": [
      "\r",
      " 24%|██▍       | 228/946 [22:11<1:51:57,  9.36s/it]"
     ]
    },
    {
     "name": "stdout",
     "output_type": "stream",
     "text": [
      "\n",
      "('Coord matches: ', 1, 'with a tolerance of ', 0.005556)\n",
      "bl01 had no repeats\n",
      "bl01 had error with histogram\n",
      "bo02\n",
      "error with parsing mags html"
     ]
    },
    {
     "name": "stderr",
     "output_type": "stream",
     "text": [
      "\r",
      " 24%|██▍       | 229/946 [22:12<1:23:44,  7.01s/it]"
     ]
    },
    {
     "name": "stdout",
     "output_type": "stream",
     "text": [
      "\n",
      "http://www.univie.ac.at/webda/cgi-bin/frame_data_list.cgi?bo02+ubvpg+ubv.pgo\n",
      "Retrieval error. Skipping bo02\n",
      "bo03\n",
      "error with parsing mags html"
     ]
    },
    {
     "name": "stderr",
     "output_type": "stream",
     "text": [
      "\r",
      " 24%|██▍       | 230/946 [22:14<1:04:23,  5.40s/it]"
     ]
    },
    {
     "name": "stdout",
     "output_type": "stream",
     "text": [
      "\n",
      "http://www.univie.ac.at/webda/cgi-bin/frame_data_list.cgi?bo03+ubvpg+ubv.pgo\n",
      "Retrieval error. Skipping bo03\n",
      "bo04\n",
      "error with parsing mags html"
     ]
    },
    {
     "name": "stderr",
     "output_type": "stream",
     "text": [
      "\r",
      " 24%|██▍       | 231/946 [22:16<51:13,  4.30s/it]  "
     ]
    },
    {
     "name": "stdout",
     "output_type": "stream",
     "text": [
      "\n",
      "http://www.univie.ac.at/webda/cgi-bin/frame_data_list.cgi?bo04+ubvpg+ubv.pgo\n",
      "Retrieval error. Skipping bo04\n",
      "bo07\n",
      "error with parsing mags html"
     ]
    },
    {
     "name": "stderr",
     "output_type": "stream",
     "text": [
      "\r",
      " 25%|██▍       | 232/946 [22:26<1:13:05,  6.14s/it]"
     ]
    },
    {
     "name": "stdout",
     "output_type": "stream",
     "text": [
      "\n",
      "http://www.univie.ac.at/webda/cgi-bin/frame_data_list.cgi?bo07+ubvpg+ubv.pgo\n",
      "Retrieval error. Skipping bo07\n",
      "bo08\n",
      "error with parsing mags html"
     ]
    },
    {
     "name": "stderr",
     "output_type": "stream",
     "text": [
      "\r",
      " 25%|██▍       | 233/946 [22:28<56:34,  4.76s/it]  "
     ]
    },
    {
     "name": "stdout",
     "output_type": "stream",
     "text": [
      "\n",
      "http://www.univie.ac.at/webda/cgi-bin/frame_data_list.cgi?bo08+ubvpg+ubv.pgo\n",
      "Retrieval error. Skipping bo08\n",
      "bo09\n",
      "error with parsing mags html"
     ]
    },
    {
     "name": "stderr",
     "output_type": "stream",
     "text": [
      "\r",
      " 25%|██▍       | 234/946 [22:29<45:46,  3.86s/it]"
     ]
    },
    {
     "name": "stdout",
     "output_type": "stream",
     "text": [
      "\n",
      "http://www.univie.ac.at/webda/cgi-bin/frame_data_list.cgi?bo09+ubvpg+ubv.pgo\n",
      "Retrieval error. Skipping bo09\n",
      "bo10\n",
      "error with parsing mags html"
     ]
    },
    {
     "name": "stderr",
     "output_type": "stream",
     "text": [
      "\r",
      " 25%|██▍       | 235/946 [22:31<37:50,  3.19s/it]"
     ]
    },
    {
     "name": "stdout",
     "output_type": "stream",
     "text": [
      "\n",
      "http://www.univie.ac.at/webda/cgi-bin/frame_data_list.cgi?bo10+ubvpg+ubv.pgo\n",
      "Retrieval error. Skipping bo10\n",
      "bo11\n",
      "error with parsing mags html"
     ]
    },
    {
     "name": "stderr",
     "output_type": "stream",
     "text": [
      "\r",
      " 25%|██▍       | 236/946 [22:33<31:45,  2.68s/it]"
     ]
    },
    {
     "name": "stdout",
     "output_type": "stream",
     "text": [
      "\n",
      "http://www.univie.ac.at/webda/cgi-bin/frame_data_list.cgi?bo11+ubvpg+ubv.pgo\n",
      "Retrieval error. Skipping bo11\n",
      "bo12\n",
      "error with parsing mags html"
     ]
    },
    {
     "name": "stderr",
     "output_type": "stream",
     "text": [
      "\r",
      " 25%|██▌       | 237/946 [22:34<27:28,  2.32s/it]"
     ]
    },
    {
     "name": "stdout",
     "output_type": "stream",
     "text": [
      "\n",
      "http://www.univie.ac.at/webda/cgi-bin/frame_data_list.cgi?bo12+ubvpg+ubv.pgo\n",
      "Retrieval error. Skipping bo12\n",
      "bo13\n",
      "error with parsing mags html"
     ]
    },
    {
     "name": "stderr",
     "output_type": "stream",
     "text": [
      "\r",
      " 25%|██▌       | 238/946 [22:36<25:33,  2.17s/it]"
     ]
    },
    {
     "name": "stdout",
     "output_type": "stream",
     "text": [
      "\n",
      "http://www.univie.ac.at/webda/cgi-bin/frame_data_list.cgi?bo13+ubvpg+ubv.pgo\n",
      "Retrieval error. Skipping bo13\n",
      "bo14\n",
      "error with parsing mags html"
     ]
    },
    {
     "name": "stderr",
     "output_type": "stream",
     "text": [
      "\r",
      " 25%|██▌       | 239/946 [22:37<23:02,  1.96s/it]"
     ]
    },
    {
     "name": "stdout",
     "output_type": "stream",
     "text": [
      "\n",
      "http://www.univie.ac.at/webda/cgi-bin/frame_data_list.cgi?bo14+ubvpg+ubv.pgo\n",
      "Retrieval error. Skipping bo14\n",
      "bo15\n",
      "bo15 3\n",
      "Data retrived, starting pbsearch\n",
      "('searched for a subset of ', 3, 'Coords against 2mass list of', 9073309)"
     ]
    },
    {
     "name": "stderr",
     "output_type": "stream",
     "text": [
      "\r",
      " 25%|██▌       | 240/946 [22:40<26:30,  2.25s/it]"
     ]
    },
    {
     "name": "stdout",
     "output_type": "stream",
     "text": [
      "\n",
      "('Coord matches: ', 1, 'with a tolerance of ', 0.005556)\n",
      "bo15 had no repeats\n",
      "bo15 had error with histogram\n",
      "cr021\n",
      "error with parsing mags html"
     ]
    },
    {
     "name": "stderr",
     "output_type": "stream",
     "text": [
      "\r",
      " 25%|██▌       | 241/946 [22:42<23:54,  2.03s/it]"
     ]
    },
    {
     "name": "stdout",
     "output_type": "stream",
     "text": [
      "\n",
      "http://www.univie.ac.at/webda/cgi-bin/frame_data_list.cgi?cr021+ubvpg+ubv.pgo\n",
      "Retrieval error. Skipping cr021\n",
      "cr033\n",
      "error with parsing mags html"
     ]
    },
    {
     "name": "stderr",
     "output_type": "stream",
     "text": [
      "\r",
      " 26%|██▌       | 242/946 [22:44<25:03,  2.14s/it]"
     ]
    },
    {
     "name": "stdout",
     "output_type": "stream",
     "text": [
      "\n",
      "http://www.univie.ac.at/webda/cgi-bin/frame_data_list.cgi?cr033+ubvpg+ubv.pgo\n",
      "Retrieval error. Skipping cr033\n",
      "cr065\n",
      "error with parsing mags html"
     ]
    },
    {
     "name": "stderr",
     "output_type": "stream",
     "text": [
      "\r",
      " 26%|██▌       | 243/946 [22:52<43:27,  3.71s/it]"
     ]
    },
    {
     "name": "stdout",
     "output_type": "stream",
     "text": [
      "\n",
      "http://www.univie.ac.at/webda/cgi-bin/frame_data_list.cgi?cr065+ubvpg+ubv.pgo\n",
      "Retrieval error. Skipping cr065\n",
      "cr069\n",
      "error with parsing mags html"
     ]
    },
    {
     "name": "stderr",
     "output_type": "stream",
     "text": [
      "\r",
      " 26%|██▌       | 244/946 [22:56<47:44,  4.08s/it]"
     ]
    },
    {
     "name": "stdout",
     "output_type": "stream",
     "text": [
      "\n",
      "http://www.univie.ac.at/webda/cgi-bin/frame_data_list.cgi?cr069+ubvpg+ubv.pgo\n",
      "Retrieval error. Skipping cr069\n",
      "cr070\n",
      "error with parsing mags html"
     ]
    },
    {
     "name": "stderr",
     "output_type": "stream",
     "text": [
      "\r",
      " 26%|██▌       | 245/946 [23:01<50:15,  4.30s/it]"
     ]
    },
    {
     "name": "stdout",
     "output_type": "stream",
     "text": [
      "\n",
      "http://www.univie.ac.at/webda/cgi-bin/frame_data_list.cgi?cr070+ubvpg+ubv.pgo\n",
      "Retrieval error. Skipping cr070\n",
      "cr089\n",
      "error with parsing mags html"
     ]
    },
    {
     "name": "stderr",
     "output_type": "stream",
     "text": [
      "\r",
      " 26%|██▌       | 246/946 [23:04<43:17,  3.71s/it]"
     ]
    },
    {
     "name": "stdout",
     "output_type": "stream",
     "text": [
      "\n",
      "http://www.univie.ac.at/webda/cgi-bin/frame_data_list.cgi?cr089+ubvpg+ubv.pgo\n",
      "Retrieval error. Skipping cr089\n",
      "cr095\n",
      "error with parsing mags html"
     ]
    },
    {
     "name": "stderr",
     "output_type": "stream",
     "text": [
      "\r",
      " 26%|██▌       | 247/946 [23:06<37:03,  3.18s/it]"
     ]
    },
    {
     "name": "stdout",
     "output_type": "stream",
     "text": [
      "\n",
      "http://www.univie.ac.at/webda/cgi-bin/frame_data_list.cgi?cr095+ubvpg+ubv.pgo\n",
      "Retrieval error. Skipping cr095\n",
      "cr096\n",
      "error with parsing mags html"
     ]
    },
    {
     "name": "stderr",
     "output_type": "stream",
     "text": [
      "\r",
      " 26%|██▌       | 248/946 [23:07<31:56,  2.75s/it]"
     ]
    },
    {
     "name": "stdout",
     "output_type": "stream",
     "text": [
      "\n",
      "http://www.univie.ac.at/webda/cgi-bin/frame_data_list.cgi?cr096+ubvpg+ubv.pgo\n",
      "Retrieval error. Skipping cr096\n",
      "cr097\n",
      "cr097 9\n",
      "Data retrived, starting pbsearch\n",
      "('searched for a subset of ', 9, 'Coords against 2mass list of', 9073309)"
     ]
    },
    {
     "name": "stderr",
     "output_type": "stream",
     "text": [
      "\r",
      " 26%|██▋       | 249/946 [23:13<42:12,  3.63s/it]"
     ]
    },
    {
     "name": "stdout",
     "output_type": "stream",
     "text": [
      "\n",
      "('Coord matches: ', 0, 'with a tolerance of ', 0.005556)\n",
      "No matches. Skipping cr097\n",
      "cr106\n",
      "error with parsing mags html"
     ]
    },
    {
     "name": "stderr",
     "output_type": "stream",
     "text": [
      "\r",
      " 26%|██▋       | 250/946 [23:15<36:57,  3.19s/it]"
     ]
    },
    {
     "name": "stdout",
     "output_type": "stream",
     "text": [
      "\n",
      "http://www.univie.ac.at/webda/cgi-bin/frame_data_list.cgi?cr106+ubvpg+ubv.pgo\n",
      "Retrieval error. Skipping cr106\n",
      "cr107\n",
      "cr107 44\n",
      "Data retrived, starting pbsearch\n",
      "('searched for a subset of ', 44, 'Coords against 2mass list of', 9073309)"
     ]
    },
    {
     "name": "stderr",
     "output_type": "stream",
     "text": [
      "\r",
      " 27%|██▋       | 251/946 [23:35<1:35:33,  8.25s/it]"
     ]
    },
    {
     "name": "stdout",
     "output_type": "stream",
     "text": [
      "\n",
      "('Coord matches: ', 0, 'with a tolerance of ', 0.005556)\n",
      "No matches. Skipping cr107\n",
      "cr110\n",
      "error with parsing coords html"
     ]
    },
    {
     "name": "stderr",
     "output_type": "stream",
     "text": [
      "\r",
      " 27%|██▋       | 252/946 [23:37<1:12:45,  6.29s/it]"
     ]
    },
    {
     "name": "stdout",
     "output_type": "stream",
     "text": [
      "\n",
      "http://www.univie.ac.at/webda/cgi-bin/frame_data_list.cgi?cr110+ad2k+ad2000.coo\n",
      "Retrieval error. Skipping cr110\n",
      "cr132\n",
      "error with parsing mags html"
     ]
    },
    {
     "name": "stderr",
     "output_type": "stream",
     "text": [
      "\r",
      " 27%|██▋       | 253/946 [23:39<56:46,  4.92s/it]  "
     ]
    },
    {
     "name": "stdout",
     "output_type": "stream",
     "text": [
      "\n",
      "http://www.univie.ac.at/webda/cgi-bin/frame_data_list.cgi?cr132+ubvpg+ubv.pgo\n",
      "Retrieval error. Skipping cr132\n",
      "cr135\n",
      "error with parsing mags html"
     ]
    },
    {
     "name": "stderr",
     "output_type": "stream",
     "text": [
      "\r",
      " 27%|██▋       | 254/946 [23:41<48:11,  4.18s/it]"
     ]
    },
    {
     "name": "stdout",
     "output_type": "stream",
     "text": [
      "\n",
      "http://www.univie.ac.at/webda/cgi-bin/frame_data_list.cgi?cr135+ubvpg+ubv.pgo\n",
      "Retrieval error. Skipping cr135\n",
      "cr140\n",
      "error with parsing mags html"
     ]
    },
    {
     "name": "stderr",
     "output_type": "stream",
     "text": [
      "\r",
      " 27%|██▋       | 255/946 [23:43<39:22,  3.42s/it]"
     ]
    },
    {
     "name": "stdout",
     "output_type": "stream",
     "text": [
      "\n",
      "http://www.univie.ac.at/webda/cgi-bin/frame_data_list.cgi?cr140+ubvpg+ubv.pgo\n",
      "Retrieval error. Skipping cr140\n",
      "cr185\n",
      "cr185 74\n",
      "Data retrived, starting pbsearch\n",
      "('searched for a subset of ', 74, 'Coords against 2mass list of', 9073309)"
     ]
    },
    {
     "name": "stderr",
     "output_type": "stream",
     "text": [
      "\r",
      " 27%|██▋       | 256/946 [24:16<2:20:41, 12.23s/it]"
     ]
    },
    {
     "name": "stdout",
     "output_type": "stream",
     "text": [
      "\n",
      "('Coord matches: ', 0, 'with a tolerance of ', 0.005556)\n",
      "No matches. Skipping cr185\n",
      "cr197\n",
      "error with parsing mags html"
     ]
    },
    {
     "name": "stderr",
     "output_type": "stream",
     "text": [
      "\r",
      " 27%|██▋       | 257/946 [24:17<1:44:10,  9.07s/it]"
     ]
    },
    {
     "name": "stdout",
     "output_type": "stream",
     "text": [
      "\n",
      "http://www.univie.ac.at/webda/cgi-bin/frame_data_list.cgi?cr197+ubvpg+ubv.pgo\n",
      "Retrieval error. Skipping cr197\n",
      "cr205\n",
      "error with parsing mags html"
     ]
    },
    {
     "name": "stderr",
     "output_type": "stream",
     "text": [
      "\r",
      " 27%|██▋       | 258/946 [24:19<1:18:48,  6.87s/it]"
     ]
    },
    {
     "name": "stdout",
     "output_type": "stream",
     "text": [
      "\n",
      "http://www.univie.ac.at/webda/cgi-bin/frame_data_list.cgi?cr205+ubvpg+ubv.pgo\n",
      "Retrieval error. Skipping cr205\n",
      "cr213\n",
      "error with parsing mags html"
     ]
    },
    {
     "name": "stderr",
     "output_type": "stream",
     "text": [
      "\r",
      " 27%|██▋       | 259/946 [24:21<1:01:04,  5.33s/it]"
     ]
    },
    {
     "name": "stdout",
     "output_type": "stream",
     "text": [
      "\n",
      "http://www.univie.ac.at/webda/cgi-bin/frame_data_list.cgi?cr213+ubvpg+ubv.pgo\n",
      "Retrieval error. Skipping cr213\n",
      "cr223\n",
      "error with parsing mags html"
     ]
    },
    {
     "name": "stderr",
     "output_type": "stream",
     "text": [
      "\r",
      " 27%|██▋       | 260/946 [24:23<50:15,  4.40s/it]  "
     ]
    },
    {
     "name": "stdout",
     "output_type": "stream",
     "text": [
      "\n",
      "http://www.univie.ac.at/webda/cgi-bin/frame_data_list.cgi?cr223+ubvpg+ubv.pgo\n",
      "Retrieval error. Skipping cr223\n",
      "cr228\n",
      "error with parsing coords html"
     ]
    },
    {
     "name": "stderr",
     "output_type": "stream",
     "text": [
      "\r",
      " 28%|██▊       | 261/946 [24:42<1:39:48,  8.74s/it]"
     ]
    },
    {
     "name": "stdout",
     "output_type": "stream",
     "text": [
      "\n",
      "http://www.univie.ac.at/webda/cgi-bin/frame_data_list.cgi?cr228+ad2k+ad2000.coo\n",
      "Retrieval error. Skipping cr228\n",
      "cr236\n",
      "error with parsing mags html"
     ]
    },
    {
     "name": "stderr",
     "output_type": "stream",
     "text": [
      "\r",
      " 28%|██▊       | 262/946 [24:44<1:16:05,  6.67s/it]"
     ]
    },
    {
     "name": "stdout",
     "output_type": "stream",
     "text": [
      "\n",
      "http://www.univie.ac.at/webda/cgi-bin/frame_data_list.cgi?cr236+ubvpg+ubv.pgo\n",
      "Retrieval error. Skipping cr236\n",
      "cr258\n",
      "error with parsing mags html"
     ]
    },
    {
     "name": "stderr",
     "output_type": "stream",
     "text": [
      "\r",
      " 28%|██▊       | 263/946 [24:46<59:33,  5.23s/it]  "
     ]
    },
    {
     "name": "stdout",
     "output_type": "stream",
     "text": [
      "\n",
      "http://www.univie.ac.at/webda/cgi-bin/frame_data_list.cgi?cr258+ubvpg+ubv.pgo\n",
      "Retrieval error. Skipping cr258\n",
      "cr261\n",
      "error with parsing mags html"
     ]
    },
    {
     "name": "stderr",
     "output_type": "stream",
     "text": [
      "\r",
      " 28%|██▊       | 264/946 [24:47<47:42,  4.20s/it]"
     ]
    },
    {
     "name": "stdout",
     "output_type": "stream",
     "text": [
      "\n",
      "http://www.univie.ac.at/webda/cgi-bin/frame_data_list.cgi?cr261+ubvpg+ubv.pgo\n",
      "Retrieval error. Skipping cr261\n",
      "cr268\n",
      "error with parsing mags html"
     ]
    },
    {
     "name": "stderr",
     "output_type": "stream",
     "text": [
      "\r",
      " 28%|██▊       | 265/946 [24:49<38:29,  3.39s/it]"
     ]
    },
    {
     "name": "stdout",
     "output_type": "stream",
     "text": [
      "\n",
      "http://www.univie.ac.at/webda/cgi-bin/frame_data_list.cgi?cr268+ubvpg+ubv.pgo\n",
      "Retrieval error. Skipping cr268\n",
      "cr269\n",
      "error with parsing mags html"
     ]
    },
    {
     "name": "stderr",
     "output_type": "stream",
     "text": [
      "\r",
      " 28%|██▊       | 266/946 [24:50<32:20,  2.85s/it]"
     ]
    },
    {
     "name": "stdout",
     "output_type": "stream",
     "text": [
      "\n",
      "http://www.univie.ac.at/webda/cgi-bin/frame_data_list.cgi?cr269+ubvpg+ubv.pgo\n",
      "Retrieval error. Skipping cr269\n",
      "cr271\n",
      "error with parsing mags html"
     ]
    },
    {
     "name": "stderr",
     "output_type": "stream",
     "text": [
      "\r",
      " 28%|██▊       | 267/946 [24:52<27:43,  2.45s/it]"
     ]
    },
    {
     "name": "stdout",
     "output_type": "stream",
     "text": [
      "\n",
      "http://www.univie.ac.at/webda/cgi-bin/frame_data_list.cgi?cr271+ubvpg+ubv.pgo\n",
      "Retrieval error. Skipping cr271\n",
      "cr272\n",
      "error with parsing mags html"
     ]
    },
    {
     "name": "stderr",
     "output_type": "stream",
     "text": [
      "\r",
      " 28%|██▊       | 268/946 [24:58<41:32,  3.68s/it]"
     ]
    },
    {
     "name": "stdout",
     "output_type": "stream",
     "text": [
      "\n",
      "http://www.univie.ac.at/webda/cgi-bin/frame_data_list.cgi?cr272+ubvpg+ubv.pgo\n",
      "Retrieval error. Skipping cr272\n",
      "cr292\n",
      "error with parsing mags html"
     ]
    },
    {
     "name": "stderr",
     "output_type": "stream",
     "text": [
      "\r",
      " 28%|██▊       | 269/946 [25:00<35:00,  3.10s/it]"
     ]
    },
    {
     "name": "stdout",
     "output_type": "stream",
     "text": [
      "\n",
      "http://www.univie.ac.at/webda/cgi-bin/frame_data_list.cgi?cr292+ubvpg+ubv.pgo\n",
      "Retrieval error. Skipping cr292\n",
      "cr307\n",
      "error with parsing mags html"
     ]
    },
    {
     "name": "stderr",
     "output_type": "stream",
     "text": [
      "\r",
      " 29%|██▊       | 270/946 [25:02<30:03,  2.67s/it]"
     ]
    },
    {
     "name": "stdout",
     "output_type": "stream",
     "text": [
      "\n",
      "http://www.univie.ac.at/webda/cgi-bin/frame_data_list.cgi?cr307+ubvpg+ubv.pgo\n",
      "Retrieval error. Skipping cr307\n",
      "cr333\n",
      "error with parsing mags html"
     ]
    },
    {
     "name": "stderr",
     "output_type": "stream",
     "text": [
      "\r",
      " 29%|██▊       | 271/946 [25:04<26:32,  2.36s/it]"
     ]
    },
    {
     "name": "stdout",
     "output_type": "stream",
     "text": [
      "\n",
      "http://www.univie.ac.at/webda/cgi-bin/frame_data_list.cgi?cr333+ubvpg+ubv.pgo\n",
      "Retrieval error. Skipping cr333\n",
      "cr338\n",
      "error with parsing mags html"
     ]
    },
    {
     "name": "stderr",
     "output_type": "stream",
     "text": [
      "\r",
      " 29%|██▉       | 272/946 [25:05<24:45,  2.20s/it]"
     ]
    },
    {
     "name": "stdout",
     "output_type": "stream",
     "text": [
      "\n",
      "http://www.univie.ac.at/webda/cgi-bin/frame_data_list.cgi?cr338+ubvpg+ubv.pgo\n",
      "Retrieval error. Skipping cr338\n",
      "cr347\n",
      "error with parsing mags html"
     ]
    },
    {
     "name": "stderr",
     "output_type": "stream",
     "text": [
      "\r",
      " 29%|██▉       | 273/946 [25:07<22:49,  2.03s/it]"
     ]
    },
    {
     "name": "stdout",
     "output_type": "stream",
     "text": [
      "\n",
      "http://www.univie.ac.at/webda/cgi-bin/frame_data_list.cgi?cr347+ubvpg+ubv.pgo\n",
      "Retrieval error. Skipping cr347\n",
      "cr350\n",
      "error with parsing mags html"
     ]
    },
    {
     "name": "stderr",
     "output_type": "stream",
     "text": [
      "\r",
      " 29%|██▉       | 274/946 [25:09<22:50,  2.04s/it]"
     ]
    },
    {
     "name": "stdout",
     "output_type": "stream",
     "text": [
      "\n",
      "http://www.univie.ac.at/webda/cgi-bin/frame_data_list.cgi?cr350+ubvpg+ubv.pgo\n",
      "Retrieval error. Skipping cr350\n",
      "cr351\n",
      "error with parsing mags html"
     ]
    },
    {
     "name": "stderr",
     "output_type": "stream",
     "text": [
      "\r",
      " 29%|██▉       | 275/946 [25:32<1:33:15,  8.34s/it]"
     ]
    },
    {
     "name": "stdout",
     "output_type": "stream",
     "text": [
      "\n",
      "http://www.univie.ac.at/webda/cgi-bin/frame_data_list.cgi?cr351+ubvpg+ubv.pgo\n",
      "Retrieval error. Skipping cr351\n",
      "cr359\n",
      "error with parsing mags html"
     ]
    },
    {
     "name": "stderr",
     "output_type": "stream",
     "text": [
      "\r",
      " 29%|██▉       | 276/946 [25:37<1:20:52,  7.24s/it]"
     ]
    },
    {
     "name": "stdout",
     "output_type": "stream",
     "text": [
      "\n",
      "http://www.univie.ac.at/webda/cgi-bin/frame_data_list.cgi?cr359+ubvpg+ubv.pgo\n",
      "Retrieval error. Skipping cr359\n",
      "cr367\n",
      "error with parsing mags html"
     ]
    },
    {
     "name": "stderr",
     "output_type": "stream",
     "text": [
      "\r",
      " 29%|██▉       | 277/946 [25:39<1:04:32,  5.79s/it]"
     ]
    },
    {
     "name": "stdout",
     "output_type": "stream",
     "text": [
      "\n",
      "http://www.univie.ac.at/webda/cgi-bin/frame_data_list.cgi?cr367+ubvpg+ubv.pgo\n",
      "Retrieval error. Skipping cr367\n",
      "cr394\n",
      "cr394"
     ]
    },
    {
     "name": "stderr",
     "output_type": "stream",
     "text": [
      "\r",
      " 29%|██▉       | 278/946 [25:41<52:47,  4.74s/it]  "
     ]
    },
    {
     "name": "stdout",
     "output_type": "stream",
     "text": [
      " 0\n",
      "Data retrived, starting pbsearch\n",
      "('searched for a subset of ', 0, 'Coords against 2mass list of', 9073309)\n",
      "('Coord matches: ', 0, 'with a tolerance of ', 0.005556)\n",
      "No matches. Skipping cr394\n",
      "cr419\n",
      "error with parsing mags html"
     ]
    },
    {
     "name": "stderr",
     "output_type": "stream",
     "text": [
      "\r",
      " 29%|██▉       | 279/946 [25:43<43:11,  3.88s/it]"
     ]
    },
    {
     "name": "stdout",
     "output_type": "stream",
     "text": [
      "\n",
      "http://www.univie.ac.at/webda/cgi-bin/frame_data_list.cgi?cr419+ubvpg+ubv.pgo\n",
      "Retrieval error. Skipping cr419\n",
      "cr421\n",
      "error with parsing mags html"
     ]
    },
    {
     "name": "stderr",
     "output_type": "stream",
     "text": [
      "\r",
      " 30%|██▉       | 280/946 [25:50<53:05,  4.78s/it]"
     ]
    },
    {
     "name": "stdout",
     "output_type": "stream",
     "text": [
      "\n",
      "http://www.univie.ac.at/webda/cgi-bin/frame_data_list.cgi?cr421+ubvpg+ubv.pgo\n",
      "Retrieval error. Skipping cr421\n",
      "cr463\n",
      "error with parsing mags html"
     ]
    },
    {
     "name": "stderr",
     "output_type": "stream",
     "text": [
      "\r",
      " 30%|██▉       | 281/946 [25:53<44:52,  4.05s/it]"
     ]
    },
    {
     "name": "stdout",
     "output_type": "stream",
     "text": [
      "\n",
      "http://www.univie.ac.at/webda/cgi-bin/frame_data_list.cgi?cr463+ubvpg+ubv.pgo\n",
      "Retrieval error. Skipping cr463\n",
      "cz02\n",
      "error with parsing mags html"
     ]
    },
    {
     "name": "stderr",
     "output_type": "stream",
     "text": [
      "\r",
      " 30%|██▉       | 282/946 [27:52<7:06:52, 38.57s/it]"
     ]
    },
    {
     "name": "stdout",
     "output_type": "stream",
     "text": [
      "\n",
      "http://www.univie.ac.at/webda/cgi-bin/frame_data_list.cgi?cz02+ubvpg+ubv.pgo\n",
      "Retrieval error. Skipping cz02\n",
      "cz05\n",
      "error with parsing mags html"
     ]
    },
    {
     "name": "stderr",
     "output_type": "stream",
     "text": [
      "\r",
      " 30%|██▉       | 283/946 [28:27<6:54:48, 37.54s/it]"
     ]
    },
    {
     "name": "stdout",
     "output_type": "stream",
     "text": [
      "\n",
      "http://www.univie.ac.at/webda/cgi-bin/frame_data_list.cgi?cz05+ubvpg+ubv.pgo\n",
      "Retrieval error. Skipping cz05\n",
      "cz09\n",
      "error with parsing mags html"
     ]
    },
    {
     "name": "stderr",
     "output_type": "stream",
     "text": [
      "\r",
      " 30%|███       | 284/946 [28:30<4:59:46, 27.17s/it]"
     ]
    },
    {
     "name": "stdout",
     "output_type": "stream",
     "text": [
      "\n",
      "http://www.univie.ac.at/webda/cgi-bin/frame_data_list.cgi?cz09+ubvpg+ubv.pgo\n",
      "Retrieval error. Skipping cz09\n",
      "cz16\n",
      "error with parsing mags html"
     ]
    },
    {
     "name": "stderr",
     "output_type": "stream",
     "text": [
      "\r",
      " 30%|███       | 285/946 [29:19<6:10:49, 33.66s/it]"
     ]
    },
    {
     "name": "stdout",
     "output_type": "stream",
     "text": [
      "\n",
      "http://www.univie.ac.at/webda/cgi-bin/frame_data_list.cgi?cz16+ubvpg+ubv.pgo\n",
      "Retrieval error. Skipping cz16\n",
      "cz19\n",
      "error with parsing mags html"
     ]
    },
    {
     "name": "stderr",
     "output_type": "stream",
     "text": [
      "\r",
      " 30%|███       | 286/946 [29:26<4:42:33, 25.69s/it]"
     ]
    },
    {
     "name": "stdout",
     "output_type": "stream",
     "text": [
      "\n",
      "http://www.univie.ac.at/webda/cgi-bin/frame_data_list.cgi?cz19+ubvpg+ubv.pgo\n",
      "Retrieval error. Skipping cz19\n",
      "cz21\n",
      "error with parsing mags html"
     ]
    },
    {
     "name": "stderr",
     "output_type": "stream",
     "text": [
      "\r",
      " 30%|███       | 287/946 [29:39<4:00:22, 21.89s/it]"
     ]
    },
    {
     "name": "stdout",
     "output_type": "stream",
     "text": [
      "\n",
      "http://www.univie.ac.at/webda/cgi-bin/frame_data_list.cgi?cz21+ubvpg+ubv.pgo\n",
      "Retrieval error. Skipping cz21\n",
      "cz29\n",
      "cz29 34\n",
      "Data retrived, starting pbsearch\n",
      "('searched for a subset of ', 17, 'Coords against 2mass list of', 9073309)"
     ]
    },
    {
     "name": "stderr",
     "output_type": "stream",
     "text": [
      "\r",
      " 30%|███       | 288/946 [29:57<3:47:30, 20.75s/it]"
     ]
    },
    {
     "name": "stdout",
     "output_type": "stream",
     "text": [
      "\n",
      "('Coord matches: ', 0, 'with a tolerance of ', 0.005556)\n",
      "No matches. Skipping cz29\n",
      "cz37\n",
      "error with parsing mags html"
     ]
    },
    {
     "name": "stderr",
     "output_type": "stream",
     "text": [
      "\r",
      " 31%|███       | 289/946 [30:01<2:52:30, 15.75s/it]"
     ]
    },
    {
     "name": "stdout",
     "output_type": "stream",
     "text": [
      "\n",
      "http://www.univie.ac.at/webda/cgi-bin/frame_data_list.cgi?cz37+ubvpg+ubv.pgo\n",
      "Retrieval error. Skipping cz37\n",
      "cz38\n",
      "error with parsing mags html"
     ]
    },
    {
     "name": "stderr",
     "output_type": "stream",
     "text": [
      "\r",
      " 31%|███       | 290/946 [30:14<2:42:14, 14.84s/it]"
     ]
    },
    {
     "name": "stdout",
     "output_type": "stream",
     "text": [
      "\n",
      "http://www.univie.ac.at/webda/cgi-bin/frame_data_list.cgi?cz38+ubvpg+ubv.pgo\n",
      "Retrieval error. Skipping cz38\n",
      "cz40\n",
      "error with parsing mags html"
     ]
    },
    {
     "name": "stderr",
     "output_type": "stream",
     "text": [
      "\r",
      " 31%|███       | 291/946 [30:30<2:48:02, 15.39s/it]"
     ]
    },
    {
     "name": "stdout",
     "output_type": "stream",
     "text": [
      "\n",
      "http://www.univie.ac.at/webda/cgi-bin/frame_data_list.cgi?cz40+ubvpg+ubv.pgo\n",
      "Retrieval error. Skipping cz40\n",
      "cz41\n",
      "error with parsing mags html"
     ]
    },
    {
     "name": "stderr",
     "output_type": "stream",
     "text": [
      "\r",
      " 31%|███       | 292/946 [30:37<2:17:47, 12.64s/it]"
     ]
    },
    {
     "name": "stdout",
     "output_type": "stream",
     "text": [
      "\n",
      "http://www.univie.ac.at/webda/cgi-bin/frame_data_list.cgi?cz41+ubvpg+ubv.pgo\n",
      "Retrieval error. Skipping cz41\n",
      "cz43\n",
      "error with parsing mags html"
     ]
    },
    {
     "name": "stderr",
     "output_type": "stream",
     "text": [
      "\r",
      " 31%|███       | 293/946 [32:51<8:56:05, 49.26s/it]"
     ]
    },
    {
     "name": "stdout",
     "output_type": "stream",
     "text": [
      "\n",
      "http://www.univie.ac.at/webda/cgi-bin/frame_data_list.cgi?cz43+ubvpg+ubv.pgo\n",
      "Retrieval error. Skipping cz43\n",
      "cz44\n",
      "error with parsing mags html"
     ]
    },
    {
     "name": "stderr",
     "output_type": "stream",
     "text": [
      "\r",
      " 31%|███       | 294/946 [34:26<11:23:47, 62.93s/it]"
     ]
    },
    {
     "name": "stdout",
     "output_type": "stream",
     "text": [
      "\n",
      "http://www.univie.ac.at/webda/cgi-bin/frame_data_list.cgi?cz44+ubvpg+ubv.pgo\n",
      "Retrieval error. Skipping cz44\n",
      "dias01\n",
      "error with parsing mags html"
     ]
    },
    {
     "name": "stderr",
     "output_type": "stream",
     "text": [
      "\r",
      " 31%|███       | 295/946 [34:30<8:12:14, 45.37s/it] "
     ]
    },
    {
     "name": "stdout",
     "output_type": "stream",
     "text": [
      "\n",
      "http://www.univie.ac.at/webda/cgi-bin/frame_data_list.cgi?dias01+ubvpg+ubv.pgo\n",
      "Retrieval error. Skipping dias01\n",
      "dias02\n",
      "error with parsing mags html"
     ]
    },
    {
     "name": "stderr",
     "output_type": "stream",
     "text": [
      "\r",
      " 31%|███▏      | 296/946 [34:41<6:18:18, 34.92s/it]"
     ]
    },
    {
     "name": "stdout",
     "output_type": "stream",
     "text": [
      "\n",
      "http://www.univie.ac.at/webda/cgi-bin/frame_data_list.cgi?dias02+ubvpg+ubv.pgo\n",
      "Retrieval error. Skipping dias02\n",
      "dias03\n",
      "error with parsing mags html"
     ]
    },
    {
     "name": "stderr",
     "output_type": "stream",
     "text": [
      "\r",
      " 31%|███▏      | 297/946 [34:56<5:14:09, 29.04s/it]"
     ]
    },
    {
     "name": "stdout",
     "output_type": "stream",
     "text": [
      "\n",
      "http://www.univie.ac.at/webda/cgi-bin/frame_data_list.cgi?dias03+ubvpg+ubv.pgo\n",
      "Retrieval error. Skipping dias03\n",
      "dias04\n",
      "error with parsing coords html"
     ]
    },
    {
     "name": "stderr",
     "output_type": "stream",
     "text": [
      "\r",
      " 32%|███▏      | 298/946 [35:42<6:06:45, 33.96s/it]"
     ]
    },
    {
     "name": "stdout",
     "output_type": "stream",
     "text": [
      "\n",
      "http://www.univie.ac.at/webda/cgi-bin/frame_data_list.cgi?dias04+ad2k+ad2000.coo\n",
      "Retrieval error. Skipping dias04\n",
      "dias05\n",
      "error with parsing mags html"
     ]
    },
    {
     "name": "stderr",
     "output_type": "stream",
     "text": [
      "\r",
      " 32%|███▏      | 299/946 [35:43<4:21:15, 24.23s/it]"
     ]
    },
    {
     "name": "stdout",
     "output_type": "stream",
     "text": [
      "\n",
      "http://www.univie.ac.at/webda/cgi-bin/frame_data_list.cgi?dias05+ubvpg+ubv.pgo\n",
      "Retrieval error. Skipping dias05\n",
      "dias06\n",
      "error with parsing coords html"
     ]
    },
    {
     "name": "stderr",
     "output_type": "stream",
     "text": [
      "\r",
      " 32%|███▏      | 300/946 [35:45<3:08:07, 17.47s/it]"
     ]
    },
    {
     "name": "stdout",
     "output_type": "stream",
     "text": [
      "\n",
      "http://www.univie.ac.at/webda/cgi-bin/frame_data_list.cgi?dias06+ad2k+ad2000.coo\n",
      "Retrieval error. Skipping dias06\n",
      "dias07\n",
      "error with parsing mags html"
     ]
    },
    {
     "name": "stderr",
     "output_type": "stream",
     "text": [
      "\r",
      " 32%|███▏      | 301/946 [36:30<4:35:25, 25.62s/it]"
     ]
    },
    {
     "name": "stdout",
     "output_type": "stream",
     "text": [
      "\n",
      "http://www.univie.ac.at/webda/cgi-bin/frame_data_list.cgi?dias07+ubvpg+ubv.pgo\n",
      "Retrieval error. Skipping dias07\n",
      "dias08\n",
      "error with parsing coords html"
     ]
    },
    {
     "name": "stderr",
     "output_type": "stream",
     "text": [
      "\r",
      " 32%|███▏      | 302/946 [36:41<3:49:48, 21.41s/it]"
     ]
    },
    {
     "name": "stdout",
     "output_type": "stream",
     "text": [
      "\n",
      "http://www.univie.ac.at/webda/cgi-bin/frame_data_list.cgi?dias08+ad2k+ad2000.coo\n",
      "Retrieval error. Skipping dias08\n",
      "do25\n",
      "error with parsing mags html"
     ]
    },
    {
     "name": "stderr",
     "output_type": "stream",
     "text": [
      "\r",
      " 32%|███▏      | 303/946 [36:43<2:46:14, 15.51s/it]"
     ]
    },
    {
     "name": "stdout",
     "output_type": "stream",
     "text": [
      "\n",
      "http://www.univie.ac.at/webda/cgi-bin/frame_data_list.cgi?do25+ubvpg+ubv.pgo\n",
      "Retrieval error. Skipping do25\n",
      "do36\n",
      "error with parsing mags html"
     ]
    },
    {
     "name": "stderr",
     "output_type": "stream",
     "text": [
      "\r",
      " 32%|███▏      | 304/946 [36:45<2:01:50, 11.39s/it]"
     ]
    },
    {
     "name": "stdout",
     "output_type": "stream",
     "text": [
      "\n",
      "http://www.univie.ac.at/webda/cgi-bin/frame_data_list.cgi?do36+ubvpg+ubv.pgo\n",
      "Retrieval error. Skipping do36\n",
      "do38\n",
      "error with parsing mags html"
     ]
    },
    {
     "name": "stderr",
     "output_type": "stream",
     "text": [
      "\r",
      " 32%|███▏      | 305/946 [36:46<1:30:39,  8.49s/it]"
     ]
    },
    {
     "name": "stdout",
     "output_type": "stream",
     "text": [
      "\n",
      "http://www.univie.ac.at/webda/cgi-bin/frame_data_list.cgi?do38+ubvpg+ubv.pgo\n",
      "Retrieval error. Skipping do38\n",
      "do39\n",
      "error with parsing mags html"
     ]
    },
    {
     "name": "stderr",
     "output_type": "stream",
     "text": [
      "\r",
      " 32%|███▏      | 306/946 [38:53<7:48:44, 43.95s/it]"
     ]
    },
    {
     "name": "stdout",
     "output_type": "stream",
     "text": [
      "\n",
      "http://www.univie.ac.at/webda/cgi-bin/frame_data_list.cgi?do39+ubvpg+ubv.pgo\n",
      "Retrieval error. Skipping do39\n",
      "do42\n",
      "error with parsing mags html"
     ]
    },
    {
     "name": "stderr",
     "output_type": "stream",
     "text": [
      "\r",
      " 32%|███▏      | 307/946 [38:55<5:33:27, 31.31s/it]"
     ]
    },
    {
     "name": "stdout",
     "output_type": "stream",
     "text": [
      "\n",
      "http://www.univie.ac.at/webda/cgi-bin/frame_data_list.cgi?do42+ubvpg+ubv.pgo\n",
      "Retrieval error. Skipping do42\n",
      "eso062sc11\n",
      "error with parsing mags html"
     ]
    },
    {
     "name": "stderr",
     "output_type": "stream",
     "text": [
      "\r",
      " 33%|███▎      | 308/946 [38:56<3:57:58, 22.38s/it]"
     ]
    },
    {
     "name": "stdout",
     "output_type": "stream",
     "text": [
      "\n",
      "http://www.univie.ac.at/webda/cgi-bin/frame_data_list.cgi?eso062sc11+ubvpg+ubv.pgo\n",
      "Retrieval error. Skipping eso062sc11\n",
      "eso123sc26\n",
      "error with parsing mags html"
     ]
    },
    {
     "name": "stderr",
     "output_type": "stream",
     "text": [
      "\r",
      " 33%|███▎      | 309/946 [38:58<2:51:51, 16.19s/it]"
     ]
    },
    {
     "name": "stdout",
     "output_type": "stream",
     "text": [
      "\n",
      "http://www.univie.ac.at/webda/cgi-bin/frame_data_list.cgi?eso123sc26+ubvpg+ubv.pgo\n",
      "Retrieval error. Skipping eso123sc26\n",
      "eso128sc16\n",
      "error with parsing mags html"
     ]
    },
    {
     "name": "stderr",
     "output_type": "stream",
     "text": [
      "\r",
      " 33%|███▎      | 310/946 [39:00<2:05:58, 11.88s/it]"
     ]
    },
    {
     "name": "stdout",
     "output_type": "stream",
     "text": [
      "\n",
      "http://www.univie.ac.at/webda/cgi-bin/frame_data_list.cgi?eso128sc16+ubvpg+ubv.pgo\n",
      "Retrieval error. Skipping eso128sc16\n",
      "eso130sc06\n",
      "error with parsing mags html"
     ]
    },
    {
     "name": "stderr",
     "output_type": "stream",
     "text": [
      "\r",
      " 33%|███▎      | 311/946 [39:02<1:33:53,  8.87s/it]"
     ]
    },
    {
     "name": "stdout",
     "output_type": "stream",
     "text": [
      "\n",
      "http://www.univie.ac.at/webda/cgi-bin/frame_data_list.cgi?eso130sc06+ubvpg+ubv.pgo\n",
      "Retrieval error. Skipping eso130sc06\n",
      "eso130sc08\n",
      "error with parsing mags html"
     ]
    },
    {
     "name": "stderr",
     "output_type": "stream",
     "text": [
      "\r",
      " 33%|███▎      | 312/946 [39:04<1:11:47,  6.79s/it]"
     ]
    },
    {
     "name": "stdout",
     "output_type": "stream",
     "text": [
      "\n",
      "http://www.univie.ac.at/webda/cgi-bin/frame_data_list.cgi?eso130sc08+ubvpg+ubv.pgo\n",
      "Retrieval error. Skipping eso130sc08\n",
      "eso139sc13\n",
      "error with parsing mags html"
     ]
    },
    {
     "name": "stderr",
     "output_type": "stream",
     "text": [
      "\r",
      " 33%|███▎      | 313/946 [39:07<58:36,  5.55s/it]  "
     ]
    },
    {
     "name": "stdout",
     "output_type": "stream",
     "text": [
      "\n",
      "http://www.univie.ac.at/webda/cgi-bin/frame_data_list.cgi?eso139sc13+ubvpg+ubv.pgo\n",
      "Retrieval error. Skipping eso139sc13\n",
      "eso165sc09\n",
      "error with parsing mags html"
     ]
    },
    {
     "name": "stderr",
     "output_type": "stream",
     "text": [
      "\r",
      " 33%|███▎      | 314/946 [39:08<46:27,  4.41s/it]"
     ]
    },
    {
     "name": "stdout",
     "output_type": "stream",
     "text": [
      "\n",
      "http://www.univie.ac.at/webda/cgi-bin/frame_data_list.cgi?eso165sc09+ubvpg+ubv.pgo\n",
      "Retrieval error. Skipping eso165sc09\n",
      "eso166sc04\n",
      "error with parsing mags html"
     ]
    },
    {
     "name": "stderr",
     "output_type": "stream",
     "text": [
      "\r",
      " 33%|███▎      | 315/946 [39:10<37:41,  3.58s/it]"
     ]
    },
    {
     "name": "stdout",
     "output_type": "stream",
     "text": [
      "\n",
      "http://www.univie.ac.at/webda/cgi-bin/frame_data_list.cgi?eso166sc04+ubvpg+ubv.pgo\n",
      "Retrieval error. Skipping eso166sc04\n",
      "eso175sc06\n",
      "error with parsing mags html"
     ]
    },
    {
     "name": "stderr",
     "output_type": "stream",
     "text": [
      "\r",
      " 33%|███▎      | 316/946 [39:12<31:46,  3.03s/it]"
     ]
    },
    {
     "name": "stdout",
     "output_type": "stream",
     "text": [
      "\n",
      "http://www.univie.ac.at/webda/cgi-bin/frame_data_list.cgi?eso175sc06+ubvpg+ubv.pgo\n",
      "Retrieval error. Skipping eso175sc06\n",
      "eso332sc08\n",
      "error with parsing mags html"
     ]
    },
    {
     "name": "stderr",
     "output_type": "stream",
     "text": [
      "\r",
      " 34%|███▎      | 317/946 [39:13<27:40,  2.64s/it]"
     ]
    },
    {
     "name": "stdout",
     "output_type": "stream",
     "text": [
      "\n",
      "http://www.univie.ac.at/webda/cgi-bin/frame_data_list.cgi?eso332sc08+ubvpg+ubv.pgo\n",
      "Retrieval error. Skipping eso332sc08\n",
      "eso430sc18\n",
      "error with parsing mags html"
     ]
    },
    {
     "name": "stderr",
     "output_type": "stream",
     "text": [
      "\r",
      " 34%|███▎      | 318/946 [39:15<24:45,  2.37s/it]"
     ]
    },
    {
     "name": "stdout",
     "output_type": "stream",
     "text": [
      "\n",
      "http://www.univie.ac.at/webda/cgi-bin/frame_data_list.cgi?eso430sc18+ubvpg+ubv.pgo\n",
      "Retrieval error. Skipping eso430sc18\n",
      "eso493sc03\n",
      "error with parsing mags html"
     ]
    },
    {
     "name": "stderr",
     "output_type": "stream",
     "text": [
      "\r",
      " 34%|███▎      | 319/946 [39:17<22:11,  2.12s/it]"
     ]
    },
    {
     "name": "stdout",
     "output_type": "stream",
     "text": [
      "\n",
      "http://www.univie.ac.at/webda/cgi-bin/frame_data_list.cgi?eso493sc03+ubvpg+ubv.pgo\n",
      "Retrieval error. Skipping eso493sc03\n",
      "eso521sc38\n",
      "error with parsing mags html"
     ]
    },
    {
     "name": "stderr",
     "output_type": "stream",
     "text": [
      "\r",
      " 34%|███▍      | 320/946 [39:18<20:15,  1.94s/it]"
     ]
    },
    {
     "name": "stdout",
     "output_type": "stream",
     "text": [
      "\n",
      "http://www.univie.ac.at/webda/cgi-bin/frame_data_list.cgi?eso521sc38+ubvpg+ubv.pgo\n",
      "Retrieval error. Skipping eso521sc38\n",
      "eso522sc05\n",
      "error with parsing mags html"
     ]
    },
    {
     "name": "stderr",
     "output_type": "stream",
     "text": [
      "\r",
      " 34%|███▍      | 321/946 [39:23<27:46,  2.67s/it]"
     ]
    },
    {
     "name": "stdout",
     "output_type": "stream",
     "text": [
      "\n",
      "http://www.univie.ac.at/webda/cgi-bin/frame_data_list.cgi?eso522sc05+ubvpg+ubv.pgo\n",
      "Retrieval error. Skipping eso522sc05\n",
      "eso524sc01\n",
      "error with parsing mags html"
     ]
    },
    {
     "name": "stderr",
     "output_type": "stream",
     "text": [
      "\r",
      " 34%|███▍      | 322/946 [39:25<28:10,  2.71s/it]"
     ]
    },
    {
     "name": "stdout",
     "output_type": "stream",
     "text": [
      "\n",
      "http://www.univie.ac.at/webda/cgi-bin/frame_data_list.cgi?eso524sc01+ubvpg+ubv.pgo\n",
      "Retrieval error. Skipping eso524sc01\n",
      "eso525sc08\n",
      "error with parsing coords html"
     ]
    },
    {
     "name": "stderr",
     "output_type": "stream",
     "text": [
      "\r",
      " 34%|███▍      | 323/946 [39:26<22:20,  2.15s/it]"
     ]
    },
    {
     "name": "stdout",
     "output_type": "stream",
     "text": [
      "\n",
      "http://www.univie.ac.at/webda/cgi-bin/frame_data_list.cgi?eso525sc08+ad2k+ad2000.coo\n",
      "Retrieval error. Skipping eso525sc08\n",
      "fei01\n",
      "error with parsing mags html"
     ]
    },
    {
     "name": "stderr",
     "output_type": "stream",
     "text": [
      "\r",
      " 34%|███▍      | 324/946 [39:29<23:52,  2.30s/it]"
     ]
    },
    {
     "name": "stdout",
     "output_type": "stream",
     "text": [
      "\n",
      "http://www.univie.ac.at/webda/cgi-bin/frame_data_list.cgi?fei01+ubvpg+ubv.pgo\n",
      "Retrieval error. Skipping fei01\n",
      "fro01\n",
      "error with parsing mags html"
     ]
    },
    {
     "name": "stderr",
     "output_type": "stream",
     "text": [
      "\r",
      " 34%|███▍      | 325/946 [39:31<22:03,  2.13s/it]"
     ]
    },
    {
     "name": "stdout",
     "output_type": "stream",
     "text": [
      "\n",
      "http://www.univie.ac.at/webda/cgi-bin/frame_data_list.cgi?fro01+ubvpg+ubv.pgo\n",
      "Retrieval error. Skipping fro01\n",
      "gar01\n",
      "error with parsing mags html"
     ]
    },
    {
     "name": "stderr",
     "output_type": "stream",
     "text": [
      "\r",
      " 34%|███▍      | 326/946 [39:36<33:40,  3.26s/it]"
     ]
    },
    {
     "name": "stdout",
     "output_type": "stream",
     "text": [
      "\n",
      "http://www.univie.ac.at/webda/cgi-bin/frame_data_list.cgi?gar01+ubvpg+ubv.pgo\n",
      "Retrieval error. Skipping gar01\n",
      "ha20\n",
      "error with parsing mags html"
     ]
    },
    {
     "name": "stderr",
     "output_type": "stream",
     "text": [
      "\r",
      " 35%|███▍      | 327/946 [39:38<28:57,  2.81s/it]"
     ]
    },
    {
     "name": "stdout",
     "output_type": "stream",
     "text": [
      "\n",
      "http://www.univie.ac.at/webda/cgi-bin/frame_data_list.cgi?ha20+ubvpg+ubv.pgo\n",
      "Retrieval error. Skipping ha20\n",
      "haf04\n",
      "error with parsing coords html"
     ]
    },
    {
     "name": "stderr",
     "output_type": "stream",
     "text": [
      "\r",
      " 35%|███▍      | 328/946 [39:45<40:15,  3.91s/it]"
     ]
    },
    {
     "name": "stdout",
     "output_type": "stream",
     "text": [
      "\n",
      "http://www.univie.ac.at/webda/cgi-bin/frame_data_list.cgi?haf04+ad2k+ad2000.coo\n",
      "Retrieval error. Skipping haf04\n",
      "haf06\n",
      "haf06 9\n",
      "Data retrived, starting pbsearch\n",
      "('searched for a subset of ', 9, 'Coords against 2mass list of', 9073309)"
     ]
    },
    {
     "name": "stderr",
     "output_type": "stream",
     "text": [
      "\r",
      " 35%|███▍      | 329/946 [39:50<45:13,  4.40s/it]"
     ]
    },
    {
     "name": "stdout",
     "output_type": "stream",
     "text": [
      "\n",
      "('Coord matches: ', 0, 'with a tolerance of ', 0.005556)\n",
      "No matches. Skipping haf06\n",
      "haf07\n",
      "error with parsing coords html"
     ]
    },
    {
     "name": "stderr",
     "output_type": "stream",
     "text": [
      "\r",
      " 35%|███▍      | 330/946 [40:12<1:39:56,  9.74s/it]"
     ]
    },
    {
     "name": "stdout",
     "output_type": "stream",
     "text": [
      "\n",
      "http://www.univie.ac.at/webda/cgi-bin/frame_data_list.cgi?haf07+ad2k+ad2000.coo\n",
      "Retrieval error. Skipping haf07\n",
      "haf08\n",
      "haf08 12\n",
      "Data retrived, starting pbsearch\n",
      "('searched for a subset of ', 12, 'Coords against 2mass list of', 9073309)"
     ]
    },
    {
     "name": "stderr",
     "output_type": "stream",
     "text": [
      "\r",
      " 35%|███▍      | 331/946 [40:19<1:30:21,  8.82s/it]"
     ]
    },
    {
     "name": "stdout",
     "output_type": "stream",
     "text": [
      "\n",
      "('Coord matches: ', 0, 'with a tolerance of ', 0.005556)\n",
      "No matches. Skipping haf08\n",
      "haf09\n",
      "error with parsing coords html"
     ]
    },
    {
     "name": "stderr",
     "output_type": "stream",
     "text": [
      "\r",
      " 35%|███▌      | 332/946 [40:22<1:13:02,  7.14s/it]"
     ]
    },
    {
     "name": "stdout",
     "output_type": "stream",
     "text": [
      "\n",
      "http://www.univie.ac.at/webda/cgi-bin/frame_data_list.cgi?haf09+ad2k+ad2000.coo\n",
      "Retrieval error. Skipping haf09\n",
      "haf10\n",
      "haf10 12\n",
      "Data retrived, starting pbsearch\n",
      "('searched for a subset of ', 6, 'Coords against 2mass list of', 9073309)"
     ]
    },
    {
     "name": "stderr",
     "output_type": "stream",
     "text": [
      "\r",
      " 35%|███▌      | 333/946 [40:36<1:31:47,  8.99s/it]"
     ]
    },
    {
     "name": "stdout",
     "output_type": "stream",
     "text": [
      "\n",
      "('Coord matches: ', 0, 'with a tolerance of ', 0.005556)\n",
      "No matches. Skipping haf10\n",
      "haf11\n",
      "error with parsing coords html"
     ]
    },
    {
     "name": "stderr",
     "output_type": "stream",
     "text": [
      "\r",
      " 35%|███▌      | 334/946 [41:14<3:00:14, 17.67s/it]"
     ]
    },
    {
     "name": "stdout",
     "output_type": "stream",
     "text": [
      "\n",
      "http://www.univie.ac.at/webda/cgi-bin/frame_data_list.cgi?haf11+ad2k+ad2000.coo\n",
      "Retrieval error. Skipping haf11\n",
      "haf13\n",
      "error with parsing mags html"
     ]
    },
    {
     "name": "stderr",
     "output_type": "stream",
     "text": [
      "\r",
      " 35%|███▌      | 335/946 [41:16<2:13:27, 13.10s/it]"
     ]
    },
    {
     "name": "stdout",
     "output_type": "stream",
     "text": [
      "\n",
      "http://www.univie.ac.at/webda/cgi-bin/frame_data_list.cgi?haf13+ubvpg+ubv.pgo\n",
      "Retrieval error. Skipping haf13\n",
      "haf14\n",
      "error with parsing mags html"
     ]
    },
    {
     "name": "stderr",
     "output_type": "stream",
     "text": [
      "\r",
      " 36%|███▌      | 336/946 [41:18<1:38:42,  9.71s/it]"
     ]
    },
    {
     "name": "stdout",
     "output_type": "stream",
     "text": [
      "\n",
      "http://www.univie.ac.at/webda/cgi-bin/frame_data_list.cgi?haf14+ubvpg+ubv.pgo\n",
      "Retrieval error. Skipping haf14\n",
      "haf15\n",
      "error with parsing mags html"
     ]
    },
    {
     "name": "stderr",
     "output_type": "stream",
     "text": [
      "\r",
      " 36%|███▌      | 337/946 [41:39<2:13:16, 13.13s/it]"
     ]
    },
    {
     "name": "stdout",
     "output_type": "stream",
     "text": [
      "\n",
      "http://www.univie.ac.at/webda/cgi-bin/frame_data_list.cgi?haf15+ubvpg+ubv.pgo\n",
      "Retrieval error. Skipping haf15\n",
      "haf16\n",
      "error with parsing mags html"
     ]
    },
    {
     "name": "stderr",
     "output_type": "stream",
     "text": [
      "\r",
      " 36%|███▌      | 338/946 [41:48<2:01:06, 11.95s/it]"
     ]
    },
    {
     "name": "stdout",
     "output_type": "stream",
     "text": [
      "\n",
      "http://www.univie.ac.at/webda/cgi-bin/frame_data_list.cgi?haf16+ubvpg+ubv.pgo\n",
      "Retrieval error. Skipping haf16\n",
      "haf18\n",
      "haf18 31\n",
      "Data retrived, starting pbsearch\n",
      "('searched for a subset of ', 31, 'Coords against 2mass list of', 9073309)"
     ]
    },
    {
     "name": "stderr",
     "output_type": "stream",
     "text": [
      "\r",
      " 36%|███▌      | 339/946 [42:14<2:42:44, 16.09s/it]"
     ]
    },
    {
     "name": "stdout",
     "output_type": "stream",
     "text": [
      "\n",
      "('Coord matches: ', 0, 'with a tolerance of ', 0.005556)\n",
      "No matches. Skipping haf18\n",
      "haf19\n",
      "haf19 65\n",
      "Data retrived, starting pbsearch\n",
      "('searched for a subset of ', 36, 'Coords against 2mass list of', 9073309)"
     ]
    },
    {
     "name": "stderr",
     "output_type": "stream",
     "text": [
      "\r",
      " 36%|███▌      | 340/946 [42:42<3:20:13, 19.82s/it]"
     ]
    },
    {
     "name": "stdout",
     "output_type": "stream",
     "text": [
      "\n",
      "('Coord matches: ', 0, 'with a tolerance of ', 0.005556)\n",
      "No matches. Skipping haf19\n",
      "haf20\n",
      "haf20 33\n",
      "Data retrived, starting pbsearch\n",
      "('searched for a subset of ', 33, 'Coords against 2mass list of', 9073309)"
     ]
    },
    {
     "name": "stderr",
     "output_type": "stream",
     "text": [
      "\r",
      " 36%|███▌      | 341/946 [42:58<3:06:35, 18.51s/it]"
     ]
    },
    {
     "name": "stdout",
     "output_type": "stream",
     "text": [
      "\n",
      "('Coord matches: ', 0, 'with a tolerance of ', 0.005556)\n",
      "No matches. Skipping haf20\n",
      "haf21\n",
      "haf21 52\n",
      "Data retrived, starting pbsearch\n",
      "('searched for a subset of ', 51, 'Coords against 2mass list of', 9073309)"
     ]
    },
    {
     "name": "stderr",
     "output_type": "stream",
     "text": [
      "\r",
      " 36%|███▌      | 342/946 [43:22<3:23:25, 20.21s/it]"
     ]
    },
    {
     "name": "stdout",
     "output_type": "stream",
     "text": [
      "\n",
      "('Coord matches: ', 0, 'with a tolerance of ', 0.005556)\n",
      "No matches. Skipping haf21\n",
      "haf23\n",
      "error with parsing mags html"
     ]
    },
    {
     "name": "stderr",
     "output_type": "stream",
     "text": [
      "\r",
      " 36%|███▋      | 343/946 [43:24<2:27:08, 14.64s/it]"
     ]
    },
    {
     "name": "stdout",
     "output_type": "stream",
     "text": [
      "\n",
      "http://www.univie.ac.at/webda/cgi-bin/frame_data_list.cgi?haf23+ubvpg+ubv.pgo\n",
      "Retrieval error. Skipping haf23\n",
      "haf26\n",
      "error with parsing mags html"
     ]
    },
    {
     "name": "stderr",
     "output_type": "stream",
     "text": [
      "\r",
      " 36%|███▋      | 344/946 [43:25<1:47:46, 10.74s/it]"
     ]
    },
    {
     "name": "stdout",
     "output_type": "stream",
     "text": [
      "\n",
      "http://www.univie.ac.at/webda/cgi-bin/frame_data_list.cgi?haf26+ubvpg+ubv.pgo\n",
      "Retrieval error. Skipping haf26\n",
      "hm01\n",
      "error with parsing mags html"
     ]
    },
    {
     "name": "stderr",
     "output_type": "stream",
     "text": [
      "\r",
      " 36%|███▋      | 345/946 [43:27<1:20:50,  8.07s/it]"
     ]
    },
    {
     "name": "stdout",
     "output_type": "stream",
     "text": [
      "\n",
      "http://www.univie.ac.at/webda/cgi-bin/frame_data_list.cgi?hm01+ubvpg+ubv.pgo\n",
      "Retrieval error. Skipping hm01\n",
      "ho06\n",
      "error with parsing mags html"
     ]
    },
    {
     "name": "stderr",
     "output_type": "stream",
     "text": [
      "\r",
      " 37%|███▋      | 346/946 [43:29<1:01:24,  6.14s/it]"
     ]
    },
    {
     "name": "stdout",
     "output_type": "stream",
     "text": [
      "\n",
      "http://www.univie.ac.at/webda/cgi-bin/frame_data_list.cgi?ho06+ubvpg+ubv.pgo\n",
      "Retrieval error. Skipping ho06\n",
      "ho09\n",
      "error with parsing mags html"
     ]
    },
    {
     "name": "stderr",
     "output_type": "stream",
     "text": [
      "\r",
      " 37%|███▋      | 347/946 [43:30<47:49,  4.79s/it]  "
     ]
    },
    {
     "name": "stdout",
     "output_type": "stream",
     "text": [
      "\n",
      "http://www.univie.ac.at/webda/cgi-bin/frame_data_list.cgi?ho09+ubvpg+ubv.pgo\n",
      "Retrieval error. Skipping ho09\n",
      "ho10\n",
      "error with parsing mags html"
     ]
    },
    {
     "name": "stderr",
     "output_type": "stream",
     "text": [
      "\r",
      " 37%|███▋      | 348/946 [43:53<1:42:11, 10.25s/it]"
     ]
    },
    {
     "name": "stdout",
     "output_type": "stream",
     "text": [
      "\n",
      "http://www.univie.ac.at/webda/cgi-bin/frame_data_list.cgi?ho10+ubvpg+ubv.pgo\n",
      "Retrieval error. Skipping ho10\n",
      "ho11\n",
      "error with parsing coords html"
     ]
    },
    {
     "name": "stderr",
     "output_type": "stream",
     "text": [
      "\r",
      " 37%|███▋      | 349/946 [44:04<1:42:03, 10.26s/it]"
     ]
    },
    {
     "name": "stdout",
     "output_type": "stream",
     "text": [
      "\n",
      "http://www.univie.ac.at/webda/cgi-bin/frame_data_list.cgi?ho11+ad2k+ad2000.coo\n",
      "Retrieval error. Skipping ho11\n",
      "ho12\n",
      "error with parsing mags html"
     ]
    },
    {
     "name": "stderr",
     "output_type": "stream",
     "text": [
      "\r",
      " 37%|███▋      | 350/946 [44:06<1:18:06,  7.86s/it]"
     ]
    },
    {
     "name": "stdout",
     "output_type": "stream",
     "text": [
      "\n",
      "http://www.univie.ac.at/webda/cgi-bin/frame_data_list.cgi?ho12+ubvpg+ubv.pgo\n",
      "Retrieval error. Skipping ho12\n",
      "ho14\n",
      "error with parsing mags html"
     ]
    },
    {
     "name": "stderr",
     "output_type": "stream",
     "text": [
      "\r",
      " 37%|███▋      | 351/946 [44:08<1:00:44,  6.13s/it]"
     ]
    },
    {
     "name": "stdout",
     "output_type": "stream",
     "text": [
      "\n",
      "http://www.univie.ac.at/webda/cgi-bin/frame_data_list.cgi?ho14+ubvpg+ubv.pgo\n",
      "Retrieval error. Skipping ho14\n",
      "ho15\n",
      "ho15"
     ]
    },
    {
     "name": "stderr",
     "output_type": "stream",
     "text": [
      "\r",
      " 37%|███▋      | 352/946 [44:12<53:17,  5.38s/it]  "
     ]
    },
    {
     "name": "stdout",
     "output_type": "stream",
     "text": [
      " 0\n",
      "Data retrived, starting pbsearch\n",
      "('searched for a subset of ', 0, 'Coords against 2mass list of', 9073309)\n",
      "('Coord matches: ', 0, 'with a tolerance of ', 0.005556)\n",
      "No matches. Skipping ho15\n",
      "ho16\n",
      "error with parsing mags html"
     ]
    },
    {
     "name": "stderr",
     "output_type": "stream",
     "text": [
      "\r",
      " 37%|███▋      | 353/946 [44:16<50:00,  5.06s/it]"
     ]
    },
    {
     "name": "stdout",
     "output_type": "stream",
     "text": [
      "\n",
      "http://www.univie.ac.at/webda/cgi-bin/frame_data_list.cgi?ho16+ubvpg+ubv.pgo\n",
      "Retrieval error. Skipping ho16\n",
      "ho18\n",
      "ho18 11\n",
      "Data retrived, starting pbsearch\n",
      "('searched for a subset of ', 11, 'Coords against 2mass list of', 9073309)\n",
      "('Coord matches: ', 11, 'with a tolerance of ', 0.005556)\n",
      "ho18 had no repeats\n",
      "using 10 bins\n",
      "ho18"
     ]
    },
    {
     "name": "stderr",
     "output_type": "stream",
     "text": [
      "\r",
      " 37%|███▋      | 354/946 [44:23<54:51,  5.56s/it]"
     ]
    },
    {
     "name": "stdout",
     "output_type": "stream",
     "text": [
      " had error with optimize.curve_fit\n",
      "ho22\n",
      "error with parsing mags html"
     ]
    },
    {
     "name": "stderr",
     "output_type": "stream",
     "text": [
      "\r",
      " 38%|███▊      | 355/946 [44:25<43:47,  4.45s/it]"
     ]
    },
    {
     "name": "stdout",
     "output_type": "stream",
     "text": [
      "\n",
      "http://www.univie.ac.at/webda/cgi-bin/frame_data_list.cgi?ho22+ubvpg+ubv.pgo\n",
      "Retrieval error. Skipping ho22\n",
      "ho23\n",
      "error with parsing mags html"
     ]
    },
    {
     "name": "stderr",
     "output_type": "stream",
     "text": [
      "\r",
      " 38%|███▊      | 356/946 [44:26<35:03,  3.56s/it]"
     ]
    },
    {
     "name": "stdout",
     "output_type": "stream",
     "text": [
      "\n",
      "http://www.univie.ac.at/webda/cgi-bin/frame_data_list.cgi?ho23+ubvpg+ubv.pgo\n",
      "Retrieval error. Skipping ho23\n",
      "ic0166\n",
      "error with parsing mags html"
     ]
    },
    {
     "name": "stderr",
     "output_type": "stream",
     "text": [
      "\r",
      " 38%|███▊      | 357/946 [44:28<28:55,  2.95s/it]"
     ]
    },
    {
     "name": "stdout",
     "output_type": "stream",
     "text": [
      "\n",
      "http://www.univie.ac.at/webda/cgi-bin/frame_data_list.cgi?ic0166+ubvpg+ubv.pgo\n",
      "Retrieval error. Skipping ic0166\n",
      "ic0348\n",
      "error with parsing mags html"
     ]
    },
    {
     "name": "stderr",
     "output_type": "stream",
     "text": [
      "\r",
      " 38%|███▊      | 358/946 [44:46<1:13:45,  7.53s/it]"
     ]
    },
    {
     "name": "stdout",
     "output_type": "stream",
     "text": [
      "\n",
      "http://www.univie.ac.at/webda/cgi-bin/frame_data_list.cgi?ic0348+ubvpg+ubv.pgo\n",
      "Retrieval error. Skipping ic0348\n",
      "ic0361\n",
      "ic0361 62\n",
      "Data retrived, starting pbsearch\n",
      "('searched for a subset of ', 31, 'Coords against 2mass list of', 9073309)"
     ]
    },
    {
     "name": "stderr",
     "output_type": "stream",
     "text": [
      "\r",
      " 38%|███▊      | 359/946 [45:10<2:01:18, 12.40s/it]"
     ]
    },
    {
     "name": "stdout",
     "output_type": "stream",
     "text": [
      "\n",
      "('Coord matches: ', 0, 'with a tolerance of ', 0.005556)\n",
      "No matches. Skipping ic0361\n",
      "ic1434\n",
      "error with parsing coords html"
     ]
    },
    {
     "name": "stderr",
     "output_type": "stream",
     "text": [
      "\r",
      " 38%|███▊      | 360/946 [46:49<6:15:21, 38.43s/it]"
     ]
    },
    {
     "name": "stdout",
     "output_type": "stream",
     "text": [
      "\n",
      "http://www.univie.ac.at/webda/cgi-bin/frame_data_list.cgi?ic1434+ad2k+ad2000.coo\n",
      "Retrieval error. Skipping ic1434\n",
      "ic1442\n",
      "error with parsing mags html"
     ]
    },
    {
     "name": "stderr",
     "output_type": "stream",
     "text": [
      "\r",
      " 38%|███▊      | 361/946 [46:51<4:28:59, 27.59s/it]"
     ]
    },
    {
     "name": "stdout",
     "output_type": "stream",
     "text": [
      "\n",
      "http://www.univie.ac.at/webda/cgi-bin/frame_data_list.cgi?ic1442+ubvpg+ubv.pgo\n",
      "Retrieval error. Skipping ic1442\n",
      "ic1590\n",
      "error with parsing coords html"
     ]
    },
    {
     "name": "stderr",
     "output_type": "stream",
     "text": [
      "\r",
      " 38%|███▊      | 362/946 [46:52<3:10:06, 19.53s/it]"
     ]
    },
    {
     "name": "stdout",
     "output_type": "stream",
     "text": [
      "\n",
      "http://www.univie.ac.at/webda/cgi-bin/frame_data_list.cgi?ic1590+ad2k+ad2000.coo\n",
      "Retrieval error. Skipping ic1590\n",
      "ic1795\n",
      "ic1795 183\n",
      "Data retrived, starting pbsearch\n",
      "('searched for a subset of ', 183, 'Coords against 2mass list of', 9073309)"
     ]
    },
    {
     "name": "stderr",
     "output_type": "stream",
     "text": [
      "\r",
      " 38%|███▊      | 363/946 [48:10<6:02:17, 37.29s/it]"
     ]
    },
    {
     "name": "stdout",
     "output_type": "stream",
     "text": [
      "\n",
      "('Coord matches: ', 0, 'with a tolerance of ', 0.005556)\n",
      "No matches. Skipping ic1795\n",
      "ic1805\n",
      "ic1805 442\n",
      "Data retrived, starting pbsearch\n",
      "('searched for a subset of ', 442, 'Coords against 2mass list of', 9073309)"
     ]
    },
    {
     "name": "stderr",
     "output_type": "stream",
     "text": [
      "\r",
      " 38%|███▊      | 364/946 [51:18<13:20:11, 82.49s/it]"
     ]
    },
    {
     "name": "stdout",
     "output_type": "stream",
     "text": [
      "\n",
      "('Coord matches: ', 0, 'with a tolerance of ', 0.005556)\n",
      "No matches. Skipping ic1805\n",
      "ic1848\n",
      "ic1848"
     ]
    },
    {
     "name": "stderr",
     "output_type": "stream",
     "text": [
      "\r",
      " 39%|███▊      | 365/946 [51:20<9:24:05, 58.25s/it] "
     ]
    },
    {
     "name": "stdout",
     "output_type": "stream",
     "text": [
      " 0\n",
      "Data retrived, starting pbsearch\n",
      "('searched for a subset of ', 0, 'Coords against 2mass list of', 9073309)\n",
      "('Coord matches: ', 0, 'with a tolerance of ', 0.005556)\n",
      "No matches. Skipping ic1848\n",
      "ic2156\n",
      "error with parsing mags html"
     ]
    },
    {
     "name": "stderr",
     "output_type": "stream",
     "text": [
      "\r",
      " 39%|███▊      | 366/946 [51:25<6:48:44, 42.28s/it]"
     ]
    },
    {
     "name": "stdout",
     "output_type": "stream",
     "text": [
      "\n",
      "http://www.univie.ac.at/webda/cgi-bin/frame_data_list.cgi?ic2156+ubvpg+ubv.pgo\n",
      "Retrieval error. Skipping ic2156\n",
      "ic2157\n",
      "ic2157 2023\n",
      "Data retrived, starting pbsearch\n",
      "('searched for a subset of ', 2005, 'Coords against 2mass list of', 9073309)"
     ]
    },
    {
     "name": "stderr",
     "output_type": "stream",
     "text": [
      "\r",
      " 39%|███▉      | 367/946 [1:05:30<45:32:21, 283.15s/it]"
     ]
    },
    {
     "name": "stdout",
     "output_type": "stream",
     "text": [
      "\n",
      "('Coord matches: ', 0, 'with a tolerance of ', 0.005556)\n",
      "No matches. Skipping ic2157\n",
      "ic2391\n",
      "error with parsing mags html"
     ]
    },
    {
     "name": "stderr",
     "output_type": "stream",
     "text": [
      "\r",
      " 39%|███▉      | 368/946 [1:05:37<32:07:17, 200.06s/it]"
     ]
    },
    {
     "name": "stdout",
     "output_type": "stream",
     "text": [
      "\n",
      "http://www.univie.ac.at/webda/cgi-bin/frame_data_list.cgi?ic2391+ubvpg+ubv.pgo\n",
      "Retrieval error. Skipping ic2391\n",
      "ic2395\n",
      "ic2395 60\n",
      "Data retrived, starting pbsearch\n",
      "('searched for a subset of ', 29, 'Coords against 2mass list of', 9073309)"
     ]
    },
    {
     "name": "stderr",
     "output_type": "stream",
     "text": [
      "\r",
      " 39%|███▉      | 369/946 [1:05:54<23:15:56, 145.16s/it]"
     ]
    },
    {
     "name": "stdout",
     "output_type": "stream",
     "text": [
      "\n",
      "('Coord matches: ', 0, 'with a tolerance of ', 0.005556)\n",
      "No matches. Skipping ic2395\n",
      "ic2488\n",
      "error with parsing mags html"
     ]
    },
    {
     "name": "stderr",
     "output_type": "stream",
     "text": [
      "\r",
      " 39%|███▉      | 370/946 [1:05:56<16:21:31, 102.24s/it]"
     ]
    },
    {
     "name": "stdout",
     "output_type": "stream",
     "text": [
      "\n",
      "http://www.univie.ac.at/webda/cgi-bin/frame_data_list.cgi?ic2488+ubvpg+ubv.pgo\n",
      "Retrieval error. Skipping ic2488\n",
      "ic2581\n",
      "ic2581 301\n",
      "Data retrived, starting pbsearch\n",
      "('searched for a subset of ', 288, 'Coords against 2mass list of', 9073309)"
     ]
    },
    {
     "name": "stderr",
     "output_type": "stream",
     "text": [
      "\r",
      " 39%|███▉      | 371/946 [1:08:00<17:22:27, 108.78s/it]"
     ]
    },
    {
     "name": "stdout",
     "output_type": "stream",
     "text": [
      "\n",
      "('Coord matches: ', 0, 'with a tolerance of ', 0.005556)\n",
      "No matches. Skipping ic2581\n",
      "ic2602\n",
      "ic2602 7\n",
      "Data retrived, starting pbsearch\n",
      "('searched for a subset of ', 7, 'Coords against 2mass list of', 9073309)"
     ]
    },
    {
     "name": "stderr",
     "output_type": "stream",
     "text": [
      "\r",
      " 39%|███▉      | 372/946 [1:08:05<12:22:18, 77.59s/it] "
     ]
    },
    {
     "name": "stdout",
     "output_type": "stream",
     "text": [
      "\n",
      "('Coord matches: ', 0, 'with a tolerance of ', 0.005556)\n",
      "No matches. Skipping ic2602\n",
      "ic2714\n",
      "ic2714 37\n",
      "Data retrived, starting pbsearch\n",
      "('searched for a subset of ', 37, 'Coords against 2mass list of', 9073309)"
     ]
    },
    {
     "name": "stderr",
     "output_type": "stream",
     "text": [
      "\r",
      " 39%|███▉      | 373/946 [1:08:22<9:27:35, 59.43s/it] "
     ]
    },
    {
     "name": "stdout",
     "output_type": "stream",
     "text": [
      "\n",
      "('Coord matches: ', 0, 'with a tolerance of ', 0.005556)\n",
      "No matches. Skipping ic2714\n",
      "ic2944\n",
      "error with parsing mags html"
     ]
    },
    {
     "name": "stderr",
     "output_type": "stream",
     "text": [
      "\r",
      " 40%|███▉      | 374/946 [1:08:25<6:45:18, 42.52s/it]"
     ]
    },
    {
     "name": "stdout",
     "output_type": "stream",
     "text": [
      "\n",
      "http://www.univie.ac.at/webda/cgi-bin/frame_data_list.cgi?ic2944+ubvpg+ubv.pgo\n",
      "Retrieval error. Skipping ic2944\n",
      "ic2948\n",
      "error with parsing mags html"
     ]
    },
    {
     "name": "stderr",
     "output_type": "stream",
     "text": [
      "\r",
      " 40%|███▉      | 375/946 [1:08:26<4:47:35, 30.22s/it]"
     ]
    },
    {
     "name": "stdout",
     "output_type": "stream",
     "text": [
      "\n",
      "http://www.univie.ac.at/webda/cgi-bin/frame_data_list.cgi?ic2948+ubvpg+ubv.pgo\n",
      "Retrieval error. Skipping ic2948\n",
      "ic4651\n",
      "ic4651 430\n",
      "Data retrived, starting pbsearch\n",
      "('searched for a subset of ', 430, 'Coords against 2mass list of', 9073309)\n",
      "('Coord matches: ', 326, 'with a tolerance of ', 0.005556)\n",
      "using 17 bins\n",
      "Power_divergenceResult(statistic=49.040618207239412, pvalue=3.2556400856867371e-05) 3.50290130052\n"
     ]
    },
    {
     "name": "stderr",
     "output_type": "stream",
     "text": [
      "/Users/mmcintosh/anaconda/lib/python3.4/site-packages/ipykernel/__main__.py:130: DeprecationWarning: using a non-integer number instead of an integer will result in an error in the future\n",
      "/Users/mmcintosh/anaconda/lib/python3.4/site-packages/ipykernel/__main__.py:136: DeprecationWarning: using a non-integer number instead of an integer will result in an error in the future\n"
     ]
    },
    {
     "data": {
      "image/png": "[encoded data removed]",
      "text/plain": [
       "<matplotlib.figure.Figure at 0x10b602668>"
      ]
     },
     "metadata": {},
     "output_type": "display_data"
    },
    {
     "name": "stderr",
     "output_type": "stream",
     "text": [
      "\r",
      " 40%|███▉      | 376/946 [1:13:19<17:15:04, 108.96s/it]"
     ]
    },
    {
     "name": "stdout",
     "output_type": "stream",
     "text": [
      "selected 234 from 326\n",
      "234 matches for ic4651 for tolerance 0.005556\n",
      "ic4665\n",
      "ic4665 43\n",
      "Data retrived, starting pbsearch\n",
      "('searched for a subset of ', 43, 'Coords against 2mass list of', 9073309)\n",
      "('Coord matches: ', 44, 'with a tolerance of ', 0.005556)\n",
      "using"
     ]
    },
    {
     "name": "stderr",
     "output_type": "stream",
     "text": [
      "\r",
      " 40%|███▉      | 377/946 [1:13:44<13:15:52, 83.92s/it] "
     ]
    },
    {
     "name": "stdout",
     "output_type": "stream",
     "text": [
      " 10 bins\n",
      "Power_divergenceResult(statistic=623379360.90195835, pvalue=0.0) 89054194.4146\n",
      "Error with reduced chi squared: 89054194.4146 for ic4665\n",
      "ic4725\n",
      "error with parsing coords html"
     ]
    },
    {
     "name": "stderr",
     "output_type": "stream",
     "text": [
      "\r",
      " 40%|███▉      | 378/946 [1:13:45<9:18:32, 59.00s/it] "
     ]
    },
    {
     "name": "stdout",
     "output_type": "stream",
     "text": [
      "\n",
      "http://www.univie.ac.at/webda/cgi-bin/frame_data_list.cgi?ic4725+ad2k+ad2000.coo\n",
      "Retrieval error. Skipping ic4725\n",
      "ic4756\n",
      "ic4756 190\n",
      "Data retrived, starting pbsearch\n",
      "('searched for a subset of ', 120, 'Coords against 2mass list of', 9073309)\n",
      "('Coord matches: ', 108, 'with a tolerance of ', 0.005556)\n",
      "using 18 bins\n",
      "Power_divergenceResult(statistic=18.416971138936653, pvalue=0.36300391371176888) 1.22779807593\n"
     ]
    },
    {
     "data": {
      "image/png": "[encoded data removed]",
      "text/plain": [
       "<matplotlib.figure.Figure at 0x10b08b5c0>"
      ]
     },
     "metadata": {},
     "output_type": "display_data"
    },
    {
     "name": "stderr",
     "output_type": "stream",
     "text": [
      "\r",
      " 40%|████      | 379/946 [1:14:39<9:02:23, 57.40s/it]"
     ]
    },
    {
     "name": "stdout",
     "output_type": "stream",
     "text": [
      "selected 81 from 108\n",
      "81 matches for ic4756 for tolerance 0.005556\n",
      "ic4996\n",
      "ic4996 77\n",
      "Data retrived, starting pbsearch\n",
      "('searched for a subset of ', 77, 'Coords against 2mass list of', 9073309)"
     ]
    },
    {
     "name": "stderr",
     "output_type": "stream",
     "text": [
      "\r",
      " 40%|████      | 380/946 [1:15:35<8:58:03, 57.04s/it]"
     ]
    },
    {
     "name": "stdout",
     "output_type": "stream",
     "text": [
      "\n",
      "('Coord matches: ', 0, 'with a tolerance of ', 0.005556)\n",
      "No matches. Skipping ic4996\n",
      "ic5146\n",
      "ic5146 292\n",
      "Data retrived, starting pbsearch\n",
      "('searched for a subset of ', 220, 'Coords against 2mass list of', 9073309)"
     ]
    },
    {
     "name": "stderr",
     "output_type": "stream",
     "text": [
      "\r",
      " 40%|████      | 381/946 [1:17:16<11:00:41, 70.16s/it]"
     ]
    },
    {
     "name": "stdout",
     "output_type": "stream",
     "text": [
      "\n",
      "('Coord matches: ', 0, 'with a tolerance of ', 0.005556)\n",
      "No matches. Skipping ic5146\n",
      "ju11\n",
      "error with parsing mags html"
     ]
    },
    {
     "name": "stderr",
     "output_type": "stream",
     "text": [
      "\r",
      " 40%|████      | 382/946 [1:17:24<8:05:03, 51.60s/it] "
     ]
    },
    {
     "name": "stdout",
     "output_type": "stream",
     "text": [
      "\n",
      "http://www.univie.ac.at/webda/cgi-bin/frame_data_list.cgi?ju11+ubvpg+ubv.pgo\n",
      "Retrieval error. Skipping ju11\n",
      "kas01\n",
      "error with parsing coords html"
     ]
    },
    {
     "name": "stderr",
     "output_type": "stream",
     "text": [
      "\r",
      " 40%|████      | 383/946 [1:17:26<5:43:07, 36.57s/it]"
     ]
    },
    {
     "name": "stdout",
     "output_type": "stream",
     "text": [
      "\n",
      "http://www.univie.ac.at/webda/cgi-bin/frame_data_list.cgi?kas01+ad2k+ad2000.coo\n",
      "Retrieval error. Skipping kas01\n",
      "ki01\n",
      "error with parsing mags html"
     ]
    },
    {
     "name": "stderr",
     "output_type": "stream",
     "text": [
      "\r",
      " 41%|████      | 384/946 [1:17:46<4:57:59, 31.81s/it]"
     ]
    },
    {
     "name": "stdout",
     "output_type": "stream",
     "text": [
      "\n",
      "http://www.univie.ac.at/webda/cgi-bin/frame_data_list.cgi?ki01+ubvpg+ubv.pgo\n",
      "Retrieval error. Skipping ki01\n",
      "ki05\n",
      "error with parsing mags html"
     ]
    },
    {
     "name": "stderr",
     "output_type": "stream",
     "text": [
      "\r",
      " 41%|████      | 385/946 [1:18:06<4:24:14, 28.26s/it]"
     ]
    },
    {
     "name": "stdout",
     "output_type": "stream",
     "text": [
      "\n",
      "http://www.univie.ac.at/webda/cgi-bin/frame_data_list.cgi?ki05+ubvpg+ubv.pgo\n",
      "Retrieval error. Skipping ki05\n",
      "ki06\n",
      "error with parsing coords html"
     ]
    },
    {
     "name": "stderr",
     "output_type": "stream",
     "text": [
      "\r",
      " 41%|████      | 386/946 [1:18:15<3:28:29, 22.34s/it]"
     ]
    },
    {
     "name": "stdout",
     "output_type": "stream",
     "text": [
      "\n",
      "http://www.univie.ac.at/webda/cgi-bin/frame_data_list.cgi?ki06+ad2k+ad2000.coo\n",
      "Retrieval error. Skipping ki06\n",
      "ki08\n",
      "ki08 1\n",
      "Data retrived, starting pbsearch\n",
      "('searched for a subset of ', 1, 'Coords against 2mass list of', 9073309)"
     ]
    },
    {
     "name": "stderr",
     "output_type": "stream",
     "text": [
      "\r",
      " 41%|████      | 387/946 [1:18:17<2:31:36, 16.27s/it]"
     ]
    },
    {
     "name": "stdout",
     "output_type": "stream",
     "text": [
      "\n",
      "('Coord matches: ', 0, 'with a tolerance of ', 0.005556)\n",
      "No matches. Skipping ki08\n",
      "ki10\n",
      "ki10 8\n",
      "Data retrived, starting pbsearch\n",
      "('searched for a subset of ', 8, 'Coords against 2mass list of', 9073309)"
     ]
    },
    {
     "name": "stderr",
     "output_type": "stream",
     "text": [
      "\r",
      " 41%|████      | 388/946 [1:18:22<1:59:45, 12.88s/it]"
     ]
    },
    {
     "name": "stdout",
     "output_type": "stream",
     "text": [
      "\n",
      "('Coord matches: ', 0, 'with a tolerance of ', 0.005556)\n",
      "No matches. Skipping ki10\n",
      "ki11\n",
      "error with parsing mags html"
     ]
    },
    {
     "name": "stderr",
     "output_type": "stream",
     "text": [
      "\r",
      " 41%|████      | 389/946 [1:18:36<2:02:48, 13.23s/it]"
     ]
    },
    {
     "name": "stdout",
     "output_type": "stream",
     "text": [
      "\n",
      "http://www.univie.ac.at/webda/cgi-bin/frame_data_list.cgi?ki11+ubvpg+ubv.pgo\n",
      "Retrieval error. Skipping ki11\n",
      "ki12\n",
      "error with parsing mags html"
     ]
    },
    {
     "name": "stderr",
     "output_type": "stream",
     "text": [
      "\r",
      " 41%|████      | 390/946 [1:18:38<1:30:16,  9.74s/it]"
     ]
    },
    {
     "name": "stdout",
     "output_type": "stream",
     "text": [
      "\n",
      "http://www.univie.ac.at/webda/cgi-bin/frame_data_list.cgi?ki12+ubvpg+ubv.pgo\n",
      "Retrieval error. Skipping ki12\n",
      "ki13\n",
      "ki13 80\n",
      "Data retrived, starting pbsearch\n",
      "('searched for a subset of ', 48, 'Coords against 2mass list of', 9073309)"
     ]
    },
    {
     "name": "stderr",
     "output_type": "stream",
     "text": [
      "\r",
      " 41%|████▏     | 391/946 [1:19:26<3:17:14, 21.32s/it]"
     ]
    },
    {
     "name": "stdout",
     "output_type": "stream",
     "text": [
      "\n",
      "('Coord matches: ', 0, 'with a tolerance of ', 0.005556)\n",
      "No matches. Skipping ki13\n",
      "ki14\n",
      "ki14 213\n",
      "Data retrived, starting pbsearch\n",
      "('searched for a subset of ', 211, 'Coords against 2mass list of', 9073309)"
     ]
    },
    {
     "name": "stderr",
     "output_type": "stream",
     "text": [
      "\r",
      " 41%|████▏     | 392/946 [1:21:11<7:09:02, 46.47s/it]"
     ]
    },
    {
     "name": "stdout",
     "output_type": "stream",
     "text": [
      "\n",
      "('Coord matches: ', 0, 'with a tolerance of ', 0.005556)\n",
      "No matches. Skipping ki14\n",
      "ki16\n",
      "error with parsing mags html"
     ]
    },
    {
     "name": "stderr",
     "output_type": "stream",
     "text": [
      "\r",
      " 42%|████▏     | 393/946 [1:21:21<5:28:23, 35.63s/it]"
     ]
    },
    {
     "name": "stdout",
     "output_type": "stream",
     "text": [
      "\n",
      "http://www.univie.ac.at/webda/cgi-bin/frame_data_list.cgi?ki16+ubvpg+ubv.pgo\n",
      "Retrieval error. Skipping ki16\n",
      "ki17\n",
      "error with parsing mags html"
     ]
    },
    {
     "name": "stderr",
     "output_type": "stream",
     "text": [
      "\r",
      " 42%|████▏     | 394/946 [1:21:50<5:09:19, 33.62s/it]"
     ]
    },
    {
     "name": "stdout",
     "output_type": "stream",
     "text": [
      "\n",
      "http://www.univie.ac.at/webda/cgi-bin/frame_data_list.cgi?ki17+ubvpg+ubv.pgo\n",
      "Retrieval error. Skipping ki17\n",
      "ki18\n",
      "error with parsing mags html"
     ]
    },
    {
     "name": "stderr",
     "output_type": "stream",
     "text": [
      "\r",
      " 42%|████▏     | 395/946 [1:22:25<5:11:21, 33.90s/it]"
     ]
    },
    {
     "name": "stdout",
     "output_type": "stream",
     "text": [
      "\n",
      "http://www.univie.ac.at/webda/cgi-bin/frame_data_list.cgi?ki18+ubvpg+ubv.pgo\n",
      "Retrieval error. Skipping ki18\n",
      "ki19\n",
      "ki19 122\n",
      "Data retrived, starting pbsearch\n",
      "('searched for a subset of ', 122, 'Coords against 2mass list of', 9073309)"
     ]
    },
    {
     "name": "stderr",
     "output_type": "stream",
     "text": [
      "\r",
      " 42%|████▏     | 396/946 [1:23:20<6:08:24, 40.19s/it]"
     ]
    },
    {
     "name": "stdout",
     "output_type": "stream",
     "text": [
      "\n",
      "('Coord matches: ', 0, 'with a tolerance of ', 0.005556)\n",
      "No matches. Skipping ki19\n",
      "ki20\n",
      "error with parsing mags html"
     ]
    },
    {
     "name": "stderr",
     "output_type": "stream",
     "text": [
      "\r",
      " 42%|████▏     | 397/946 [1:23:29<4:43:53, 31.03s/it]"
     ]
    },
    {
     "name": "stdout",
     "output_type": "stream",
     "text": [
      "\n",
      "http://www.univie.ac.at/webda/cgi-bin/frame_data_list.cgi?ki20+ubvpg+ubv.pgo\n",
      "Retrieval error. Skipping ki20\n",
      "ki21\n",
      "error with parsing mags html"
     ]
    },
    {
     "name": "stderr",
     "output_type": "stream",
     "text": [
      "\r",
      " 42%|████▏     | 398/946 [1:23:31<3:23:42, 22.30s/it]"
     ]
    },
    {
     "name": "stdout",
     "output_type": "stream",
     "text": [
      "\n",
      "http://www.univie.ac.at/webda/cgi-bin/frame_data_list.cgi?ki21+ubvpg+ubv.pgo\n",
      "Retrieval error. Skipping ki21\n",
      "ki23\n",
      "error with parsing mags html"
     ]
    },
    {
     "name": "stderr",
     "output_type": "stream",
     "text": [
      "\r",
      " 42%|████▏     | 399/946 [1:23:36<2:34:21, 16.93s/it]"
     ]
    },
    {
     "name": "stdout",
     "output_type": "stream",
     "text": [
      "\n",
      "http://www.univie.ac.at/webda/cgi-bin/frame_data_list.cgi?ki23+ubvpg+ubv.pgo\n",
      "Retrieval error. Skipping ki23\n",
      "ki25\n",
      "error with parsing mags html"
     ]
    },
    {
     "name": "stderr",
     "output_type": "stream",
     "text": [
      "\r",
      " 42%|████▏     | 400/946 [1:23:44<2:10:47, 14.37s/it]"
     ]
    },
    {
     "name": "stdout",
     "output_type": "stream",
     "text": [
      "\n",
      "http://www.univie.ac.at/webda/cgi-bin/frame_data_list.cgi?ki25+ubvpg+ubv.pgo\n",
      "Retrieval error. Skipping ki25\n",
      "ki26\n",
      "error with parsing mags html"
     ]
    },
    {
     "name": "stderr",
     "output_type": "stream",
     "text": [
      "\r",
      " 42%|████▏     | 401/946 [1:23:57<2:07:05, 13.99s/it]"
     ]
    },
    {
     "name": "stdout",
     "output_type": "stream",
     "text": [
      "\n",
      "http://www.univie.ac.at/webda/cgi-bin/frame_data_list.cgi?ki26+ubvpg+ubv.pgo\n",
      "Retrieval error. Skipping ki26\n",
      "lod0001\n",
      "error with parsing mags html"
     ]
    },
    {
     "name": "stderr",
     "output_type": "stream",
     "text": [
      "\r",
      " 42%|████▏     | 402/946 [1:23:59<1:33:32, 10.32s/it]"
     ]
    },
    {
     "name": "stdout",
     "output_type": "stream",
     "text": [
      "\n",
      "http://www.univie.ac.at/webda/cgi-bin/frame_data_list.cgi?lod0001+ubvpg+ubv.pgo\n",
      "Retrieval error. Skipping lod0001\n",
      "lod0028\n",
      "error with parsing mags html"
     ]
    },
    {
     "name": "stderr",
     "output_type": "stream",
     "text": [
      "\r",
      " 43%|████▎     | 403/946 [1:24:01<1:10:38,  7.80s/it]"
     ]
    },
    {
     "name": "stdout",
     "output_type": "stream",
     "text": [
      "\n",
      "http://www.univie.ac.at/webda/cgi-bin/frame_data_list.cgi?lod0028+ubvpg+ubv.pgo\n",
      "Retrieval error. Skipping lod0028\n",
      "lod0112\n",
      "error with parsing mags html"
     ]
    },
    {
     "name": "stderr",
     "output_type": "stream",
     "text": [
      "\r",
      " 43%|████▎     | 404/946 [1:24:03<53:50,  5.96s/it]  "
     ]
    },
    {
     "name": "stdout",
     "output_type": "stream",
     "text": [
      "\n",
      "http://www.univie.ac.at/webda/cgi-bin/frame_data_list.cgi?lod0112+ubvpg+ubv.pgo\n",
      "Retrieval error. Skipping lod0112\n",
      "lod0153\n",
      "error with parsing mags html"
     ]
    },
    {
     "name": "stderr",
     "output_type": "stream",
     "text": [
      "\r",
      " 43%|████▎     | 405/946 [1:24:04<42:00,  4.66s/it]"
     ]
    },
    {
     "name": "stdout",
     "output_type": "stream",
     "text": [
      "\n",
      "http://www.univie.ac.at/webda/cgi-bin/frame_data_list.cgi?lod0153+ubvpg+ubv.pgo\n",
      "Retrieval error. Skipping lod0153\n",
      "lod0189\n",
      "error with parsing mags html"
     ]
    },
    {
     "name": "stderr",
     "output_type": "stream",
     "text": [
      "\r",
      " 43%|████▎     | 406/946 [1:24:06<35:25,  3.94s/it]"
     ]
    },
    {
     "name": "stdout",
     "output_type": "stream",
     "text": [
      "\n",
      "http://www.univie.ac.at/webda/cgi-bin/frame_data_list.cgi?lod0189+ubvpg+ubv.pgo\n",
      "Retrieval error. Skipping lod0189\n",
      "lod0306\n",
      "error with parsing mags html"
     ]
    },
    {
     "name": "stderr",
     "output_type": "stream",
     "text": [
      "\r",
      " 43%|████▎     | 407/946 [1:24:08<30:16,  3.37s/it]"
     ]
    },
    {
     "name": "stdout",
     "output_type": "stream",
     "text": [
      "\n",
      "http://www.univie.ac.at/webda/cgi-bin/frame_data_list.cgi?lod0306+ubvpg+ubv.pgo\n",
      "Retrieval error. Skipping lod0306\n",
      "lod0309\n",
      "error with parsing mags html"
     ]
    },
    {
     "name": "stderr",
     "output_type": "stream",
     "text": [
      "\r",
      " 43%|████▎     | 408/946 [1:24:10<25:34,  2.85s/it]"
     ]
    },
    {
     "name": "stdout",
     "output_type": "stream",
     "text": [
      "\n",
      "http://www.univie.ac.at/webda/cgi-bin/frame_data_list.cgi?lod0309+ubvpg+ubv.pgo\n",
      "Retrieval error. Skipping lod0309\n",
      "lod0372\n",
      "error with parsing mags html"
     ]
    },
    {
     "name": "stderr",
     "output_type": "stream",
     "text": [
      "\r",
      " 43%|████▎     | 409/946 [1:24:12<22:15,  2.49s/it]"
     ]
    },
    {
     "name": "stdout",
     "output_type": "stream",
     "text": [
      "\n",
      "http://www.univie.ac.at/webda/cgi-bin/frame_data_list.cgi?lod0372+ubvpg+ubv.pgo\n",
      "Retrieval error. Skipping lod0372\n",
      "lod0402\n",
      "error with parsing mags html"
     ]
    },
    {
     "name": "stderr",
     "output_type": "stream",
     "text": [
      "\r",
      " 43%|████▎     | 410/946 [1:24:14<20:14,  2.27s/it]"
     ]
    },
    {
     "name": "stdout",
     "output_type": "stream",
     "text": [
      "\n",
      "http://www.univie.ac.at/webda/cgi-bin/frame_data_list.cgi?lod0402+ubvpg+ubv.pgo\n",
      "Retrieval error. Skipping lod0402\n",
      "lod0480\n",
      "error with parsing mags html"
     ]
    },
    {
     "name": "stderr",
     "output_type": "stream",
     "text": [
      "\r",
      " 43%|████▎     | 411/946 [1:24:15<18:46,  2.11s/it]"
     ]
    },
    {
     "name": "stdout",
     "output_type": "stream",
     "text": [
      "\n",
      "http://www.univie.ac.at/webda/cgi-bin/frame_data_list.cgi?lod0480+ubvpg+ubv.pgo\n",
      "Retrieval error. Skipping lod0480\n",
      "lod0481\n",
      "error with parsing mags html"
     ]
    },
    {
     "name": "stderr",
     "output_type": "stream",
     "text": [
      "\r",
      " 44%|████▎     | 412/946 [1:24:17<18:51,  2.12s/it]"
     ]
    },
    {
     "name": "stdout",
     "output_type": "stream",
     "text": [
      "\n",
      "http://www.univie.ac.at/webda/cgi-bin/frame_data_list.cgi?lod0481+ubvpg+ubv.pgo\n",
      "Retrieval error. Skipping lod0481\n",
      "lod0565\n",
      "error with parsing mags html"
     ]
    },
    {
     "name": "stderr",
     "output_type": "stream",
     "text": [
      "\r",
      " 44%|████▎     | 413/946 [1:24:19<17:49,  2.01s/it]"
     ]
    },
    {
     "name": "stdout",
     "output_type": "stream",
     "text": [
      "\n",
      "http://www.univie.ac.at/webda/cgi-bin/frame_data_list.cgi?lod0565+ubvpg+ubv.pgo\n",
      "Retrieval error. Skipping lod0565\n",
      "lod0615\n",
      "error with parsing mags html"
     ]
    },
    {
     "name": "stderr",
     "output_type": "stream",
     "text": [
      "\r",
      " 44%|████▍     | 414/946 [1:24:21<16:48,  1.90s/it]"
     ]
    },
    {
     "name": "stdout",
     "output_type": "stream",
     "text": [
      "\n",
      "http://www.univie.ac.at/webda/cgi-bin/frame_data_list.cgi?lod0615+ubvpg+ubv.pgo\n",
      "Retrieval error. Skipping lod0615\n",
      "lod0682\n",
      "error with parsing mags html"
     ]
    },
    {
     "name": "stderr",
     "output_type": "stream",
     "text": [
      "\r",
      " 44%|████▍     | 415/946 [1:24:22<15:59,  1.81s/it]"
     ]
    },
    {
     "name": "stdout",
     "output_type": "stream",
     "text": [
      "\n",
      "http://www.univie.ac.at/webda/cgi-bin/frame_data_list.cgi?lod0682+ubvpg+ubv.pgo\n",
      "Retrieval error. Skipping lod0682\n",
      "lod0694\n",
      "error with parsing mags html"
     ]
    },
    {
     "name": "stderr",
     "output_type": "stream",
     "text": [
      "\r",
      " 44%|████▍     | 416/946 [1:24:24<16:33,  1.88s/it]"
     ]
    },
    {
     "name": "stdout",
     "output_type": "stream",
     "text": [
      "\n",
      "http://www.univie.ac.at/webda/cgi-bin/frame_data_list.cgi?lod0694+ubvpg+ubv.pgo\n",
      "Retrieval error. Skipping lod0694\n",
      "lod0807\n",
      "error with parsing mags html"
     ]
    },
    {
     "name": "stderr",
     "output_type": "stream",
     "text": [
      "\r",
      " 44%|████▍     | 417/946 [1:24:26<15:59,  1.81s/it]"
     ]
    },
    {
     "name": "stdout",
     "output_type": "stream",
     "text": [
      "\n",
      "http://www.univie.ac.at/webda/cgi-bin/frame_data_list.cgi?lod0807+ubvpg+ubv.pgo\n",
      "Retrieval error. Skipping lod0807\n",
      "lod0821\n",
      "error with parsing mags html"
     ]
    },
    {
     "name": "stderr",
     "output_type": "stream",
     "text": [
      "\r",
      " 44%|████▍     | 418/946 [1:24:28<15:48,  1.80s/it]"
     ]
    },
    {
     "name": "stdout",
     "output_type": "stream",
     "text": [
      "\n",
      "http://www.univie.ac.at/webda/cgi-bin/frame_data_list.cgi?lod0821+ubvpg+ubv.pgo\n",
      "Retrieval error. Skipping lod0821\n",
      "lod0915\n",
      "error with parsing mags html"
     ]
    },
    {
     "name": "stderr",
     "output_type": "stream",
     "text": [
      "\r",
      " 44%|████▍     | 419/946 [1:24:30<15:26,  1.76s/it]"
     ]
    },
    {
     "name": "stdout",
     "output_type": "stream",
     "text": [
      "\n",
      "http://www.univie.ac.at/webda/cgi-bin/frame_data_list.cgi?lod0915+ubvpg+ubv.pgo\n",
      "Retrieval error. Skipping lod0915\n",
      "lod0995\n",
      "error with parsing mags html"
     ]
    },
    {
     "name": "stderr",
     "output_type": "stream",
     "text": [
      "\r",
      " 44%|████▍     | 420/946 [1:24:31<15:19,  1.75s/it]"
     ]
    },
    {
     "name": "stdout",
     "output_type": "stream",
     "text": [
      "\n",
      "http://www.univie.ac.at/webda/cgi-bin/frame_data_list.cgi?lod0995+ubvpg+ubv.pgo\n",
      "Retrieval error. Skipping lod0995\n",
      "lod1010\n",
      "error with parsing mags html"
     ]
    },
    {
     "name": "stderr",
     "output_type": "stream",
     "text": [
      "\r",
      " 45%|████▍     | 421/946 [1:24:33<15:40,  1.79s/it]"
     ]
    },
    {
     "name": "stdout",
     "output_type": "stream",
     "text": [
      "\n",
      "http://www.univie.ac.at/webda/cgi-bin/frame_data_list.cgi?lod1010+ubvpg+ubv.pgo\n",
      "Retrieval error. Skipping lod1010\n",
      "lod1171\n",
      "error with parsing mags html"
     ]
    },
    {
     "name": "stderr",
     "output_type": "stream",
     "text": [
      "\r",
      " 45%|████▍     | 422/946 [1:24:35<15:05,  1.73s/it]"
     ]
    },
    {
     "name": "stdout",
     "output_type": "stream",
     "text": [
      "\n",
      "http://www.univie.ac.at/webda/cgi-bin/frame_data_list.cgi?lod1171+ubvpg+ubv.pgo\n",
      "Retrieval error. Skipping lod1171\n",
      "lod1194\n",
      "error with parsing mags html"
     ]
    },
    {
     "name": "stderr",
     "output_type": "stream",
     "text": [
      "\r",
      " 45%|████▍     | 423/946 [1:24:36<15:05,  1.73s/it]"
     ]
    },
    {
     "name": "stdout",
     "output_type": "stream",
     "text": [
      "\n",
      "http://www.univie.ac.at/webda/cgi-bin/frame_data_list.cgi?lod1194+ubvpg+ubv.pgo\n",
      "Retrieval error. Skipping lod1194\n",
      "lod1225\n",
      "error with parsing mags html"
     ]
    },
    {
     "name": "stderr",
     "output_type": "stream",
     "text": [
      "\r",
      " 45%|████▍     | 424/946 [1:24:38<15:05,  1.73s/it]"
     ]
    },
    {
     "name": "stdout",
     "output_type": "stream",
     "text": [
      "\n",
      "http://www.univie.ac.at/webda/cgi-bin/frame_data_list.cgi?lod1225+ubvpg+ubv.pgo\n",
      "Retrieval error. Skipping lod1225\n",
      "lod1256\n",
      "error with parsing mags html"
     ]
    },
    {
     "name": "stderr",
     "output_type": "stream",
     "text": [
      "\r",
      " 45%|████▍     | 425/946 [1:24:40<15:05,  1.74s/it]"
     ]
    },
    {
     "name": "stdout",
     "output_type": "stream",
     "text": [
      "\n",
      "http://www.univie.ac.at/webda/cgi-bin/frame_data_list.cgi?lod1256+ubvpg+ubv.pgo\n",
      "Retrieval error. Skipping lod1256\n",
      "lod2313\n",
      "error with parsing mags html"
     ]
    },
    {
     "name": "stderr",
     "output_type": "stream",
     "text": [
      "\r",
      " 45%|████▌     | 426/946 [1:24:42<15:03,  1.74s/it]"
     ]
    },
    {
     "name": "stdout",
     "output_type": "stream",
     "text": [
      "\n",
      "http://www.univie.ac.at/webda/cgi-bin/frame_data_list.cgi?lod2313+ubvpg+ubv.pgo\n",
      "Retrieval error. Skipping lod2313\n",
      "loi01\n",
      "error with parsing mags html"
     ]
    },
    {
     "name": "stderr",
     "output_type": "stream",
     "text": [
      "\r",
      " 45%|████▌     | 427/946 [1:24:44<15:43,  1.82s/it]"
     ]
    },
    {
     "name": "stdout",
     "output_type": "stream",
     "text": [
      "\n",
      "http://www.univie.ac.at/webda/cgi-bin/frame_data_list.cgi?loi01+ubvpg+ubv.pgo\n",
      "Retrieval error. Skipping loi01\n",
      "lusk01\n",
      "error with parsing mags html"
     ]
    },
    {
     "name": "stderr",
     "output_type": "stream",
     "text": [
      "\r",
      " 45%|████▌     | 428/946 [1:24:46<16:23,  1.90s/it]"
     ]
    },
    {
     "name": "stdout",
     "output_type": "stream",
     "text": [
      "\n",
      "http://www.univie.ac.at/webda/cgi-bin/frame_data_list.cgi?lusk01+ubvpg+ubv.pgo\n",
      "Retrieval error. Skipping lusk01\n",
      "ly01\n",
      "error with parsing mags html"
     ]
    },
    {
     "name": "stderr",
     "output_type": "stream",
     "text": [
      "\r",
      " 45%|████▌     | 429/946 [1:24:47<15:57,  1.85s/it]"
     ]
    },
    {
     "name": "stdout",
     "output_type": "stream",
     "text": [
      "\n",
      "http://www.univie.ac.at/webda/cgi-bin/frame_data_list.cgi?ly01+ubvpg+ubv.pgo\n",
      "Retrieval error. Skipping ly01\n",
      "ly02\n",
      "ly02 66\n",
      "Data retrived, starting pbsearch\n",
      "('searched for a subset of ', 44, 'Coords against 2mass list of', 9073309)"
     ]
    },
    {
     "name": "stderr",
     "output_type": "stream",
     "text": [
      "\r",
      " 45%|████▌     | 430/946 [1:25:13<1:16:45,  8.93s/it]"
     ]
    },
    {
     "name": "stdout",
     "output_type": "stream",
     "text": [
      "\n",
      "('Coord matches: ', 0, 'with a tolerance of ', 0.005556)\n",
      "No matches. Skipping ly02\n",
      "ly04\n",
      "error with parsing mags html"
     ]
    },
    {
     "name": "stderr",
     "output_type": "stream",
     "text": [
      "\r",
      " 46%|████▌     | 431/946 [1:25:14<57:24,  6.69s/it]  "
     ]
    },
    {
     "name": "stdout",
     "output_type": "stream",
     "text": [
      "\n",
      "http://www.univie.ac.at/webda/cgi-bin/frame_data_list.cgi?ly04+ubvpg+ubv.pgo\n",
      "Retrieval error. Skipping ly04\n",
      "ly06\n",
      "ly06"
     ]
    },
    {
     "name": "stderr",
     "output_type": "stream",
     "text": [
      "\r",
      " 46%|████▌     | 432/946 [1:25:16<44:10,  5.16s/it]"
     ]
    },
    {
     "name": "stdout",
     "output_type": "stream",
     "text": [
      " 0\n",
      "Data retrived, starting pbsearch\n",
      "('searched for a subset of ', 0, 'Coords against 2mass list of', 9073309)\n",
      "('Coord matches: ', 0, 'with a tolerance of ', 0.005556)\n",
      "No matches. Skipping ly06\n",
      "ly07\n",
      "error with parsing mags html"
     ]
    },
    {
     "name": "stderr",
     "output_type": "stream",
     "text": [
      "\r",
      " 46%|████▌     | 433/946 [1:25:18<35:01,  4.10s/it]"
     ]
    },
    {
     "name": "stdout",
     "output_type": "stream",
     "text": [
      "\n",
      "http://www.univie.ac.at/webda/cgi-bin/frame_data_list.cgi?ly07+ubvpg+ubv.pgo\n",
      "Retrieval error. Skipping ly07\n",
      "ly12\n",
      "error with parsing mags html"
     ]
    },
    {
     "name": "stderr",
     "output_type": "stream",
     "text": [
      "\r",
      " 46%|████▌     | 434/946 [1:25:20<31:01,  3.64s/it]"
     ]
    },
    {
     "name": "stdout",
     "output_type": "stream",
     "text": [
      "\n",
      "http://www.univie.ac.at/webda/cgi-bin/frame_data_list.cgi?ly12+ubvpg+ubv.pgo\n",
      "Retrieval error. Skipping ly12\n",
      "ly14\n",
      "error with parsing mags html"
     ]
    },
    {
     "name": "stderr",
     "output_type": "stream",
     "text": [
      "\r",
      " 46%|████▌     | 435/946 [1:25:22<25:51,  3.04s/it]"
     ]
    },
    {
     "name": "stdout",
     "output_type": "stream",
     "text": [
      "\n",
      "http://www.univie.ac.at/webda/cgi-bin/frame_data_list.cgi?ly14+ubvpg+ubv.pgo\n",
      "Retrieval error. Skipping ly14\n",
      "ma38\n",
      "error with parsing mags html"
     ]
    },
    {
     "name": "stderr",
     "output_type": "stream",
     "text": [
      "\r",
      " 46%|████▌     | 436/946 [1:25:24<22:30,  2.65s/it]"
     ]
    },
    {
     "name": "stdout",
     "output_type": "stream",
     "text": [
      "\n",
      "http://www.univie.ac.at/webda/cgi-bin/frame_data_list.cgi?ma38+ubvpg+ubv.pgo\n",
      "Retrieval error. Skipping ma38\n",
      "ma50\n",
      "ma50 98\n",
      "Data retrived, starting pbsearch\n",
      "('searched for a subset of ', 98, 'Coords against 2mass list of', 9073309)"
     ]
    },
    {
     "name": "stderr",
     "output_type": "stream",
     "text": [
      "\r",
      " 46%|████▌     | 437/946 [1:26:13<2:21:26, 16.67s/it]"
     ]
    },
    {
     "name": "stdout",
     "output_type": "stream",
     "text": [
      "\n",
      "('Coord matches: ', 0, 'with a tolerance of ', 0.005556)\n",
      "No matches. Skipping ma50\n",
      "mam01\n",
      "error with parsing mags html"
     ]
    },
    {
     "name": "stderr",
     "output_type": "stream",
     "text": [
      "\r",
      " 46%|████▋     | 438/946 [1:26:16<1:46:02, 12.52s/it]"
     ]
    },
    {
     "name": "stdout",
     "output_type": "stream",
     "text": [
      "\n",
      "http://www.univie.ac.at/webda/cgi-bin/frame_data_list.cgi?mam01+ubvpg+ubv.pgo\n",
      "Retrieval error. Skipping mam01\n",
      "may01\n",
      "error with parsing mags html"
     ]
    },
    {
     "name": "stderr",
     "output_type": "stream",
     "text": [
      "\r",
      " 46%|████▋     | 439/946 [1:27:54<5:23:00, 38.23s/it]"
     ]
    },
    {
     "name": "stdout",
     "output_type": "stream",
     "text": [
      "\n",
      "http://www.univie.ac.at/webda/cgi-bin/frame_data_list.cgi?may01+ubvpg+ubv.pgo\n",
      "Retrieval error. Skipping may01\n",
      "mel020\n",
      "error with parsing coords html"
     ]
    },
    {
     "name": "stderr",
     "output_type": "stream",
     "text": [
      "\r",
      " 47%|████▋     | 440/946 [1:28:04<4:11:03, 29.77s/it]"
     ]
    },
    {
     "name": "stdout",
     "output_type": "stream",
     "text": [
      "\n",
      "http://www.univie.ac.at/webda/cgi-bin/frame_data_list.cgi?mel020+ad2k+ad2000.coo\n",
      "Retrieval error. Skipping mel020\n",
      "mel022\n",
      "error with parsing coords html"
     ]
    },
    {
     "name": "stderr",
     "output_type": "stream",
     "text": [
      "\r",
      " 47%|████▋     | 441/946 [1:28:06<3:00:15, 21.42s/it]"
     ]
    },
    {
     "name": "stdout",
     "output_type": "stream",
     "text": [
      "\n",
      "http://www.univie.ac.at/webda/cgi-bin/frame_data_list.cgi?mel022+ad2k+ad2000.coo\n",
      "Retrieval error. Skipping mel022\n",
      "mel025\n",
      "error with parsing mags html"
     ]
    },
    {
     "name": "stderr",
     "output_type": "stream",
     "text": [
      "\r",
      " 47%|████▋     | 442/946 [1:28:08<2:10:35, 15.55s/it]"
     ]
    },
    {
     "name": "stdout",
     "output_type": "stream",
     "text": [
      "\n",
      "http://www.univie.ac.at/webda/cgi-bin/frame_data_list.cgi?mel025+ubvpg+ubv.pgo\n",
      "Retrieval error. Skipping mel025\n",
      "mel066\n",
      "mel066 5\n",
      "Data retrived, starting pbsearch\n",
      "('searched for a subset of ', 5, 'Coords against 2mass list of', 9073309)\n",
      "('Coord matches: ', 2, 'with a tolerance of ', 0.005556)\n",
      "mel066 had no repeats\n",
      "mel066"
     ]
    },
    {
     "name": "stderr",
     "output_type": "stream",
     "text": [
      "\r",
      " 47%|████▋     | 443/946 [1:28:12<1:40:55, 12.04s/it]"
     ]
    },
    {
     "name": "stdout",
     "output_type": "stream",
     "text": [
      " had error with histogram\n",
      "mel071\n",
      "mel071 40\n",
      "Data retrived, starting pbsearch\n",
      "('searched for a subset of ', 40, 'Coords against 2mass list of', 9073309)"
     ]
    },
    {
     "name": "stderr",
     "output_type": "stream",
     "text": [
      "\r",
      " 47%|████▋     | 444/946 [1:28:30<1:57:08, 14.00s/it]"
     ]
    },
    {
     "name": "stdout",
     "output_type": "stream",
     "text": [
      "\n",
      "('Coord matches: ', 6, 'with a tolerance of ', 0.005556)\n",
      "mel071 had no repeats\n",
      "mel071 had error with histogram\n",
      "mel101\n",
      "error with parsing mags html"
     ]
    },
    {
     "name": "stderr",
     "output_type": "stream",
     "text": [
      "\r",
      " 47%|████▋     | 445/946 [1:28:32<1:25:57, 10.29s/it]"
     ]
    },
    {
     "name": "stdout",
     "output_type": "stream",
     "text": [
      "\n",
      "http://www.univie.ac.at/webda/cgi-bin/frame_data_list.cgi?mel101+ubvpg+ubv.pgo\n",
      "Retrieval error. Skipping mel101\n",
      "mel105\n",
      "mel105 17\n",
      "Data retrived, starting pbsearch\n",
      "('searched for a subset of ', 17, 'Coords against 2mass list of', 9073309)"
     ]
    },
    {
     "name": "stderr",
     "output_type": "stream",
     "text": [
      "\r",
      " 47%|████▋     | 446/946 [1:28:41<1:22:00,  9.84s/it]"
     ]
    },
    {
     "name": "stdout",
     "output_type": "stream",
     "text": [
      "\n",
      "('Coord matches: ', 0, 'with a tolerance of ', 0.005556)\n",
      "No matches. Skipping mel105\n",
      "mel111\n",
      "mel111 6\n",
      "Data retrived, starting pbsearch\n",
      "('searched for a subset of ', 6, 'Coords against 2mass list of', 9073309)"
     ]
    },
    {
     "name": "stderr",
     "output_type": "stream",
     "text": [
      "\r",
      " 47%|████▋     | 447/946 [1:28:45<1:08:18,  8.21s/it]"
     ]
    },
    {
     "name": "stdout",
     "output_type": "stream",
     "text": [
      "\n",
      "('Coord matches: ', 0, 'with a tolerance of ', 0.005556)\n",
      "No matches. Skipping mel111\n",
      "mel227\n",
      "error with parsing mags html"
     ]
    },
    {
     "name": "stderr",
     "output_type": "stream",
     "text": [
      "\r",
      " 47%|████▋     | 448/946 [1:28:47<51:28,  6.20s/it]  "
     ]
    },
    {
     "name": "stdout",
     "output_type": "stream",
     "text": [
      "\n",
      "http://www.univie.ac.at/webda/cgi-bin/frame_data_list.cgi?mel227+ubvpg+ubv.pgo\n",
      "Retrieval error. Skipping mel227\n",
      "mof01\n",
      "error with parsing mags html"
     ]
    },
    {
     "name": "stderr",
     "output_type": "stream",
     "text": [
      " 47%|████▋     | 449/946 [1:28:48<39:48,  4.81s/it]WARNING: IllegalHourWarning: 'hour' was found  to be '24.0', which is not in range (-24, 24). Treating as 24 hr [astropy.coordinates.angle_utilities]\n",
      "WARNING:astropy:IllegalHourWarning: 'hour' was found  to be '24.0', which is not in range (-24, 24). Treating as 24 hr\n"
     ]
    },
    {
     "name": "stdout",
     "output_type": "stream",
     "text": [
      "\n",
      "http://www.univie.ac.at/webda/cgi-bin/frame_data_list.cgi?mof01+ubvpg+ubv.pgo\n",
      "Retrieval error. Skipping mof01\n",
      "ngc0103\n",
      "error with parsing coords html"
     ]
    },
    {
     "name": "stderr",
     "output_type": "stream",
     "text": [
      "\r",
      " 48%|████▊     | 450/946 [1:28:49<29:41,  3.59s/it]"
     ]
    },
    {
     "name": "stdout",
     "output_type": "stream",
     "text": [
      "\n",
      "http://www.univie.ac.at/webda/cgi-bin/frame_data_list.cgi?ngc0103+ad2k+ad2000.coo\n",
      "Retrieval error. Skipping ngc0103\n",
      "ngc0129\n",
      "error with parsing coords html"
     ]
    },
    {
     "name": "stderr",
     "output_type": "stream",
     "text": [
      "\r",
      " 48%|████▊     | 451/946 [1:28:50<22:34,  2.74s/it]"
     ]
    },
    {
     "name": "stdout",
     "output_type": "stream",
     "text": [
      "\n",
      "http://www.univie.ac.at/webda/cgi-bin/frame_data_list.cgi?ngc0129+ad2k+ad2000.coo\n",
      "Retrieval error. Skipping ngc0129\n",
      "ngc0133\n",
      "error with parsing coords html"
     ]
    },
    {
     "name": "stderr",
     "output_type": "stream",
     "text": [
      "\r",
      " 48%|████▊     | 452/946 [1:28:50<17:34,  2.14s/it]"
     ]
    },
    {
     "name": "stdout",
     "output_type": "stream",
     "text": [
      "\n",
      "http://www.univie.ac.at/webda/cgi-bin/frame_data_list.cgi?ngc0133+ad2k+ad2000.coo\n",
      "Retrieval error. Skipping ngc0133\n",
      "ngc0136\n",
      "error with parsing mags html"
     ]
    },
    {
     "name": "stderr",
     "output_type": "stream",
     "text": [
      "\r",
      " 48%|████▊     | 453/946 [1:28:57<29:31,  3.59s/it]"
     ]
    },
    {
     "name": "stdout",
     "output_type": "stream",
     "text": [
      "\n",
      "http://www.univie.ac.at/webda/cgi-bin/frame_data_list.cgi?ngc0136+ubvpg+ubv.pgo\n",
      "Retrieval error. Skipping ngc0136\n",
      "ngc0146\n",
      "ngc0146 171\n",
      "Data retrived, starting pbsearch\n",
      "('searched for a subset of ', 171, 'Coords against 2mass list of', 9073309)"
     ]
    },
    {
     "name": "stderr",
     "output_type": "stream",
     "text": [
      "\r",
      " 48%|████▊     | 454/946 [1:30:18<3:38:30, 26.65s/it]"
     ]
    },
    {
     "name": "stdout",
     "output_type": "stream",
     "text": [
      "\n",
      "('Coord matches: ', 0, 'with a tolerance of ', 0.005556)\n",
      "No matches. Skipping ngc0146\n",
      "ngc0188\n",
      "error with parsing mags html"
     ]
    },
    {
     "name": "stderr",
     "output_type": "stream",
     "text": [
      "\r",
      " 48%|████▊     | 455/946 [1:31:10<4:41:25, 34.39s/it]"
     ]
    },
    {
     "name": "stdout",
     "output_type": "stream",
     "text": [
      "\n",
      "http://www.univie.ac.at/webda/cgi-bin/frame_data_list.cgi?ngc0188+ubvpg+ubv.pgo\n",
      "Retrieval error. Skipping ngc0188\n",
      "ngc0189\n",
      "error with parsing coords html"
     ]
    },
    {
     "name": "stderr",
     "output_type": "stream",
     "text": [
      "\r",
      " 48%|████▊     | 456/946 [1:31:11<3:18:39, 24.33s/it]"
     ]
    },
    {
     "name": "stdout",
     "output_type": "stream",
     "text": [
      "\n",
      "http://www.univie.ac.at/webda/cgi-bin/frame_data_list.cgi?ngc0189+ad2k+ad2000.coo\n",
      "Retrieval error. Skipping ngc0189\n",
      "ngc0225\n",
      "error with parsing coords html"
     ]
    },
    {
     "name": "stderr",
     "output_type": "stream",
     "text": [
      "\r",
      " 48%|████▊     | 457/946 [1:31:12<2:20:47, 17.27s/it]"
     ]
    },
    {
     "name": "stdout",
     "output_type": "stream",
     "text": [
      "\n",
      "http://www.univie.ac.at/webda/cgi-bin/frame_data_list.cgi?ngc0225+ad2k+ad2000.coo\n",
      "Retrieval error. Skipping ngc0225\n",
      "ngc0381\n",
      "ngc0381 170\n",
      "Data retrived, starting pbsearch\n",
      "('searched for a subset of ', 168, 'Coords against 2mass list of', 9073309)"
     ]
    },
    {
     "name": "stderr",
     "output_type": "stream",
     "text": [
      "\r",
      " 48%|████▊     | 458/946 [1:32:25<4:36:01, 33.94s/it]"
     ]
    },
    {
     "name": "stdout",
     "output_type": "stream",
     "text": [
      "\n",
      "('Coord matches: ', 0, 'with a tolerance of ', 0.005556)\n",
      "No matches. Skipping ngc0381\n",
      "ngc0433\n",
      "error with parsing mags html"
     ]
    },
    {
     "name": "stderr",
     "output_type": "stream",
     "text": [
      "\r",
      " 49%|████▊     | 459/946 [1:32:26<3:16:42, 24.23s/it]"
     ]
    },
    {
     "name": "stdout",
     "output_type": "stream",
     "text": [
      "\n",
      "http://www.univie.ac.at/webda/cgi-bin/frame_data_list.cgi?ngc0433+ubvpg+ubv.pgo\n",
      "Retrieval error. Skipping ngc0433\n",
      "ngc0436\n",
      "error with parsing mags html"
     ]
    },
    {
     "name": "stderr",
     "output_type": "stream",
     "text": [
      "\r",
      " 49%|████▊     | 460/946 [1:32:28<2:21:36, 17.48s/it]"
     ]
    },
    {
     "name": "stdout",
     "output_type": "stream",
     "text": [
      "\n",
      "http://www.univie.ac.at/webda/cgi-bin/frame_data_list.cgi?ngc0436+ubvpg+ubv.pgo\n",
      "Retrieval error. Skipping ngc0436\n",
      "ngc0457\n",
      "error with parsing mags html"
     ]
    },
    {
     "name": "stderr",
     "output_type": "stream",
     "text": [
      "\r",
      " 49%|████▊     | 461/946 [1:32:54<2:41:41, 20.00s/it]"
     ]
    },
    {
     "name": "stdout",
     "output_type": "stream",
     "text": [
      "\n",
      "http://www.univie.ac.at/webda/cgi-bin/frame_data_list.cgi?ngc0457+ubvpg+ubv.pgo\n",
      "Retrieval error. Skipping ngc0457\n",
      "ngc0559\n",
      "ngc0559 81\n",
      "Data retrived, starting pbsearch\n",
      "('searched for a subset of ', 81, 'Coords against 2mass list of', 9073309)"
     ]
    },
    {
     "name": "stderr",
     "output_type": "stream",
     "text": [
      "\r",
      " 49%|████▉     | 462/946 [1:34:14<5:06:27, 37.99s/it]"
     ]
    },
    {
     "name": "stdout",
     "output_type": "stream",
     "text": [
      "\n",
      "('Coord matches: ', 0, 'with a tolerance of ', 0.005556)\n",
      "No matches. Skipping ngc0559\n",
      "ngc0581\n",
      "error with parsing mags html"
     ]
    },
    {
     "name": "stderr",
     "output_type": "stream",
     "text": [
      "\r",
      " 49%|████▉     | 463/946 [1:34:18<3:42:58, 27.70s/it]"
     ]
    },
    {
     "name": "stdout",
     "output_type": "stream",
     "text": [
      "\n",
      "http://www.univie.ac.at/webda/cgi-bin/frame_data_list.cgi?ngc0581+ubvpg+ubv.pgo\n",
      "Retrieval error. Skipping ngc0581\n",
      "ngc0637\n",
      "ngc0637 80\n",
      "Data retrived, starting pbsearch\n",
      "('searched for a subset of ', 62, 'Coords against 2mass list of', 9073309)"
     ]
    },
    {
     "name": "stderr",
     "output_type": "stream",
     "text": [
      "\r",
      " 49%|████▉     | 464/946 [1:34:46<3:44:17, 27.92s/it]"
     ]
    },
    {
     "name": "stdout",
     "output_type": "stream",
     "text": [
      "\n",
      "('Coord matches: ', 0, 'with a tolerance of ', 0.005556)\n",
      "No matches. Skipping ngc0637\n",
      "ngc0654\n",
      "ngc0654 3\n",
      "Data retrived, starting pbsearch\n",
      "('searched for a subset of ', 3, 'Coords against 2mass list of', 9073309)"
     ]
    },
    {
     "name": "stderr",
     "output_type": "stream",
     "text": [
      "\r",
      " 49%|████▉     | 465/946 [1:34:49<2:43:43, 20.42s/it]"
     ]
    },
    {
     "name": "stdout",
     "output_type": "stream",
     "text": [
      "\n",
      "('Coord matches: ', 0, 'with a tolerance of ', 0.005556)\n",
      "No matches. Skipping ngc0654\n",
      "ngc0659\n",
      "ngc0659 29\n",
      "Data retrived, starting pbsearch\n",
      "('searched for a subset of ', 29, 'Coords against 2mass list of', 9073309)"
     ]
    },
    {
     "name": "stderr",
     "output_type": "stream",
     "text": [
      "\r",
      " 49%|████▉     | 466/946 [1:35:03<2:27:39, 18.46s/it]"
     ]
    },
    {
     "name": "stdout",
     "output_type": "stream",
     "text": [
      "\n",
      "('Coord matches: ', 0, 'with a tolerance of ', 0.005556)\n",
      "No matches. Skipping ngc0659\n",
      "ngc0663\n",
      "error with parsing mags html"
     ]
    },
    {
     "name": "stderr",
     "output_type": "stream",
     "text": [
      "\r",
      " 49%|████▉     | 467/946 [1:35:15<2:13:18, 16.70s/it]"
     ]
    },
    {
     "name": "stdout",
     "output_type": "stream",
     "text": [
      "\n",
      "http://www.univie.ac.at/webda/cgi-bin/frame_data_list.cgi?ngc0663+ubvpg+ubv.pgo\n",
      "Retrieval error. Skipping ngc0663\n",
      "ngc0744\n",
      "ngc0744 7\n",
      "Data retrived, starting pbsearch\n",
      "('searched for a subset of ', 7, 'Coords against 2mass list of', 9073309)"
     ]
    },
    {
     "name": "stderr",
     "output_type": "stream",
     "text": [
      "\r",
      " 49%|████▉     | 468/946 [1:35:20<1:44:02, 13.06s/it]"
     ]
    },
    {
     "name": "stdout",
     "output_type": "stream",
     "text": [
      "\n",
      "('Coord matches: ', 0, 'with a tolerance of ', 0.005556)\n",
      "No matches. Skipping ngc0744\n",
      "ngc0752\n",
      "ngc0752 903\n",
      "Data retrived, starting pbsearch\n",
      "('searched for a subset of ', 838, 'Coords against 2mass list of', 9073309)"
     ]
    },
    {
     "name": "stderr",
     "output_type": "stream",
     "text": [
      "\r",
      " 50%|████▉     | 469/946 [1:41:31<15:58:27, 120.56s/it]"
     ]
    },
    {
     "name": "stdout",
     "output_type": "stream",
     "text": [
      "\n",
      "('Coord matches: ', 0, 'with a tolerance of ', 0.005556)\n",
      "No matches. Skipping ngc0752\n",
      "ngc0869\n",
      "error with parsing coords html"
     ]
    },
    {
     "name": "stderr",
     "output_type": "stream",
     "text": [
      "\r",
      " 50%|████▉     | 470/946 [1:41:37<11:22:06, 85.98s/it] "
     ]
    },
    {
     "name": "stdout",
     "output_type": "stream",
     "text": [
      "\n",
      "http://www.univie.ac.at/webda/cgi-bin/frame_data_list.cgi?ngc0869+ad2k+ad2000.coo\n",
      "Retrieval error. Skipping ngc0869\n",
      "ngc0884\n",
      "error with parsing coords html"
     ]
    },
    {
     "name": "stderr",
     "output_type": "stream",
     "text": [
      "\r",
      " 50%|████▉     | 471/946 [1:41:42<8:08:06, 61.66s/it] "
     ]
    },
    {
     "name": "stdout",
     "output_type": "stream",
     "text": [
      "\n",
      "http://www.univie.ac.at/webda/cgi-bin/frame_data_list.cgi?ngc0884+ad2k+ad2000.coo\n",
      "Retrieval error. Skipping ngc0884\n",
      "ngc0886\n",
      "error with parsing mags html"
     ]
    },
    {
     "name": "stderr",
     "output_type": "stream",
     "text": [
      "\r",
      " 50%|████▉     | 472/946 [1:41:43<5:44:53, 43.66s/it]"
     ]
    },
    {
     "name": "stdout",
     "output_type": "stream",
     "text": [
      "\n",
      "http://www.univie.ac.at/webda/cgi-bin/frame_data_list.cgi?ngc0886+ubvpg+ubv.pgo\n",
      "Retrieval error. Skipping ngc0886\n",
      "ngc0956\n",
      "error with parsing mags html"
     ]
    },
    {
     "name": "stderr",
     "output_type": "stream",
     "text": [
      "\r",
      " 50%|█████     | 473/946 [1:42:38<6:09:38, 46.89s/it]"
     ]
    },
    {
     "name": "stdout",
     "output_type": "stream",
     "text": [
      "\n",
      "http://www.univie.ac.at/webda/cgi-bin/frame_data_list.cgi?ngc0956+ubvpg+ubv.pgo\n",
      "Retrieval error. Skipping ngc0956\n",
      "ngc0957\n",
      "ngc0957 292\n",
      "Data retrived, starting pbsearch\n",
      "('searched for a subset of ', 155, 'Coords against 2mass list of', 9073309)"
     ]
    },
    {
     "name": "stderr",
     "output_type": "stream",
     "text": [
      "\r",
      " 50%|█████     | 474/946 [1:45:18<10:36:36, 80.92s/it]"
     ]
    },
    {
     "name": "stdout",
     "output_type": "stream",
     "text": [
      "\n",
      "('Coord matches: ', 0, 'with a tolerance of ', 0.005556)\n",
      "No matches. Skipping ngc0957\n",
      "ngc1027\n",
      "Couldn't find magnitude link for"
     ]
    },
    {
     "name": "stderr",
     "output_type": "stream",
     "text": [
      "\r",
      " 50%|█████     | 475/946 [1:50:48<20:21:34, 155.61s/it]"
     ]
    },
    {
     "name": "stdout",
     "output_type": "stream",
     "text": [
      " ngc1027\n",
      "http://www.univie.ac.at/webda/cgi-bin/frame_data_list.cgi?ngc1027+ubvpg+ubv.pgo\n",
      "error with parsing mags html\n",
      "http://www.univie.ac.at/webda/cgi-bin/frame_data_list.cgi?ngc1027+ubvpg+ubv.pgo\n",
      "Retrieval error. Skipping ngc1027\n",
      "ngc1039\n",
      "error with parsing mags html"
     ]
    },
    {
     "name": "stderr",
     "output_type": "stream",
     "text": [
      "\r",
      " 50%|█████     | 476/946 [1:50:52<14:23:56, 110.29s/it]"
     ]
    },
    {
     "name": "stdout",
     "output_type": "stream",
     "text": [
      "\n",
      "http://www.univie.ac.at/webda/cgi-bin/frame_data_list.cgi?ngc1039+ubvpg+ubv.pgo\n",
      "Retrieval error. Skipping ngc1039\n",
      "ngc1193\n",
      "error with parsing mags html"
     ]
    },
    {
     "name": "stderr",
     "output_type": "stream",
     "text": [
      "\r",
      " 50%|█████     | 477/946 [1:50:56<10:12:45, 78.39s/it] "
     ]
    },
    {
     "name": "stdout",
     "output_type": "stream",
     "text": [
      "\n",
      "http://www.univie.ac.at/webda/cgi-bin/frame_data_list.cgi?ngc1193+ubvpg+ubv.pgo\n",
      "Retrieval error. Skipping ngc1193\n",
      "ngc1245\n",
      "ngc1245 32\n",
      "Data retrived, starting pbsearch\n",
      "('searched for a subset of ', 32, 'Coords against 2mass list of', 9073309)"
     ]
    },
    {
     "name": "stderr",
     "output_type": "stream",
     "text": [
      "\r",
      " 51%|█████     | 478/946 [1:51:12<7:43:28, 59.42s/it] "
     ]
    },
    {
     "name": "stdout",
     "output_type": "stream",
     "text": [
      "\n",
      "('Coord matches: ', 0, 'with a tolerance of ', 0.005556)\n",
      "No matches. Skipping ngc1245\n",
      "ngc1252\n",
      "error with parsing coords html"
     ]
    },
    {
     "name": "stderr",
     "output_type": "stream",
     "text": [
      "\r",
      " 51%|█████     | 479/946 [1:51:14<5:29:10, 42.29s/it]"
     ]
    },
    {
     "name": "stdout",
     "output_type": "stream",
     "text": [
      "\n",
      "http://www.univie.ac.at/webda/cgi-bin/frame_data_list.cgi?ngc1252+ad2k+ad2000.coo\n",
      "Retrieval error. Skipping ngc1252\n",
      "ngc1342\n",
      "ngc1342 55\n",
      "Data retrived, starting pbsearch\n",
      "('searched for a subset of ', 49, 'Coords against 2mass list of', 9073309)"
     ]
    },
    {
     "name": "stderr",
     "output_type": "stream",
     "text": [
      "\r",
      " 51%|█████     | 480/946 [1:51:36<4:41:37, 36.26s/it]"
     ]
    },
    {
     "name": "stdout",
     "output_type": "stream",
     "text": [
      "\n",
      "('Coord matches: ', 0, 'with a tolerance of ', 0.005556)\n",
      "No matches. Skipping ngc1342\n",
      "ngc1444\n",
      "ngc1444 6\n",
      "Data retrived, starting pbsearch\n",
      "('searched for a subset of ', 6, 'Coords against 2mass list of', 9073309)"
     ]
    },
    {
     "name": "stderr",
     "output_type": "stream",
     "text": [
      "\r",
      " 51%|█████     | 481/946 [1:51:41<3:28:49, 26.94s/it]"
     ]
    },
    {
     "name": "stdout",
     "output_type": "stream",
     "text": [
      "\n",
      "('Coord matches: ', 0, 'with a tolerance of ', 0.005556)\n",
      "No matches. Skipping ngc1444\n",
      "ngc1496\n",
      "error with parsing mags html"
     ]
    },
    {
     "name": "stderr",
     "output_type": "stream",
     "text": [
      "\r",
      " 51%|█████     | 482/946 [1:51:43<2:30:21, 19.44s/it]"
     ]
    },
    {
     "name": "stdout",
     "output_type": "stream",
     "text": [
      "\n",
      "http://www.univie.ac.at/webda/cgi-bin/frame_data_list.cgi?ngc1496+ubvpg+ubv.pgo\n",
      "Retrieval error. Skipping ngc1496\n",
      "ngc1502\n",
      "ngc1502 136\n",
      "Data retrived, starting pbsearch\n",
      "('searched for a subset of ', 136, 'Coords against 2mass list of', 9073309)"
     ]
    },
    {
     "name": "stderr",
     "output_type": "stream",
     "text": [
      "\r",
      " 51%|█████     | 483/946 [1:52:42<4:01:40, 31.32s/it]"
     ]
    },
    {
     "name": "stdout",
     "output_type": "stream",
     "text": [
      "\n",
      "('Coord matches: ', 0, 'with a tolerance of ', 0.005556)\n",
      "No matches. Skipping ngc1502\n",
      "ngc1513\n",
      "error with parsing mags html"
     ]
    },
    {
     "name": "stderr",
     "output_type": "stream",
     "text": [
      "\r",
      " 51%|█████     | 484/946 [1:53:06<3:42:49, 28.94s/it]"
     ]
    },
    {
     "name": "stdout",
     "output_type": "stream",
     "text": [
      "\n",
      "http://www.univie.ac.at/webda/cgi-bin/frame_data_list.cgi?ngc1513+ubvpg+ubv.pgo\n",
      "Retrieval error. Skipping ngc1513\n",
      "ngc1528\n",
      "error with parsing mags html"
     ]
    },
    {
     "name": "stderr",
     "output_type": "stream",
     "text": [
      "\r",
      " 51%|█████▏    | 485/946 [1:53:12<2:49:21, 22.04s/it]"
     ]
    },
    {
     "name": "stdout",
     "output_type": "stream",
     "text": [
      "\n",
      "http://www.univie.ac.at/webda/cgi-bin/frame_data_list.cgi?ngc1528+ubvpg+ubv.pgo\n",
      "Retrieval error. Skipping ngc1528\n",
      "ngc1545\n",
      "ngc1545 6\n",
      "Data retrived, starting pbsearch\n",
      "('searched for a subset of ', 6, 'Coords against 2mass list of', 9073309)"
     ]
    },
    {
     "name": "stderr",
     "output_type": "stream",
     "text": [
      "\r",
      " 51%|█████▏    | 486/946 [1:53:16<2:08:17, 16.73s/it]"
     ]
    },
    {
     "name": "stdout",
     "output_type": "stream",
     "text": [
      "\n",
      "('Coord matches: ', 0, 'with a tolerance of ', 0.005556)\n",
      "No matches. Skipping ngc1545\n",
      "ngc1582\n",
      "error with parsing mags html"
     ]
    },
    {
     "name": "stderr",
     "output_type": "stream",
     "text": [
      "\r",
      " 51%|█████▏    | 487/946 [1:53:25<1:51:33, 14.58s/it]"
     ]
    },
    {
     "name": "stdout",
     "output_type": "stream",
     "text": [
      "\n",
      "http://www.univie.ac.at/webda/cgi-bin/frame_data_list.cgi?ngc1582+ubvpg+ubv.pgo\n",
      "Retrieval error. Skipping ngc1582\n",
      "ngc1624\n",
      "error with parsing mags html"
     ]
    },
    {
     "name": "stderr",
     "output_type": "stream",
     "text": [
      "\r",
      " 52%|█████▏    | 488/946 [1:53:27<1:21:26, 10.67s/it]"
     ]
    },
    {
     "name": "stdout",
     "output_type": "stream",
     "text": [
      "\n",
      "http://www.univie.ac.at/webda/cgi-bin/frame_data_list.cgi?ngc1624+ubvpg+ubv.pgo\n",
      "Retrieval error. Skipping ngc1624\n",
      "ngc1641\n",
      "error with parsing mags html"
     ]
    },
    {
     "name": "stderr",
     "output_type": "stream",
     "text": [
      "\r",
      " 52%|█████▏    | 489/946 [1:53:29<1:02:20,  8.18s/it]"
     ]
    },
    {
     "name": "stdout",
     "output_type": "stream",
     "text": [
      "\n",
      "http://www.univie.ac.at/webda/cgi-bin/frame_data_list.cgi?ngc1641+ubvpg+ubv.pgo\n",
      "Retrieval error. Skipping ngc1641\n",
      "ngc1647\n",
      "ngc1647 303\n",
      "Data retrived, starting pbsearch\n",
      "('searched for a subset of ', 303, 'Coords against 2mass list of', 9073309)"
     ]
    },
    {
     "name": "stderr",
     "output_type": "stream",
     "text": [
      "\r",
      " 52%|█████▏    | 490/946 [1:55:40<5:41:06, 44.88s/it]"
     ]
    },
    {
     "name": "stdout",
     "output_type": "stream",
     "text": [
      "\n",
      "('Coord matches: ', 0, 'with a tolerance of ', 0.005556)\n",
      "No matches. Skipping ngc1647\n",
      "ngc1662\n",
      "ngc1662 40\n",
      "Data retrived, starting pbsearch\n",
      "('searched for a subset of ', 25, 'Coords against 2mass list of', 9073309)"
     ]
    },
    {
     "name": "stderr",
     "output_type": "stream",
     "text": [
      "\r",
      " 52%|█████▏    | 491/946 [1:55:52<4:26:02, 35.08s/it]"
     ]
    },
    {
     "name": "stdout",
     "output_type": "stream",
     "text": [
      "\n",
      "('Coord matches: ', 24, 'with a tolerance of ', 0.005556)\n",
      "ngc1662 had no repeats\n",
      "ngc1662 had error with histogram\n",
      "ngc1663\n",
      "error with parsing coords html"
     ]
    },
    {
     "name": "stderr",
     "output_type": "stream",
     "text": [
      "\r",
      " 52%|█████▏    | 492/946 [1:55:54<3:10:28, 25.17s/it]"
     ]
    },
    {
     "name": "stdout",
     "output_type": "stream",
     "text": [
      "\n",
      "http://www.univie.ac.at/webda/cgi-bin/frame_data_list.cgi?ngc1663+ad2k+ad2000.coo\n",
      "Retrieval error. Skipping ngc1663\n",
      "ngc1664\n",
      "ngc1664 81\n",
      "Data retrived, starting pbsearch\n",
      "('searched for a subset of ', 81, 'Coords against 2mass list of', 9073309)"
     ]
    },
    {
     "name": "stderr",
     "output_type": "stream",
     "text": [
      "\r",
      " 52%|█████▏    | 493/946 [1:56:36<3:46:45, 30.03s/it]"
     ]
    },
    {
     "name": "stdout",
     "output_type": "stream",
     "text": [
      "\n",
      "('Coord matches: ', 0, 'with a tolerance of ', 0.005556)\n",
      "No matches. Skipping ngc1664\n",
      "ngc1708\n",
      "error with parsing mags html"
     ]
    },
    {
     "name": "stderr",
     "output_type": "stream",
     "text": [
      "\r",
      " 52%|█████▏    | 494/946 [1:56:37<2:41:52, 21.49s/it]"
     ]
    },
    {
     "name": "stdout",
     "output_type": "stream",
     "text": [
      "\n",
      "http://www.univie.ac.at/webda/cgi-bin/frame_data_list.cgi?ngc1708+ubvpg+ubv.pgo\n",
      "Retrieval error. Skipping ngc1708\n",
      "ngc1746\n",
      "error with parsing mags html"
     ]
    },
    {
     "name": "stderr",
     "output_type": "stream",
     "text": [
      "\r",
      " 52%|█████▏    | 495/946 [1:56:39<1:58:15, 15.73s/it]"
     ]
    },
    {
     "name": "stdout",
     "output_type": "stream",
     "text": [
      "\n",
      "http://www.univie.ac.at/webda/cgi-bin/frame_data_list.cgi?ngc1746+ubvpg+ubv.pgo\n",
      "Retrieval error. Skipping ngc1746\n",
      "ngc1750\n",
      "ngc1750 429\n",
      "Data retrived, starting pbsearch\n",
      "('searched for a subset of ', 408, 'Coords against 2mass list of', 9073309)"
     ]
    },
    {
     "name": "stderr",
     "output_type": "stream",
     "text": [
      "\r",
      " 52%|█████▏    | 496/946 [1:59:35<7:58:03, 63.74s/it]"
     ]
    },
    {
     "name": "stdout",
     "output_type": "stream",
     "text": [
      "\n",
      "('Coord matches: ', 0, 'with a tolerance of ', 0.005556)\n",
      "No matches. Skipping ngc1750\n",
      "ngc1778\n",
      "ngc1778 29\n",
      "Data retrived, starting pbsearch\n",
      "('searched for a subset of ', 29, 'Coords against 2mass list of', 9073309)"
     ]
    },
    {
     "name": "stderr",
     "output_type": "stream",
     "text": [
      "\r",
      " 53%|█████▎    | 497/946 [1:59:49<6:05:02, 48.78s/it]"
     ]
    },
    {
     "name": "stdout",
     "output_type": "stream",
     "text": [
      "\n",
      "('Coord matches: ', 0, 'with a tolerance of ', 0.005556)\n",
      "No matches. Skipping ngc1778\n",
      "ngc1798\n",
      "error with parsing mags html"
     ]
    },
    {
     "name": "stderr",
     "output_type": "stream",
     "text": [
      "\r",
      " 53%|█████▎    | 498/946 [2:00:01<4:40:46, 37.60s/it]"
     ]
    },
    {
     "name": "stdout",
     "output_type": "stream",
     "text": [
      "\n",
      "http://www.univie.ac.at/webda/cgi-bin/frame_data_list.cgi?ngc1798+ubvpg+ubv.pgo\n",
      "Retrieval error. Skipping ngc1798\n",
      "ngc1802\n",
      "error with parsing mags html"
     ]
    },
    {
     "name": "stderr",
     "output_type": "stream",
     "text": [
      "\r",
      " 53%|█████▎    | 499/946 [2:00:02<3:19:43, 26.81s/it]"
     ]
    },
    {
     "name": "stdout",
     "output_type": "stream",
     "text": [
      "\n",
      "http://www.univie.ac.at/webda/cgi-bin/frame_data_list.cgi?ngc1802+ubvpg+ubv.pgo\n",
      "Retrieval error. Skipping ngc1802\n",
      "ngc1807\n",
      "ngc1807 19\n",
      "Data retrived, starting pbsearch\n",
      "('searched for a subset of ', 19, 'Coords against 2mass list of', 9073309)"
     ]
    },
    {
     "name": "stderr",
     "output_type": "stream",
     "text": [
      "\r",
      " 53%|█████▎    | 500/946 [2:00:14<2:46:13, 22.36s/it]"
     ]
    },
    {
     "name": "stdout",
     "output_type": "stream",
     "text": [
      "\n",
      "('Coord matches: ', 0, 'with a tolerance of ', 0.005556)\n",
      "No matches. Skipping ngc1807\n",
      "ngc1817\n",
      "ngc1817 107\n",
      "Data retrived, starting pbsearch\n",
      "('searched for a subset of ', 107, 'Coords against 2mass list of', 9073309)"
     ]
    },
    {
     "name": "stderr",
     "output_type": "stream",
     "text": [
      "\r",
      " 53%|█████▎    | 501/946 [2:01:15<4:10:24, 33.76s/it]"
     ]
    },
    {
     "name": "stdout",
     "output_type": "stream",
     "text": [
      "\n",
      "('Coord matches: ', 0, 'with a tolerance of ', 0.005556)\n",
      "No matches. Skipping ngc1817\n",
      "ngc1857\n",
      "ngc1857 6\n",
      "Data retrived, starting pbsearch\n",
      "('searched for a subset of ', 6, 'Coords against 2mass list of', 9073309)"
     ]
    },
    {
     "name": "stderr",
     "output_type": "stream",
     "text": [
      "\r",
      " 53%|█████▎    | 502/946 [2:01:20<3:06:24, 25.19s/it]"
     ]
    },
    {
     "name": "stdout",
     "output_type": "stream",
     "text": [
      "\n",
      "('Coord matches: ', 0, 'with a tolerance of ', 0.005556)\n",
      "No matches. Skipping ngc1857\n",
      "ngc1883\n",
      "error with parsing mags html"
     ]
    },
    {
     "name": "stderr",
     "output_type": "stream",
     "text": [
      "\r",
      " 53%|█████▎    | 503/946 [2:01:24<2:19:11, 18.85s/it]"
     ]
    },
    {
     "name": "stdout",
     "output_type": "stream",
     "text": [
      "\n",
      "http://www.univie.ac.at/webda/cgi-bin/frame_data_list.cgi?ngc1883+ubvpg+ubv.pgo\n",
      "Retrieval error. Skipping ngc1883\n",
      "ngc1893\n",
      "error with parsing mags html"
     ]
    },
    {
     "name": "stderr",
     "output_type": "stream",
     "text": [
      "\r",
      " 53%|█████▎    | 504/946 [2:01:52<2:39:04, 21.59s/it]"
     ]
    },
    {
     "name": "stdout",
     "output_type": "stream",
     "text": [
      "\n",
      "http://www.univie.ac.at/webda/cgi-bin/frame_data_list.cgi?ngc1893+ubvpg+ubv.pgo\n",
      "Retrieval error. Skipping ngc1893\n",
      "ngc1896\n",
      "error with parsing mags html"
     ]
    },
    {
     "name": "stderr",
     "output_type": "stream",
     "text": [
      "\r",
      " 53%|█████▎    | 505/946 [2:01:53<1:54:42, 15.61s/it]"
     ]
    },
    {
     "name": "stdout",
     "output_type": "stream",
     "text": [
      "\n",
      "http://www.univie.ac.at/webda/cgi-bin/frame_data_list.cgi?ngc1896+ubvpg+ubv.pgo\n",
      "Retrieval error. Skipping ngc1896\n",
      "ngc1901\n",
      "error with parsing mags html"
     ]
    },
    {
     "name": "stderr",
     "output_type": "stream",
     "text": [
      "\r",
      " 53%|█████▎    | 506/946 [2:01:55<1:24:29, 11.52s/it]"
     ]
    },
    {
     "name": "stdout",
     "output_type": "stream",
     "text": [
      "\n",
      "http://www.univie.ac.at/webda/cgi-bin/frame_data_list.cgi?ngc1901+ubvpg+ubv.pgo\n",
      "Retrieval error. Skipping ngc1901\n",
      "ngc1907\n",
      "ngc1907 10\n",
      "Data retrived, starting pbsearch\n",
      "('searched for a subset of ', 10, 'Coords against 2mass list of', 9073309)"
     ]
    },
    {
     "name": "stderr",
     "output_type": "stream",
     "text": [
      "\r",
      " 54%|█████▎    | 507/946 [2:02:01<1:11:49,  9.82s/it]"
     ]
    },
    {
     "name": "stdout",
     "output_type": "stream",
     "text": [
      "\n",
      "('Coord matches: ', 0, 'with a tolerance of ', 0.005556)\n",
      "No matches. Skipping ngc1907\n",
      "ngc1912\n",
      "ngc1912 37\n",
      "Data retrived, starting pbsearch\n",
      "('searched for a subset of ', 34, 'Coords against 2mass list of', 9073309)"
     ]
    },
    {
     "name": "stderr",
     "output_type": "stream",
     "text": [
      "\r",
      " 54%|█████▎    | 508/946 [2:02:18<1:26:08, 11.80s/it]"
     ]
    },
    {
     "name": "stdout",
     "output_type": "stream",
     "text": [
      "\n",
      "('Coord matches: ', 0, 'with a tolerance of ', 0.005556)\n",
      "No matches. Skipping ngc1912\n",
      "ngc1931\n",
      "error with parsing mags html"
     ]
    },
    {
     "name": "stderr",
     "output_type": "stream",
     "text": [
      "\r",
      " 54%|█████▍    | 509/946 [2:02:19<1:03:29,  8.72s/it]"
     ]
    },
    {
     "name": "stdout",
     "output_type": "stream",
     "text": [
      "\n",
      "http://www.univie.ac.at/webda/cgi-bin/frame_data_list.cgi?ngc1931+ubvpg+ubv.pgo\n",
      "Retrieval error. Skipping ngc1931\n",
      "ngc1960\n",
      "ngc1960 520\n",
      "Data retrived, starting pbsearch\n",
      "('searched for a subset of ', 289, 'Coords against 2mass list of', 9073309)"
     ]
    },
    {
     "name": "stderr",
     "output_type": "stream",
     "text": [
      "\r",
      " 54%|█████▍    | 510/946 [2:04:31<5:30:49, 45.53s/it]"
     ]
    },
    {
     "name": "stdout",
     "output_type": "stream",
     "text": [
      "\n",
      "('Coord matches: ', 0, 'with a tolerance of ', 0.005556)\n",
      "No matches. Skipping ngc1960\n",
      "ngc1976\n",
      "error with parsing mags html"
     ]
    },
    {
     "name": "stderr",
     "output_type": "stream",
     "text": [
      "\r",
      " 54%|█████▍    | 511/946 [2:05:04<5:03:40, 41.89s/it]"
     ]
    },
    {
     "name": "stdout",
     "output_type": "stream",
     "text": [
      "\n",
      "http://www.univie.ac.at/webda/cgi-bin/frame_data_list.cgi?ngc1976+ubvpg+ubv.pgo\n",
      "Retrieval error. Skipping ngc1976\n",
      "ngc1977\n",
      "error with parsing mags html"
     ]
    },
    {
     "name": "stderr",
     "output_type": "stream",
     "text": [
      "\r",
      " 54%|█████▍    | 512/946 [2:05:06<3:35:23, 29.78s/it]"
     ]
    },
    {
     "name": "stdout",
     "output_type": "stream",
     "text": [
      "\n",
      "http://www.univie.ac.at/webda/cgi-bin/frame_data_list.cgi?ngc1977+ubvpg+ubv.pgo\n",
      "Retrieval error. Skipping ngc1977\n",
      "ngc1980\n",
      "error with parsing mags html"
     ]
    },
    {
     "name": "stderr",
     "output_type": "stream",
     "text": [
      "\r",
      " 54%|█████▍    | 513/946 [2:05:07<2:33:49, 21.31s/it]"
     ]
    },
    {
     "name": "stdout",
     "output_type": "stream",
     "text": [
      "\n",
      "http://www.univie.ac.at/webda/cgi-bin/frame_data_list.cgi?ngc1980+ubvpg+ubv.pgo\n",
      "Retrieval error. Skipping ngc1980\n",
      "ngc1981\n",
      "error with parsing mags html"
     ]
    },
    {
     "name": "stderr",
     "output_type": "stream",
     "text": [
      "\r",
      " 54%|█████▍    | 514/946 [2:05:09<1:50:51, 15.40s/it]"
     ]
    },
    {
     "name": "stdout",
     "output_type": "stream",
     "text": [
      "\n",
      "http://www.univie.ac.at/webda/cgi-bin/frame_data_list.cgi?ngc1981+ubvpg+ubv.pgo\n",
      "Retrieval error. Skipping ngc1981\n",
      "ngc1996\n",
      "error with parsing mags html"
     ]
    },
    {
     "name": "stderr",
     "output_type": "stream",
     "text": [
      "\r",
      " 54%|█████▍    | 515/946 [2:05:10<1:20:50, 11.25s/it]"
     ]
    },
    {
     "name": "stdout",
     "output_type": "stream",
     "text": [
      "\n",
      "http://www.univie.ac.at/webda/cgi-bin/frame_data_list.cgi?ngc1996+ubvpg+ubv.pgo\n",
      "Retrieval error. Skipping ngc1996\n",
      "ngc2099\n",
      "error with parsing mags html"
     ]
    },
    {
     "name": "stderr",
     "output_type": "stream",
     "text": [
      "\r",
      " 55%|█████▍    | 516/946 [2:07:16<5:26:55, 45.62s/it]"
     ]
    },
    {
     "name": "stdout",
     "output_type": "stream",
     "text": [
      "\n",
      "http://www.univie.ac.at/webda/cgi-bin/frame_data_list.cgi?ngc2099+ubvpg+ubv.pgo\n",
      "Retrieval error. Skipping ngc2099\n",
      "ngc2112\n",
      "ngc2112 111\n",
      "Data retrived, starting pbsearch\n",
      "('searched for a subset of ', 77, 'Coords against 2mass list of', 9073309)\n",
      "('Coord matches: ', 60, 'with a tolerance of ', 0.005556)\n",
      "using 10 bins\n",
      "Power_divergenceResult(statistic=38.392268379643639, pvalue=1.4821333945386302e-05) 5.48460976852\n"
     ]
    },
    {
     "data": {
      "image/png": "[encoded data removed]",
      "text/plain": [
       "<matplotlib.figure.Figure at 0x10db47828>"
      ]
     },
     "metadata": {},
     "output_type": "display_data"
    },
    {
     "name": "stderr",
     "output_type": "stream",
     "text": [
      "\r",
      " 55%|█████▍    | 517/946 [2:07:58<5:17:56, 44.47s/it]"
     ]
    },
    {
     "name": "stdout",
     "output_type": "stream",
     "text": [
      "selected 41 from 60\n",
      "41 matches for ngc2112 for tolerance 0.005556\n",
      "ngc2126\n",
      "error with parsing mags html"
     ]
    },
    {
     "name": "stderr",
     "output_type": "stream",
     "text": [
      "\r",
      " 55%|█████▍    | 518/946 [2:08:20<4:29:08, 37.73s/it]"
     ]
    },
    {
     "name": "stdout",
     "output_type": "stream",
     "text": [
      "\n",
      "http://www.univie.ac.at/webda/cgi-bin/frame_data_list.cgi?ngc2126+ubvpg+ubv.pgo\n",
      "Retrieval error. Skipping ngc2126\n",
      "ngc2129\n",
      "ngc2129 81\n",
      "Data retrived, starting pbsearch\n",
      "('searched for a subset of ', 81, 'Coords against 2mass list of', 9073309)"
     ]
    },
    {
     "name": "stderr",
     "output_type": "stream",
     "text": [
      "\r",
      " 55%|█████▍    | 519/946 [2:08:59<4:32:16, 38.26s/it]"
     ]
    },
    {
     "name": "stdout",
     "output_type": "stream",
     "text": [
      "\n",
      "('Coord matches: ', 0, 'with a tolerance of ', 0.005556)\n",
      "No matches. Skipping ngc2129\n",
      "ngc2143\n",
      "error with parsing mags html"
     ]
    },
    {
     "name": "stderr",
     "output_type": "stream",
     "text": [
      "\r",
      " 55%|█████▍    | 520/946 [2:09:01<3:13:41, 27.28s/it]"
     ]
    },
    {
     "name": "stdout",
     "output_type": "stream",
     "text": [
      "\n",
      "http://www.univie.ac.at/webda/cgi-bin/frame_data_list.cgi?ngc2143+ubvpg+ubv.pgo\n",
      "Retrieval error. Skipping ngc2143\n",
      "ngc2158\n",
      "error with parsing mags html"
     ]
    },
    {
     "name": "stderr",
     "output_type": "stream",
     "text": [
      "\r",
      " 55%|█████▌    | 521/946 [2:09:18<2:52:03, 24.29s/it]"
     ]
    },
    {
     "name": "stdout",
     "output_type": "stream",
     "text": [
      "\n",
      "http://www.univie.ac.at/webda/cgi-bin/frame_data_list.cgi?ngc2158+ubvpg+ubv.pgo\n",
      "Retrieval error. Skipping ngc2158\n",
      "ngc2168\n",
      "ngc2168 2187\n",
      "Data retrived, starting pbsearch\n",
      "('searched for a subset of ', 2187, 'Coords against 2mass list of', 9073309)"
     ]
    },
    {
     "name": "stderr",
     "output_type": "stream",
     "text": [
      "\r",
      " 55%|█████▌    | 522/946 [2:25:25<36:10:30, 307.15s/it]"
     ]
    },
    {
     "name": "stdout",
     "output_type": "stream",
     "text": [
      "\n",
      "('Coord matches: ', 0, 'with a tolerance of ', 0.005556)\n",
      "No matches. Skipping ngc2168\n",
      "ngc2169\n",
      "ngc2169"
     ]
    },
    {
     "name": "stderr",
     "output_type": "stream",
     "text": [
      "\r",
      " 55%|█████▌    | 523/946 [2:25:29<25:22:14, 215.92s/it]"
     ]
    },
    {
     "name": "stdout",
     "output_type": "stream",
     "text": [
      " 0\n",
      "Data retrived, starting pbsearch\n",
      "('searched for a subset of ', 0, 'Coords against 2mass list of', 9073309)\n",
      "('Coord matches: ', 0, 'with a tolerance of ', 0.005556)\n",
      "No matches. Skipping ngc2169\n",
      "ngc2175\n",
      "ngc2175 8\n",
      "Data retrived, starting pbsearch\n",
      "('searched for a subset of ', 8, 'Coords against 2mass list of', 9073309)"
     ]
    },
    {
     "name": "stderr",
     "output_type": "stream",
     "text": [
      "\r",
      " 55%|█████▌    | 524/946 [2:25:33<17:53:20, 152.61s/it]"
     ]
    },
    {
     "name": "stdout",
     "output_type": "stream",
     "text": [
      "\n",
      "('Coord matches: ', 0, 'with a tolerance of ', 0.005556)\n",
      "No matches. Skipping ngc2175\n",
      "ngc2184\n",
      "error with parsing mags html"
     ]
    },
    {
     "name": "stderr",
     "output_type": "stream",
     "text": [
      "\r",
      " 55%|█████▌    | 525/946 [2:25:35<12:33:01, 107.32s/it]"
     ]
    },
    {
     "name": "stdout",
     "output_type": "stream",
     "text": [
      "\n",
      "http://www.univie.ac.at/webda/cgi-bin/frame_data_list.cgi?ngc2184+ubvpg+ubv.pgo\n",
      "Retrieval error. Skipping ngc2184\n",
      "ngc2186\n",
      "error with parsing mags html"
     ]
    },
    {
     "name": "stderr",
     "output_type": "stream",
     "text": [
      "\r",
      " 56%|█████▌    | 526/946 [2:25:49<9:14:37, 79.23s/it]  "
     ]
    },
    {
     "name": "stdout",
     "output_type": "stream",
     "text": [
      "\n",
      "http://www.univie.ac.at/webda/cgi-bin/frame_data_list.cgi?ngc2186+ubvpg+ubv.pgo\n",
      "Retrieval error. Skipping ngc2186\n",
      "ngc2192\n",
      "error with parsing mags html"
     ]
    },
    {
     "name": "stderr",
     "output_type": "stream",
     "text": [
      "\r",
      " 56%|█████▌    | 527/946 [2:25:55<6:39:44, 57.24s/it]"
     ]
    },
    {
     "name": "stdout",
     "output_type": "stream",
     "text": [
      "\n",
      "http://www.univie.ac.at/webda/cgi-bin/frame_data_list.cgi?ngc2192+ubvpg+ubv.pgo\n",
      "Retrieval error. Skipping ngc2192\n",
      "ngc2194\n",
      "ngc2194 107\n",
      "Data retrived, starting pbsearch\n",
      "('searched for a subset of ', 105, 'Coords against 2mass list of', 9073309)"
     ]
    },
    {
     "name": "stderr",
     "output_type": "stream",
     "text": [
      "\r",
      " 56%|█████▌    | 528/946 [2:26:42<6:17:20, 54.16s/it]"
     ]
    },
    {
     "name": "stdout",
     "output_type": "stream",
     "text": [
      "\n",
      "('Coord matches: ', 0, 'with a tolerance of ', 0.005556)\n",
      "No matches. Skipping ngc2194\n",
      "ngc2202\n",
      "error with parsing mags html"
     ]
    },
    {
     "name": "stderr",
     "output_type": "stream",
     "text": [
      "\r",
      " 56%|█████▌    | 529/946 [2:26:43<4:27:00, 38.42s/it]"
     ]
    },
    {
     "name": "stdout",
     "output_type": "stream",
     "text": [
      "\n",
      "http://www.univie.ac.at/webda/cgi-bin/frame_data_list.cgi?ngc2202+ubvpg+ubv.pgo\n",
      "Retrieval error. Skipping ngc2202\n",
      "ngc2204\n",
      "ngc2204 42\n",
      "Data retrived, starting pbsearch\n",
      "('searched for a subset of ', 42, 'Coords against 2mass list of', 9073309)\n",
      "('Coord matches: ', 41, 'with a tolerance of ', 0.005556)\n",
      "using"
     ]
    },
    {
     "name": "stderr",
     "output_type": "stream",
     "text": [
      "\r",
      " 56%|█████▌    | 530/946 [2:27:03<3:47:42, 32.84s/it]"
     ]
    },
    {
     "name": "stdout",
     "output_type": "stream",
     "text": [
      " 10 bins\n",
      "ngc2204 had error with optimize.curve_fit\n",
      "ngc2215\n",
      "ngc2215 12\n",
      "Data retrived, starting pbsearch\n",
      "('searched for a subset of ', 12, 'Coords against 2mass list of', 9073309)\n",
      "('Coord matches: ', 12, 'with a tolerance of ', 0.005556)\n",
      "ngc2215 had no repeats\n",
      "using"
     ]
    },
    {
     "name": "stderr",
     "output_type": "stream",
     "text": [
      "\r",
      " 56%|█████▌    | 531/946 [2:27:10<2:53:43, 25.12s/it]"
     ]
    },
    {
     "name": "stdout",
     "output_type": "stream",
     "text": [
      " 10 bins\n",
      "ngc2215 had error with optimize.curve_fit\n",
      "ngc2232\n",
      "error with parsing mags html"
     ]
    },
    {
     "name": "stderr",
     "output_type": "stream",
     "text": [
      "\r",
      " 56%|█████▌    | 532/946 [2:27:12<2:04:53, 18.10s/it]"
     ]
    },
    {
     "name": "stdout",
     "output_type": "stream",
     "text": [
      "\n",
      "http://www.univie.ac.at/webda/cgi-bin/frame_data_list.cgi?ngc2232+ubvpg+ubv.pgo\n",
      "Retrieval error. Skipping ngc2232\n",
      "ngc2236\n",
      "ngc2236 32\n",
      "Data retrived, starting pbsearch\n",
      "('searched for a subset of ', 32, 'Coords against 2mass list of', 9073309)"
     ]
    },
    {
     "name": "stderr",
     "output_type": "stream",
     "text": [
      "\r",
      " 56%|█████▋    | 533/946 [2:27:27<1:59:08, 17.31s/it]"
     ]
    },
    {
     "name": "stdout",
     "output_type": "stream",
     "text": [
      "\n",
      "('Coord matches: ', 0, 'with a tolerance of ', 0.005556)\n",
      "No matches. Skipping ngc2236\n",
      "ngc2240\n",
      "error with parsing mags html"
     ]
    },
    {
     "name": "stderr",
     "output_type": "stream",
     "text": [
      "\r",
      " 56%|█████▋    | 534/946 [2:27:29<1:27:00, 12.67s/it]"
     ]
    },
    {
     "name": "stdout",
     "output_type": "stream",
     "text": [
      "\n",
      "http://www.univie.ac.at/webda/cgi-bin/frame_data_list.cgi?ngc2240+ubvpg+ubv.pgo\n",
      "Retrieval error. Skipping ngc2240\n",
      "ngc2243\n",
      "error with parsing mags html"
     ]
    },
    {
     "name": "stderr",
     "output_type": "stream",
     "text": [
      "\r",
      " 57%|█████▋    | 535/946 [2:27:55<1:54:01, 16.65s/it]"
     ]
    },
    {
     "name": "stdout",
     "output_type": "stream",
     "text": [
      "\n",
      "http://www.univie.ac.at/webda/cgi-bin/frame_data_list.cgi?ngc2243+ubvpg+ubv.pgo\n",
      "Retrieval error. Skipping ngc2243\n",
      "ngc2244\n",
      "ngc2244 689\n",
      "Data retrived, starting pbsearch\n",
      "('searched for a subset of ', 335, 'Coords against 2mass list of', 9073309)"
     ]
    },
    {
     "name": "stderr",
     "output_type": "stream",
     "text": [
      "\r",
      " 57%|█████▋    | 536/946 [2:30:27<6:31:36, 57.31s/it]"
     ]
    },
    {
     "name": "stdout",
     "output_type": "stream",
     "text": [
      "\n",
      "('Coord matches: ', 0, 'with a tolerance of ', 0.005556)\n",
      "No matches. Skipping ngc2244\n",
      "ngc2251\n",
      "ngc2251 20\n",
      "Data retrived, starting pbsearch\n",
      "('searched for a subset of ', 20, 'Coords against 2mass list of', 9073309)"
     ]
    },
    {
     "name": "stderr",
     "output_type": "stream",
     "text": [
      "\r",
      " 57%|█████▋    | 537/946 [2:30:37<4:53:48, 43.10s/it]"
     ]
    },
    {
     "name": "stdout",
     "output_type": "stream",
     "text": [
      "\n",
      "('Coord matches: ', 0, 'with a tolerance of ', 0.005556)\n",
      "No matches. Skipping ngc2251\n",
      "ngc2252\n",
      "error with parsing mags html"
     ]
    },
    {
     "name": "stderr",
     "output_type": "stream",
     "text": [
      "\r",
      " 57%|█████▋    | 538/946 [2:30:39<3:28:49, 30.71s/it]"
     ]
    },
    {
     "name": "stdout",
     "output_type": "stream",
     "text": [
      "\n",
      "http://www.univie.ac.at/webda/cgi-bin/frame_data_list.cgi?ngc2252+ubvpg+ubv.pgo\n",
      "Retrieval error. Skipping ngc2252\n",
      "ngc2254\n",
      "error with parsing mags html"
     ]
    },
    {
     "name": "stderr",
     "output_type": "stream",
     "text": [
      "\r",
      " 57%|█████▋    | 539/946 [2:30:41<2:29:21, 22.02s/it]"
     ]
    },
    {
     "name": "stdout",
     "output_type": "stream",
     "text": [
      "\n",
      "http://www.univie.ac.at/webda/cgi-bin/frame_data_list.cgi?ngc2254+ubvpg+ubv.pgo\n",
      "Retrieval error. Skipping ngc2254\n",
      "ngc2264\n",
      "error with parsing mags html"
     ]
    },
    {
     "name": "stderr",
     "output_type": "stream",
     "text": [
      "\r",
      " 57%|█████▋    | 540/946 [2:31:29<3:21:13, 29.74s/it]"
     ]
    },
    {
     "name": "stdout",
     "output_type": "stream",
     "text": [
      "\n",
      "http://www.univie.ac.at/webda/cgi-bin/frame_data_list.cgi?ngc2264+ubvpg+ubv.pgo\n",
      "Retrieval error. Skipping ngc2264\n",
      "ngc2266\n",
      "error with parsing mags html"
     ]
    },
    {
     "name": "stderr",
     "output_type": "stream",
     "text": [
      "\r",
      " 57%|█████▋    | 541/946 [2:31:37<2:38:16, 23.45s/it]"
     ]
    },
    {
     "name": "stdout",
     "output_type": "stream",
     "text": [
      "\n",
      "http://www.univie.ac.at/webda/cgi-bin/frame_data_list.cgi?ngc2266+ubvpg+ubv.pgo\n",
      "Retrieval error. Skipping ngc2266\n",
      "ngc2269\n",
      "error with parsing mags html"
     ]
    },
    {
     "name": "stderr",
     "output_type": "stream",
     "text": [
      "\r",
      " 57%|█████▋    | 542/946 [2:31:39<1:54:02, 16.94s/it]"
     ]
    },
    {
     "name": "stdout",
     "output_type": "stream",
     "text": [
      "\n",
      "http://www.univie.ac.at/webda/cgi-bin/frame_data_list.cgi?ngc2269+ubvpg+ubv.pgo\n",
      "Retrieval error. Skipping ngc2269\n",
      "ngc2270\n",
      "error with parsing mags html"
     ]
    },
    {
     "name": "stderr",
     "output_type": "stream",
     "text": [
      "\r",
      " 57%|█████▋    | 543/946 [2:31:41<1:23:44, 12.47s/it]"
     ]
    },
    {
     "name": "stdout",
     "output_type": "stream",
     "text": [
      "\n",
      "http://www.univie.ac.at/webda/cgi-bin/frame_data_list.cgi?ngc2270+ubvpg+ubv.pgo\n",
      "Retrieval error. Skipping ngc2270\n",
      "ngc2281\n",
      "error with parsing mags html"
     ]
    },
    {
     "name": "stderr",
     "output_type": "stream",
     "text": [
      "\r",
      " 58%|█████▊    | 544/946 [2:31:44<1:04:18,  9.60s/it]"
     ]
    },
    {
     "name": "stdout",
     "output_type": "stream",
     "text": [
      "\n",
      "http://www.univie.ac.at/webda/cgi-bin/frame_data_list.cgi?ngc2281+ubvpg+ubv.pgo\n",
      "Retrieval error. Skipping ngc2281\n",
      "ngc2282\n",
      "error with parsing coords html"
     ]
    },
    {
     "name": "stderr",
     "output_type": "stream",
     "text": [
      "\r",
      " 58%|█████▊    | 545/946 [2:31:45<46:31,  6.96s/it]  "
     ]
    },
    {
     "name": "stdout",
     "output_type": "stream",
     "text": [
      "\n",
      "http://www.univie.ac.at/webda/cgi-bin/frame_data_list.cgi?ngc2282+ad2k+ad2000.coo\n",
      "Retrieval error. Skipping ngc2282\n",
      "ngc2286\n",
      "ngc2286 61\n",
      "Data retrived, starting pbsearch\n",
      "('searched for a subset of ', 61, 'Coords against 2mass list of', 9073309)"
     ]
    },
    {
     "name": "stderr",
     "output_type": "stream",
     "text": [
      "\r",
      " 58%|█████▊    | 546/946 [2:32:12<1:27:10, 13.08s/it]"
     ]
    },
    {
     "name": "stdout",
     "output_type": "stream",
     "text": [
      "\n",
      "('Coord matches: ', 0, 'with a tolerance of ', 0.005556)\n",
      "No matches. Skipping ngc2286\n",
      "ngc2287\n",
      "ngc2287 18\n",
      "Data retrived, starting pbsearch\n",
      "('searched for a subset of ', 18, 'Coords against 2mass list of', 9073309)\n",
      "('Coord matches: ', 16, 'with a tolerance of ', 0.005556)\n",
      "ngc2287 had no repeats\n",
      "using 10 bins\n",
      "Power_divergenceResult(statistic=42958073618879.984, pvalue=0.0)"
     ]
    },
    {
     "name": "stderr",
     "output_type": "stream",
     "text": [
      "\r",
      " 58%|█████▊    | 547/946 [2:32:22<1:20:48, 12.15s/it]"
     ]
    },
    {
     "name": "stdout",
     "output_type": "stream",
     "text": [
      " 6.13686765984e+12\n",
      "Error with reduced chi squared: 6.13686765984e+12 for ngc2287\n",
      "ngc2301\n",
      "ngc2301 77\n",
      "Data retrived, starting pbsearch\n",
      "('searched for a subset of ', 77, 'Coords against 2mass list of', 9073309)"
     ]
    },
    {
     "name": "stderr",
     "output_type": "stream",
     "text": [
      "\r",
      " 58%|█████▊    | 548/946 [2:32:57<2:04:51, 18.82s/it]"
     ]
    },
    {
     "name": "stdout",
     "output_type": "stream",
     "text": [
      "\n",
      "('Coord matches: ', 0, 'with a tolerance of ', 0.005556)\n",
      "No matches. Skipping ngc2301\n",
      "ngc2302\n",
      "error with parsing mags html"
     ]
    },
    {
     "name": "stderr",
     "output_type": "stream",
     "text": [
      "\r",
      " 58%|█████▊    | 549/946 [2:32:58<1:30:30, 13.68s/it]"
     ]
    },
    {
     "name": "stdout",
     "output_type": "stream",
     "text": [
      "\n",
      "http://www.univie.ac.at/webda/cgi-bin/frame_data_list.cgi?ngc2302+ubvpg+ubv.pgo\n",
      "Retrieval error. Skipping ngc2302\n",
      "ngc2304\n",
      "error with parsing mags html"
     ]
    },
    {
     "name": "stderr",
     "output_type": "stream",
     "text": [
      "\r",
      " 58%|█████▊    | 550/946 [2:33:13<1:32:35, 14.03s/it]"
     ]
    },
    {
     "name": "stdout",
     "output_type": "stream",
     "text": [
      "\n",
      "http://www.univie.ac.at/webda/cgi-bin/frame_data_list.cgi?ngc2304+ubvpg+ubv.pgo\n",
      "Retrieval error. Skipping ngc2304\n",
      "ngc2306\n",
      "error with parsing mags html"
     ]
    },
    {
     "name": "stderr",
     "output_type": "stream",
     "text": [
      "\r",
      " 58%|█████▊    | 551/946 [2:33:15<1:08:05, 10.34s/it]"
     ]
    },
    {
     "name": "stdout",
     "output_type": "stream",
     "text": [
      "\n",
      "http://www.univie.ac.at/webda/cgi-bin/frame_data_list.cgi?ngc2306+ubvpg+ubv.pgo\n",
      "Retrieval error. Skipping ngc2306\n",
      "ngc2311\n",
      "error with parsing mags html"
     ]
    },
    {
     "name": "stderr",
     "output_type": "stream",
     "text": [
      "\r",
      " 58%|█████▊    | 552/946 [2:33:17<50:53,  7.75s/it]  "
     ]
    },
    {
     "name": "stdout",
     "output_type": "stream",
     "text": [
      "\n",
      "http://www.univie.ac.at/webda/cgi-bin/frame_data_list.cgi?ngc2311+ubvpg+ubv.pgo\n",
      "Retrieval error. Skipping ngc2311\n",
      "ngc2319\n",
      "error with parsing mags html"
     ]
    },
    {
     "name": "stderr",
     "output_type": "stream",
     "text": [
      "\r",
      " 58%|█████▊    | 553/946 [2:33:18<39:01,  5.96s/it]"
     ]
    },
    {
     "name": "stdout",
     "output_type": "stream",
     "text": [
      "\n",
      "http://www.univie.ac.at/webda/cgi-bin/frame_data_list.cgi?ngc2319+ubvpg+ubv.pgo\n",
      "Retrieval error. Skipping ngc2319\n",
      "ngc2323\n",
      "ngc2323 189\n",
      "Data retrived, starting pbsearch\n",
      "('searched for a subset of ', 189, 'Coords against 2mass list of', 9073309)"
     ]
    },
    {
     "name": "stderr",
     "output_type": "stream",
     "text": [
      "\r",
      " 59%|█████▊    | 554/946 [2:34:40<3:07:03, 28.63s/it]"
     ]
    },
    {
     "name": "stdout",
     "output_type": "stream",
     "text": [
      "\n",
      "('Coord matches: ', 0, 'with a tolerance of ', 0.005556)\n",
      "No matches. Skipping ngc2323\n",
      "ngc2324\n",
      "ngc2324 23\n",
      "Data retrived, starting pbsearch\n",
      "('searched for a subset of ', 23, 'Coords against 2mass list of', 9073309)"
     ]
    },
    {
     "name": "stderr",
     "output_type": "stream",
     "text": [
      "\r",
      " 59%|█████▊    | 555/946 [2:34:51<2:32:27, 23.40s/it]"
     ]
    },
    {
     "name": "stdout",
     "output_type": "stream",
     "text": [
      "\n",
      "('Coord matches: ', 0, 'with a tolerance of ', 0.005556)\n",
      "No matches. Skipping ngc2324\n",
      "ngc2335\n",
      "error with parsing mags html"
     ]
    },
    {
     "name": "stderr",
     "output_type": "stream",
     "text": [
      "\r",
      " 59%|█████▉    | 556/946 [2:34:53<1:50:03, 16.93s/it]"
     ]
    },
    {
     "name": "stdout",
     "output_type": "stream",
     "text": [
      "\n",
      "http://www.univie.ac.at/webda/cgi-bin/frame_data_list.cgi?ngc2335+ubvpg+ubv.pgo\n",
      "Retrieval error. Skipping ngc2335\n",
      "ngc2343\n",
      "error with parsing mags html"
     ]
    },
    {
     "name": "stderr",
     "output_type": "stream",
     "text": [
      "\r",
      " 59%|█████▉    | 557/946 [2:34:56<1:22:26, 12.72s/it]"
     ]
    },
    {
     "name": "stdout",
     "output_type": "stream",
     "text": [
      "\n",
      "http://www.univie.ac.at/webda/cgi-bin/frame_data_list.cgi?ngc2343+ubvpg+ubv.pgo\n",
      "Retrieval error. Skipping ngc2343\n",
      "ngc2345\n",
      "error with parsing mags html"
     ]
    },
    {
     "name": "stderr",
     "output_type": "stream",
     "text": [
      "\r",
      " 59%|█████▉    | 558/946 [2:34:58<1:01:11,  9.46s/it]"
     ]
    },
    {
     "name": "stdout",
     "output_type": "stream",
     "text": [
      "\n",
      "http://www.univie.ac.at/webda/cgi-bin/frame_data_list.cgi?ngc2345+ubvpg+ubv.pgo\n",
      "Retrieval error. Skipping ngc2345\n",
      "ngc2353\n",
      "ngc2353 122\n",
      "Data retrived, starting pbsearch\n",
      "('searched for a subset of ', 100, 'Coords against 2mass list of', 9073309)"
     ]
    },
    {
     "name": "stderr",
     "output_type": "stream",
     "text": [
      "\r",
      " 59%|█████▉    | 559/946 [2:36:18<3:17:56, 30.69s/it]"
     ]
    },
    {
     "name": "stdout",
     "output_type": "stream",
     "text": [
      "\n",
      "('Coord matches: ', 0, 'with a tolerance of ', 0.005556)\n",
      "No matches. Skipping ngc2353\n",
      "ngc2354\n",
      "ngc2354 58\n",
      "Data retrived, starting pbsearch\n",
      "('searched for a subset of ', 42, 'Coords against 2mass list of', 9073309)\n",
      "('Coord matches: ', 50, 'with a tolerance of ', 0.005556)\n",
      "using 10 bins\n",
      "Power_divergenceResult(statistic=6.7754017463757918, pvalue=0.66049026147189638) 0.967914535197\n"
     ]
    },
    {
     "data": {
      "image/png": "[encoded data removed]",
      "text/plain": [
       "<matplotlib.figure.Figure at 0x10b60a518>"
      ]
     },
     "metadata": {},
     "output_type": "display_data"
    },
    {
     "name": "stderr",
     "output_type": "stream",
     "text": [
      "\r",
      " 59%|█████▉    | 560/946 [2:36:38<2:56:14, 27.39s/it]"
     ]
    },
    {
     "name": "stdout",
     "output_type": "stream",
     "text": [
      "selected 40 from 50\n",
      "40 matches for ngc2354 for tolerance 0.005556\n",
      "ngc2355\n",
      "error with parsing mags html"
     ]
    },
    {
     "name": "stderr",
     "output_type": "stream",
     "text": [
      "\r",
      " 59%|█████▉    | 561/946 [2:36:40<2:07:15, 19.83s/it]"
     ]
    },
    {
     "name": "stdout",
     "output_type": "stream",
     "text": [
      "\n",
      "http://www.univie.ac.at/webda/cgi-bin/frame_data_list.cgi?ngc2355+ubvpg+ubv.pgo\n",
      "Retrieval error. Skipping ngc2355\n",
      "ngc2358\n",
      "error with parsing mags html"
     ]
    },
    {
     "name": "stderr",
     "output_type": "stream",
     "text": [
      "\r",
      " 59%|█████▉    | 562/946 [2:36:42<1:32:49, 14.50s/it]"
     ]
    },
    {
     "name": "stdout",
     "output_type": "stream",
     "text": [
      "\n",
      "http://www.univie.ac.at/webda/cgi-bin/frame_data_list.cgi?ngc2358+ubvpg+ubv.pgo\n",
      "Retrieval error. Skipping ngc2358\n",
      "ngc2360\n",
      "error with parsing mags html"
     ]
    },
    {
     "name": "stderr",
     "output_type": "stream",
     "text": [
      "\r",
      " 60%|█████▉    | 563/946 [2:36:45<1:11:02, 11.13s/it]"
     ]
    },
    {
     "name": "stdout",
     "output_type": "stream",
     "text": [
      "\n",
      "http://www.univie.ac.at/webda/cgi-bin/frame_data_list.cgi?ngc2360+ubvpg+ubv.pgo\n",
      "Retrieval error. Skipping ngc2360\n",
      "ngc2362\n",
      "error with parsing mags html"
     ]
    },
    {
     "name": "stderr",
     "output_type": "stream",
     "text": [
      "\r",
      " 60%|█████▉    | 564/946 [2:36:52<1:02:31,  9.82s/it]"
     ]
    },
    {
     "name": "stdout",
     "output_type": "stream",
     "text": [
      "\n",
      "http://www.univie.ac.at/webda/cgi-bin/frame_data_list.cgi?ngc2362+ubvpg+ubv.pgo\n",
      "Retrieval error. Skipping ngc2362\n",
      "ngc2367\n",
      "error with parsing mags html"
     ]
    },
    {
     "name": "stderr",
     "output_type": "stream",
     "text": [
      "\r",
      " 60%|█████▉    | 565/946 [2:37:04<1:07:17, 10.60s/it]"
     ]
    },
    {
     "name": "stdout",
     "output_type": "stream",
     "text": [
      "\n",
      "http://www.univie.ac.at/webda/cgi-bin/frame_data_list.cgi?ngc2367+ubvpg+ubv.pgo\n",
      "Retrieval error. Skipping ngc2367\n",
      "ngc2374\n",
      "ngc2374 33\n",
      "Data retrived, starting pbsearch\n",
      "('searched for a subset of ', 26, 'Coords against 2mass list of', 9073309)"
     ]
    },
    {
     "name": "stderr",
     "output_type": "stream",
     "text": [
      "\r",
      " 60%|█████▉    | 566/946 [2:37:17<1:10:38, 11.15s/it]"
     ]
    },
    {
     "name": "stdout",
     "output_type": "stream",
     "text": [
      "\n",
      "('Coord matches: ', 0, 'with a tolerance of ', 0.005556)\n",
      "No matches. Skipping ngc2374\n",
      "ngc2383\n",
      "error with parsing mags html"
     ]
    },
    {
     "name": "stderr",
     "output_type": "stream",
     "text": [
      "\r",
      " 60%|█████▉    | 567/946 [2:37:23<1:00:24,  9.56s/it]"
     ]
    },
    {
     "name": "stdout",
     "output_type": "stream",
     "text": [
      "\n",
      "http://www.univie.ac.at/webda/cgi-bin/frame_data_list.cgi?ngc2383+ubvpg+ubv.pgo\n",
      "Retrieval error. Skipping ngc2383\n",
      "ngc2384\n",
      "ngc2384 25\n",
      "Data retrived, starting pbsearch\n",
      "('searched for a subset of ', 15, 'Coords against 2mass list of', 9073309)"
     ]
    },
    {
     "name": "stderr",
     "output_type": "stream",
     "text": [
      "\r",
      " 60%|██████    | 568/946 [2:37:32<59:39,  9.47s/it]  "
     ]
    },
    {
     "name": "stdout",
     "output_type": "stream",
     "text": [
      "\n",
      "('Coord matches: ', 0, 'with a tolerance of ', 0.005556)\n",
      "No matches. Skipping ngc2384\n",
      "ngc2394\n",
      "error with parsing mags html"
     ]
    },
    {
     "name": "stderr",
     "output_type": "stream",
     "text": [
      "\r",
      " 60%|██████    | 569/946 [2:37:34<46:03,  7.33s/it]"
     ]
    },
    {
     "name": "stdout",
     "output_type": "stream",
     "text": [
      "\n",
      "http://www.univie.ac.at/webda/cgi-bin/frame_data_list.cgi?ngc2394+ubvpg+ubv.pgo\n",
      "Retrieval error. Skipping ngc2394\n",
      "ngc2395\n",
      "ngc2395 61\n",
      "Data retrived, starting pbsearch\n",
      "('searched for a subset of ', 53, 'Coords against 2mass list of', 9073309)"
     ]
    },
    {
     "name": "stderr",
     "output_type": "stream",
     "text": [
      "\r",
      " 60%|██████    | 570/946 [2:37:59<1:19:03, 12.61s/it]"
     ]
    },
    {
     "name": "stdout",
     "output_type": "stream",
     "text": [
      "\n",
      "('Coord matches: ', 0, 'with a tolerance of ', 0.005556)\n",
      "No matches. Skipping ngc2395\n",
      "ngc2396\n",
      "error with parsing mags html"
     ]
    },
    {
     "name": "stderr",
     "output_type": "stream",
     "text": [
      "\r",
      " 60%|██████    | 571/946 [2:38:01<59:06,  9.46s/it]  "
     ]
    },
    {
     "name": "stdout",
     "output_type": "stream",
     "text": [
      "\n",
      "http://www.univie.ac.at/webda/cgi-bin/frame_data_list.cgi?ngc2396+ubvpg+ubv.pgo\n",
      "Retrieval error. Skipping ngc2396\n",
      "ngc2401\n",
      "error with parsing mags html"
     ]
    },
    {
     "name": "stderr",
     "output_type": "stream",
     "text": [
      "\r",
      " 60%|██████    | 572/946 [2:38:24<1:23:29, 13.39s/it]"
     ]
    },
    {
     "name": "stdout",
     "output_type": "stream",
     "text": [
      "\n",
      "http://www.univie.ac.at/webda/cgi-bin/frame_data_list.cgi?ngc2401+ubvpg+ubv.pgo\n",
      "Retrieval error. Skipping ngc2401\n",
      "ngc2414\n",
      "ngc2414 58\n",
      "Data retrived, starting pbsearch\n",
      "('searched for a subset of ', 29, 'Coords against 2mass list of', 9073309)"
     ]
    },
    {
     "name": "stderr",
     "output_type": "stream",
     "text": [
      "\r",
      " 61%|██████    | 573/946 [2:38:38<1:25:20, 13.73s/it]"
     ]
    },
    {
     "name": "stdout",
     "output_type": "stream",
     "text": [
      "\n",
      "('Coord matches: ', 0, 'with a tolerance of ', 0.005556)\n",
      "No matches. Skipping ngc2414\n",
      "ngc2420\n",
      "error with parsing mags html"
     ]
    },
    {
     "name": "stderr",
     "output_type": "stream",
     "text": [
      "\r",
      " 61%|██████    | 574/946 [2:38:41<1:05:05, 10.50s/it]"
     ]
    },
    {
     "name": "stdout",
     "output_type": "stream",
     "text": [
      "\n",
      "http://www.univie.ac.at/webda/cgi-bin/frame_data_list.cgi?ngc2420+ubvpg+ubv.pgo\n",
      "Retrieval error. Skipping ngc2420\n",
      "ngc2421\n",
      "error with parsing mags html"
     ]
    },
    {
     "name": "stderr",
     "output_type": "stream",
     "text": [
      "\r",
      " 61%|██████    | 575/946 [2:38:43<48:47,  7.89s/it]  "
     ]
    },
    {
     "name": "stdout",
     "output_type": "stream",
     "text": [
      "\n",
      "http://www.univie.ac.at/webda/cgi-bin/frame_data_list.cgi?ngc2421+ubvpg+ubv.pgo\n",
      "Retrieval error. Skipping ngc2421\n",
      "ngc2422\n",
      "ngc2422 54\n",
      "Data retrived, starting pbsearch\n",
      "('searched for a subset of ', 54, 'Coords against 2mass list of', 9073309)"
     ]
    },
    {
     "name": "stderr",
     "output_type": "stream",
     "text": [
      "\r",
      " 61%|██████    | 576/946 [2:39:16<1:34:17, 15.29s/it]"
     ]
    },
    {
     "name": "stdout",
     "output_type": "stream",
     "text": [
      "\n",
      "('Coord matches: ', 0, 'with a tolerance of ', 0.005556)\n",
      "No matches. Skipping ngc2422\n",
      "ngc2423\n",
      "error with parsing mags html"
     ]
    },
    {
     "name": "stderr",
     "output_type": "stream",
     "text": [
      "\r",
      " 61%|██████    | 577/946 [2:39:18<1:09:15, 11.26s/it]"
     ]
    },
    {
     "name": "stdout",
     "output_type": "stream",
     "text": [
      "\n",
      "http://www.univie.ac.at/webda/cgi-bin/frame_data_list.cgi?ngc2423+ubvpg+ubv.pgo\n",
      "Retrieval error. Skipping ngc2423\n",
      "ngc2425\n",
      "error with parsing mags html"
     ]
    },
    {
     "name": "stderr",
     "output_type": "stream",
     "text": [
      "\r",
      " 61%|██████    | 578/946 [2:39:58<2:01:57, 19.88s/it]"
     ]
    },
    {
     "name": "stdout",
     "output_type": "stream",
     "text": [
      "\n",
      "http://www.univie.ac.at/webda/cgi-bin/frame_data_list.cgi?ngc2425+ubvpg+ubv.pgo\n",
      "Retrieval error. Skipping ngc2425\n",
      "ngc2428\n",
      "error with parsing mags html"
     ]
    },
    {
     "name": "stderr",
     "output_type": "stream",
     "text": [
      "\r",
      " 61%|██████    | 579/946 [2:39:59<1:28:06, 14.40s/it]"
     ]
    },
    {
     "name": "stdout",
     "output_type": "stream",
     "text": [
      "\n",
      "http://www.univie.ac.at/webda/cgi-bin/frame_data_list.cgi?ngc2428+ubvpg+ubv.pgo\n",
      "Retrieval error. Skipping ngc2428\n",
      "ngc2430\n",
      "error with parsing mags html"
     ]
    },
    {
     "name": "stderr",
     "output_type": "stream",
     "text": [
      "\r",
      " 61%|██████▏   | 580/946 [2:40:01<1:04:22, 10.55s/it]"
     ]
    },
    {
     "name": "stdout",
     "output_type": "stream",
     "text": [
      "\n",
      "http://www.univie.ac.at/webda/cgi-bin/frame_data_list.cgi?ngc2430+ubvpg+ubv.pgo\n",
      "Retrieval error. Skipping ngc2430\n",
      "ngc2432\n",
      "error with parsing mags html"
     ]
    },
    {
     "name": "stderr",
     "output_type": "stream",
     "text": [
      "\r",
      " 61%|██████▏   | 581/946 [2:40:02<47:56,  7.88s/it]  "
     ]
    },
    {
     "name": "stdout",
     "output_type": "stream",
     "text": [
      "\n",
      "http://www.univie.ac.at/webda/cgi-bin/frame_data_list.cgi?ngc2432+ubvpg+ubv.pgo\n",
      "Retrieval error. Skipping ngc2432\n",
      "ngc2437\n",
      "ngc2437 111\n",
      "Data retrived, starting pbsearch\n",
      "('searched for a subset of ', 97, 'Coords against 2mass list of', 9073309)"
     ]
    },
    {
     "name": "stderr",
     "output_type": "stream",
     "text": [
      "\r",
      " 62%|██████▏   | 582/946 [2:40:52<2:03:55, 20.43s/it]"
     ]
    },
    {
     "name": "stdout",
     "output_type": "stream",
     "text": [
      "\n",
      "('Coord matches: ', 0, 'with a tolerance of ', 0.005556)\n",
      "No matches. Skipping ngc2437\n",
      "ngc2439\n",
      "ngc2439 291\n",
      "Data retrived, starting pbsearch\n",
      "('searched for a subset of ', 189, 'Coords against 2mass list of', 9073309)"
     ]
    },
    {
     "name": "stderr",
     "output_type": "stream",
     "text": [
      "\r",
      " 62%|██████▏   | 583/946 [2:42:15<3:56:30, 39.09s/it]"
     ]
    },
    {
     "name": "stdout",
     "output_type": "stream",
     "text": [
      "\n",
      "('Coord matches: ', 0, 'with a tolerance of ', 0.005556)\n",
      "No matches. Skipping ngc2439\n",
      "ngc2447\n",
      "ngc2447 68\n",
      "Data retrived, starting pbsearch\n",
      "('searched for a subset of ', 60, 'Coords against 2mass list of', 9073309)"
     ]
    },
    {
     "name": "stderr",
     "output_type": "stream",
     "text": [
      "\r",
      " 62%|██████▏   | 584/946 [2:42:42<3:33:50, 35.44s/it]"
     ]
    },
    {
     "name": "stdout",
     "output_type": "stream",
     "text": [
      "\n",
      "('Coord matches: ', 0, 'with a tolerance of ', 0.005556)\n",
      "No matches. Skipping ngc2447\n",
      "ngc2448\n",
      "error with parsing mags html"
     ]
    },
    {
     "name": "stderr",
     "output_type": "stream",
     "text": [
      "\r",
      " 62%|██████▏   | 585/946 [2:42:44<2:33:05, 25.45s/it]"
     ]
    },
    {
     "name": "stdout",
     "output_type": "stream",
     "text": [
      "\n",
      "http://www.univie.ac.at/webda/cgi-bin/frame_data_list.cgi?ngc2448+ubvpg+ubv.pgo\n",
      "Retrieval error. Skipping ngc2448\n",
      "ngc2451\n",
      "error with parsing coords html"
     ]
    },
    {
     "name": "stderr",
     "output_type": "stream",
     "text": [
      "\r",
      " 62%|██████▏   | 586/946 [2:42:45<1:48:21, 18.06s/it]"
     ]
    },
    {
     "name": "stdout",
     "output_type": "stream",
     "text": [
      "\n",
      "http://www.univie.ac.at/webda/cgi-bin/frame_data_list.cgi?ngc2451+ad2k+ad2000.coo\n",
      "Retrieval error. Skipping ngc2451\n",
      "ngc2451A\n",
      "error with parsing coords html"
     ]
    },
    {
     "name": "stderr",
     "output_type": "stream",
     "text": [
      "\r",
      " 62%|██████▏   | 587/946 [2:42:45<1:17:03, 12.88s/it]"
     ]
    },
    {
     "name": "stdout",
     "output_type": "stream",
     "text": [
      "\n",
      "http://www.univie.ac.at/webda/cgi-bin/frame_data_list.cgi?ngc2451A+ad2k+ad2000.coo\n",
      "Retrieval error. Skipping ngc2451A\n",
      "ngc2451B\n",
      "error with parsing mags html"
     ]
    },
    {
     "name": "stderr",
     "output_type": "stream",
     "text": [
      "\r",
      " 62%|██████▏   | 588/946 [2:42:47<56:55,  9.54s/it]  "
     ]
    },
    {
     "name": "stdout",
     "output_type": "stream",
     "text": [
      "\n",
      "http://www.univie.ac.at/webda/cgi-bin/frame_data_list.cgi?ngc2451B+ubvpg+ubv.pgo\n",
      "Retrieval error. Skipping ngc2451B\n",
      "ngc2453\n",
      "ngc2453 52\n",
      "Data retrived, starting pbsearch\n",
      "('searched for a subset of ', 52, 'Coords against 2mass list of', 9073309)"
     ]
    },
    {
     "name": "stderr",
     "output_type": "stream",
     "text": [
      "\r",
      " 62%|██████▏   | 589/946 [2:43:11<1:21:53, 13.76s/it]"
     ]
    },
    {
     "name": "stdout",
     "output_type": "stream",
     "text": [
      "\n",
      "('Coord matches: ', 0, 'with a tolerance of ', 0.005556)\n",
      "No matches. Skipping ngc2453\n",
      "ngc2467\n",
      "ngc2467"
     ]
    },
    {
     "name": "stderr",
     "output_type": "stream",
     "text": [
      "\r",
      " 62%|██████▏   | 590/946 [2:43:13<1:01:49, 10.42s/it]"
     ]
    },
    {
     "name": "stdout",
     "output_type": "stream",
     "text": [
      " 0\n",
      "Data retrived, starting pbsearch\n",
      "('searched for a subset of ', 0, 'Coords against 2mass list of', 9073309)\n",
      "('Coord matches: ', 0, 'with a tolerance of ', 0.005556)\n",
      "No matches. Skipping ngc2467\n",
      "ngc2477\n",
      "error with parsing mags html"
     ]
    },
    {
     "name": "stderr",
     "output_type": "stream",
     "text": [
      "\r",
      " 62%|██████▏   | 591/946 [2:45:01<3:54:40, 39.66s/it]"
     ]
    },
    {
     "name": "stdout",
     "output_type": "stream",
     "text": [
      "\n",
      "http://www.univie.ac.at/webda/cgi-bin/frame_data_list.cgi?ngc2477+ubvpg+ubv.pgo\n",
      "Retrieval error. Skipping ngc2477\n",
      "ngc2479\n",
      "error with parsing mags html"
     ]
    },
    {
     "name": "stderr",
     "output_type": "stream",
     "text": [
      "\r",
      " 63%|██████▎   | 592/946 [2:45:04<2:48:22, 28.54s/it]"
     ]
    },
    {
     "name": "stdout",
     "output_type": "stream",
     "text": [
      "\n",
      "http://www.univie.ac.at/webda/cgi-bin/frame_data_list.cgi?ngc2479+ubvpg+ubv.pgo\n",
      "Retrieval error. Skipping ngc2479\n",
      "ngc2482\n",
      "error with parsing mags html"
     ]
    },
    {
     "name": "stderr",
     "output_type": "stream",
     "text": [
      "\r",
      " 63%|██████▎   | 593/946 [2:45:06<2:00:37, 20.50s/it]"
     ]
    },
    {
     "name": "stdout",
     "output_type": "stream",
     "text": [
      "\n",
      "http://www.univie.ac.at/webda/cgi-bin/frame_data_list.cgi?ngc2482+ubvpg+ubv.pgo\n",
      "Retrieval error. Skipping ngc2482\n",
      "ngc2483\n",
      "ngc2483 140\n",
      "Data retrived, starting pbsearch\n",
      "('searched for a subset of ', 104, 'Coords against 2mass list of', 9073309)"
     ]
    },
    {
     "name": "stderr",
     "output_type": "stream",
     "text": [
      "\r",
      " 63%|██████▎   | 594/946 [2:45:53<2:48:19, 28.69s/it]"
     ]
    },
    {
     "name": "stdout",
     "output_type": "stream",
     "text": [
      "\n",
      "('Coord matches: ', 0, 'with a tolerance of ', 0.005556)\n",
      "No matches. Skipping ngc2483\n",
      "ngc2489\n",
      "ngc2489 211\n",
      "Data retrived, starting pbsearch\n",
      "('searched for a subset of ', 107, 'Coords against 2mass list of', 9073309)"
     ]
    },
    {
     "name": "stderr",
     "output_type": "stream",
     "text": [
      "\r",
      " 63%|██████▎   | 595/946 [2:46:44<3:26:51, 35.36s/it]"
     ]
    },
    {
     "name": "stdout",
     "output_type": "stream",
     "text": [
      "\n",
      "('Coord matches: ', 0, 'with a tolerance of ', 0.005556)\n",
      "No matches. Skipping ngc2489\n",
      "ngc2506\n",
      "ngc2506 320\n",
      "Data retrived, starting pbsearch\n",
      "('searched for a subset of ', 320, 'Coords against 2mass list of', 9073309)\n",
      "('Coord matches: ', 10, 'with a tolerance of ', 0.005556)\n",
      "ngc2506 had no repeats\n",
      "using"
     ]
    },
    {
     "name": "stderr",
     "output_type": "stream",
     "text": [
      "\r",
      " 63%|██████▎   | 596/946 [2:49:05<6:31:18, 67.08s/it]"
     ]
    },
    {
     "name": "stdout",
     "output_type": "stream",
     "text": [
      " 10 bins\n",
      "Power_divergenceResult(statistic=78.30402997319888, pvalue=3.5077935059104127e-13) 11.1862899962\n",
      "Error with reduced chi squared: 11.1862899962 for ngc2506\n",
      "ngc2509\n",
      "error with parsing mags html"
     ]
    },
    {
     "name": "stderr",
     "output_type": "stream",
     "text": [
      "\r",
      " 63%|██████▎   | 597/946 [2:49:08<4:37:03, 47.63s/it]"
     ]
    },
    {
     "name": "stdout",
     "output_type": "stream",
     "text": [
      "\n",
      "http://www.univie.ac.at/webda/cgi-bin/frame_data_list.cgi?ngc2509+ubvpg+ubv.pgo\n",
      "Retrieval error. Skipping ngc2509\n",
      "ngc2516\n",
      "ngc2516 505\n",
      "Data retrived, starting pbsearch\n",
      "('searched for a subset of ', 483, 'Coords against 2mass list of', 9073309)\n",
      "('Coord matches: ', 434, 'with a tolerance of ', 0.005556)\n",
      "using 10 bins\n",
      "Power_divergenceResult(statistic=483.00942711710684, pvalue=2.4931268833090892e-98)"
     ]
    },
    {
     "name": "stderr",
     "output_type": "stream",
     "text": [
      "\r",
      " 63%|██████▎   | 598/946 [2:52:50<9:41:06, 100.19s/it]"
     ]
    },
    {
     "name": "stdout",
     "output_type": "stream",
     "text": [
      " 69.001346731\n",
      "Error with reduced chi squared: 69.001346731 for ngc2516\n",
      "ngc2527\n",
      "ngc2527 82\n",
      "Data retrived, starting pbsearch\n",
      "('searched for a subset of ', 61, 'Coords against 2mass list of', 9073309)"
     ]
    },
    {
     "name": "stderr",
     "output_type": "stream",
     "text": [
      "\r",
      " 63%|██████▎   | 599/946 [2:53:18<7:33:44, 78.46s/it] "
     ]
    },
    {
     "name": "stdout",
     "output_type": "stream",
     "text": [
      "\n",
      "('Coord matches: ', 0, 'with a tolerance of ', 0.005556)\n",
      "No matches. Skipping ngc2527\n",
      "ngc2533\n",
      "ngc2533 20\n",
      "Data retrived, starting pbsearch\n",
      "('searched for a subset of ', 20, 'Coords against 2mass list of', 9073309)"
     ]
    },
    {
     "name": "stderr",
     "output_type": "stream",
     "text": [
      "\r",
      " 63%|██████▎   | 600/946 [2:53:28<5:34:03, 57.93s/it]"
     ]
    },
    {
     "name": "stdout",
     "output_type": "stream",
     "text": [
      "\n",
      "('Coord matches: ', 0, 'with a tolerance of ', 0.005556)\n",
      "No matches. Skipping ngc2533\n",
      "ngc2539\n",
      "error with parsing mags html"
     ]
    },
    {
     "name": "stderr",
     "output_type": "stream",
     "text": [
      "\r",
      " 64%|██████▎   | 601/946 [2:53:32<4:00:14, 41.78s/it]"
     ]
    },
    {
     "name": "stdout",
     "output_type": "stream",
     "text": [
      "\n",
      "http://www.univie.ac.at/webda/cgi-bin/frame_data_list.cgi?ngc2539+ubvpg+ubv.pgo\n",
      "Retrieval error. Skipping ngc2539\n",
      "ngc2546\n",
      "ngc2546 113\n",
      "Data retrived, starting pbsearch\n",
      "('searched for a subset of ', 113, 'Coords against 2mass list of', 9073309)"
     ]
    },
    {
     "name": "stderr",
     "output_type": "stream",
     "text": [
      "\r",
      " 64%|██████▎   | 602/946 [2:54:22<4:13:40, 44.25s/it]"
     ]
    },
    {
     "name": "stdout",
     "output_type": "stream",
     "text": [
      "\n",
      "('Coord matches: ', 0, 'with a tolerance of ', 0.005556)\n",
      "No matches. Skipping ngc2546\n",
      "ngc2547\n",
      "error with parsing coords html"
     ]
    },
    {
     "name": "stderr",
     "output_type": "stream",
     "text": [
      "\r",
      " 64%|██████▎   | 603/946 [2:54:26<3:02:40, 31.95s/it]"
     ]
    },
    {
     "name": "stdout",
     "output_type": "stream",
     "text": [
      "\n",
      "http://www.univie.ac.at/webda/cgi-bin/frame_data_list.cgi?ngc2547+ad2k+ad2000.coo\n",
      "Retrieval error. Skipping ngc2547\n",
      "ngc2548\n",
      "error with parsing coords html"
     ]
    },
    {
     "name": "stderr",
     "output_type": "stream",
     "text": [
      "\r",
      " 64%|██████▍   | 604/946 [2:54:46<2:42:12, 28.46s/it]"
     ]
    },
    {
     "name": "stdout",
     "output_type": "stream",
     "text": [
      "\n",
      "http://www.univie.ac.at/webda/cgi-bin/frame_data_list.cgi?ngc2548+ad2k+ad2000.coo\n",
      "Retrieval error. Skipping ngc2548\n",
      "ngc2567\n",
      "error with parsing mags html"
     ]
    },
    {
     "name": "stderr",
     "output_type": "stream",
     "text": [
      "\r",
      " 64%|██████▍   | 605/946 [2:54:49<1:58:29, 20.85s/it]"
     ]
    },
    {
     "name": "stdout",
     "output_type": "stream",
     "text": [
      "\n",
      "http://www.univie.ac.at/webda/cgi-bin/frame_data_list.cgi?ngc2567+ubvpg+ubv.pgo\n",
      "Retrieval error. Skipping ngc2567\n",
      "ngc2571\n",
      "ngc2571 262\n",
      "Data retrived, starting pbsearch\n",
      "('searched for a subset of ', 225, 'Coords against 2mass list of', 9073309)"
     ]
    },
    {
     "name": "stderr",
     "output_type": "stream",
     "text": [
      "\r",
      " 64%|██████▍   | 606/946 [2:56:27<4:09:09, 43.97s/it]"
     ]
    },
    {
     "name": "stdout",
     "output_type": "stream",
     "text": [
      "\n",
      "('Coord matches: ', 0, 'with a tolerance of ', 0.005556)\n",
      "No matches. Skipping ngc2571\n",
      "ngc2580\n",
      "error with parsing coords html"
     ]
    },
    {
     "name": "stderr",
     "output_type": "stream",
     "text": [
      "\r",
      " 64%|██████▍   | 607/946 [2:56:29<2:57:32, 31.42s/it]"
     ]
    },
    {
     "name": "stdout",
     "output_type": "stream",
     "text": [
      "\n",
      "http://www.univie.ac.at/webda/cgi-bin/frame_data_list.cgi?ngc2580+ad2k+ad2000.coo\n",
      "Retrieval error. Skipping ngc2580\n",
      "ngc2588\n",
      "error with parsing mags html"
     ]
    },
    {
     "name": "stderr",
     "output_type": "stream",
     "text": [
      "\r",
      " 64%|██████▍   | 608/946 [2:56:58<2:53:07, 30.73s/it]"
     ]
    },
    {
     "name": "stdout",
     "output_type": "stream",
     "text": [
      "\n",
      "http://www.univie.ac.at/webda/cgi-bin/frame_data_list.cgi?ngc2588+ubvpg+ubv.pgo\n",
      "Retrieval error. Skipping ngc2588\n",
      "ngc2627\n",
      "error with parsing mags html"
     ]
    },
    {
     "name": "stderr",
     "output_type": "stream",
     "text": [
      "\r",
      " 64%|██████▍   | 609/946 [2:57:00<2:03:34, 22.00s/it]"
     ]
    },
    {
     "name": "stdout",
     "output_type": "stream",
     "text": [
      "\n",
      "http://www.univie.ac.at/webda/cgi-bin/frame_data_list.cgi?ngc2627+ubvpg+ubv.pgo\n",
      "Retrieval error. Skipping ngc2627\n",
      "ngc2632\n",
      "error with parsing coords html"
     ]
    },
    {
     "name": "stderr",
     "output_type": "stream",
     "text": [
      "\r",
      " 64%|██████▍   | 610/946 [2:57:02<1:30:11, 16.10s/it]"
     ]
    },
    {
     "name": "stdout",
     "output_type": "stream",
     "text": [
      "\n",
      "http://www.univie.ac.at/webda/cgi-bin/frame_data_list.cgi?ngc2632+ad2k+ad2000.coo\n",
      "Retrieval error. Skipping ngc2632\n",
      "ngc2635\n",
      "error with parsing mags html"
     ]
    },
    {
     "name": "stderr",
     "output_type": "stream",
     "text": [
      "\r",
      " 65%|██████▍   | 611/946 [2:57:25<1:40:28, 17.99s/it]"
     ]
    },
    {
     "name": "stdout",
     "output_type": "stream",
     "text": [
      "\n",
      "http://www.univie.ac.at/webda/cgi-bin/frame_data_list.cgi?ngc2635+ubvpg+ubv.pgo\n",
      "Retrieval error. Skipping ngc2635\n",
      "ngc2645\n",
      "ngc2645 9\n",
      "Data retrived, starting pbsearch\n",
      "('searched for a subset of ', 9, 'Coords against 2mass list of', 9073309)"
     ]
    },
    {
     "name": "stderr",
     "output_type": "stream",
     "text": [
      "\r",
      " 65%|██████▍   | 612/946 [2:57:30<1:19:26, 14.27s/it]"
     ]
    },
    {
     "name": "stdout",
     "output_type": "stream",
     "text": [
      "\n",
      "('Coord matches: ', 0, 'with a tolerance of ', 0.005556)\n",
      "No matches. Skipping ngc2645\n",
      "ngc2658\n",
      "error with parsing mags html"
     ]
    },
    {
     "name": "stderr",
     "output_type": "stream",
     "text": [
      "\r",
      " 65%|██████▍   | 613/946 [2:57:32<58:21, 10.51s/it]  "
     ]
    },
    {
     "name": "stdout",
     "output_type": "stream",
     "text": [
      "\n",
      "http://www.univie.ac.at/webda/cgi-bin/frame_data_list.cgi?ngc2658+ubvpg+ubv.pgo\n",
      "Retrieval error. Skipping ngc2658\n",
      "ngc2659\n",
      "error with parsing mags html"
     ]
    },
    {
     "name": "stderr",
     "output_type": "stream",
     "text": [
      "\r",
      " 65%|██████▍   | 614/946 [2:57:35<46:15,  8.36s/it]"
     ]
    },
    {
     "name": "stdout",
     "output_type": "stream",
     "text": [
      "\n",
      "http://www.univie.ac.at/webda/cgi-bin/frame_data_list.cgi?ngc2659+ubvpg+ubv.pgo\n",
      "Retrieval error. Skipping ngc2659\n",
      "ngc2660\n",
      "ngc2660 327\n",
      "Data retrived, starting pbsearch\n",
      "('searched for a subset of ', 327, 'Coords against 2mass list of', 9073309)"
     ]
    },
    {
     "name": "stderr",
     "output_type": "stream",
     "text": [
      "\r",
      " 65%|██████▌   | 615/946 [2:59:59<4:29:30, 48.85s/it]"
     ]
    },
    {
     "name": "stdout",
     "output_type": "stream",
     "text": [
      "\n",
      "('Coord matches: ', 0, 'with a tolerance of ', 0.005556)\n",
      "No matches. Skipping ngc2660\n",
      "ngc2664\n",
      "error with parsing mags html"
     ]
    },
    {
     "name": "stderr",
     "output_type": "stream",
     "text": [
      "\r",
      " 65%|██████▌   | 616/946 [3:00:01<3:12:01, 34.91s/it]"
     ]
    },
    {
     "name": "stdout",
     "output_type": "stream",
     "text": [
      "\n",
      "http://www.univie.ac.at/webda/cgi-bin/frame_data_list.cgi?ngc2664+ubvpg+ubv.pgo\n",
      "Retrieval error. Skipping ngc2664\n",
      "ngc2669\n",
      "error with parsing mags html"
     ]
    },
    {
     "name": "stderr",
     "output_type": "stream",
     "text": [
      "\r",
      " 65%|██████▌   | 617/946 [3:00:03<2:17:42, 25.11s/it]"
     ]
    },
    {
     "name": "stdout",
     "output_type": "stream",
     "text": [
      "\n",
      "http://www.univie.ac.at/webda/cgi-bin/frame_data_list.cgi?ngc2669+ubvpg+ubv.pgo\n",
      "Retrieval error. Skipping ngc2669\n",
      "ngc2670\n",
      "ngc2670 1\n",
      "Data retrived, starting pbsearch\n",
      "('searched for a subset of ', 1, 'Coords against 2mass list of', 9073309)"
     ]
    },
    {
     "name": "stderr",
     "output_type": "stream",
     "text": [
      "\r",
      " 65%|██████▌   | 618/946 [3:00:05<1:39:32, 18.21s/it]"
     ]
    },
    {
     "name": "stdout",
     "output_type": "stream",
     "text": [
      "\n",
      "('Coord matches: ', 0, 'with a tolerance of ', 0.005556)\n",
      "No matches. Skipping ngc2670\n",
      "ngc2671\n",
      "error with parsing mags html"
     ]
    },
    {
     "name": "stderr",
     "output_type": "stream",
     "text": [
      "\r",
      " 65%|██████▌   | 619/946 [3:00:07<1:12:54, 13.38s/it]"
     ]
    },
    {
     "name": "stdout",
     "output_type": "stream",
     "text": [
      "\n",
      "http://www.univie.ac.at/webda/cgi-bin/frame_data_list.cgi?ngc2671+ubvpg+ubv.pgo\n",
      "Retrieval error. Skipping ngc2671\n",
      "ngc2682\n",
      "ngc2682 3188\n",
      "Data retrived, starting pbsearch\n",
      "('searched for a subset of ', 3188, 'Coords against 2mass list of', 9073309)\n",
      "('Coord matches: ', 2476, 'with a tolerance of ', 0.005556)\n",
      "ngc2682"
     ]
    },
    {
     "name": "stderr",
     "output_type": "stream",
     "text": [
      "\r",
      " 66%|██████▌   | 620/946 [3:23:15<38:33:11, 425.74s/it]"
     ]
    },
    {
     "name": "stdout",
     "output_type": "stream",
     "text": [
      " had no repeats\n",
      "ngc2682 had error with histogram\n",
      "ngc2818\n",
      "error with parsing coords html"
     ]
    },
    {
     "name": "stderr",
     "output_type": "stream",
     "text": [
      "\r",
      " 66%|██████▌   | 621/946 [3:23:18<26:58:04, 298.72s/it]"
     ]
    },
    {
     "name": "stdout",
     "output_type": "stream",
     "text": [
      "\n",
      "http://www.univie.ac.at/webda/cgi-bin/frame_data_list.cgi?ngc2818+ad2k+ad2000.coo\n",
      "Retrieval error. Skipping ngc2818\n",
      "ngc2866\n",
      "error with parsing mags html"
     ]
    },
    {
     "name": "stderr",
     "output_type": "stream",
     "text": [
      "\r",
      " 66%|██████▌   | 622/946 [3:23:19<18:51:52, 209.61s/it]"
     ]
    },
    {
     "name": "stdout",
     "output_type": "stream",
     "text": [
      "\n",
      "http://www.univie.ac.at/webda/cgi-bin/frame_data_list.cgi?ngc2866+ubvpg+ubv.pgo\n",
      "Retrieval error. Skipping ngc2866\n",
      "ngc2910\n",
      "ngc2910 3\n",
      "Data retrived, starting pbsearch\n",
      "('searched for a subset of ', 3, 'Coords against 2mass list of', 9073309)"
     ]
    },
    {
     "name": "stderr",
     "output_type": "stream",
     "text": [
      "\r",
      " 66%|██████▌   | 623/946 [3:23:22<13:14:31, 147.59s/it]"
     ]
    },
    {
     "name": "stdout",
     "output_type": "stream",
     "text": [
      "\n",
      "('Coord matches: ', 0, 'with a tolerance of ', 0.005556)\n",
      "No matches. Skipping ngc2910\n",
      "ngc2925\n",
      "error with parsing mags html"
     ]
    },
    {
     "name": "stderr",
     "output_type": "stream",
     "text": [
      "\r",
      " 66%|██████▌   | 624/946 [3:23:24<9:17:42, 103.92s/it] "
     ]
    },
    {
     "name": "stdout",
     "output_type": "stream",
     "text": [
      "\n",
      "http://www.univie.ac.at/webda/cgi-bin/frame_data_list.cgi?ngc2925+ubvpg+ubv.pgo\n",
      "Retrieval error. Skipping ngc2925\n",
      "ngc2972\n",
      "error with parsing mags html"
     ]
    },
    {
     "name": "stderr",
     "output_type": "stream",
     "text": [
      "\r",
      " 66%|██████▌   | 625/946 [3:23:26<6:32:08, 73.30s/it] "
     ]
    },
    {
     "name": "stdout",
     "output_type": "stream",
     "text": [
      "\n",
      "http://www.univie.ac.at/webda/cgi-bin/frame_data_list.cgi?ngc2972+ubvpg+ubv.pgo\n",
      "Retrieval error. Skipping ngc2972\n",
      "ngc3033\n",
      "error with parsing mags html"
     ]
    },
    {
     "name": "stderr",
     "output_type": "stream",
     "text": [
      "\r",
      " 66%|██████▌   | 626/946 [3:23:28<4:36:13, 51.79s/it]"
     ]
    },
    {
     "name": "stdout",
     "output_type": "stream",
     "text": [
      "\n",
      "http://www.univie.ac.at/webda/cgi-bin/frame_data_list.cgi?ngc3033+ubvpg+ubv.pgo\n",
      "Retrieval error. Skipping ngc3033\n",
      "ngc3036\n",
      "error with parsing mags html"
     ]
    },
    {
     "name": "stderr",
     "output_type": "stream",
     "text": [
      "\r",
      " 66%|██████▋   | 627/946 [3:23:29<3:15:14, 36.72s/it]"
     ]
    },
    {
     "name": "stdout",
     "output_type": "stream",
     "text": [
      "\n",
      "http://www.univie.ac.at/webda/cgi-bin/frame_data_list.cgi?ngc3036+ubvpg+ubv.pgo\n",
      "Retrieval error. Skipping ngc3036\n",
      "ngc3105\n",
      "ngc3105 2\n",
      "Data retrived, starting pbsearch\n",
      "('searched for a subset of ', 2, 'Coords against 2mass list of', 9073309)"
     ]
    },
    {
     "name": "stderr",
     "output_type": "stream",
     "text": [
      "\r",
      " 66%|██████▋   | 628/946 [3:23:32<2:19:56, 26.40s/it]"
     ]
    },
    {
     "name": "stdout",
     "output_type": "stream",
     "text": [
      "\n",
      "('Coord matches: ', 0, 'with a tolerance of ', 0.005556)\n",
      "No matches. Skipping ngc3105\n",
      "ngc3114\n",
      "error with parsing mags html"
     ]
    },
    {
     "name": "stderr",
     "output_type": "stream",
     "text": [
      "\r",
      " 66%|██████▋   | 629/946 [3:23:34<1:41:38, 19.24s/it]"
     ]
    },
    {
     "name": "stdout",
     "output_type": "stream",
     "text": [
      "\n",
      "http://www.univie.ac.at/webda/cgi-bin/frame_data_list.cgi?ngc3114+ubvpg+ubv.pgo\n",
      "Retrieval error. Skipping ngc3114\n",
      "ngc3228\n",
      "ngc3228 14\n",
      "Data retrived, starting pbsearch\n",
      "('searched for a subset of ', 14, 'Coords against 2mass list of', 9073309)"
     ]
    },
    {
     "name": "stderr",
     "output_type": "stream",
     "text": [
      "\r",
      " 67%|██████▋   | 630/946 [3:23:42<1:23:06, 15.78s/it]"
     ]
    },
    {
     "name": "stdout",
     "output_type": "stream",
     "text": [
      "\n",
      "('Coord matches: ', 0, 'with a tolerance of ', 0.005556)\n",
      "No matches. Skipping ngc3228\n",
      "ngc3247\n",
      "error with parsing mags html"
     ]
    },
    {
     "name": "stderr",
     "output_type": "stream",
     "text": [
      "\r",
      " 67%|██████▋   | 631/946 [3:23:44<1:00:57, 11.61s/it]"
     ]
    },
    {
     "name": "stdout",
     "output_type": "stream",
     "text": [
      "\n",
      "http://www.univie.ac.at/webda/cgi-bin/frame_data_list.cgi?ngc3247+ubvpg+ubv.pgo\n",
      "Retrieval error. Skipping ngc3247\n",
      "ngc3293\n",
      "error with parsing coords html"
     ]
    },
    {
     "name": "stderr",
     "output_type": "stream",
     "text": [
      "\r",
      " 67%|██████▋   | 632/946 [3:23:54<58:26, 11.17s/it]  "
     ]
    },
    {
     "name": "stdout",
     "output_type": "stream",
     "text": [
      "\n",
      "http://www.univie.ac.at/webda/cgi-bin/frame_data_list.cgi?ngc3293+ad2k+ad2000.coo\n",
      "Retrieval error. Skipping ngc3293\n",
      "ngc3330\n",
      "error with parsing mags html"
     ]
    },
    {
     "name": "stderr",
     "output_type": "stream",
     "text": [
      "\r",
      " 67%|██████▋   | 633/946 [3:23:56<43:22,  8.31s/it]"
     ]
    },
    {
     "name": "stdout",
     "output_type": "stream",
     "text": [
      "\n",
      "http://www.univie.ac.at/webda/cgi-bin/frame_data_list.cgi?ngc3330+ubvpg+ubv.pgo\n",
      "Retrieval error. Skipping ngc3330\n",
      "ngc3496\n",
      "ngc3496 10\n",
      "Data retrived, starting pbsearch\n",
      "('searched for a subset of ', 9, 'Coords against 2mass list of', 9073309)"
     ]
    },
    {
     "name": "stderr",
     "output_type": "stream",
     "text": [
      "\r",
      " 67%|██████▋   | 634/946 [3:24:01<38:34,  7.42s/it]"
     ]
    },
    {
     "name": "stdout",
     "output_type": "stream",
     "text": [
      "\n",
      "('Coord matches: ', 0, 'with a tolerance of ', 0.005556)\n",
      "No matches. Skipping ngc3496\n",
      "ngc3532\n",
      "error with parsing mags html"
     ]
    },
    {
     "name": "stderr",
     "output_type": "stream",
     "text": [
      "\r",
      " 67%|██████▋   | 635/946 [3:24:10<41:15,  7.96s/it]"
     ]
    },
    {
     "name": "stdout",
     "output_type": "stream",
     "text": [
      "\n",
      "http://www.univie.ac.at/webda/cgi-bin/frame_data_list.cgi?ngc3532+ubvpg+ubv.pgo\n",
      "Retrieval error. Skipping ngc3532\n",
      "ngc3572\n",
      "ngc3572 16\n",
      "Data retrived, starting pbsearch\n",
      "('searched for a subset of ', 16, 'Coords against 2mass list of', 9073309)"
     ]
    },
    {
     "name": "stderr",
     "output_type": "stream",
     "text": [
      "\r",
      " 67%|██████▋   | 636/946 [3:24:18<41:33,  8.04s/it]"
     ]
    },
    {
     "name": "stdout",
     "output_type": "stream",
     "text": [
      "\n",
      "('Coord matches: ', 0, 'with a tolerance of ', 0.005556)\n",
      "No matches. Skipping ngc3572\n",
      "ngc3590\n",
      "error with parsing coords html"
     ]
    },
    {
     "name": "stderr",
     "output_type": "stream",
     "text": [
      "\r",
      " 67%|██████▋   | 637/946 [3:24:32<49:57,  9.70s/it]"
     ]
    },
    {
     "name": "stdout",
     "output_type": "stream",
     "text": [
      "\n",
      "http://www.univie.ac.at/webda/cgi-bin/frame_data_list.cgi?ngc3590+ad2k+ad2000.coo\n",
      "Retrieval error. Skipping ngc3590\n",
      "ngc3603\n",
      "ngc3603 62\n",
      "Data retrived, starting pbsearch\n",
      "('searched for a subset of ', 52, 'Coords against 2mass list of', 9073309)"
     ]
    },
    {
     "name": "stderr",
     "output_type": "stream",
     "text": [
      "\r",
      " 67%|██████▋   | 638/946 [3:24:56<1:11:22, 13.90s/it]"
     ]
    },
    {
     "name": "stdout",
     "output_type": "stream",
     "text": [
      "\n",
      "('Coord matches: ', 0, 'with a tolerance of ', 0.005556)\n",
      "No matches. Skipping ngc3603\n",
      "ngc3680\n",
      "ngc3680 112\n",
      "Data retrived, starting pbsearch\n",
      "('searched for a subset of ', 112, 'Coords against 2mass list of', 9073309)\n",
      "('Coord matches: ', 58, 'with a tolerance of ', 0.005556)\n",
      "using 10 bins\n",
      "Power_divergenceResult(statistic=12.633725669587685, pvalue=0.17989208983253291) 1.8048179528\n"
     ]
    },
    {
     "data": {
      "image/png": "[encoded data removed]",
      "text/plain": [
       "<matplotlib.figure.Figure at 0x10cfdeeb8>"
      ]
     },
     "metadata": {},
     "output_type": "display_data"
    },
    {
     "name": "stderr",
     "output_type": "stream",
     "text": [
      "\r",
      " 68%|██████▊   | 639/946 [3:25:45<2:05:55, 24.61s/it]"
     ]
    },
    {
     "name": "stdout",
     "output_type": "stream",
     "text": [
      "selected 39 from 58\n",
      "39 matches for ngc3680 for tolerance 0.005556\n",
      "ngc3766\n",
      "ngc3766 210\n",
      "Data retrived, starting pbsearch\n",
      "('searched for a subset of ', 210, 'Coords against 2mass list of', 9073309)"
     ]
    },
    {
     "name": "stderr",
     "output_type": "stream",
     "text": [
      "\r",
      " 68%|██████▊   | 640/946 [3:27:15<3:45:39, 44.25s/it]"
     ]
    },
    {
     "name": "stdout",
     "output_type": "stream",
     "text": [
      "\n",
      "('Coord matches: ', 0, 'with a tolerance of ', 0.005556)\n",
      "No matches. Skipping ngc3766\n",
      "ngc3960\n",
      "ngc3960 496\n",
      "Data retrived, starting pbsearch\n",
      "('searched for a subset of ', 204, 'Coords against 2mass list of', 9073309)\n",
      "('Coord matches: ', 55, 'with a tolerance of ', 0.005556)\n",
      "using 10 bins\n",
      "Power_divergenceResult(statistic=17.265943458905767, pvalue=0.044710597018713119) 2.46656335127\n"
     ]
    },
    {
     "data": {
      "image/png": "[encoded data removed]",
      "text/plain": [
       "<matplotlib.figure.Figure at 0x10b03aeb8>"
      ]
     },
     "metadata": {},
     "output_type": "display_data"
    },
    {
     "name": "stderr",
     "output_type": "stream",
     "text": [
      "\r",
      " 68%|██████▊   | 641/946 [3:29:37<6:14:09, 73.61s/it]"
     ]
    },
    {
     "name": "stdout",
     "output_type": "stream",
     "text": [
      "selected 38 from 55\n",
      "38 matches for ngc3960 for tolerance 0.005556\n",
      "ngc4052\n",
      "error with parsing mags html"
     ]
    },
    {
     "name": "stderr",
     "output_type": "stream",
     "text": [
      "\r",
      " 68%|██████▊   | 642/946 [3:29:40<4:24:25, 52.19s/it]"
     ]
    },
    {
     "name": "stdout",
     "output_type": "stream",
     "text": [
      "\n",
      "http://www.univie.ac.at/webda/cgi-bin/frame_data_list.cgi?ngc4052+ubvpg+ubv.pgo\n",
      "Retrieval error. Skipping ngc4052\n",
      "ngc4103\n",
      "ngc4103 657\n",
      "Data retrived, starting pbsearch\n",
      "('searched for a subset of ', 464, 'Coords against 2mass list of', 9073309)"
     ]
    },
    {
     "name": "stderr",
     "output_type": "stream",
     "text": [
      "\r",
      " 68%|██████▊   | 643/946 [3:33:12<8:25:38, 100.13s/it]"
     ]
    },
    {
     "name": "stdout",
     "output_type": "stream",
     "text": [
      "\n",
      "('Coord matches: ', 0, 'with a tolerance of ', 0.005556)\n",
      "No matches. Skipping ngc4103\n",
      "ngc4337\n",
      "error with parsing mags html"
     ]
    },
    {
     "name": "stderr",
     "output_type": "stream",
     "text": [
      "\r",
      " 68%|██████▊   | 644/946 [3:33:13<5:55:11, 70.57s/it] "
     ]
    },
    {
     "name": "stdout",
     "output_type": "stream",
     "text": [
      "\n",
      "http://www.univie.ac.at/webda/cgi-bin/frame_data_list.cgi?ngc4337+ubvpg+ubv.pgo\n",
      "Retrieval error. Skipping ngc4337\n",
      "ngc4439\n",
      "error with parsing mags html"
     ]
    },
    {
     "name": "stderr",
     "output_type": "stream",
     "text": [
      "\r",
      " 68%|██████▊   | 645/946 [3:33:16<4:12:48, 50.39s/it]"
     ]
    },
    {
     "name": "stdout",
     "output_type": "stream",
     "text": [
      "\n",
      "http://www.univie.ac.at/webda/cgi-bin/frame_data_list.cgi?ngc4439+ubvpg+ubv.pgo\n",
      "Retrieval error. Skipping ngc4439\n",
      "ngc4463\n",
      "error with parsing mags html"
     ]
    },
    {
     "name": "stderr",
     "output_type": "stream",
     "text": [
      "\r",
      " 68%|██████▊   | 646/946 [3:33:39<3:30:50, 42.17s/it]"
     ]
    },
    {
     "name": "stdout",
     "output_type": "stream",
     "text": [
      "\n",
      "http://www.univie.ac.at/webda/cgi-bin/frame_data_list.cgi?ngc4463+ubvpg+ubv.pgo\n",
      "Retrieval error. Skipping ngc4463\n",
      "ngc4609\n",
      "error with parsing mags html"
     ]
    },
    {
     "name": "stderr",
     "output_type": "stream",
     "text": [
      "\r",
      " 68%|██████▊   | 647/946 [3:33:41<2:29:49, 30.06s/it]"
     ]
    },
    {
     "name": "stdout",
     "output_type": "stream",
     "text": [
      "\n",
      "http://www.univie.ac.at/webda/cgi-bin/frame_data_list.cgi?ngc4609+ubvpg+ubv.pgo\n",
      "Retrieval error. Skipping ngc4609\n",
      "ngc4755\n",
      "error with parsing mags html"
     ]
    },
    {
     "name": "stderr",
     "output_type": "stream",
     "text": [
      "\r",
      " 68%|██████▊   | 648/946 [3:34:32<3:00:02, 36.25s/it]"
     ]
    },
    {
     "name": "stdout",
     "output_type": "stream",
     "text": [
      "\n",
      "http://www.univie.ac.at/webda/cgi-bin/frame_data_list.cgi?ngc4755+ubvpg+ubv.pgo\n",
      "Retrieval error. Skipping ngc4755\n",
      "ngc4815\n",
      "error with parsing mags html"
     ]
    },
    {
     "name": "stderr",
     "output_type": "stream",
     "text": [
      "\r",
      " 69%|██████▊   | 649/946 [3:34:34<2:08:18, 25.92s/it]"
     ]
    },
    {
     "name": "stdout",
     "output_type": "stream",
     "text": [
      "\n",
      "http://www.univie.ac.at/webda/cgi-bin/frame_data_list.cgi?ngc4815+ubvpg+ubv.pgo\n",
      "Retrieval error. Skipping ngc4815\n",
      "ngc4852\n",
      "error with parsing coords html"
     ]
    },
    {
     "name": "stderr",
     "output_type": "stream",
     "text": [
      "\r",
      " 69%|██████▊   | 650/946 [3:34:39<1:36:51, 19.63s/it]"
     ]
    },
    {
     "name": "stdout",
     "output_type": "stream",
     "text": [
      "\n",
      "http://www.univie.ac.at/webda/cgi-bin/frame_data_list.cgi?ngc4852+ad2k+ad2000.coo\n",
      "Retrieval error. Skipping ngc4852\n",
      "ngc5043\n",
      "error with parsing mags html"
     ]
    },
    {
     "name": "stderr",
     "output_type": "stream",
     "text": [
      "\r",
      " 69%|██████▉   | 651/946 [3:34:41<1:10:13, 14.28s/it]"
     ]
    },
    {
     "name": "stdout",
     "output_type": "stream",
     "text": [
      "\n",
      "http://www.univie.ac.at/webda/cgi-bin/frame_data_list.cgi?ngc5043+ubvpg+ubv.pgo\n",
      "Retrieval error. Skipping ngc5043\n",
      "ngc5045\n",
      "error with parsing mags html"
     ]
    },
    {
     "name": "stderr",
     "output_type": "stream",
     "text": [
      "\r",
      " 69%|██████▉   | 652/946 [3:34:43<52:17, 10.67s/it]  "
     ]
    },
    {
     "name": "stdout",
     "output_type": "stream",
     "text": [
      "\n",
      "http://www.univie.ac.at/webda/cgi-bin/frame_data_list.cgi?ngc5045+ubvpg+ubv.pgo\n",
      "Retrieval error. Skipping ngc5045\n",
      "ngc5120\n",
      "error with parsing mags html"
     ]
    },
    {
     "name": "stderr",
     "output_type": "stream",
     "text": [
      "\r",
      " 69%|██████▉   | 653/946 [3:34:44<38:52,  7.96s/it]"
     ]
    },
    {
     "name": "stdout",
     "output_type": "stream",
     "text": [
      "\n",
      "http://www.univie.ac.at/webda/cgi-bin/frame_data_list.cgi?ngc5120+ubvpg+ubv.pgo\n",
      "Retrieval error. Skipping ngc5120\n",
      "ngc5138\n",
      "ngc5138 24\n",
      "Data retrived, starting pbsearch\n",
      "('searched for a subset of ', 19, 'Coords against 2mass list of', 9073309)"
     ]
    },
    {
     "name": "stderr",
     "output_type": "stream",
     "text": [
      "\r",
      " 69%|██████▉   | 654/946 [3:34:54<41:23,  8.50s/it]"
     ]
    },
    {
     "name": "stdout",
     "output_type": "stream",
     "text": [
      "\n",
      "('Coord matches: ', 0, 'with a tolerance of ', 0.005556)\n",
      "No matches. Skipping ngc5138\n",
      "ngc5168\n",
      "error with parsing mags html"
     ]
    },
    {
     "name": "stderr",
     "output_type": "stream",
     "text": [
      "\r",
      " 69%|██████▉   | 655/946 [3:34:56<31:29,  6.49s/it]"
     ]
    },
    {
     "name": "stdout",
     "output_type": "stream",
     "text": [
      "\n",
      "http://www.univie.ac.at/webda/cgi-bin/frame_data_list.cgi?ngc5168+ubvpg+ubv.pgo\n",
      "Retrieval error. Skipping ngc5168\n",
      "ngc5281\n",
      "error with parsing mags html"
     ]
    },
    {
     "name": "stderr",
     "output_type": "stream",
     "text": [
      "\r",
      " 69%|██████▉   | 656/946 [3:34:59<26:34,  5.50s/it]"
     ]
    },
    {
     "name": "stdout",
     "output_type": "stream",
     "text": [
      "\n",
      "http://www.univie.ac.at/webda/cgi-bin/frame_data_list.cgi?ngc5281+ubvpg+ubv.pgo\n",
      "Retrieval error. Skipping ngc5281\n",
      "ngc5316\n",
      "ngc5316 158\n",
      "Data retrived, starting pbsearch\n",
      "('searched for a subset of ', 130, 'Coords against 2mass list of', 9073309)"
     ]
    },
    {
     "name": "stderr",
     "output_type": "stream",
     "text": [
      "\r",
      " 69%|██████▉   | 657/946 [3:35:56<1:40:32, 20.88s/it]"
     ]
    },
    {
     "name": "stdout",
     "output_type": "stream",
     "text": [
      "\n",
      "('Coord matches: ', 0, 'with a tolerance of ', 0.005556)\n",
      "No matches. Skipping ngc5316\n",
      "ngc5359\n",
      "error with parsing mags html"
     ]
    },
    {
     "name": "stderr",
     "output_type": "stream",
     "text": [
      "\r",
      " 70%|██████▉   | 658/946 [3:35:57<1:12:23, 15.08s/it]"
     ]
    },
    {
     "name": "stdout",
     "output_type": "stream",
     "text": [
      "\n",
      "http://www.univie.ac.at/webda/cgi-bin/frame_data_list.cgi?ngc5359+ubvpg+ubv.pgo\n",
      "Retrieval error. Skipping ngc5359\n",
      "ngc5367\n",
      "error with parsing mags html"
     ]
    },
    {
     "name": "stderr",
     "output_type": "stream",
     "text": [
      "\r",
      " 70%|██████▉   | 659/946 [3:35:59<52:48, 11.04s/it]  "
     ]
    },
    {
     "name": "stdout",
     "output_type": "stream",
     "text": [
      "\n",
      "http://www.univie.ac.at/webda/cgi-bin/frame_data_list.cgi?ngc5367+ubvpg+ubv.pgo\n",
      "Retrieval error. Skipping ngc5367\n",
      "ngc5381\n",
      "error with parsing mags html"
     ]
    },
    {
     "name": "stderr",
     "output_type": "stream",
     "text": [
      "\r",
      " 70%|██████▉   | 660/946 [3:36:01<39:17,  8.24s/it]"
     ]
    },
    {
     "name": "stdout",
     "output_type": "stream",
     "text": [
      "\n",
      "http://www.univie.ac.at/webda/cgi-bin/frame_data_list.cgi?ngc5381+ubvpg+ubv.pgo\n",
      "Retrieval error. Skipping ngc5381\n",
      "ngc5385\n",
      "error with parsing mags html"
     ]
    },
    {
     "name": "stderr",
     "output_type": "stream",
     "text": [
      "\r",
      " 70%|██████▉   | 661/946 [3:36:02<29:44,  6.26s/it]"
     ]
    },
    {
     "name": "stdout",
     "output_type": "stream",
     "text": [
      "\n",
      "http://www.univie.ac.at/webda/cgi-bin/frame_data_list.cgi?ngc5385+ubvpg+ubv.pgo\n",
      "Retrieval error. Skipping ngc5385\n",
      "ngc5460\n",
      "error with parsing mags html"
     ]
    },
    {
     "name": "stderr",
     "output_type": "stream",
     "text": [
      "\r",
      " 70%|██████▉   | 662/946 [3:36:06<25:06,  5.30s/it]"
     ]
    },
    {
     "name": "stdout",
     "output_type": "stream",
     "text": [
      "\n",
      "http://www.univie.ac.at/webda/cgi-bin/frame_data_list.cgi?ngc5460+ubvpg+ubv.pgo\n",
      "Retrieval error. Skipping ngc5460\n",
      "ngc5593\n",
      "error with parsing mags html"
     ]
    },
    {
     "name": "stderr",
     "output_type": "stream",
     "text": [
      "\r",
      " 70%|███████   | 663/946 [3:36:09<22:43,  4.82s/it]"
     ]
    },
    {
     "name": "stdout",
     "output_type": "stream",
     "text": [
      "\n",
      "http://www.univie.ac.at/webda/cgi-bin/frame_data_list.cgi?ngc5593+ubvpg+ubv.pgo\n",
      "Retrieval error. Skipping ngc5593\n",
      "ngc5606\n",
      "error with parsing coords html"
     ]
    },
    {
     "name": "stderr",
     "output_type": "stream",
     "text": [
      "\r",
      " 70%|███████   | 664/946 [3:36:19<29:06,  6.19s/it]"
     ]
    },
    {
     "name": "stdout",
     "output_type": "stream",
     "text": [
      "\n",
      "http://www.univie.ac.at/webda/cgi-bin/frame_data_list.cgi?ngc5606+ad2k+ad2000.coo\n",
      "Retrieval error. Skipping ngc5606\n",
      "ngc5617\n",
      "ngc5617 2\n",
      "Data retrived, starting pbsearch\n",
      "('searched for a subset of ', 2, 'Coords against 2mass list of', 9073309)"
     ]
    },
    {
     "name": "stderr",
     "output_type": "stream",
     "text": [
      "\r",
      " 70%|███████   | 665/946 [3:36:21<23:46,  5.08s/it]"
     ]
    },
    {
     "name": "stdout",
     "output_type": "stream",
     "text": [
      "\n",
      "('Coord matches: ', 0, 'with a tolerance of ', 0.005556)\n",
      "No matches. Skipping ngc5617\n",
      "ngc5662\n",
      "error with parsing mags html"
     ]
    },
    {
     "name": "stderr",
     "output_type": "stream",
     "text": [
      "\r",
      " 70%|███████   | 666/946 [3:36:25<22:09,  4.75s/it]"
     ]
    },
    {
     "name": "stdout",
     "output_type": "stream",
     "text": [
      "\n",
      "http://www.univie.ac.at/webda/cgi-bin/frame_data_list.cgi?ngc5662+ubvpg+ubv.pgo\n",
      "Retrieval error. Skipping ngc5662\n",
      "ngc5749\n",
      "error with parsing mags html"
     ]
    },
    {
     "name": "stderr",
     "output_type": "stream",
     "text": [
      "\r",
      " 71%|███████   | 667/946 [3:36:27<18:28,  3.97s/it]"
     ]
    },
    {
     "name": "stdout",
     "output_type": "stream",
     "text": [
      "\n",
      "http://www.univie.ac.at/webda/cgi-bin/frame_data_list.cgi?ngc5749+ubvpg+ubv.pgo\n",
      "Retrieval error. Skipping ngc5749\n",
      "ngc5822\n",
      "ngc5822 721\n",
      "Data retrived, starting pbsearch\n",
      "('searched for a subset of ', 721, 'Coords against 2mass list of', 9073309)"
     ]
    },
    {
     "name": "stderr",
     "output_type": "stream",
     "text": [
      "\r",
      " 71%|███████   | 668/946 [3:41:33<7:17:57, 94.52s/it]"
     ]
    },
    {
     "name": "stdout",
     "output_type": "stream",
     "text": [
      "\n",
      "('Coord matches: ', 0, 'with a tolerance of ', 0.005556)\n",
      "No matches. Skipping ngc5822\n",
      "ngc5823\n",
      "ngc5823 38\n",
      "Data retrived, starting pbsearch\n",
      "('searched for a subset of ', 32, 'Coords against 2mass list of', 9073309)"
     ]
    },
    {
     "name": "stderr",
     "output_type": "stream",
     "text": [
      "\r",
      " 71%|███████   | 669/946 [3:41:48<5:26:47, 70.78s/it]"
     ]
    },
    {
     "name": "stdout",
     "output_type": "stream",
     "text": [
      "\n",
      "('Coord matches: ', 0, 'with a tolerance of ', 0.005556)\n",
      "No matches. Skipping ngc5823\n",
      "ngc5999\n",
      "error with parsing coords html"
     ]
    },
    {
     "name": "stderr",
     "output_type": "stream",
     "text": [
      "\r",
      " 71%|███████   | 670/946 [3:41:49<3:49:02, 49.79s/it]"
     ]
    },
    {
     "name": "stdout",
     "output_type": "stream",
     "text": [
      "\n",
      "http://www.univie.ac.at/webda/cgi-bin/frame_data_list.cgi?ngc5999+ad2k+ad2000.coo\n",
      "Retrieval error. Skipping ngc5999\n",
      "ngc6005\n",
      "error with parsing mags html"
     ]
    },
    {
     "name": "stderr",
     "output_type": "stream",
     "text": [
      "\r",
      " 71%|███████   | 671/946 [3:41:55<2:48:19, 36.73s/it]"
     ]
    },
    {
     "name": "stdout",
     "output_type": "stream",
     "text": [
      "\n",
      "http://www.univie.ac.at/webda/cgi-bin/frame_data_list.cgi?ngc6005+ubvpg+ubv.pgo\n",
      "Retrieval error. Skipping ngc6005\n",
      "ngc6025\n",
      "ngc6025 65\n",
      "Data retrived, starting pbsearch\n",
      "('searched for a subset of ', 43, 'Coords against 2mass list of', 9073309)\n",
      "('Coord matches: ', 46, 'with a tolerance of ', 0.005556)\n",
      "using 10 bins\n",
      "Power_divergenceResult(statistic=7.217973512064856, pvalue=0.61443668870401047) 1.03113907315\n"
     ]
    },
    {
     "data": {
      "image/png": "[encoded data removed]",
      "text/plain": [
       "<matplotlib.figure.Figure at 0x1381fa6d8>"
      ]
     },
     "metadata": {},
     "output_type": "display_data"
    },
    {
     "name": "stderr",
     "output_type": "stream",
     "text": [
      "\r",
      " 71%|███████   | 672/946 [3:42:16<2:25:51, 31.94s/it]"
     ]
    },
    {
     "name": "stdout",
     "output_type": "stream",
     "text": [
      "selected 35 from 46\n",
      "35 matches for ngc6025 for tolerance 0.005556\n",
      "ngc6031\n",
      "ngc6031 83\n",
      "Data retrived, starting pbsearch\n",
      "('searched for a subset of ', 79, 'Coords against 2mass list of', 9073309)"
     ]
    },
    {
     "name": "stderr",
     "output_type": "stream",
     "text": [
      "\r",
      " 71%|███████   | 673/946 [3:42:52<2:29:58, 32.96s/it]"
     ]
    },
    {
     "name": "stdout",
     "output_type": "stream",
     "text": [
      "\n",
      "('Coord matches: ', 0, 'with a tolerance of ', 0.005556)\n",
      "No matches. Skipping ngc6031\n",
      "ngc6067\n",
      "ngc6067 10\n",
      "Data retrived, starting pbsearch\n",
      "('searched for a subset of ', 8, 'Coords against 2mass list of', 9073309)"
     ]
    },
    {
     "name": "stderr",
     "output_type": "stream",
     "text": [
      "\r",
      " 71%|███████   | 674/946 [3:42:57<1:51:44, 24.65s/it]"
     ]
    },
    {
     "name": "stdout",
     "output_type": "stream",
     "text": [
      "\n",
      "('Coord matches: ', 0, 'with a tolerance of ', 0.005556)\n",
      "No matches. Skipping ngc6067\n",
      "ngc6087\n",
      "ngc6087 89\n",
      "Data retrived, starting pbsearch\n",
      "('searched for a subset of ', 89, 'Coords against 2mass list of', 9073309)\n",
      "('Coord matches: ', 80, 'with a tolerance of ', 0.005556)\n",
      "using 10 bins\n",
      "ngc6087"
     ]
    },
    {
     "name": "stderr",
     "output_type": "stream",
     "text": [
      "\r",
      " 71%|███████▏  | 675/946 [3:43:37<2:12:12, 29.27s/it]"
     ]
    },
    {
     "name": "stdout",
     "output_type": "stream",
     "text": [
      " had error with optimize.curve_fit\n",
      "ngc6124\n",
      "error with parsing mags html"
     ]
    },
    {
     "name": "stderr",
     "output_type": "stream",
     "text": [
      "\r",
      " 71%|███████▏  | 676/946 [3:43:42<1:39:45, 22.17s/it]"
     ]
    },
    {
     "name": "stdout",
     "output_type": "stream",
     "text": [
      "\n",
      "http://www.univie.ac.at/webda/cgi-bin/frame_data_list.cgi?ngc6124+ubvpg+ubv.pgo\n",
      "Retrieval error. Skipping ngc6124\n",
      "ngc6134\n",
      "ngc6134 31\n",
      "Data retrived, starting pbsearch\n",
      "('searched for a subset of ', 31, 'Coords against 2mass list of', 9073309)"
     ]
    },
    {
     "name": "stderr",
     "output_type": "stream",
     "text": [
      "\r",
      " 72%|███████▏  | 677/946 [3:43:57<1:29:28, 19.96s/it]"
     ]
    },
    {
     "name": "stdout",
     "output_type": "stream",
     "text": [
      "\n",
      "('Coord matches: ', 0, 'with a tolerance of ', 0.005556)\n",
      "No matches. Skipping ngc6134\n",
      "ngc6152\n",
      "error with parsing mags html"
     ]
    },
    {
     "name": "stderr",
     "output_type": "stream",
     "text": [
      "\r",
      " 72%|███████▏  | 678/946 [3:44:00<1:05:44, 14.72s/it]"
     ]
    },
    {
     "name": "stdout",
     "output_type": "stream",
     "text": [
      "\n",
      "http://www.univie.ac.at/webda/cgi-bin/frame_data_list.cgi?ngc6152+ubvpg+ubv.pgo\n",
      "Retrieval error. Skipping ngc6152\n",
      "ngc6167\n",
      "ngc6167"
     ]
    },
    {
     "name": "stderr",
     "output_type": "stream",
     "text": [
      "\r",
      " 72%|███████▏  | 679/946 [3:44:02<48:10, 10.83s/it]  "
     ]
    },
    {
     "name": "stdout",
     "output_type": "stream",
     "text": [
      " 0\n",
      "Data retrived, starting pbsearch\n",
      "('searched for a subset of ', 0, 'Coords against 2mass list of', 9073309)\n",
      "('Coord matches: ', 0, 'with a tolerance of ', 0.005556)\n",
      "No matches. Skipping ngc6167\n",
      "ngc6169\n",
      "error with parsing mags html"
     ]
    },
    {
     "name": "stderr",
     "output_type": "stream",
     "text": [
      "\r",
      " 72%|███████▏  | 680/946 [3:44:03<35:46,  8.07s/it]"
     ]
    },
    {
     "name": "stdout",
     "output_type": "stream",
     "text": [
      "\n",
      "http://www.univie.ac.at/webda/cgi-bin/frame_data_list.cgi?ngc6169+ubvpg+ubv.pgo\n",
      "Retrieval error. Skipping ngc6169\n",
      "ngc6178\n",
      "error with parsing mags html"
     ]
    },
    {
     "name": "stderr",
     "output_type": "stream",
     "text": [
      "\r",
      " 72%|███████▏  | 681/946 [3:44:06<28:04,  6.35s/it]"
     ]
    },
    {
     "name": "stdout",
     "output_type": "stream",
     "text": [
      "\n",
      "http://www.univie.ac.at/webda/cgi-bin/frame_data_list.cgi?ngc6178+ubvpg+ubv.pgo\n",
      "Retrieval error. Skipping ngc6178\n",
      "ngc6192\n",
      "ngc6192 82\n",
      "Data retrived, starting pbsearch\n",
      "('searched for a subset of ', 82, 'Coords against 2mass list of', 9073309)"
     ]
    },
    {
     "name": "stderr",
     "output_type": "stream",
     "text": [
      "\r",
      " 72%|███████▏  | 682/946 [3:44:42<1:07:37, 15.37s/it]"
     ]
    },
    {
     "name": "stdout",
     "output_type": "stream",
     "text": [
      "\n",
      "('Coord matches: ', 0, 'with a tolerance of ', 0.005556)\n",
      "No matches. Skipping ngc6192\n",
      "ngc6193\n",
      "ngc6193 216\n",
      "Data retrived, starting pbsearch\n",
      "('searched for a subset of ', 176, 'Coords against 2mass list of', 9073309)"
     ]
    },
    {
     "name": "stderr",
     "output_type": "stream",
     "text": [
      "\r",
      " 72%|███████▏  | 683/946 [3:45:58<2:27:49, 33.72s/it]"
     ]
    },
    {
     "name": "stdout",
     "output_type": "stream",
     "text": [
      "\n",
      "('Coord matches: ', 0, 'with a tolerance of ', 0.005556)\n",
      "No matches. Skipping ngc6193\n",
      "ngc6200\n",
      "error with parsing mags html"
     ]
    },
    {
     "name": "stderr",
     "output_type": "stream",
     "text": [
      "\r",
      " 72%|███████▏  | 684/946 [3:46:02<1:47:37, 24.65s/it]"
     ]
    },
    {
     "name": "stdout",
     "output_type": "stream",
     "text": [
      "\n",
      "http://www.univie.ac.at/webda/cgi-bin/frame_data_list.cgi?ngc6200+ubvpg+ubv.pgo\n",
      "Retrieval error. Skipping ngc6200\n",
      "ngc6204\n",
      "error with parsing mags html"
     ]
    },
    {
     "name": "stderr",
     "output_type": "stream",
     "text": [
      "\r",
      " 72%|███████▏  | 685/946 [3:46:05<1:18:49, 18.12s/it]"
     ]
    },
    {
     "name": "stdout",
     "output_type": "stream",
     "text": [
      "\n",
      "http://www.univie.ac.at/webda/cgi-bin/frame_data_list.cgi?ngc6204+ubvpg+ubv.pgo\n",
      "Retrieval error. Skipping ngc6204\n",
      "ngc6208\n",
      "ngc6208 21\n",
      "Data retrived, starting pbsearch\n",
      "('searched for a subset of ', 21, 'Coords against 2mass list of', 9073309)\n",
      "('Coord matches: ', 18, 'with a tolerance of ', 0.005556)\n",
      "using"
     ]
    },
    {
     "name": "stderr",
     "output_type": "stream",
     "text": [
      "\r",
      " 73%|███████▎  | 686/946 [3:46:15<1:08:45, 15.87s/it]"
     ]
    },
    {
     "name": "stdout",
     "output_type": "stream",
     "text": [
      " 10 bins\n",
      "Power_divergenceResult(statistic=3.6291964785877286e+17, pvalue=0.0) 5.18456639798e+16\n",
      "Error with reduced chi squared: 5.18456639798e+16 for ngc6208\n",
      "ngc6231\n",
      "error with parsing mags html"
     ]
    },
    {
     "name": "stderr",
     "output_type": "stream",
     "text": [
      "\r",
      " 73%|███████▎  | 687/946 [3:46:19<52:46, 12.23s/it]  "
     ]
    },
    {
     "name": "stdout",
     "output_type": "stream",
     "text": [
      "\n",
      "http://www.univie.ac.at/webda/cgi-bin/frame_data_list.cgi?ngc6231+ubvpg+ubv.pgo\n",
      "Retrieval error. Skipping ngc6231\n",
      "ngc6242\n",
      "ngc6242 146\n",
      "Data retrived, starting pbsearch\n",
      "('searched for a subset of ', 127, 'Coords against 2mass list of', 9073309)"
     ]
    },
    {
     "name": "stderr",
     "output_type": "stream",
     "text": [
      "\r",
      " 73%|███████▎  | 688/946 [3:47:14<1:47:49, 25.07s/it]"
     ]
    },
    {
     "name": "stdout",
     "output_type": "stream",
     "text": [
      "\n",
      "('Coord matches: ', 0, 'with a tolerance of ', 0.005556)\n",
      "No matches. Skipping ngc6242\n",
      "ngc6249\n",
      "error with parsing mags html"
     ]
    },
    {
     "name": "stderr",
     "output_type": "stream",
     "text": [
      "\r",
      " 73%|███████▎  | 689/946 [3:47:18<1:19:32, 18.57s/it]"
     ]
    },
    {
     "name": "stdout",
     "output_type": "stream",
     "text": [
      "\n",
      "http://www.univie.ac.at/webda/cgi-bin/frame_data_list.cgi?ngc6249+ubvpg+ubv.pgo\n",
      "Retrieval error. Skipping ngc6249\n",
      "ngc6250\n",
      "error with parsing mags html"
     ]
    },
    {
     "name": "stderr",
     "output_type": "stream",
     "text": [
      "\r",
      " 73%|███████▎  | 690/946 [3:47:20<58:18, 13.66s/it]  "
     ]
    },
    {
     "name": "stdout",
     "output_type": "stream",
     "text": [
      "\n",
      "http://www.univie.ac.at/webda/cgi-bin/frame_data_list.cgi?ngc6250+ubvpg+ubv.pgo\n",
      "Retrieval error. Skipping ngc6250\n",
      "ngc6253\n",
      "error with parsing coords html"
     ]
    },
    {
     "name": "stderr",
     "output_type": "stream",
     "text": [
      "\r",
      " 73%|███████▎  | 691/946 [3:47:46<1:14:35, 17.55s/it]"
     ]
    },
    {
     "name": "stdout",
     "output_type": "stream",
     "text": [
      "\n",
      "http://www.univie.ac.at/webda/cgi-bin/frame_data_list.cgi?ngc6253+ad2k+ad2000.coo\n",
      "Retrieval error. Skipping ngc6253\n",
      "ngc6259\n",
      "ngc6259 38\n",
      "Data retrived, starting pbsearch\n",
      "('searched for a subset of ', 38, 'Coords against 2mass list of', 9073309)"
     ]
    },
    {
     "name": "stderr",
     "output_type": "stream",
     "text": [
      "\r",
      " 73%|███████▎  | 692/946 [3:48:04<1:14:31, 17.61s/it]"
     ]
    },
    {
     "name": "stdout",
     "output_type": "stream",
     "text": [
      "\n",
      "('Coord matches: ', 0, 'with a tolerance of ', 0.005556)\n",
      "No matches. Skipping ngc6259\n",
      "ngc6268\n",
      "ngc6268 86\n",
      "Data retrived, starting pbsearch\n",
      "('searched for a subset of ', 72, 'Coords against 2mass list of', 9073309)"
     ]
    },
    {
     "name": "stderr",
     "output_type": "stream",
     "text": [
      "\r",
      " 73%|███████▎  | 693/946 [3:48:37<1:33:31, 22.18s/it]"
     ]
    },
    {
     "name": "stdout",
     "output_type": "stream",
     "text": [
      "\n",
      "('Coord matches: ', 0, 'with a tolerance of ', 0.005556)\n",
      "No matches. Skipping ngc6268\n",
      "ngc6281\n",
      "error with parsing mags html"
     ]
    },
    {
     "name": "stderr",
     "output_type": "stream",
     "text": [
      "\r",
      " 73%|███████▎  | 694/946 [3:48:40<1:08:29, 16.31s/it]"
     ]
    },
    {
     "name": "stdout",
     "output_type": "stream",
     "text": [
      "\n",
      "http://www.univie.ac.at/webda/cgi-bin/frame_data_list.cgi?ngc6281+ubvpg+ubv.pgo\n",
      "Retrieval error. Skipping ngc6281\n",
      "ngc6318\n",
      "error with parsing mags html"
     ]
    },
    {
     "name": "stderr",
     "output_type": "stream",
     "text": [
      "\r",
      " 73%|███████▎  | 695/946 [3:48:43<52:30, 12.55s/it]  "
     ]
    },
    {
     "name": "stdout",
     "output_type": "stream",
     "text": [
      "\n",
      "http://www.univie.ac.at/webda/cgi-bin/frame_data_list.cgi?ngc6318+ubvpg+ubv.pgo\n",
      "Retrieval error. Skipping ngc6318\n",
      "ngc6322\n",
      "ngc6322 80\n",
      "Data retrived, starting pbsearch\n",
      "('searched for a subset of ', 61, 'Coords against 2mass list of', 9073309)"
     ]
    },
    {
     "name": "stderr",
     "output_type": "stream",
     "text": [
      "\r",
      " 74%|███████▎  | 696/946 [3:49:11<1:11:15, 17.10s/it]"
     ]
    },
    {
     "name": "stdout",
     "output_type": "stream",
     "text": [
      "\n",
      "('Coord matches: ', 0, 'with a tolerance of ', 0.005556)\n",
      "No matches. Skipping ngc6322\n",
      "ngc6383\n",
      "ngc6383 764\n",
      "Data retrived, starting pbsearch\n",
      "('searched for a subset of ', 554, 'Coords against 2mass list of', 9073309)"
     ]
    },
    {
     "name": "stderr",
     "output_type": "stream",
     "text": [
      "\r",
      " 74%|███████▎  | 697/946 [3:53:44<6:29:50, 93.94s/it]"
     ]
    },
    {
     "name": "stdout",
     "output_type": "stream",
     "text": [
      "\n",
      "('Coord matches: ', 0, 'with a tolerance of ', 0.005556)\n",
      "No matches. Skipping ngc6383\n",
      "ngc6396\n",
      "error with parsing mags html"
     ]
    },
    {
     "name": "stderr",
     "output_type": "stream",
     "text": [
      "\r",
      " 74%|███████▍  | 698/946 [3:53:47<4:35:04, 66.55s/it]"
     ]
    },
    {
     "name": "stdout",
     "output_type": "stream",
     "text": [
      "\n",
      "http://www.univie.ac.at/webda/cgi-bin/frame_data_list.cgi?ngc6396+ubvpg+ubv.pgo\n",
      "Retrieval error. Skipping ngc6396\n",
      "ngc6400\n",
      "error with parsing mags html"
     ]
    },
    {
     "name": "stderr",
     "output_type": "stream",
     "text": [
      "\r",
      " 74%|███████▍  | 699/946 [3:53:49<3:13:45, 47.07s/it]"
     ]
    },
    {
     "name": "stdout",
     "output_type": "stream",
     "text": [
      "\n",
      "http://www.univie.ac.at/webda/cgi-bin/frame_data_list.cgi?ngc6400+ubvpg+ubv.pgo\n",
      "Retrieval error. Skipping ngc6400\n",
      "ngc6405\n",
      "ngc6405 659\n",
      "Data retrived, starting pbsearch\n",
      "('searched for a subset of ', 640, 'Coords against 2mass list of', 9073309)"
     ]
    },
    {
     "name": "stderr",
     "output_type": "stream",
     "text": [
      "\r",
      " 74%|███████▍  | 700/946 [3:58:21<7:50:27, 114.75s/it]"
     ]
    },
    {
     "name": "stdout",
     "output_type": "stream",
     "text": [
      "\n",
      "('Coord matches: ', 0, 'with a tolerance of ', 0.005556)\n",
      "No matches. Skipping ngc6405\n",
      "ngc6416\n",
      "ngc6416 68\n",
      "Data retrived, starting pbsearch\n",
      "('searched for a subset of ', 68, 'Coords against 2mass list of', 9073309)"
     ]
    },
    {
     "name": "stderr",
     "output_type": "stream",
     "text": [
      "\r",
      " 74%|███████▍  | 701/946 [3:58:51<6:04:50, 89.35s/it] "
     ]
    },
    {
     "name": "stdout",
     "output_type": "stream",
     "text": [
      "\n",
      "('Coord matches: ', 0, 'with a tolerance of ', 0.005556)\n",
      "No matches. Skipping ngc6416\n",
      "ngc6425\n",
      "ngc6425 80\n",
      "Data retrived, starting pbsearch\n",
      "('searched for a subset of ', 69, 'Coords against 2mass list of', 9073309)"
     ]
    },
    {
     "name": "stderr",
     "output_type": "stream",
     "text": [
      "\r",
      " 74%|███████▍  | 702/946 [3:59:24<4:54:16, 72.36s/it]"
     ]
    },
    {
     "name": "stdout",
     "output_type": "stream",
     "text": [
      "\n",
      "('Coord matches: ', 0, 'with a tolerance of ', 0.005556)\n",
      "No matches. Skipping ngc6425\n",
      "ngc6444\n",
      "error with parsing mags html"
     ]
    },
    {
     "name": "stderr",
     "output_type": "stream",
     "text": [
      "\r",
      " 74%|███████▍  | 703/946 [3:59:26<3:27:12, 51.16s/it]"
     ]
    },
    {
     "name": "stdout",
     "output_type": "stream",
     "text": [
      "\n",
      "http://www.univie.ac.at/webda/cgi-bin/frame_data_list.cgi?ngc6444+ubvpg+ubv.pgo\n",
      "Retrieval error. Skipping ngc6444\n",
      "ngc6469\n",
      "error with parsing mags html"
     ]
    },
    {
     "name": "stderr",
     "output_type": "stream",
     "text": [
      "\r",
      " 74%|███████▍  | 704/946 [3:59:28<2:26:31, 36.33s/it]"
     ]
    },
    {
     "name": "stdout",
     "output_type": "stream",
     "text": [
      "\n",
      "http://www.univie.ac.at/webda/cgi-bin/frame_data_list.cgi?ngc6469+ubvpg+ubv.pgo\n",
      "Retrieval error. Skipping ngc6469\n",
      "ngc6475\n",
      "error with parsing mags html"
     ]
    },
    {
     "name": "stderr",
     "output_type": "stream",
     "text": [
      "\r",
      " 75%|███████▍  | 705/946 [3:59:32<1:47:00, 26.64s/it]"
     ]
    },
    {
     "name": "stdout",
     "output_type": "stream",
     "text": [
      "\n",
      "http://www.univie.ac.at/webda/cgi-bin/frame_data_list.cgi?ngc6475+ubvpg+ubv.pgo\n",
      "Retrieval error. Skipping ngc6475\n",
      "ngc6494\n",
      "ngc6494 52\n",
      "Data retrived, starting pbsearch\n",
      "('searched for a subset of ', 52, 'Coords against 2mass list of', 9073309)"
     ]
    },
    {
     "name": "stderr",
     "output_type": "stream",
     "text": [
      "\r",
      " 75%|███████▍  | 706/946 [3:59:56<1:43:30, 25.88s/it]"
     ]
    },
    {
     "name": "stdout",
     "output_type": "stream",
     "text": [
      "\n",
      "('Coord matches: ', 0, 'with a tolerance of ', 0.005556)\n",
      "No matches. Skipping ngc6494\n",
      "ngc6507\n",
      "error with parsing coords html"
     ]
    },
    {
     "name": "stderr",
     "output_type": "stream",
     "text": [
      "\r",
      " 75%|███████▍  | 707/946 [4:00:08<1:26:47, 21.79s/it]"
     ]
    },
    {
     "name": "stdout",
     "output_type": "stream",
     "text": [
      "\n",
      "http://www.univie.ac.at/webda/cgi-bin/frame_data_list.cgi?ngc6507+ad2k+ad2000.coo\n",
      "Retrieval error. Skipping ngc6507\n",
      "ngc6514\n",
      "ngc6514 18\n",
      "Data retrived, starting pbsearch\n",
      "('searched for a subset of ', 18, 'Coords against 2mass list of', 9073309)"
     ]
    },
    {
     "name": "stderr",
     "output_type": "stream",
     "text": [
      "\r",
      " 75%|███████▍  | 708/946 [4:00:17<1:11:27, 18.01s/it]"
     ]
    },
    {
     "name": "stdout",
     "output_type": "stream",
     "text": [
      "\n",
      "('Coord matches: ', 0, 'with a tolerance of ', 0.005556)\n",
      "No matches. Skipping ngc6514\n",
      "ngc6520\n",
      "error with parsing mags html"
     ]
    },
    {
     "name": "stderr",
     "output_type": "stream",
     "text": [
      "\r",
      " 75%|███████▍  | 709/946 [4:01:15<1:58:01, 29.88s/it]"
     ]
    },
    {
     "name": "stdout",
     "output_type": "stream",
     "text": [
      "\n",
      "http://www.univie.ac.at/webda/cgi-bin/frame_data_list.cgi?ngc6520+ubvpg+ubv.pgo\n",
      "Retrieval error. Skipping ngc6520\n",
      "ngc6530\n",
      "error with parsing coords html"
     ]
    },
    {
     "name": "stderr",
     "output_type": "stream",
     "text": [
      "\r",
      " 75%|███████▌  | 710/946 [4:01:18<1:26:42, 22.04s/it]"
     ]
    },
    {
     "name": "stdout",
     "output_type": "stream",
     "text": [
      "\n",
      "http://www.univie.ac.at/webda/cgi-bin/frame_data_list.cgi?ngc6530+ad2k+ad2000.coo\n",
      "Retrieval error. Skipping ngc6530\n",
      "ngc6531\n",
      "ngc6531 426\n",
      "Data retrived, starting pbsearch\n",
      "('searched for a subset of ', 371, 'Coords against 2mass list of', 9073309)"
     ]
    },
    {
     "name": "stderr",
     "output_type": "stream",
     "text": [
      "\r",
      " 75%|███████▌  | 711/946 [4:04:02<4:12:20, 64.43s/it]"
     ]
    },
    {
     "name": "stdout",
     "output_type": "stream",
     "text": [
      "\n",
      "('Coord matches: ', 0, 'with a tolerance of ', 0.005556)\n",
      "No matches. Skipping ngc6531\n",
      "ngc6546\n",
      "error with parsing mags html"
     ]
    },
    {
     "name": "stderr",
     "output_type": "stream",
     "text": [
      "\r",
      " 75%|███████▌  | 712/946 [4:04:05<2:59:43, 46.08s/it]"
     ]
    },
    {
     "name": "stdout",
     "output_type": "stream",
     "text": [
      "\n",
      "http://www.univie.ac.at/webda/cgi-bin/frame_data_list.cgi?ngc6546+ubvpg+ubv.pgo\n",
      "Retrieval error. Skipping ngc6546\n",
      "ngc6561\n",
      "error with parsing mags html"
     ]
    },
    {
     "name": "stderr",
     "output_type": "stream",
     "text": [
      "\r",
      " 75%|███████▌  | 713/946 [4:04:07<2:07:12, 32.76s/it]"
     ]
    },
    {
     "name": "stdout",
     "output_type": "stream",
     "text": [
      "\n",
      "http://www.univie.ac.at/webda/cgi-bin/frame_data_list.cgi?ngc6561+ubvpg+ubv.pgo\n",
      "Retrieval error. Skipping ngc6561\n",
      "ngc6568\n",
      "error with parsing mags html"
     ]
    },
    {
     "name": "stderr",
     "output_type": "stream",
     "text": [
      "\r",
      " 75%|███████▌  | 714/946 [4:04:08<1:30:41, 23.45s/it]"
     ]
    },
    {
     "name": "stdout",
     "output_type": "stream",
     "text": [
      "\n",
      "http://www.univie.ac.at/webda/cgi-bin/frame_data_list.cgi?ngc6568+ubvpg+ubv.pgo\n",
      "Retrieval error. Skipping ngc6568\n",
      "ngc6596\n",
      "error with parsing mags html"
     ]
    },
    {
     "name": "stderr",
     "output_type": "stream",
     "text": [
      "\r",
      " 76%|███████▌  | 715/946 [4:04:10<1:05:07, 16.91s/it]"
     ]
    },
    {
     "name": "stdout",
     "output_type": "stream",
     "text": [
      "\n",
      "http://www.univie.ac.at/webda/cgi-bin/frame_data_list.cgi?ngc6596+ubvpg+ubv.pgo\n",
      "Retrieval error. Skipping ngc6596\n",
      "ngc6604\n",
      "ngc6604 113\n",
      "Data retrived, starting pbsearch\n",
      "('searched for a subset of ', 86, 'Coords against 2mass list of', 9073309)"
     ]
    },
    {
     "name": "stderr",
     "output_type": "stream",
     "text": [
      "\r",
      " 76%|███████▌  | 716/946 [4:04:48<1:29:21, 23.31s/it]"
     ]
    },
    {
     "name": "stdout",
     "output_type": "stream",
     "text": [
      "\n",
      "('Coord matches: ', 0, 'with a tolerance of ', 0.005556)\n",
      "No matches. Skipping ngc6604\n",
      "ngc6611\n",
      "error with parsing mags html"
     ]
    },
    {
     "name": "stderr",
     "output_type": "stream",
     "text": [
      "\r",
      " 76%|███████▌  | 717/946 [4:07:11<3:45:28, 59.08s/it]"
     ]
    },
    {
     "name": "stdout",
     "output_type": "stream",
     "text": [
      "\n",
      "http://www.univie.ac.at/webda/cgi-bin/frame_data_list.cgi?ngc6611+ubvpg+ubv.pgo\n",
      "Retrieval error. Skipping ngc6611\n",
      "ngc6613\n",
      "ngc6613 169\n",
      "Data retrived, starting pbsearch\n",
      "('searched for a subset of ', 105, 'Coords against 2mass list of', 9073309)"
     ]
    },
    {
     "name": "stderr",
     "output_type": "stream",
     "text": [
      "\r",
      " 76%|███████▌  | 718/946 [4:07:57<3:30:15, 55.33s/it]"
     ]
    },
    {
     "name": "stdout",
     "output_type": "stream",
     "text": [
      "\n",
      "('Coord matches: ', 0, 'with a tolerance of ', 0.005556)\n",
      "No matches. Skipping ngc6613\n",
      "ngc6618\n",
      "ngc6618 42\n",
      "Data retrived, starting pbsearch\n",
      "('searched for a subset of ', 41, 'Coords against 2mass list of', 9073309)"
     ]
    },
    {
     "name": "stderr",
     "output_type": "stream",
     "text": [
      "\r",
      " 76%|███████▌  | 719/946 [4:08:16<2:48:03, 44.42s/it]"
     ]
    },
    {
     "name": "stdout",
     "output_type": "stream",
     "text": [
      "\n",
      "('Coord matches: ', 0, 'with a tolerance of ', 0.005556)\n",
      "No matches. Skipping ngc6618\n",
      "ngc6625\n",
      "error with parsing coords html"
     ]
    },
    {
     "name": "stderr",
     "output_type": "stream",
     "text": [
      "\r",
      " 76%|███████▌  | 720/946 [4:08:19<2:00:22, 31.96s/it]"
     ]
    },
    {
     "name": "stdout",
     "output_type": "stream",
     "text": [
      "\n",
      "http://www.univie.ac.at/webda/cgi-bin/frame_data_list.cgi?ngc6625+ad2k+ad2000.coo\n",
      "Retrieval error. Skipping ngc6625\n",
      "ngc6633\n",
      "error with parsing coords html"
     ]
    },
    {
     "name": "stderr",
     "output_type": "stream",
     "text": [
      "\r",
      " 76%|███████▌  | 721/946 [4:08:20<1:24:49, 22.62s/it]"
     ]
    },
    {
     "name": "stdout",
     "output_type": "stream",
     "text": [
      "\n",
      "http://www.univie.ac.at/webda/cgi-bin/frame_data_list.cgi?ngc6633+ad2k+ad2000.coo\n",
      "Retrieval error. Skipping ngc6633\n",
      "ngc6639\n",
      "error with parsing mags html"
     ]
    },
    {
     "name": "stderr",
     "output_type": "stream",
     "text": [
      "\r",
      " 76%|███████▋  | 722/946 [4:08:22<1:01:03, 16.35s/it]"
     ]
    },
    {
     "name": "stdout",
     "output_type": "stream",
     "text": [
      "\n",
      "http://www.univie.ac.at/webda/cgi-bin/frame_data_list.cgi?ngc6639+ubvpg+ubv.pgo\n",
      "Retrieval error. Skipping ngc6639\n",
      "ngc6645\n",
      "error with parsing coords html"
     ]
    },
    {
     "name": "stderr",
     "output_type": "stream",
     "text": [
      "\r",
      " 76%|███████▋  | 723/946 [4:08:31<52:59, 14.26s/it]  "
     ]
    },
    {
     "name": "stdout",
     "output_type": "stream",
     "text": [
      "\n",
      "http://www.univie.ac.at/webda/cgi-bin/frame_data_list.cgi?ngc6645+ad2k+ad2000.coo\n",
      "Retrieval error. Skipping ngc6645\n",
      "ngc6647\n",
      "error with parsing coords html"
     ]
    },
    {
     "name": "stderr",
     "output_type": "stream",
     "text": [
      "\r",
      " 77%|███████▋  | 724/946 [4:08:38<44:13, 11.95s/it]"
     ]
    },
    {
     "name": "stdout",
     "output_type": "stream",
     "text": [
      "\n",
      "http://www.univie.ac.at/webda/cgi-bin/frame_data_list.cgi?ngc6647+ad2k+ad2000.coo\n",
      "Retrieval error. Skipping ngc6647\n",
      "ngc6649\n",
      "ngc6649 21\n",
      "Data retrived, starting pbsearch\n",
      "('searched for a subset of ', 21, 'Coords against 2mass list of', 9073309)"
     ]
    },
    {
     "name": "stderr",
     "output_type": "stream",
     "text": [
      "\r",
      " 77%|███████▋  | 725/946 [4:08:48<42:12, 11.46s/it]"
     ]
    },
    {
     "name": "stdout",
     "output_type": "stream",
     "text": [
      "\n",
      "('Coord matches: ', 0, 'with a tolerance of ', 0.005556)\n",
      "No matches. Skipping ngc6649\n",
      "ngc6664\n",
      "ngc6664 28\n",
      "Data retrived, starting pbsearch\n",
      "('searched for a subset of ', 27, 'Coords against 2mass list of', 9073309)"
     ]
    },
    {
     "name": "stderr",
     "output_type": "stream",
     "text": [
      "\r",
      " 77%|███████▋  | 726/946 [4:09:03<45:17, 12.35s/it]"
     ]
    },
    {
     "name": "stdout",
     "output_type": "stream",
     "text": [
      "\n",
      "('Coord matches: ', 0, 'with a tolerance of ', 0.005556)\n",
      "No matches. Skipping ngc6664\n",
      "ngc6694\n",
      "ngc6694 7\n",
      "Data retrived, starting pbsearch\n",
      "('searched for a subset of ', 7, 'Coords against 2mass list of', 9073309)"
     ]
    },
    {
     "name": "stderr",
     "output_type": "stream",
     "text": [
      "\r",
      " 77%|███████▋  | 727/946 [4:09:07<36:34, 10.02s/it]"
     ]
    },
    {
     "name": "stdout",
     "output_type": "stream",
     "text": [
      "\n",
      "('Coord matches: ', 0, 'with a tolerance of ', 0.005556)\n",
      "No matches. Skipping ngc6694\n",
      "ngc6704\n",
      "ngc6704 21\n",
      "Data retrived, starting pbsearch\n",
      "('searched for a subset of ', 21, 'Coords against 2mass list of', 9073309)"
     ]
    },
    {
     "name": "stderr",
     "output_type": "stream",
     "text": [
      "\r",
      " 77%|███████▋  | 728/946 [4:09:17<36:44, 10.11s/it]"
     ]
    },
    {
     "name": "stdout",
     "output_type": "stream",
     "text": [
      "\n",
      "('Coord matches: ', 0, 'with a tolerance of ', 0.005556)\n",
      "No matches. Skipping ngc6704\n",
      "ngc6705\n",
      "error with parsing mags html"
     ]
    },
    {
     "name": "stderr",
     "output_type": "stream",
     "text": [
      "\r",
      " 77%|███████▋  | 729/946 [4:11:49<3:10:05, 52.56s/it]"
     ]
    },
    {
     "name": "stdout",
     "output_type": "stream",
     "text": [
      "\n",
      "http://www.univie.ac.at/webda/cgi-bin/frame_data_list.cgi?ngc6705+ubvpg+ubv.pgo\n",
      "Retrieval error. Skipping ngc6705\n",
      "ngc6709\n",
      "ngc6709 8\n",
      "Data retrived, starting pbsearch\n",
      "('searched for a subset of ', 8, 'Coords against 2mass list of', 9073309)"
     ]
    },
    {
     "name": "stderr",
     "output_type": "stream",
     "text": [
      "\r",
      " 77%|███████▋  | 730/946 [4:11:54<2:18:08, 38.37s/it]"
     ]
    },
    {
     "name": "stdout",
     "output_type": "stream",
     "text": [
      "\n",
      "('Coord matches: ', 0, 'with a tolerance of ', 0.005556)\n",
      "No matches. Skipping ngc6709\n",
      "ngc6716\n",
      "ngc6716 335\n",
      "Data retrived, starting pbsearch\n",
      "('searched for a subset of ', 335, 'Coords against 2mass list of', 9073309)"
     ]
    },
    {
     "name": "stderr",
     "output_type": "stream",
     "text": [
      "\r",
      " 77%|███████▋  | 731/946 [4:14:17<4:09:58, 69.76s/it]"
     ]
    },
    {
     "name": "stdout",
     "output_type": "stream",
     "text": [
      "\n",
      "('Coord matches: ', 310, 'with a tolerance of ', 0.005556)\n",
      "ngc6716 had no repeats\n",
      "ngc6716 had error with histogram\n",
      "ngc6728\n",
      "error with parsing mags html"
     ]
    },
    {
     "name": "stderr",
     "output_type": "stream",
     "text": [
      "\r",
      " 77%|███████▋  | 732/946 [4:14:20<2:57:28, 49.76s/it]"
     ]
    },
    {
     "name": "stdout",
     "output_type": "stream",
     "text": [
      "\n",
      "http://www.univie.ac.at/webda/cgi-bin/frame_data_list.cgi?ngc6728+ubvpg+ubv.pgo\n",
      "Retrieval error. Skipping ngc6728\n",
      "ngc6737\n",
      "error with parsing mags html"
     ]
    },
    {
     "name": "stderr",
     "output_type": "stream",
     "text": [
      "\r",
      " 77%|███████▋  | 733/946 [4:14:25<2:08:47, 36.28s/it]"
     ]
    },
    {
     "name": "stdout",
     "output_type": "stream",
     "text": [
      "\n",
      "http://www.univie.ac.at/webda/cgi-bin/frame_data_list.cgi?ngc6737+ubvpg+ubv.pgo\n",
      "Retrieval error. Skipping ngc6737\n",
      "ngc6738\n",
      "error with parsing mags html"
     ]
    },
    {
     "name": "stderr",
     "output_type": "stream",
     "text": [
      "\r",
      " 78%|███████▊  | 734/946 [4:15:01<2:07:42, 36.15s/it]"
     ]
    },
    {
     "name": "stdout",
     "output_type": "stream",
     "text": [
      "\n",
      "http://www.univie.ac.at/webda/cgi-bin/frame_data_list.cgi?ngc6738+ubvpg+ubv.pgo\n",
      "Retrieval error. Skipping ngc6738\n",
      "ngc6755\n",
      "ngc6755 148\n",
      "Data retrived, starting pbsearch\n",
      "('searched for a subset of ', 132, 'Coords against 2mass list of', 9073309)"
     ]
    },
    {
     "name": "stderr",
     "output_type": "stream",
     "text": [
      "\r",
      " 78%|███████▊  | 735/946 [4:17:42<4:19:00, 73.65s/it]"
     ]
    },
    {
     "name": "stdout",
     "output_type": "stream",
     "text": [
      "\n",
      "('Coord matches: ', 0, 'with a tolerance of ', 0.005556)\n",
      "No matches. Skipping ngc6755\n",
      "ngc6791\n",
      "error with parsing coords html"
     ]
    },
    {
     "name": "stderr",
     "output_type": "stream",
     "text": [
      "\r",
      " 78%|███████▊  | 736/946 [4:18:01<3:20:33, 57.30s/it]"
     ]
    },
    {
     "name": "stdout",
     "output_type": "stream",
     "text": [
      "\n",
      "http://www.univie.ac.at/webda/cgi-bin/frame_data_list.cgi?ngc6791+ad2k+ad2000.coo\n",
      "Retrieval error. Skipping ngc6791\n",
      "ngc6793\n",
      "error with parsing mags html"
     ]
    },
    {
     "name": "stderr",
     "output_type": "stream",
     "text": [
      "\r",
      " 78%|███████▊  | 737/946 [4:18:03<2:21:22, 40.59s/it]"
     ]
    },
    {
     "name": "stdout",
     "output_type": "stream",
     "text": [
      "\n",
      "http://www.univie.ac.at/webda/cgi-bin/frame_data_list.cgi?ngc6793+ubvpg+ubv.pgo\n",
      "Retrieval error. Skipping ngc6793\n",
      "ngc6800\n",
      "error with parsing mags html"
     ]
    },
    {
     "name": "stderr",
     "output_type": "stream",
     "text": [
      "\r",
      " 78%|███████▊  | 738/946 [4:18:05<1:40:08, 28.89s/it]"
     ]
    },
    {
     "name": "stdout",
     "output_type": "stream",
     "text": [
      "\n",
      "http://www.univie.ac.at/webda/cgi-bin/frame_data_list.cgi?ngc6800+ubvpg+ubv.pgo\n",
      "Retrieval error. Skipping ngc6800\n",
      "ngc6802\n",
      "ngc6802 12\n",
      "Data retrived, starting pbsearch\n",
      "('searched for a subset of ', 12, 'Coords against 2mass list of', 9073309)"
     ]
    },
    {
     "name": "stderr",
     "output_type": "stream",
     "text": [
      "\r",
      " 78%|███████▊  | 739/946 [4:18:11<1:16:34, 22.20s/it]"
     ]
    },
    {
     "name": "stdout",
     "output_type": "stream",
     "text": [
      "\n",
      "('Coord matches: ', 0, 'with a tolerance of ', 0.005556)\n",
      "No matches. Skipping ngc6802\n",
      "ngc6811\n",
      "ngc6811 39\n",
      "Data retrived, starting pbsearch\n",
      "('searched for a subset of ', 39, 'Coords against 2mass list of', 9073309)"
     ]
    },
    {
     "name": "stderr",
     "output_type": "stream",
     "text": [
      "\r",
      " 78%|███████▊  | 740/946 [4:18:29<1:12:08, 21.01s/it]"
     ]
    },
    {
     "name": "stdout",
     "output_type": "stream",
     "text": [
      "\n",
      "('Coord matches: ', 0, 'with a tolerance of ', 0.005556)\n",
      "No matches. Skipping ngc6811\n",
      "ngc6819\n",
      "error with parsing coords html"
     ]
    },
    {
     "name": "stderr",
     "output_type": "stream",
     "text": [
      "\r",
      " 78%|███████▊  | 741/946 [4:19:20<1:41:53, 29.82s/it]"
     ]
    },
    {
     "name": "stdout",
     "output_type": "stream",
     "text": [
      "\n",
      "http://www.univie.ac.at/webda/cgi-bin/frame_data_list.cgi?ngc6819+ad2k+ad2000.coo\n",
      "Retrieval error. Skipping ngc6819\n",
      "ngc6823\n",
      "ngc6823 518\n",
      "Data retrived, starting pbsearch\n",
      "('searched for a subset of ', 518, 'Coords against 2mass list of', 9073309)"
     ]
    },
    {
     "name": "stderr",
     "output_type": "stream",
     "text": [
      "\r",
      " 78%|███████▊  | 742/946 [4:23:01<4:56:58, 87.35s/it]"
     ]
    },
    {
     "name": "stdout",
     "output_type": "stream",
     "text": [
      "\n",
      "('Coord matches: ', 0, 'with a tolerance of ', 0.005556)\n",
      "No matches. Skipping ngc6823\n",
      "ngc6828\n",
      "error with parsing mags html"
     ]
    },
    {
     "name": "stderr",
     "output_type": "stream",
     "text": [
      "\r",
      " 79%|███████▊  | 743/946 [4:23:03<3:28:30, 61.63s/it]"
     ]
    },
    {
     "name": "stdout",
     "output_type": "stream",
     "text": [
      "\n",
      "http://www.univie.ac.at/webda/cgi-bin/frame_data_list.cgi?ngc6828+ubvpg+ubv.pgo\n",
      "Retrieval error. Skipping ngc6828\n",
      "ngc6830\n",
      "ngc6830 4\n",
      "Data retrived, starting pbsearch\n",
      "('searched for a subset of ', 4, 'Coords against 2mass list of', 9073309)"
     ]
    },
    {
     "name": "stderr",
     "output_type": "stream",
     "text": [
      "\r",
      " 79%|███████▊  | 744/946 [4:23:06<2:28:26, 44.09s/it]"
     ]
    },
    {
     "name": "stdout",
     "output_type": "stream",
     "text": [
      "\n",
      "('Coord matches: ', 0, 'with a tolerance of ', 0.005556)\n",
      "No matches. Skipping ngc6830\n",
      "ngc6834\n",
      "ngc6834 2\n",
      "Data retrived, starting pbsearch\n",
      "('searched for a subset of ', 2, 'Coords against 2mass list of', 9073309)"
     ]
    },
    {
     "name": "stderr",
     "output_type": "stream",
     "text": [
      "\r",
      " 79%|███████▉  | 745/946 [4:23:08<1:45:45, 31.57s/it]"
     ]
    },
    {
     "name": "stdout",
     "output_type": "stream",
     "text": [
      "\n",
      "('Coord matches: ', 0, 'with a tolerance of ', 0.005556)\n",
      "No matches. Skipping ngc6834\n",
      "ngc6863\n",
      "error with parsing mags html"
     ]
    },
    {
     "name": "stderr",
     "output_type": "stream",
     "text": [
      "\r",
      " 79%|███████▉  | 746/946 [4:23:11<1:15:50, 22.75s/it]"
     ]
    },
    {
     "name": "stdout",
     "output_type": "stream",
     "text": [
      "\n",
      "http://www.univie.ac.at/webda/cgi-bin/frame_data_list.cgi?ngc6863+ubvpg+ubv.pgo\n",
      "Retrieval error. Skipping ngc6863\n",
      "ngc6866\n",
      "error with parsing mags html"
     ]
    },
    {
     "name": "stderr",
     "output_type": "stream",
     "text": [
      "\r",
      " 79%|███████▉  | 747/946 [4:23:12<54:35, 16.46s/it]  "
     ]
    },
    {
     "name": "stdout",
     "output_type": "stream",
     "text": [
      "\n",
      "http://www.univie.ac.at/webda/cgi-bin/frame_data_list.cgi?ngc6866+ubvpg+ubv.pgo\n",
      "Retrieval error. Skipping ngc6866\n",
      "ngc6871\n",
      "ngc6871 35\n",
      "Data retrived, starting pbsearch\n",
      "('searched for a subset of ', 30, 'Coords against 2mass list of', 9073309)"
     ]
    },
    {
     "name": "stderr",
     "output_type": "stream",
     "text": [
      "\r",
      " 79%|███████▉  | 748/946 [4:23:39<1:04:33, 19.56s/it]"
     ]
    },
    {
     "name": "stdout",
     "output_type": "stream",
     "text": [
      "\n",
      "('Coord matches: ', 0, 'with a tolerance of ', 0.005556)\n",
      "No matches. Skipping ngc6871\n",
      "ngc6883\n",
      "error with parsing mags html"
     ]
    },
    {
     "name": "stderr",
     "output_type": "stream",
     "text": [
      "\r",
      " 79%|███████▉  | 749/946 [4:23:41<46:47, 14.25s/it]  "
     ]
    },
    {
     "name": "stdout",
     "output_type": "stream",
     "text": [
      "\n",
      "http://www.univie.ac.at/webda/cgi-bin/frame_data_list.cgi?ngc6883+ubvpg+ubv.pgo\n",
      "Retrieval error. Skipping ngc6883\n",
      "ngc6910\n",
      "ngc6910 40\n",
      "Data retrived, starting pbsearch\n",
      "('searched for a subset of ', 31, 'Coords against 2mass list of', 9073309)"
     ]
    },
    {
     "name": "stderr",
     "output_type": "stream",
     "text": [
      "\r",
      " 79%|███████▉  | 750/946 [4:23:57<48:03, 14.71s/it]"
     ]
    },
    {
     "name": "stdout",
     "output_type": "stream",
     "text": [
      "\n",
      "('Coord matches: ', 0, 'with a tolerance of ', 0.005556)\n",
      "No matches. Skipping ngc6910\n",
      "ngc6913\n",
      "ngc6913 411\n",
      "Data retrived, starting pbsearch\n",
      "('searched for a subset of ', 328, 'Coords against 2mass list of', 9073309)"
     ]
    },
    {
     "name": "stderr",
     "output_type": "stream",
     "text": [
      "\r",
      " 79%|███████▉  | 751/946 [4:26:17<2:50:08, 52.35s/it]"
     ]
    },
    {
     "name": "stdout",
     "output_type": "stream",
     "text": [
      "\n",
      "('Coord matches: ', 0, 'with a tolerance of ', 0.005556)\n",
      "No matches. Skipping ngc6913\n",
      "ngc6939\n",
      "ngc6939 695\n",
      "Data retrived, starting pbsearch\n",
      "('searched for a subset of ', 695, 'Coords against 2mass list of', 9073309)"
     ]
    },
    {
     "name": "stderr",
     "output_type": "stream",
     "text": [
      "\r",
      " 79%|███████▉  | 752/946 [4:31:44<7:15:26, 134.67s/it]"
     ]
    },
    {
     "name": "stdout",
     "output_type": "stream",
     "text": [
      "\n",
      "('Coord matches: ', 0, 'with a tolerance of ', 0.005556)\n",
      "No matches. Skipping ngc6939\n",
      "ngc6940\n",
      "ngc6940 57\n",
      "Data retrived, starting pbsearch\n",
      "('searched for a subset of ', 57, 'Coords against 2mass list of', 9073309)"
     ]
    },
    {
     "name": "stderr",
     "output_type": "stream",
     "text": [
      "\r",
      " 80%|███████▉  | 753/946 [4:32:12<5:30:11, 102.65s/it]"
     ]
    },
    {
     "name": "stdout",
     "output_type": "stream",
     "text": [
      "\n",
      "('Coord matches: ', 0, 'with a tolerance of ', 0.005556)\n",
      "No matches. Skipping ngc6940\n",
      "ngc6991\n",
      "error with parsing mags html"
     ]
    },
    {
     "name": "stderr",
     "output_type": "stream",
     "text": [
      "\r",
      " 80%|███████▉  | 754/946 [4:32:14<3:52:24, 72.63s/it] "
     ]
    },
    {
     "name": "stdout",
     "output_type": "stream",
     "text": [
      "\n",
      "http://www.univie.ac.at/webda/cgi-bin/frame_data_list.cgi?ngc6991+ubvpg+ubv.pgo\n",
      "Retrieval error. Skipping ngc6991\n",
      "ngc6994\n",
      "error with parsing coords html"
     ]
    },
    {
     "name": "stderr",
     "output_type": "stream",
     "text": [
      "\r",
      " 80%|███████▉  | 755/946 [4:32:15<2:42:44, 51.13s/it]"
     ]
    },
    {
     "name": "stdout",
     "output_type": "stream",
     "text": [
      "\n",
      "http://www.univie.ac.at/webda/cgi-bin/frame_data_list.cgi?ngc6994+ad2k+ad2000.coo\n",
      "Retrieval error. Skipping ngc6994\n",
      "ngc6997\n",
      "error with parsing mags html"
     ]
    },
    {
     "name": "stderr",
     "output_type": "stream",
     "text": [
      "\r",
      " 80%|███████▉  | 756/946 [4:33:08<2:43:48, 51.73s/it]"
     ]
    },
    {
     "name": "stdout",
     "output_type": "stream",
     "text": [
      "\n",
      "http://www.univie.ac.at/webda/cgi-bin/frame_data_list.cgi?ngc6997+ubvpg+ubv.pgo\n",
      "Retrieval error. Skipping ngc6997\n",
      "ngc7031\n",
      "ngc7031 6\n",
      "Data retrived, starting pbsearch\n",
      "('searched for a subset of ', 6, 'Coords against 2mass list of', 9073309)"
     ]
    },
    {
     "name": "stderr",
     "output_type": "stream",
     "text": [
      "\r",
      " 80%|████████  | 757/946 [4:33:13<1:57:59, 37.46s/it]"
     ]
    },
    {
     "name": "stdout",
     "output_type": "stream",
     "text": [
      "\n",
      "('Coord matches: ', 0, 'with a tolerance of ', 0.005556)\n",
      "No matches. Skipping ngc7031\n",
      "ngc7039\n",
      "ngc7039 4\n",
      "Data retrived, starting pbsearch\n",
      "('searched for a subset of ', 4, 'Coords against 2mass list of', 9073309)"
     ]
    },
    {
     "name": "stderr",
     "output_type": "stream",
     "text": [
      "\r",
      " 80%|████████  | 758/946 [4:33:16<1:25:11, 27.19s/it]"
     ]
    },
    {
     "name": "stdout",
     "output_type": "stream",
     "text": [
      "\n",
      "('Coord matches: ', 0, 'with a tolerance of ', 0.005556)\n",
      "No matches. Skipping ngc7039\n",
      "ngc7044\n",
      "error with parsing mags html"
     ]
    },
    {
     "name": "stderr",
     "output_type": "stream",
     "text": [
      "\r",
      " 80%|████████  | 759/946 [4:33:36<1:18:28, 25.18s/it]"
     ]
    },
    {
     "name": "stdout",
     "output_type": "stream",
     "text": [
      "\n",
      "http://www.univie.ac.at/webda/cgi-bin/frame_data_list.cgi?ngc7044+ubvpg+ubv.pgo\n",
      "Retrieval error. Skipping ngc7044\n",
      "ngc7058\n",
      "error with parsing mags html"
     ]
    },
    {
     "name": "stderr",
     "output_type": "stream",
     "text": [
      "\r",
      " 80%|████████  | 760/946 [4:33:38<56:24, 18.20s/it]  "
     ]
    },
    {
     "name": "stdout",
     "output_type": "stream",
     "text": [
      "\n",
      "http://www.univie.ac.at/webda/cgi-bin/frame_data_list.cgi?ngc7058+ubvpg+ubv.pgo\n",
      "Retrieval error. Skipping ngc7058\n",
      "ngc7062\n",
      "ngc7062 12\n",
      "Data retrived, starting pbsearch\n",
      "('searched for a subset of ', 12, 'Coords against 2mass list of', 9073309)"
     ]
    },
    {
     "name": "stderr",
     "output_type": "stream",
     "text": [
      "\r",
      " 80%|████████  | 761/946 [4:33:45<45:41, 14.82s/it]"
     ]
    },
    {
     "name": "stdout",
     "output_type": "stream",
     "text": [
      "\n",
      "('Coord matches: ', 0, 'with a tolerance of ', 0.005556)\n",
      "No matches. Skipping ngc7062\n",
      "ngc7063\n",
      "ngc7063 9\n",
      "Data retrived, starting pbsearch\n",
      "('searched for a subset of ', 9, 'Coords against 2mass list of', 9073309)"
     ]
    },
    {
     "name": "stderr",
     "output_type": "stream",
     "text": [
      "\r",
      " 81%|████████  | 762/946 [4:33:51<36:54, 12.04s/it]"
     ]
    },
    {
     "name": "stdout",
     "output_type": "stream",
     "text": [
      "\n",
      "('Coord matches: ', 0, 'with a tolerance of ', 0.005556)\n",
      "No matches. Skipping ngc7063\n",
      "ngc7067\n",
      "ngc7067 13\n",
      "Data retrived, starting pbsearch\n",
      "('searched for a subset of ', 13, 'Coords against 2mass list of', 9073309)"
     ]
    },
    {
     "name": "stderr",
     "output_type": "stream",
     "text": [
      "\r",
      " 81%|████████  | 763/946 [4:33:58<32:01, 10.50s/it]"
     ]
    },
    {
     "name": "stdout",
     "output_type": "stream",
     "text": [
      "\n",
      "('Coord matches: ', 0, 'with a tolerance of ', 0.005556)\n",
      "No matches. Skipping ngc7067\n",
      "ngc7082\n",
      "ngc7082 64\n",
      "Data retrived, starting pbsearch\n",
      "('searched for a subset of ', 64, 'Coords against 2mass list of', 9073309)"
     ]
    },
    {
     "name": "stderr",
     "output_type": "stream",
     "text": [
      "\r",
      " 81%|████████  | 764/946 [4:34:26<48:07, 15.86s/it]"
     ]
    },
    {
     "name": "stdout",
     "output_type": "stream",
     "text": [
      "\n",
      "('Coord matches: ', 0, 'with a tolerance of ', 0.005556)\n",
      "No matches. Skipping ngc7082\n",
      "ngc7086\n",
      "ngc7086 150\n",
      "Data retrived, starting pbsearch\n",
      "('searched for a subset of ', 150, 'Coords against 2mass list of', 9073309)"
     ]
    },
    {
     "name": "stderr",
     "output_type": "stream",
     "text": [
      "\r",
      " 81%|████████  | 765/946 [4:35:31<1:31:55, 30.47s/it]"
     ]
    },
    {
     "name": "stdout",
     "output_type": "stream",
     "text": [
      "\n",
      "('Coord matches: ', 0, 'with a tolerance of ', 0.005556)\n",
      "No matches. Skipping ngc7086\n",
      "ngc7092\n",
      "ngc7092 219\n",
      "Data retrived, starting pbsearch\n",
      "('searched for a subset of ', 197, 'Coords against 2mass list of', 9073309)"
     ]
    },
    {
     "name": "stderr",
     "output_type": "stream",
     "text": [
      "\r",
      " 81%|████████  | 766/946 [4:36:55<2:19:49, 46.61s/it]"
     ]
    },
    {
     "name": "stdout",
     "output_type": "stream",
     "text": [
      "\n",
      "('Coord matches: ', 0, 'with a tolerance of ', 0.005556)\n",
      "No matches. Skipping ngc7092\n",
      "ngc7128\n",
      "ngc7128 2\n",
      "Data retrived, starting pbsearch\n",
      "('searched for a subset of ', 2, 'Coords against 2mass list of', 9073309)"
     ]
    },
    {
     "name": "stderr",
     "output_type": "stream",
     "text": [
      "\r",
      " 81%|████████  | 767/946 [4:36:58<1:40:23, 33.65s/it]"
     ]
    },
    {
     "name": "stdout",
     "output_type": "stream",
     "text": [
      "\n",
      "('Coord matches: ', 0, 'with a tolerance of ', 0.005556)\n",
      "No matches. Skipping ngc7128\n",
      "ngc7129\n",
      "error with parsing mags html"
     ]
    },
    {
     "name": "stderr",
     "output_type": "stream",
     "text": [
      "\r",
      " 81%|████████  | 768/946 [4:37:00<1:11:25, 24.07s/it]"
     ]
    },
    {
     "name": "stdout",
     "output_type": "stream",
     "text": [
      "\n",
      "http://www.univie.ac.at/webda/cgi-bin/frame_data_list.cgi?ngc7129+ubvpg+ubv.pgo\n",
      "Retrieval error. Skipping ngc7129\n",
      "ngc7142\n",
      "ngc7142 38\n",
      "Data retrived, starting pbsearch\n",
      "('searched for a subset of ', 38, 'Coords against 2mass list of', 9073309)"
     ]
    },
    {
     "name": "stderr",
     "output_type": "stream",
     "text": [
      "\r",
      " 81%|████████▏ | 769/946 [4:37:18<1:05:21, 22.15s/it]"
     ]
    },
    {
     "name": "stdout",
     "output_type": "stream",
     "text": [
      "\n",
      "('Coord matches: ', 0, 'with a tolerance of ', 0.005556)\n",
      "No matches. Skipping ngc7142\n",
      "ngc7160\n",
      "ngc7160 22\n",
      "Data retrived, starting pbsearch\n",
      "('searched for a subset of ', 22, 'Coords against 2mass list of', 9073309)"
     ]
    },
    {
     "name": "stderr",
     "output_type": "stream",
     "text": [
      "\r",
      " 81%|████████▏ | 770/946 [4:37:29<55:12, 18.82s/it]  "
     ]
    },
    {
     "name": "stdout",
     "output_type": "stream",
     "text": [
      "\n",
      "('Coord matches: ', 0, 'with a tolerance of ', 0.005556)\n",
      "No matches. Skipping ngc7160\n",
      "ngc7209\n",
      "ngc7209 38\n",
      "Data retrived, starting pbsearch\n",
      "('searched for a subset of ', 22, 'Coords against 2mass list of', 9073309)"
     ]
    },
    {
     "name": "stderr",
     "output_type": "stream",
     "text": [
      "\r",
      " 82%|████████▏ | 771/946 [4:37:40<48:36, 16.67s/it]"
     ]
    },
    {
     "name": "stdout",
     "output_type": "stream",
     "text": [
      "\n",
      "('Coord matches: ', 0, 'with a tolerance of ', 0.005556)\n",
      "No matches. Skipping ngc7209\n",
      "ngc7235\n",
      "error with parsing mags html"
     ]
    },
    {
     "name": "stderr",
     "output_type": "stream",
     "text": [
      "\r",
      " 82%|████████▏ | 772/946 [4:37:46<38:37, 13.32s/it]"
     ]
    },
    {
     "name": "stdout",
     "output_type": "stream",
     "text": [
      "\n",
      "http://www.univie.ac.at/webda/cgi-bin/frame_data_list.cgi?ngc7235+ubvpg+ubv.pgo\n",
      "Retrieval error. Skipping ngc7235\n",
      "ngc7243\n",
      "error with parsing mags html"
     ]
    },
    {
     "name": "stderr",
     "output_type": "stream",
     "text": [
      "\r",
      " 82%|████████▏ | 773/946 [4:38:06<44:39, 15.49s/it]"
     ]
    },
    {
     "name": "stdout",
     "output_type": "stream",
     "text": [
      "\n",
      "http://www.univie.ac.at/webda/cgi-bin/frame_data_list.cgi?ngc7243+ubvpg+ubv.pgo\n",
      "Retrieval error. Skipping ngc7243\n",
      "ngc7245\n",
      "ngc7245"
     ]
    },
    {
     "name": "stderr",
     "output_type": "stream",
     "text": [
      "\r",
      " 82%|████████▏ | 774/946 [4:38:16<39:28, 13.77s/it]"
     ]
    },
    {
     "name": "stdout",
     "output_type": "stream",
     "text": [
      " 0\n",
      "Data retrived, starting pbsearch\n",
      "('searched for a subset of ', 0, 'Coords against 2mass list of', 9073309)\n",
      "('Coord matches: ', 0, 'with a tolerance of ', 0.005556)\n",
      "No matches. Skipping ngc7245\n",
      "ngc7261\n",
      "ngc7261 17\n",
      "Data retrived, starting pbsearch\n",
      "('searched for a subset of ', 17, 'Coords against 2mass list of', 9073309)"
     ]
    },
    {
     "name": "stderr",
     "output_type": "stream",
     "text": [
      "\r",
      " 82%|████████▏ | 775/946 [4:38:28<37:58, 13.33s/it]"
     ]
    },
    {
     "name": "stdout",
     "output_type": "stream",
     "text": [
      "\n",
      "('Coord matches: ', 0, 'with a tolerance of ', 0.005556)\n",
      "No matches. Skipping ngc7261\n",
      "ngc7281\n",
      "error with parsing mags html"
     ]
    },
    {
     "name": "stderr",
     "output_type": "stream",
     "text": [
      "\r",
      " 82%|████████▏ | 776/946 [4:38:30<27:59,  9.88s/it]"
     ]
    },
    {
     "name": "stdout",
     "output_type": "stream",
     "text": [
      "\n",
      "http://www.univie.ac.at/webda/cgi-bin/frame_data_list.cgi?ngc7281+ubvpg+ubv.pgo\n",
      "Retrieval error. Skipping ngc7281\n",
      "ngc7296\n",
      "error with parsing mags html"
     ]
    },
    {
     "name": "stderr",
     "output_type": "stream",
     "text": [
      "\r",
      " 82%|████████▏ | 777/946 [4:38:34<22:25,  7.96s/it]"
     ]
    },
    {
     "name": "stdout",
     "output_type": "stream",
     "text": [
      "\n",
      "http://www.univie.ac.at/webda/cgi-bin/frame_data_list.cgi?ngc7296+ubvpg+ubv.pgo\n",
      "Retrieval error. Skipping ngc7296\n",
      "ngc7380\n",
      "ngc7380 562\n",
      "Data retrived, starting pbsearch\n",
      "('searched for a subset of ', 562, 'Coords against 2mass list of', 9073309)"
     ]
    },
    {
     "name": "stderr",
     "output_type": "stream",
     "text": [
      "\r",
      " 82%|████████▏ | 778/946 [4:42:34<3:37:46, 77.78s/it]"
     ]
    },
    {
     "name": "stdout",
     "output_type": "stream",
     "text": [
      "\n",
      "('Coord matches: ', 0, 'with a tolerance of ', 0.005556)\n",
      "No matches. Skipping ngc7380\n",
      "ngc7419\n",
      "ngc7419 91\n",
      "Data retrived, starting pbsearch\n",
      "('searched for a subset of ', 69, 'Coords against 2mass list of', 9073309)"
     ]
    },
    {
     "name": "stderr",
     "output_type": "stream",
     "text": [
      "\r",
      " 82%|████████▏ | 779/946 [4:43:17<3:07:09, 67.24s/it]"
     ]
    },
    {
     "name": "stdout",
     "output_type": "stream",
     "text": [
      "\n",
      "('Coord matches: ', 0, 'with a tolerance of ', 0.005556)\n",
      "No matches. Skipping ngc7419\n",
      "ngc7438\n",
      "error with parsing mags html"
     ]
    },
    {
     "name": "stderr",
     "output_type": "stream",
     "text": [
      "\r",
      " 82%|████████▏ | 780/946 [4:43:19<2:11:45, 47.62s/it]"
     ]
    },
    {
     "name": "stdout",
     "output_type": "stream",
     "text": [
      "\n",
      "http://www.univie.ac.at/webda/cgi-bin/frame_data_list.cgi?ngc7438+ubvpg+ubv.pgo\n",
      "Retrieval error. Skipping ngc7438\n",
      "ngc7510\n",
      "ngc7510 16\n",
      "Data retrived, starting pbsearch\n",
      "('searched for a subset of ', 16, 'Coords against 2mass list of', 9073309)"
     ]
    },
    {
     "name": "stderr",
     "output_type": "stream",
     "text": [
      "\r",
      " 83%|████████▎ | 781/946 [4:43:27<1:38:26, 35.79s/it]"
     ]
    },
    {
     "name": "stdout",
     "output_type": "stream",
     "text": [
      "\n",
      "('Coord matches: ', 0, 'with a tolerance of ', 0.005556)\n",
      "No matches. Skipping ngc7510\n",
      "ngc7654\n",
      "ngc7654 1656\n",
      "Data retrived, starting pbsearch\n",
      "('searched for a subset of ', 1624, 'Coords against 2mass list of', 9073309)"
     ]
    },
    {
     "name": "stderr",
     "output_type": "stream",
     "text": [
      "\r",
      " 83%|████████▎ | 782/946 [4:55:34<11:04:47, 243.22s/it]"
     ]
    },
    {
     "name": "stdout",
     "output_type": "stream",
     "text": [
      "\n",
      "('Coord matches: ', 0, 'with a tolerance of ', 0.005556)\n",
      "No matches. Skipping ngc7654\n",
      "ngc7686\n",
      "ngc7686 6\n",
      "Data retrived, starting pbsearch\n",
      "('searched for a subset of ', 6, 'Coords against 2mass list of', 9073309)"
     ]
    },
    {
     "name": "stderr",
     "output_type": "stream",
     "text": [
      "\r",
      " 83%|████████▎ | 783/946 [4:55:40<7:46:57, 171.88s/it] "
     ]
    },
    {
     "name": "stdout",
     "output_type": "stream",
     "text": [
      "\n",
      "('Coord matches: ', 0, 'with a tolerance of ', 0.005556)\n",
      "No matches. Skipping ngc7686\n",
      "ngc7762\n",
      "ngc7762 324\n",
      "Data retrived, starting pbsearch\n",
      "('searched for a subset of ', 301, 'Coords against 2mass list of', 9073309)"
     ]
    },
    {
     "name": "stderr",
     "output_type": "stream",
     "text": [
      "\r",
      " 83%|████████▎ | 784/946 [4:57:59<7:17:28, 162.02s/it]"
     ]
    },
    {
     "name": "stdout",
     "output_type": "stream",
     "text": [
      "\n",
      "('Coord matches: ', 0, 'with a tolerance of ', 0.005556)\n",
      "No matches. Skipping ngc7762\n",
      "ngc7772\n",
      "error with parsing mags html"
     ]
    },
    {
     "name": "stderr",
     "output_type": "stream",
     "text": [
      "\r",
      " 83%|████████▎ | 785/946 [4:58:01<5:06:26, 114.20s/it]"
     ]
    },
    {
     "name": "stdout",
     "output_type": "stream",
     "text": [
      "\n",
      "http://www.univie.ac.at/webda/cgi-bin/frame_data_list.cgi?ngc7772+ubvpg+ubv.pgo\n",
      "Retrieval error. Skipping ngc7772\n",
      "ngc7788\n",
      "ngc7788 11\n",
      "Data retrived, starting pbsearch\n",
      "('searched for a subset of ', 11, 'Coords against 2mass list of', 9073309)"
     ]
    },
    {
     "name": "stderr",
     "output_type": "stream",
     "text": [
      "\r",
      " 83%|████████▎ | 786/946 [4:58:07<3:38:03, 81.77s/it] "
     ]
    },
    {
     "name": "stdout",
     "output_type": "stream",
     "text": [
      "\n",
      "('Coord matches: ', 0, 'with a tolerance of ', 0.005556)\n",
      "No matches. Skipping ngc7788\n",
      "ngc7789\n",
      "error with parsing coords html"
     ]
    },
    {
     "name": "stderr",
     "output_type": "stream",
     "text": [
      "\r",
      " 83%|████████▎ | 787/946 [4:58:09<2:33:13, 57.82s/it]"
     ]
    },
    {
     "name": "stdout",
     "output_type": "stream",
     "text": [
      "\n",
      "http://www.univie.ac.at/webda/cgi-bin/frame_data_list.cgi?ngc7789+ad2k+ad2000.coo\n",
      "Retrieval error. Skipping ngc7789\n",
      "ngc7790\n",
      "ngc7790 718\n",
      "Data retrived, starting pbsearch\n",
      "('searched for a subset of ', 414, 'Coords against 2mass list of', 9073309)"
     ]
    },
    {
     "name": "stderr",
     "output_type": "stream",
     "text": [
      "\r",
      " 83%|████████▎ | 788/946 [5:01:12<4:10:54, 95.28s/it]"
     ]
    },
    {
     "name": "stdout",
     "output_type": "stream",
     "text": [
      "\n",
      "('Coord matches: ', 0, 'with a tolerance of ', 0.005556)\n",
      "No matches. Skipping ngc7790\n",
      "pimo01\n",
      "error with parsing mags html"
     ]
    },
    {
     "name": "stderr",
     "output_type": "stream",
     "text": [
      "\r",
      " 83%|████████▎ | 789/946 [5:01:14<2:55:51, 67.20s/it]"
     ]
    },
    {
     "name": "stdout",
     "output_type": "stream",
     "text": [
      "\n",
      "http://www.univie.ac.at/webda/cgi-bin/frame_data_list.cgi?pimo01+ubvpg+ubv.pgo\n",
      "Retrieval error. Skipping pimo01\n",
      "pis01\n",
      "pis01 19\n",
      "Data retrived, starting pbsearch\n",
      "('searched for a subset of ', 19, 'Coords against 2mass list of', 9073309)"
     ]
    },
    {
     "name": "stderr",
     "output_type": "stream",
     "text": [
      "\r",
      " 84%|████████▎ | 790/946 [5:01:23<2:09:50, 49.94s/it]"
     ]
    },
    {
     "name": "stdout",
     "output_type": "stream",
     "text": [
      "\n",
      "('Coord matches: ', 0, 'with a tolerance of ', 0.005556)\n",
      "No matches. Skipping pis01\n",
      "pis02\n",
      "error with parsing coords html"
     ]
    },
    {
     "name": "stderr",
     "output_type": "stream",
     "text": [
      "\r",
      " 84%|████████▎ | 791/946 [5:01:25<1:31:34, 35.45s/it]"
     ]
    },
    {
     "name": "stdout",
     "output_type": "stream",
     "text": [
      "\n",
      "http://www.univie.ac.at/webda/cgi-bin/frame_data_list.cgi?pis02+ad2k+ad2000.coo\n",
      "Retrieval error. Skipping pis02\n",
      "pis03\n",
      "error with parsing mags html"
     ]
    },
    {
     "name": "stderr",
     "output_type": "stream",
     "text": [
      "\r",
      " 84%|████████▎ | 792/946 [5:01:30<1:07:44, 26.40s/it]"
     ]
    },
    {
     "name": "stdout",
     "output_type": "stream",
     "text": [
      "\n",
      "http://www.univie.ac.at/webda/cgi-bin/frame_data_list.cgi?pis03+ubvpg+ubv.pgo\n",
      "Retrieval error. Skipping pis03\n",
      "pis04\n",
      "error with parsing mags html"
     ]
    },
    {
     "name": "stderr",
     "output_type": "stream",
     "text": [
      "\r",
      " 84%|████████▍ | 793/946 [5:01:32<48:15, 18.92s/it]  "
     ]
    },
    {
     "name": "stdout",
     "output_type": "stream",
     "text": [
      "\n",
      "http://www.univie.ac.at/webda/cgi-bin/frame_data_list.cgi?pis04+ubvpg+ubv.pgo\n",
      "Retrieval error. Skipping pis04\n",
      "pis05\n",
      "error with parsing mags html"
     ]
    },
    {
     "name": "stderr",
     "output_type": "stream",
     "text": [
      "\r",
      " 84%|████████▍ | 794/946 [5:01:33<34:42, 13.70s/it]"
     ]
    },
    {
     "name": "stdout",
     "output_type": "stream",
     "text": [
      "\n",
      "http://www.univie.ac.at/webda/cgi-bin/frame_data_list.cgi?pis05+ubvpg+ubv.pgo\n",
      "Retrieval error. Skipping pis05\n",
      "pis08\n",
      "pis08"
     ]
    },
    {
     "name": "stderr",
     "output_type": "stream",
     "text": [
      "\r",
      " 84%|████████▍ | 795/946 [5:01:35<25:18, 10.06s/it]"
     ]
    },
    {
     "name": "stdout",
     "output_type": "stream",
     "text": [
      " 0\n",
      "Data retrived, starting pbsearch\n",
      "('searched for a subset of ', 0, 'Coords against 2mass list of', 9073309)\n",
      "('Coord matches: ', 0, 'with a tolerance of ', 0.005556)\n",
      "No matches. Skipping pis08\n",
      "pis11\n",
      "error with parsing mags html"
     ]
    },
    {
     "name": "stderr",
     "output_type": "stream",
     "text": [
      "\r",
      " 84%|████████▍ | 796/946 [5:01:40<21:20,  8.53s/it]"
     ]
    },
    {
     "name": "stdout",
     "output_type": "stream",
     "text": [
      "\n",
      "http://www.univie.ac.at/webda/cgi-bin/frame_data_list.cgi?pis11+ubvpg+ubv.pgo\n",
      "Retrieval error. Skipping pis11\n",
      "pis12\n",
      "error with parsing mags html"
     ]
    },
    {
     "name": "stderr",
     "output_type": "stream",
     "text": [
      "\r",
      " 84%|████████▍ | 797/946 [5:01:41<15:59,  6.44s/it]"
     ]
    },
    {
     "name": "stdout",
     "output_type": "stream",
     "text": [
      "\n",
      "http://www.univie.ac.at/webda/cgi-bin/frame_data_list.cgi?pis12+ubvpg+ubv.pgo\n",
      "Retrieval error. Skipping pis12\n",
      "pis16\n",
      "error with parsing mags html"
     ]
    },
    {
     "name": "stderr",
     "output_type": "stream",
     "text": [
      "\r",
      " 84%|████████▍ | 798/946 [5:01:43<12:24,  5.03s/it]"
     ]
    },
    {
     "name": "stdout",
     "output_type": "stream",
     "text": [
      "\n",
      "http://www.univie.ac.at/webda/cgi-bin/frame_data_list.cgi?pis16+ubvpg+ubv.pgo\n",
      "Retrieval error. Skipping pis16\n",
      "pis17\n",
      "error with parsing mags html"
     ]
    },
    {
     "name": "stderr",
     "output_type": "stream",
     "text": [
      "\r",
      " 84%|████████▍ | 799/946 [5:01:45<09:48,  4.00s/it]"
     ]
    },
    {
     "name": "stdout",
     "output_type": "stream",
     "text": [
      "\n",
      "http://www.univie.ac.at/webda/cgi-bin/frame_data_list.cgi?pis17+ubvpg+ubv.pgo\n",
      "Retrieval error. Skipping pis17\n",
      "pis18\n",
      "error with parsing mags html"
     ]
    },
    {
     "name": "stderr",
     "output_type": "stream",
     "text": [
      "\r",
      " 85%|████████▍ | 800/946 [5:01:54<13:38,  5.61s/it]"
     ]
    },
    {
     "name": "stdout",
     "output_type": "stream",
     "text": [
      "\n",
      "http://www.univie.ac.at/webda/cgi-bin/frame_data_list.cgi?pis18+ubvpg+ubv.pgo\n",
      "Retrieval error. Skipping pis18\n",
      "pis20\n",
      "error with parsing mags html"
     ]
    },
    {
     "name": "stderr",
     "output_type": "stream",
     "text": [
      "\r",
      " 85%|████████▍ | 801/946 [5:01:56<10:40,  4.42s/it]"
     ]
    },
    {
     "name": "stdout",
     "output_type": "stream",
     "text": [
      "\n",
      "http://www.univie.ac.at/webda/cgi-bin/frame_data_list.cgi?pis20+ubvpg+ubv.pgo\n",
      "Retrieval error. Skipping pis20\n",
      "pis21\n",
      "error with parsing mags html"
     ]
    },
    {
     "name": "stderr",
     "output_type": "stream",
     "text": [
      "\r",
      " 85%|████████▍ | 802/946 [5:01:57<08:36,  3.59s/it]"
     ]
    },
    {
     "name": "stdout",
     "output_type": "stream",
     "text": [
      "\n",
      "http://www.univie.ac.at/webda/cgi-bin/frame_data_list.cgi?pis21+ubvpg+ubv.pgo\n",
      "Retrieval error. Skipping pis21\n",
      "pis22\n",
      "pis22 3\n",
      "Data retrived, starting pbsearch\n",
      "('searched for a subset of ', 3, 'Coords against 2mass list of', 9073309)"
     ]
    },
    {
     "name": "stderr",
     "output_type": "stream",
     "text": [
      "\r",
      " 85%|████████▍ | 803/946 [5:02:00<08:06,  3.40s/it]"
     ]
    },
    {
     "name": "stdout",
     "output_type": "stream",
     "text": [
      "\n",
      "('Coord matches: ', 0, 'with a tolerance of ', 0.005556)\n",
      "No matches. Skipping pis22\n",
      "pis24\n",
      "error with parsing mags html"
     ]
    },
    {
     "name": "stderr",
     "output_type": "stream",
     "text": [
      "\r",
      " 85%|████████▍ | 804/946 [5:02:02<06:47,  2.87s/it]"
     ]
    },
    {
     "name": "stdout",
     "output_type": "stream",
     "text": [
      "\n",
      "http://www.univie.ac.at/webda/cgi-bin/frame_data_list.cgi?pis24+ubvpg+ubv.pgo\n",
      "Retrieval error. Skipping pis24\n",
      "pl01\n",
      "error with parsing coords html"
     ]
    },
    {
     "name": "stderr",
     "output_type": "stream",
     "text": [
      "\r",
      " 85%|████████▌ | 805/946 [5:02:03<05:18,  2.26s/it]"
     ]
    },
    {
     "name": "stdout",
     "output_type": "stream",
     "text": [
      "\n",
      "http://www.univie.ac.at/webda/cgi-bin/frame_data_list.cgi?pl01+ad2k+ad2000.coo\n",
      "Retrieval error. Skipping pl01\n",
      "pl02\n",
      "error with parsing mags html"
     ]
    },
    {
     "name": "stderr",
     "output_type": "stream",
     "text": [
      "\r",
      " 85%|████████▌ | 806/946 [5:02:07<06:50,  2.93s/it]"
     ]
    },
    {
     "name": "stdout",
     "output_type": "stream",
     "text": [
      "\n",
      "http://www.univie.ac.at/webda/cgi-bin/frame_data_list.cgi?pl02+ubvpg+ubv.pgo\n",
      "Retrieval error. Skipping pl02\n",
      "pl04\n",
      "error with parsing mags html"
     ]
    },
    {
     "name": "stderr",
     "output_type": "stream",
     "text": [
      "\r",
      " 85%|████████▌ | 807/946 [5:02:11<06:57,  3.00s/it]"
     ]
    },
    {
     "name": "stdout",
     "output_type": "stream",
     "text": [
      "\n",
      "http://www.univie.ac.at/webda/cgi-bin/frame_data_list.cgi?pl04+ubvpg+ubv.pgo\n",
      "Retrieval error. Skipping pl04\n",
      "pl06\n",
      "error with parsing mags html"
     ]
    },
    {
     "name": "stderr",
     "output_type": "stream",
     "text": [
      "\r",
      " 85%|████████▌ | 808/946 [5:02:16<08:47,  3.82s/it]"
     ]
    },
    {
     "name": "stdout",
     "output_type": "stream",
     "text": [
      "\n",
      "http://www.univie.ac.at/webda/cgi-bin/frame_data_list.cgi?pl06+ubvpg+ubv.pgo\n",
      "Retrieval error. Skipping pl06\n",
      "ros01\n",
      "error with parsing mags html"
     ]
    },
    {
     "name": "stderr",
     "output_type": "stream",
     "text": [
      "\r",
      " 86%|████████▌ | 809/946 [5:02:18<07:11,  3.15s/it]"
     ]
    },
    {
     "name": "stdout",
     "output_type": "stream",
     "text": [
      "\n",
      "http://www.univie.ac.at/webda/cgi-bin/frame_data_list.cgi?ros01+ubvpg+ubv.pgo\n",
      "Retrieval error. Skipping ros01\n",
      "ros02\n",
      "error with parsing mags html"
     ]
    },
    {
     "name": "stderr",
     "output_type": "stream",
     "text": [
      "\r",
      " 86%|████████▌ | 810/946 [5:02:19<06:05,  2.69s/it]"
     ]
    },
    {
     "name": "stdout",
     "output_type": "stream",
     "text": [
      "\n",
      "http://www.univie.ac.at/webda/cgi-bin/frame_data_list.cgi?ros02+ubvpg+ubv.pgo\n",
      "Retrieval error. Skipping ros02\n",
      "ros03\n",
      "ros03 106\n",
      "Data retrived, starting pbsearch\n",
      "('searched for a subset of ', 70, 'Coords against 2mass list of', 9073309)"
     ]
    },
    {
     "name": "stderr",
     "output_type": "stream",
     "text": [
      "\r",
      " 86%|████████▌ | 811/946 [5:02:51<25:23, 11.28s/it]"
     ]
    },
    {
     "name": "stdout",
     "output_type": "stream",
     "text": [
      "\n",
      "('Coord matches: ', 0, 'with a tolerance of ', 0.005556)\n",
      "No matches. Skipping ros03\n",
      "ros04\n",
      "error with parsing mags html"
     ]
    },
    {
     "name": "stderr",
     "output_type": "stream",
     "text": [
      "\r",
      " 86%|████████▌ | 812/946 [5:02:53<18:48,  8.42s/it]"
     ]
    },
    {
     "name": "stdout",
     "output_type": "stream",
     "text": [
      "\n",
      "http://www.univie.ac.at/webda/cgi-bin/frame_data_list.cgi?ros04+ubvpg+ubv.pgo\n",
      "Retrieval error. Skipping ros04\n",
      "ros06\n",
      "error with parsing mags html"
     ]
    },
    {
     "name": "stderr",
     "output_type": "stream",
     "text": [
      "\r",
      " 86%|████████▌ | 813/946 [5:02:56<15:09,  6.84s/it]"
     ]
    },
    {
     "name": "stdout",
     "output_type": "stream",
     "text": [
      "\n",
      "http://www.univie.ac.at/webda/cgi-bin/frame_data_list.cgi?ros06+ubvpg+ubv.pgo\n",
      "Retrieval error. Skipping ros06\n",
      "ros07\n",
      "error with parsing mags html"
     ]
    },
    {
     "name": "stderr",
     "output_type": "stream",
     "text": [
      "\r",
      " 86%|████████▌ | 814/946 [5:02:58<12:00,  5.46s/it]"
     ]
    },
    {
     "name": "stdout",
     "output_type": "stream",
     "text": [
      "\n",
      "http://www.univie.ac.at/webda/cgi-bin/frame_data_list.cgi?ros07+ubvpg+ubv.pgo\n",
      "Retrieval error. Skipping ros07\n",
      "ru001\n",
      "error with parsing mags html"
     ]
    },
    {
     "name": "stderr",
     "output_type": "stream",
     "text": [
      "\r",
      " 86%|████████▌ | 815/946 [5:03:00<09:27,  4.33s/it]"
     ]
    },
    {
     "name": "stdout",
     "output_type": "stream",
     "text": [
      "\n",
      "http://www.univie.ac.at/webda/cgi-bin/frame_data_list.cgi?ru001+ubvpg+ubv.pgo\n",
      "Retrieval error. Skipping ru001\n",
      "ru010\n",
      "error with parsing mags html"
     ]
    },
    {
     "name": "stderr",
     "output_type": "stream",
     "text": [
      "\r",
      " 86%|████████▋ | 816/946 [5:03:21<20:35,  9.50s/it]"
     ]
    },
    {
     "name": "stdout",
     "output_type": "stream",
     "text": [
      "\n",
      "http://www.univie.ac.at/webda/cgi-bin/frame_data_list.cgi?ru010+ubvpg+ubv.pgo\n",
      "Retrieval error. Skipping ru010\n",
      "ru012\n",
      "error with parsing mags html"
     ]
    },
    {
     "name": "stderr",
     "output_type": "stream",
     "text": [
      "\r",
      " 86%|████████▋ | 817/946 [5:03:23<15:21,  7.14s/it]"
     ]
    },
    {
     "name": "stdout",
     "output_type": "stream",
     "text": [
      "\n",
      "http://www.univie.ac.at/webda/cgi-bin/frame_data_list.cgi?ru012+ubvpg+ubv.pgo\n",
      "Retrieval error. Skipping ru012\n",
      "ru018\n",
      "error with parsing mags html"
     ]
    },
    {
     "name": "stderr",
     "output_type": "stream",
     "text": [
      "\r",
      " 86%|████████▋ | 818/946 [5:03:24<11:43,  5.49s/it]"
     ]
    },
    {
     "name": "stdout",
     "output_type": "stream",
     "text": [
      "\n",
      "http://www.univie.ac.at/webda/cgi-bin/frame_data_list.cgi?ru018+ubvpg+ubv.pgo\n",
      "Retrieval error. Skipping ru018\n",
      "ru020\n",
      "error with parsing mags html"
     ]
    },
    {
     "name": "stderr",
     "output_type": "stream",
     "text": [
      "\r",
      " 87%|████████▋ | 819/946 [5:03:26<09:10,  4.34s/it]"
     ]
    },
    {
     "name": "stdout",
     "output_type": "stream",
     "text": [
      "\n",
      "http://www.univie.ac.at/webda/cgi-bin/frame_data_list.cgi?ru020+ubvpg+ubv.pgo\n",
      "Retrieval error. Skipping ru020\n",
      "ru026\n",
      "error with parsing mags html"
     ]
    },
    {
     "name": "stderr",
     "output_type": "stream",
     "text": [
      "\r",
      " 87%|████████▋ | 820/946 [5:03:28<07:35,  3.62s/it]"
     ]
    },
    {
     "name": "stdout",
     "output_type": "stream",
     "text": [
      "\n",
      "http://www.univie.ac.at/webda/cgi-bin/frame_data_list.cgi?ru026+ubvpg+ubv.pgo\n",
      "Retrieval error. Skipping ru026\n",
      "ru027\n",
      "error with parsing mags html"
     ]
    },
    {
     "name": "stderr",
     "output_type": "stream",
     "text": [
      "\r",
      " 87%|████████▋ | 821/946 [5:03:30<06:22,  3.06s/it]"
     ]
    },
    {
     "name": "stdout",
     "output_type": "stream",
     "text": [
      "\n",
      "http://www.univie.ac.at/webda/cgi-bin/frame_data_list.cgi?ru027+ubvpg+ubv.pgo\n",
      "Retrieval error. Skipping ru027\n",
      "ru031\n",
      "error with parsing mags html"
     ]
    },
    {
     "name": "stderr",
     "output_type": "stream",
     "text": [
      "\r",
      " 87%|████████▋ | 822/946 [5:03:31<05:25,  2.63s/it]"
     ]
    },
    {
     "name": "stdout",
     "output_type": "stream",
     "text": [
      "\n",
      "http://www.univie.ac.at/webda/cgi-bin/frame_data_list.cgi?ru031+ubvpg+ubv.pgo\n",
      "Retrieval error. Skipping ru031\n",
      "ru032\n",
      "error with parsing mags html"
     ]
    },
    {
     "name": "stderr",
     "output_type": "stream",
     "text": [
      "\r",
      " 87%|████████▋ | 823/946 [5:03:33<04:46,  2.33s/it]"
     ]
    },
    {
     "name": "stdout",
     "output_type": "stream",
     "text": [
      "\n",
      "http://www.univie.ac.at/webda/cgi-bin/frame_data_list.cgi?ru032+ubvpg+ubv.pgo\n",
      "Retrieval error. Skipping ru032\n",
      "ru034\n",
      "error with parsing mags html"
     ]
    },
    {
     "name": "stderr",
     "output_type": "stream",
     "text": [
      "\r",
      " 87%|████████▋ | 824/946 [5:03:35<04:17,  2.11s/it]"
     ]
    },
    {
     "name": "stdout",
     "output_type": "stream",
     "text": [
      "\n",
      "http://www.univie.ac.at/webda/cgi-bin/frame_data_list.cgi?ru034+ubvpg+ubv.pgo\n",
      "Retrieval error. Skipping ru034\n",
      "ru036\n",
      "error with parsing mags html"
     ]
    },
    {
     "name": "stderr",
     "output_type": "stream",
     "text": [
      "\r",
      " 87%|████████▋ | 825/946 [5:03:37<04:22,  2.17s/it]"
     ]
    },
    {
     "name": "stdout",
     "output_type": "stream",
     "text": [
      "\n",
      "http://www.univie.ac.at/webda/cgi-bin/frame_data_list.cgi?ru036+ubvpg+ubv.pgo\n",
      "Retrieval error. Skipping ru036\n",
      "ru043\n",
      "error with parsing mags html"
     ]
    },
    {
     "name": "stderr",
     "output_type": "stream",
     "text": [
      "\r",
      " 87%|████████▋ | 826/946 [5:03:39<04:19,  2.16s/it]"
     ]
    },
    {
     "name": "stdout",
     "output_type": "stream",
     "text": [
      "\n",
      "http://www.univie.ac.at/webda/cgi-bin/frame_data_list.cgi?ru043+ubvpg+ubv.pgo\n",
      "Retrieval error. Skipping ru043\n",
      "ru044\n",
      "ru044 26\n",
      "Data retrived, starting pbsearch\n",
      "('searched for a subset of ', 21, 'Coords against 2mass list of', 9073309)"
     ]
    },
    {
     "name": "stderr",
     "output_type": "stream",
     "text": [
      "\r",
      " 87%|████████▋ | 827/946 [5:03:50<09:35,  4.84s/it]"
     ]
    },
    {
     "name": "stdout",
     "output_type": "stream",
     "text": [
      "\n",
      "('Coord matches: ', 0, 'with a tolerance of ', 0.005556)\n",
      "No matches. Skipping ru044\n",
      "ru046\n",
      "error with parsing mags html"
     ]
    },
    {
     "name": "stderr",
     "output_type": "stream",
     "text": [
      "\r",
      " 88%|████████▊ | 828/946 [5:03:52<07:36,  3.87s/it]"
     ]
    },
    {
     "name": "stdout",
     "output_type": "stream",
     "text": [
      "\n",
      "http://www.univie.ac.at/webda/cgi-bin/frame_data_list.cgi?ru046+ubvpg+ubv.pgo\n",
      "Retrieval error. Skipping ru046\n",
      "ru047\n",
      "error with parsing mags html"
     ]
    },
    {
     "name": "stderr",
     "output_type": "stream",
     "text": [
      "\r",
      " 88%|████████▊ | 829/946 [5:03:53<06:16,  3.21s/it]"
     ]
    },
    {
     "name": "stdout",
     "output_type": "stream",
     "text": [
      "\n",
      "http://www.univie.ac.at/webda/cgi-bin/frame_data_list.cgi?ru047+ubvpg+ubv.pgo\n",
      "Retrieval error. Skipping ru047\n",
      "ru049\n",
      "error with parsing mags html"
     ]
    },
    {
     "name": "stderr",
     "output_type": "stream",
     "text": [
      "\r",
      " 88%|████████▊ | 830/946 [5:03:55<05:16,  2.73s/it]"
     ]
    },
    {
     "name": "stdout",
     "output_type": "stream",
     "text": [
      "\n",
      "http://www.univie.ac.at/webda/cgi-bin/frame_data_list.cgi?ru049+ubvpg+ubv.pgo\n",
      "Retrieval error. Skipping ru049\n",
      "ru053\n",
      "error with parsing mags html"
     ]
    },
    {
     "name": "stderr",
     "output_type": "stream",
     "text": [
      "\r",
      " 88%|████████▊ | 831/946 [5:03:57<04:43,  2.46s/it]"
     ]
    },
    {
     "name": "stdout",
     "output_type": "stream",
     "text": [
      "\n",
      "http://www.univie.ac.at/webda/cgi-bin/frame_data_list.cgi?ru053+ubvpg+ubv.pgo\n",
      "Retrieval error. Skipping ru053\n",
      "ru055\n",
      "ru055 38\n",
      "Data retrived, starting pbsearch\n",
      "('searched for a subset of ', 36, 'Coords against 2mass list of', 9073309)"
     ]
    },
    {
     "name": "stderr",
     "output_type": "stream",
     "text": [
      "\r",
      " 88%|████████▊ | 832/946 [5:04:14<12:57,  6.82s/it]"
     ]
    },
    {
     "name": "stdout",
     "output_type": "stream",
     "text": [
      "\n",
      "('Coord matches: ', 0, 'with a tolerance of ', 0.005556)\n",
      "No matches. Skipping ru055\n",
      "ru056\n",
      "error with parsing mags html"
     ]
    },
    {
     "name": "stderr",
     "output_type": "stream",
     "text": [
      "\r",
      " 88%|████████▊ | 833/946 [5:04:16<10:09,  5.39s/it]"
     ]
    },
    {
     "name": "stdout",
     "output_type": "stream",
     "text": [
      "\n",
      "http://www.univie.ac.at/webda/cgi-bin/frame_data_list.cgi?ru056+ubvpg+ubv.pgo\n",
      "Retrieval error. Skipping ru056\n",
      "ru058\n",
      "error with parsing mags html"
     ]
    },
    {
     "name": "stderr",
     "output_type": "stream",
     "text": [
      "\r",
      " 88%|████████▊ | 834/946 [5:04:25<11:53,  6.37s/it]"
     ]
    },
    {
     "name": "stdout",
     "output_type": "stream",
     "text": [
      "\n",
      "http://www.univie.ac.at/webda/cgi-bin/frame_data_list.cgi?ru058+ubvpg+ubv.pgo\n",
      "Retrieval error. Skipping ru058\n",
      "ru059\n",
      "error with parsing mags html"
     ]
    },
    {
     "name": "stderr",
     "output_type": "stream",
     "text": [
      "\r",
      " 88%|████████▊ | 835/946 [5:04:26<09:07,  4.94s/it]"
     ]
    },
    {
     "name": "stdout",
     "output_type": "stream",
     "text": [
      "\n",
      "http://www.univie.ac.at/webda/cgi-bin/frame_data_list.cgi?ru059+ubvpg+ubv.pgo\n",
      "Retrieval error. Skipping ru059\n",
      "ru064\n",
      "error with parsing mags html"
     ]
    },
    {
     "name": "stderr",
     "output_type": "stream",
     "text": [
      "\r",
      " 88%|████████▊ | 836/946 [5:04:29<07:51,  4.29s/it]"
     ]
    },
    {
     "name": "stdout",
     "output_type": "stream",
     "text": [
      "\n",
      "http://www.univie.ac.at/webda/cgi-bin/frame_data_list.cgi?ru064+ubvpg+ubv.pgo\n",
      "Retrieval error. Skipping ru064\n",
      "ru065\n",
      "error with parsing mags html"
     ]
    },
    {
     "name": "stderr",
     "output_type": "stream",
     "text": [
      "\r",
      " 88%|████████▊ | 837/946 [5:04:31<06:25,  3.53s/it]"
     ]
    },
    {
     "name": "stdout",
     "output_type": "stream",
     "text": [
      "\n",
      "http://www.univie.ac.at/webda/cgi-bin/frame_data_list.cgi?ru065+ubvpg+ubv.pgo\n",
      "Retrieval error. Skipping ru065\n",
      "ru067\n",
      "error with parsing mags html"
     ]
    },
    {
     "name": "stderr",
     "output_type": "stream",
     "text": [
      "\r",
      " 89%|████████▊ | 838/946 [5:04:32<05:19,  2.95s/it]"
     ]
    },
    {
     "name": "stdout",
     "output_type": "stream",
     "text": [
      "\n",
      "http://www.univie.ac.at/webda/cgi-bin/frame_data_list.cgi?ru067+ubvpg+ubv.pgo\n",
      "Retrieval error. Skipping ru067\n",
      "ru071\n",
      "error with parsing mags html"
     ]
    },
    {
     "name": "stderr",
     "output_type": "stream",
     "text": [
      "\r",
      " 89%|████████▊ | 839/946 [5:04:34<04:31,  2.54s/it]"
     ]
    },
    {
     "name": "stdout",
     "output_type": "stream",
     "text": [
      "\n",
      "http://www.univie.ac.at/webda/cgi-bin/frame_data_list.cgi?ru071+ubvpg+ubv.pgo\n",
      "Retrieval error. Skipping ru071\n",
      "ru072\n",
      "error with parsing mags html"
     ]
    },
    {
     "name": "stderr",
     "output_type": "stream",
     "text": [
      "\r",
      " 89%|████████▉ | 840/946 [5:04:55<14:07,  8.00s/it]"
     ]
    },
    {
     "name": "stdout",
     "output_type": "stream",
     "text": [
      "\n",
      "http://www.univie.ac.at/webda/cgi-bin/frame_data_list.cgi?ru072+ubvpg+ubv.pgo\n",
      "Retrieval error. Skipping ru072\n",
      "ru076\n",
      "error with parsing mags html"
     ]
    },
    {
     "name": "stderr",
     "output_type": "stream",
     "text": [
      "\r",
      " 89%|████████▉ | 841/946 [5:04:57<10:49,  6.18s/it]"
     ]
    },
    {
     "name": "stdout",
     "output_type": "stream",
     "text": [
      "\n",
      "http://www.univie.ac.at/webda/cgi-bin/frame_data_list.cgi?ru076+ubvpg+ubv.pgo\n",
      "Retrieval error. Skipping ru076\n",
      "ru079\n",
      "ru079 20\n",
      "Data retrived, starting pbsearch\n",
      "('searched for a subset of ', 18, 'Coords against 2mass list of', 9073309)"
     ]
    },
    {
     "name": "stderr",
     "output_type": "stream",
     "text": [
      "\r",
      " 89%|████████▉ | 842/946 [5:05:10<14:39,  8.46s/it]"
     ]
    },
    {
     "name": "stdout",
     "output_type": "stream",
     "text": [
      "\n",
      "('Coord matches: ', 0, 'with a tolerance of ', 0.005556)\n",
      "No matches. Skipping ru079\n",
      "ru080\n",
      "error with parsing mags html"
     ]
    },
    {
     "name": "stderr",
     "output_type": "stream",
     "text": [
      "\r",
      " 89%|████████▉ | 843/946 [5:05:12<10:57,  6.39s/it]"
     ]
    },
    {
     "name": "stdout",
     "output_type": "stream",
     "text": [
      "\n",
      "http://www.univie.ac.at/webda/cgi-bin/frame_data_list.cgi?ru080+ubvpg+ubv.pgo\n",
      "Retrieval error. Skipping ru080\n",
      "ru084\n",
      "error with parsing mags html"
     ]
    },
    {
     "name": "stderr",
     "output_type": "stream",
     "text": [
      "\r",
      " 89%|████████▉ | 844/946 [5:05:13<08:22,  4.93s/it]"
     ]
    },
    {
     "name": "stdout",
     "output_type": "stream",
     "text": [
      "\n",
      "http://www.univie.ac.at/webda/cgi-bin/frame_data_list.cgi?ru084+ubvpg+ubv.pgo\n",
      "Retrieval error. Skipping ru084\n",
      "ru085\n",
      "error with parsing mags html"
     ]
    },
    {
     "name": "stderr",
     "output_type": "stream",
     "text": [
      "\r",
      " 89%|████████▉ | 845/946 [5:05:15<06:37,  3.94s/it]"
     ]
    },
    {
     "name": "stdout",
     "output_type": "stream",
     "text": [
      "\n",
      "http://www.univie.ac.at/webda/cgi-bin/frame_data_list.cgi?ru085+ubvpg+ubv.pgo\n",
      "Retrieval error. Skipping ru085\n",
      "ru090\n",
      "error with parsing mags html"
     ]
    },
    {
     "name": "stderr",
     "output_type": "stream",
     "text": [
      "\r",
      " 89%|████████▉ | 846/946 [5:05:17<05:25,  3.26s/it]"
     ]
    },
    {
     "name": "stdout",
     "output_type": "stream",
     "text": [
      "\n",
      "http://www.univie.ac.at/webda/cgi-bin/frame_data_list.cgi?ru090+ubvpg+ubv.pgo\n",
      "Retrieval error. Skipping ru090\n",
      "ru091\n",
      "error with parsing mags html"
     ]
    },
    {
     "name": "stderr",
     "output_type": "stream",
     "text": [
      "\r",
      " 90%|████████▉ | 847/946 [5:05:19<04:49,  2.92s/it]"
     ]
    },
    {
     "name": "stdout",
     "output_type": "stream",
     "text": [
      "\n",
      "http://www.univie.ac.at/webda/cgi-bin/frame_data_list.cgi?ru091+ubvpg+ubv.pgo\n",
      "Retrieval error. Skipping ru091\n",
      "ru093\n",
      "error with parsing mags html"
     ]
    },
    {
     "name": "stderr",
     "output_type": "stream",
     "text": [
      "\r",
      " 90%|████████▉ | 848/946 [5:07:55<1:20:02, 49.01s/it]"
     ]
    },
    {
     "name": "stdout",
     "output_type": "stream",
     "text": [
      "\n",
      "http://www.univie.ac.at/webda/cgi-bin/frame_data_list.cgi?ru093+ubvpg+ubv.pgo\n",
      "Retrieval error. Skipping ru093\n",
      "ru094\n",
      "error with parsing mags html"
     ]
    },
    {
     "name": "stderr",
     "output_type": "stream",
     "text": [
      "\r",
      " 90%|████████▉ | 849/946 [5:07:57<56:22, 34.87s/it]  "
     ]
    },
    {
     "name": "stdout",
     "output_type": "stream",
     "text": [
      "\n",
      "http://www.univie.ac.at/webda/cgi-bin/frame_data_list.cgi?ru094+ubvpg+ubv.pgo\n",
      "Retrieval error. Skipping ru094\n",
      "ru096\n",
      "error with parsing mags html"
     ]
    },
    {
     "name": "stderr",
     "output_type": "stream",
     "text": [
      "\r",
      " 90%|████████▉ | 850/946 [5:07:59<39:48, 24.88s/it]"
     ]
    },
    {
     "name": "stdout",
     "output_type": "stream",
     "text": [
      "\n",
      "http://www.univie.ac.at/webda/cgi-bin/frame_data_list.cgi?ru096+ubvpg+ubv.pgo\n",
      "Retrieval error. Skipping ru096\n",
      "ru097\n",
      "ru097 6\n",
      "Data retrived, starting pbsearch\n",
      "('searched for a subset of ', 6, 'Coords against 2mass list of', 9073309)"
     ]
    },
    {
     "name": "stderr",
     "output_type": "stream",
     "text": [
      "\r",
      " 90%|████████▉ | 851/946 [5:08:03<29:33, 18.67s/it]"
     ]
    },
    {
     "name": "stdout",
     "output_type": "stream",
     "text": [
      "\n",
      "('Coord matches: ', 0, 'with a tolerance of ', 0.005556)\n",
      "No matches. Skipping ru097\n",
      "ru098\n",
      "error with parsing mags html"
     ]
    },
    {
     "name": "stderr",
     "output_type": "stream",
     "text": [
      "\r",
      " 90%|█████████ | 852/946 [5:08:05<21:14, 13.56s/it]"
     ]
    },
    {
     "name": "stdout",
     "output_type": "stream",
     "text": [
      "\n",
      "http://www.univie.ac.at/webda/cgi-bin/frame_data_list.cgi?ru098+ubvpg+ubv.pgo\n",
      "Retrieval error. Skipping ru098\n",
      "ru099\n",
      "error with parsing mags html"
     ]
    },
    {
     "name": "stderr",
     "output_type": "stream",
     "text": [
      "\r",
      " 90%|█████████ | 853/946 [5:08:07<15:40, 10.12s/it]"
     ]
    },
    {
     "name": "stdout",
     "output_type": "stream",
     "text": [
      "\n",
      "http://www.univie.ac.at/webda/cgi-bin/frame_data_list.cgi?ru099+ubvpg+ubv.pgo\n",
      "Retrieval error. Skipping ru099\n",
      "ru105\n",
      "error with parsing mags html"
     ]
    },
    {
     "name": "stderr",
     "output_type": "stream",
     "text": [
      "\r",
      " 90%|█████████ | 854/946 [5:08:08<11:35,  7.56s/it]"
     ]
    },
    {
     "name": "stdout",
     "output_type": "stream",
     "text": [
      "\n",
      "http://www.univie.ac.at/webda/cgi-bin/frame_data_list.cgi?ru105+ubvpg+ubv.pgo\n",
      "Retrieval error. Skipping ru105\n",
      "ru107\n",
      "error with parsing mags html"
     ]
    },
    {
     "name": "stderr",
     "output_type": "stream",
     "text": [
      "\r",
      " 90%|█████████ | 855/946 [5:08:10<08:43,  5.75s/it]"
     ]
    },
    {
     "name": "stdout",
     "output_type": "stream",
     "text": [
      "\n",
      "http://www.univie.ac.at/webda/cgi-bin/frame_data_list.cgi?ru107+ubvpg+ubv.pgo\n",
      "Retrieval error. Skipping ru107\n",
      "ru108\n",
      "error with parsing mags html"
     ]
    },
    {
     "name": "stderr",
     "output_type": "stream",
     "text": [
      "\r",
      " 90%|█████████ | 856/946 [5:08:11<06:44,  4.49s/it]"
     ]
    },
    {
     "name": "stdout",
     "output_type": "stream",
     "text": [
      "\n",
      "http://www.univie.ac.at/webda/cgi-bin/frame_data_list.cgi?ru108+ubvpg+ubv.pgo\n",
      "Retrieval error. Skipping ru108\n",
      "ru110\n",
      "error with parsing mags html"
     ]
    },
    {
     "name": "stderr",
     "output_type": "stream",
     "text": [
      "\r",
      " 91%|█████████ | 857/946 [5:08:13<05:26,  3.67s/it]"
     ]
    },
    {
     "name": "stdout",
     "output_type": "stream",
     "text": [
      "\n",
      "http://www.univie.ac.at/webda/cgi-bin/frame_data_list.cgi?ru110+ubvpg+ubv.pgo\n",
      "Retrieval error. Skipping ru110\n",
      "ru113\n",
      "error with parsing mags html"
     ]
    },
    {
     "name": "stderr",
     "output_type": "stream",
     "text": [
      "\r",
      " 91%|█████████ | 858/946 [5:08:15<04:43,  3.23s/it]"
     ]
    },
    {
     "name": "stdout",
     "output_type": "stream",
     "text": [
      "\n",
      "http://www.univie.ac.at/webda/cgi-bin/frame_data_list.cgi?ru113+ubvpg+ubv.pgo\n",
      "Retrieval error. Skipping ru113\n",
      "ru116\n",
      "error with parsing mags html"
     ]
    },
    {
     "name": "stderr",
     "output_type": "stream",
     "text": [
      "\r",
      " 91%|█████████ | 859/946 [5:08:17<03:57,  2.73s/it]"
     ]
    },
    {
     "name": "stdout",
     "output_type": "stream",
     "text": [
      "\n",
      "http://www.univie.ac.at/webda/cgi-bin/frame_data_list.cgi?ru116+ubvpg+ubv.pgo\n",
      "Retrieval error. Skipping ru116\n",
      "ru118\n",
      "error with parsing mags html"
     ]
    },
    {
     "name": "stderr",
     "output_type": "stream",
     "text": [
      "\r",
      " 91%|█████████ | 860/946 [5:08:19<03:27,  2.41s/it]"
     ]
    },
    {
     "name": "stdout",
     "output_type": "stream",
     "text": [
      "\n",
      "http://www.univie.ac.at/webda/cgi-bin/frame_data_list.cgi?ru118+ubvpg+ubv.pgo\n",
      "Retrieval error. Skipping ru118\n",
      "ru119\n",
      "error with parsing mags html"
     ]
    },
    {
     "name": "stderr",
     "output_type": "stream",
     "text": [
      "\r",
      " 91%|█████████ | 861/946 [5:08:25<05:13,  3.68s/it]"
     ]
    },
    {
     "name": "stdout",
     "output_type": "stream",
     "text": [
      "\n",
      "http://www.univie.ac.at/webda/cgi-bin/frame_data_list.cgi?ru119+ubvpg+ubv.pgo\n",
      "Retrieval error. Skipping ru119\n",
      "ru125\n",
      "error with parsing mags html"
     ]
    },
    {
     "name": "stderr",
     "output_type": "stream",
     "text": [
      "\r",
      " 91%|█████████ | 862/946 [5:08:27<04:20,  3.10s/it]"
     ]
    },
    {
     "name": "stdout",
     "output_type": "stream",
     "text": [
      "\n",
      "http://www.univie.ac.at/webda/cgi-bin/frame_data_list.cgi?ru125+ubvpg+ubv.pgo\n",
      "Retrieval error. Skipping ru125\n",
      "ru127\n",
      "error with parsing mags html"
     ]
    },
    {
     "name": "stderr",
     "output_type": "stream",
     "text": [
      "\r",
      " 91%|█████████ | 863/946 [5:08:30<04:06,  2.98s/it]"
     ]
    },
    {
     "name": "stdout",
     "output_type": "stream",
     "text": [
      "\n",
      "http://www.univie.ac.at/webda/cgi-bin/frame_data_list.cgi?ru127+ubvpg+ubv.pgo\n",
      "Retrieval error. Skipping ru127\n",
      "ru131\n",
      "error with parsing mags html"
     ]
    },
    {
     "name": "stderr",
     "output_type": "stream",
     "text": [
      "\r",
      " 91%|█████████▏| 864/946 [5:08:31<03:30,  2.57s/it]"
     ]
    },
    {
     "name": "stdout",
     "output_type": "stream",
     "text": [
      "\n",
      "http://www.univie.ac.at/webda/cgi-bin/frame_data_list.cgi?ru131+ubvpg+ubv.pgo\n",
      "Retrieval error. Skipping ru131\n",
      "ru135\n",
      "error with parsing mags html"
     ]
    },
    {
     "name": "stderr",
     "output_type": "stream",
     "text": [
      "\r",
      " 91%|█████████▏| 865/946 [5:08:34<03:30,  2.60s/it]"
     ]
    },
    {
     "name": "stdout",
     "output_type": "stream",
     "text": [
      "\n",
      "http://www.univie.ac.at/webda/cgi-bin/frame_data_list.cgi?ru135+ubvpg+ubv.pgo\n",
      "Retrieval error. Skipping ru135\n",
      "ru137\n",
      "error with parsing mags html"
     ]
    },
    {
     "name": "stderr",
     "output_type": "stream",
     "text": [
      "\r",
      " 92%|█████████▏| 866/946 [5:08:40<04:55,  3.69s/it]"
     ]
    },
    {
     "name": "stdout",
     "output_type": "stream",
     "text": [
      "\n",
      "http://www.univie.ac.at/webda/cgi-bin/frame_data_list.cgi?ru137+ubvpg+ubv.pgo\n",
      "Retrieval error. Skipping ru137\n",
      "ru138\n",
      "error with parsing coords html"
     ]
    },
    {
     "name": "stderr",
     "output_type": "stream",
     "text": [
      "\r",
      " 92%|█████████▏| 867/946 [5:08:42<04:02,  3.07s/it]"
     ]
    },
    {
     "name": "stdout",
     "output_type": "stream",
     "text": [
      "\n",
      "http://www.univie.ac.at/webda/cgi-bin/frame_data_list.cgi?ru138+ad2k+ad2000.coo\n",
      "Retrieval error. Skipping ru138\n",
      "ru139\n",
      "error with parsing mags html"
     ]
    },
    {
     "name": "stderr",
     "output_type": "stream",
     "text": [
      "\r",
      " 92%|█████████▏| 868/946 [5:08:44<03:28,  2.68s/it]"
     ]
    },
    {
     "name": "stdout",
     "output_type": "stream",
     "text": [
      "\n",
      "http://www.univie.ac.at/webda/cgi-bin/frame_data_list.cgi?ru139+ubvpg+ubv.pgo\n",
      "Retrieval error. Skipping ru139\n",
      "ru140\n",
      "error with parsing mags html"
     ]
    },
    {
     "name": "stderr",
     "output_type": "stream",
     "text": [
      "\r",
      " 92%|█████████▏| 869/946 [5:08:50<04:41,  3.66s/it]"
     ]
    },
    {
     "name": "stdout",
     "output_type": "stream",
     "text": [
      "\n",
      "http://www.univie.ac.at/webda/cgi-bin/frame_data_list.cgi?ru140+ubvpg+ubv.pgo\n",
      "Retrieval error. Skipping ru140\n",
      "ru141\n",
      "error with parsing mags html"
     ]
    },
    {
     "name": "stderr",
     "output_type": "stream",
     "text": [
      "\r",
      " 92%|█████████▏| 870/946 [5:08:51<03:49,  3.02s/it]"
     ]
    },
    {
     "name": "stdout",
     "output_type": "stream",
     "text": [
      "\n",
      "http://www.univie.ac.at/webda/cgi-bin/frame_data_list.cgi?ru141+ubvpg+ubv.pgo\n",
      "Retrieval error. Skipping ru141\n",
      "ru142\n",
      "error with parsing coords html"
     ]
    },
    {
     "name": "stderr",
     "output_type": "stream",
     "text": [
      "\r",
      " 92%|█████████▏| 871/946 [5:08:54<03:51,  3.08s/it]"
     ]
    },
    {
     "name": "stdout",
     "output_type": "stream",
     "text": [
      "\n",
      "http://www.univie.ac.at/webda/cgi-bin/frame_data_list.cgi?ru142+ad2k+ad2000.coo\n",
      "Retrieval error. Skipping ru142\n",
      "ru145\n",
      "error with parsing mags html"
     ]
    },
    {
     "name": "stderr",
     "output_type": "stream",
     "text": [
      "\r",
      " 92%|█████████▏| 872/946 [5:08:56<03:24,  2.77s/it]"
     ]
    },
    {
     "name": "stdout",
     "output_type": "stream",
     "text": [
      "\n",
      "http://www.univie.ac.at/webda/cgi-bin/frame_data_list.cgi?ru145+ubvpg+ubv.pgo\n",
      "Retrieval error. Skipping ru145\n",
      "ru147\n",
      "error with parsing mags html"
     ]
    },
    {
     "name": "stderr",
     "output_type": "stream",
     "text": [
      "\r",
      " 92%|█████████▏| 873/946 [5:09:02<04:24,  3.62s/it]"
     ]
    },
    {
     "name": "stdout",
     "output_type": "stream",
     "text": [
      "\n",
      "http://www.univie.ac.at/webda/cgi-bin/frame_data_list.cgi?ru147+ubvpg+ubv.pgo\n",
      "Retrieval error. Skipping ru147\n",
      "ru151\n",
      "error with parsing mags html"
     ]
    },
    {
     "name": "stderr",
     "output_type": "stream",
     "text": [
      "\r",
      " 92%|█████████▏| 874/946 [5:09:04<03:38,  3.04s/it]"
     ]
    },
    {
     "name": "stdout",
     "output_type": "stream",
     "text": [
      "\n",
      "http://www.univie.ac.at/webda/cgi-bin/frame_data_list.cgi?ru151+ubvpg+ubv.pgo\n",
      "Retrieval error. Skipping ru151\n",
      "ru158\n",
      "error with parsing mags html"
     ]
    },
    {
     "name": "stderr",
     "output_type": "stream",
     "text": [
      "\r",
      " 92%|█████████▏| 875/946 [5:09:24<09:53,  8.36s/it]"
     ]
    },
    {
     "name": "stdout",
     "output_type": "stream",
     "text": [
      "\n",
      "http://www.univie.ac.at/webda/cgi-bin/frame_data_list.cgi?ru158+ubvpg+ubv.pgo\n",
      "Retrieval error. Skipping ru158\n",
      "ru161\n",
      "error with parsing mags html"
     ]
    },
    {
     "name": "stderr",
     "output_type": "stream",
     "text": [
      "\r",
      " 93%|█████████▎| 876/946 [5:09:27<07:33,  6.48s/it]"
     ]
    },
    {
     "name": "stdout",
     "output_type": "stream",
     "text": [
      "\n",
      "http://www.univie.ac.at/webda/cgi-bin/frame_data_list.cgi?ru161+ubvpg+ubv.pgo\n",
      "Retrieval error. Skipping ru161\n",
      "ru166\n",
      "error with parsing mags html"
     ]
    },
    {
     "name": "stderr",
     "output_type": "stream",
     "text": [
      "\r",
      " 93%|█████████▎| 877/946 [5:09:28<05:43,  4.98s/it]"
     ]
    },
    {
     "name": "stdout",
     "output_type": "stream",
     "text": [
      "\n",
      "http://www.univie.ac.at/webda/cgi-bin/frame_data_list.cgi?ru166+ubvpg+ubv.pgo\n",
      "Retrieval error. Skipping ru166\n",
      "ru167\n",
      "error with parsing mags html"
     ]
    },
    {
     "name": "stderr",
     "output_type": "stream",
     "text": [
      "\r",
      " 93%|█████████▎| 878/946 [5:09:30<04:31,  3.99s/it]"
     ]
    },
    {
     "name": "stdout",
     "output_type": "stream",
     "text": [
      "\n",
      "http://www.univie.ac.at/webda/cgi-bin/frame_data_list.cgi?ru167+ubvpg+ubv.pgo\n",
      "Retrieval error. Skipping ru167\n",
      "ru168\n",
      "error with parsing coords html"
     ]
    },
    {
     "name": "stderr",
     "output_type": "stream",
     "text": [
      "\r",
      " 93%|█████████▎| 879/946 [5:09:33<04:22,  3.91s/it]"
     ]
    },
    {
     "name": "stdout",
     "output_type": "stream",
     "text": [
      "\n",
      "http://www.univie.ac.at/webda/cgi-bin/frame_data_list.cgi?ru168+ad2k+ad2000.coo\n",
      "Retrieval error. Skipping ru168\n",
      "ru169\n",
      "error with parsing coords html"
     ]
    },
    {
     "name": "stderr",
     "output_type": "stream",
     "text": [
      "\r",
      " 93%|█████████▎| 880/946 [5:09:36<03:59,  3.63s/it]"
     ]
    },
    {
     "name": "stdout",
     "output_type": "stream",
     "text": [
      "\n",
      "http://www.univie.ac.at/webda/cgi-bin/frame_data_list.cgi?ru169+ad2k+ad2000.coo\n",
      "Retrieval error. Skipping ru169\n",
      "ru171\n",
      "error with parsing coords html"
     ]
    },
    {
     "name": "stderr",
     "output_type": "stream",
     "text": [
      "\r",
      " 93%|█████████▎| 881/946 [5:09:39<03:38,  3.37s/it]"
     ]
    },
    {
     "name": "stdout",
     "output_type": "stream",
     "text": [
      "\n",
      "http://www.univie.ac.at/webda/cgi-bin/frame_data_list.cgi?ru171+ad2k+ad2000.coo\n",
      "Retrieval error. Skipping ru171\n",
      "ru172\n",
      "error with parsing mags html"
     ]
    },
    {
     "name": "stderr",
     "output_type": "stream",
     "text": [
      "\r",
      " 93%|█████████▎| 882/946 [5:09:41<03:02,  2.85s/it]"
     ]
    },
    {
     "name": "stdout",
     "output_type": "stream",
     "text": [
      "\n",
      "http://www.univie.ac.at/webda/cgi-bin/frame_data_list.cgi?ru172+ubvpg+ubv.pgo\n",
      "Retrieval error. Skipping ru172\n",
      "sau01\n",
      "error with parsing mags html"
     ]
    },
    {
     "name": "stderr",
     "output_type": "stream",
     "text": [
      "\r",
      " 93%|█████████▎| 883/946 [5:09:42<02:33,  2.44s/it]"
     ]
    },
    {
     "name": "stdout",
     "output_type": "stream",
     "text": [
      "\n",
      "http://www.univie.ac.at/webda/cgi-bin/frame_data_list.cgi?sau01+ubvpg+ubv.pgo\n",
      "Retrieval error. Skipping sau01\n",
      "sha138\n",
      "error with parsing coords html"
     ]
    },
    {
     "name": "stderr",
     "output_type": "stream",
     "text": [
      "\r",
      " 93%|█████████▎| 884/946 [5:09:43<02:00,  1.94s/it]"
     ]
    },
    {
     "name": "stdout",
     "output_type": "stream",
     "text": [
      "\n",
      "http://www.univie.ac.at/webda/cgi-bin/frame_data_list.cgi?sha138+ad2k+ad2000.coo\n",
      "Retrieval error. Skipping sha138\n",
      "sho01\n",
      "error with parsing mags html"
     ]
    },
    {
     "name": "stderr",
     "output_type": "stream",
     "text": [
      "\r",
      " 94%|█████████▎| 885/946 [5:10:32<16:18, 16.05s/it]"
     ]
    },
    {
     "name": "stdout",
     "output_type": "stream",
     "text": [
      "\n",
      "http://www.univie.ac.at/webda/cgi-bin/frame_data_list.cgi?sho01+ubvpg+ubv.pgo\n",
      "Retrieval error. Skipping sho01\n",
      "ski02\n",
      "error with parsing mags html"
     ]
    },
    {
     "name": "stderr",
     "output_type": "stream",
     "text": [
      "\r",
      " 94%|█████████▎| 886/946 [5:10:34<11:56, 11.94s/it]"
     ]
    },
    {
     "name": "stdout",
     "output_type": "stream",
     "text": [
      "\n",
      "http://www.univie.ac.at/webda/cgi-bin/frame_data_list.cgi?ski02+ubvpg+ubv.pgo\n",
      "Retrieval error. Skipping ski02\n",
      "st01\n",
      "error with parsing mags html"
     ]
    },
    {
     "name": "stderr",
     "output_type": "stream",
     "text": [
      "\r",
      " 94%|█████████▍| 887/946 [5:10:37<08:56,  9.10s/it]"
     ]
    },
    {
     "name": "stdout",
     "output_type": "stream",
     "text": [
      "\n",
      "http://www.univie.ac.at/webda/cgi-bin/frame_data_list.cgi?st01+ubvpg+ubv.pgo\n",
      "Retrieval error. Skipping st01\n",
      "st02\n",
      "error with parsing coords html"
     ]
    },
    {
     "name": "stderr",
     "output_type": "stream",
     "text": [
      "\r",
      " 94%|█████████▍| 888/946 [5:10:38<06:31,  6.74s/it]"
     ]
    },
    {
     "name": "stdout",
     "output_type": "stream",
     "text": [
      "\n",
      "http://www.univie.ac.at/webda/cgi-bin/frame_data_list.cgi?st02+ad2k+ad2000.coo\n",
      "Retrieval error. Skipping st02\n",
      "st04\n",
      "error with parsing mags html"
     ]
    },
    {
     "name": "stderr",
     "output_type": "stream",
     "text": [
      "\r",
      " 94%|█████████▍| 889/946 [5:10:40<04:59,  5.26s/it]"
     ]
    },
    {
     "name": "stdout",
     "output_type": "stream",
     "text": [
      "\n",
      "http://www.univie.ac.at/webda/cgi-bin/frame_data_list.cgi?st04+ubvpg+ubv.pgo\n",
      "Retrieval error. Skipping st04\n",
      "st05\n",
      "error with parsing mags html"
     ]
    },
    {
     "name": "stderr",
     "output_type": "stream",
     "text": [
      "\r",
      " 94%|█████████▍| 890/946 [5:10:42<03:53,  4.18s/it]"
     ]
    },
    {
     "name": "stdout",
     "output_type": "stream",
     "text": [
      "\n",
      "http://www.univie.ac.at/webda/cgi-bin/frame_data_list.cgi?st05+ubvpg+ubv.pgo\n",
      "Retrieval error. Skipping st05\n",
      "st07\n",
      "st07 13\n",
      "Data retrived, starting pbsearch\n",
      "('searched for a subset of ', 13, 'Coords against 2mass list of', 9073309)"
     ]
    },
    {
     "name": "stderr",
     "output_type": "stream",
     "text": [
      "\r",
      " 94%|█████████▍| 891/946 [5:10:49<04:35,  5.01s/it]"
     ]
    },
    {
     "name": "stdout",
     "output_type": "stream",
     "text": [
      "\n",
      "('Coord matches: ', 0, 'with a tolerance of ', 0.005556)\n",
      "No matches. Skipping st07\n",
      "st08\n",
      "error with parsing mags html"
     ]
    },
    {
     "name": "stderr",
     "output_type": "stream",
     "text": [
      "\r",
      " 94%|█████████▍| 892/946 [5:11:40<17:05, 18.99s/it]"
     ]
    },
    {
     "name": "stdout",
     "output_type": "stream",
     "text": [
      "\n",
      "http://www.univie.ac.at/webda/cgi-bin/frame_data_list.cgi?st08+ubvpg+ubv.pgo\n",
      "Retrieval error. Skipping st08\n",
      "st10\n",
      "error with parsing mags html"
     ]
    },
    {
     "name": "stderr",
     "output_type": "stream",
     "text": [
      "\r",
      " 94%|█████████▍| 893/946 [5:11:42<12:12, 13.81s/it]"
     ]
    },
    {
     "name": "stdout",
     "output_type": "stream",
     "text": [
      "\n",
      "http://www.univie.ac.at/webda/cgi-bin/frame_data_list.cgi?st10+ubvpg+ubv.pgo\n",
      "Retrieval error. Skipping st10\n",
      "st12\n",
      "error with parsing mags html"
     ]
    },
    {
     "name": "stderr",
     "output_type": "stream",
     "text": [
      "\r",
      " 95%|█████████▍| 894/946 [5:11:44<08:51, 10.22s/it]"
     ]
    },
    {
     "name": "stdout",
     "output_type": "stream",
     "text": [
      "\n",
      "http://www.univie.ac.at/webda/cgi-bin/frame_data_list.cgi?st12+ubvpg+ubv.pgo\n",
      "Retrieval error. Skipping st12\n",
      "st13\n",
      "error with parsing mags html"
     ]
    },
    {
     "name": "stderr",
     "output_type": "stream",
     "text": [
      "\r",
      " 95%|█████████▍| 895/946 [5:11:52<08:07,  9.55s/it]"
     ]
    },
    {
     "name": "stdout",
     "output_type": "stream",
     "text": [
      "\n",
      "http://www.univie.ac.at/webda/cgi-bin/frame_data_list.cgi?st13+ubvpg+ubv.pgo\n",
      "Retrieval error. Skipping st13\n",
      "st14\n",
      "error with parsing mags html"
     ]
    },
    {
     "name": "stderr",
     "output_type": "stream",
     "text": [
      "\r",
      " 95%|█████████▍| 896/946 [5:11:56<06:33,  7.88s/it]"
     ]
    },
    {
     "name": "stdout",
     "output_type": "stream",
     "text": [
      "\n",
      "http://www.univie.ac.at/webda/cgi-bin/frame_data_list.cgi?st14+ubvpg+ubv.pgo\n",
      "Retrieval error. Skipping st14\n",
      "st16\n",
      "error with parsing mags html"
     ]
    },
    {
     "name": "stderr",
     "output_type": "stream",
     "text": [
      "\r",
      " 95%|█████████▍| 897/946 [5:12:07<07:15,  8.89s/it]"
     ]
    },
    {
     "name": "stdout",
     "output_type": "stream",
     "text": [
      "\n",
      "http://www.univie.ac.at/webda/cgi-bin/frame_data_list.cgi?st16+ubvpg+ubv.pgo\n",
      "Retrieval error. Skipping st16\n",
      "st17\n",
      "error with parsing mags html"
     ]
    },
    {
     "name": "stderr",
     "output_type": "stream",
     "text": [
      "\r",
      " 95%|█████████▍| 898/946 [5:12:08<05:21,  6.70s/it]"
     ]
    },
    {
     "name": "stdout",
     "output_type": "stream",
     "text": [
      "\n",
      "http://www.univie.ac.at/webda/cgi-bin/frame_data_list.cgi?st17+ubvpg+ubv.pgo\n",
      "Retrieval error. Skipping st17\n",
      "st18\n",
      "error with parsing coords html"
     ]
    },
    {
     "name": "stderr",
     "output_type": "stream",
     "text": [
      "\r",
      " 95%|█████████▌| 899/946 [5:12:13<04:46,  6.09s/it]"
     ]
    },
    {
     "name": "stdout",
     "output_type": "stream",
     "text": [
      "\n",
      "http://www.univie.ac.at/webda/cgi-bin/frame_data_list.cgi?st18+ad2k+ad2000.coo\n",
      "Retrieval error. Skipping st18\n",
      "st20\n",
      "error with parsing mags html"
     ]
    },
    {
     "name": "stderr",
     "output_type": "stream",
     "text": [
      "\r",
      " 95%|█████████▌| 900/946 [5:12:15<03:39,  4.78s/it]"
     ]
    },
    {
     "name": "stdout",
     "output_type": "stream",
     "text": [
      "\n",
      "http://www.univie.ac.at/webda/cgi-bin/frame_data_list.cgi?st20+ubvpg+ubv.pgo\n",
      "Retrieval error. Skipping st20\n",
      "st21\n",
      "error with parsing mags html"
     ]
    },
    {
     "name": "stderr",
     "output_type": "stream",
     "text": [
      "\r",
      " 95%|█████████▌| 901/946 [5:12:17<02:52,  3.84s/it]"
     ]
    },
    {
     "name": "stdout",
     "output_type": "stream",
     "text": [
      "\n",
      "http://www.univie.ac.at/webda/cgi-bin/frame_data_list.cgi?st21+ubvpg+ubv.pgo\n",
      "Retrieval error. Skipping st21\n",
      "st23\n",
      "error with parsing mags html"
     ]
    },
    {
     "name": "stderr",
     "output_type": "stream",
     "text": [
      "\r",
      " 95%|█████████▌| 902/946 [5:12:18<02:21,  3.21s/it]"
     ]
    },
    {
     "name": "stdout",
     "output_type": "stream",
     "text": [
      "\n",
      "http://www.univie.ac.at/webda/cgi-bin/frame_data_list.cgi?st23+ubvpg+ubv.pgo\n",
      "Retrieval error. Skipping st23\n",
      "ste01\n",
      "ste01 134\n",
      "Data retrived, starting pbsearch\n",
      "('searched for a subset of ', 96, 'Coords against 2mass list of', 9073309)"
     ]
    },
    {
     "name": "stderr",
     "output_type": "stream",
     "text": [
      "\r",
      " 95%|█████████▌| 903/946 [5:13:01<10:47, 15.05s/it]"
     ]
    },
    {
     "name": "stdout",
     "output_type": "stream",
     "text": [
      "\n",
      "('Coord matches: ', 0, 'with a tolerance of ', 0.005556)\n",
      "No matches. Skipping ste01\n",
      "to01\n",
      "error with parsing mags html"
     ]
    },
    {
     "name": "stderr",
     "output_type": "stream",
     "text": [
      "\r",
      " 96%|█████████▌| 904/946 [5:13:03<07:44, 11.06s/it]"
     ]
    },
    {
     "name": "stdout",
     "output_type": "stream",
     "text": [
      "\n",
      "http://www.univie.ac.at/webda/cgi-bin/frame_data_list.cgi?to01+ubvpg+ubv.pgo\n",
      "Retrieval error. Skipping to01\n",
      "to02\n",
      "error with parsing mags html"
     ]
    },
    {
     "name": "stderr",
     "output_type": "stream",
     "text": [
      "\r",
      " 96%|█████████▌| 905/946 [5:13:05<05:41,  8.33s/it]"
     ]
    },
    {
     "name": "stdout",
     "output_type": "stream",
     "text": [
      "\n",
      "http://www.univie.ac.at/webda/cgi-bin/frame_data_list.cgi?to02+ubvpg+ubv.pgo\n",
      "Retrieval error. Skipping to02\n",
      "to04\n",
      "error with parsing mags html"
     ]
    },
    {
     "name": "stderr",
     "output_type": "stream",
     "text": [
      "\r",
      " 96%|█████████▌| 906/946 [5:13:09<04:44,  7.11s/it]"
     ]
    },
    {
     "name": "stdout",
     "output_type": "stream",
     "text": [
      "\n",
      "http://www.univie.ac.at/webda/cgi-bin/frame_data_list.cgi?to04+ubvpg+ubv.pgo\n",
      "Retrieval error. Skipping to04\n",
      "to05\n",
      "error with parsing mags html"
     ]
    },
    {
     "name": "stderr",
     "output_type": "stream",
     "text": [
      "\r",
      " 96%|█████████▌| 907/946 [5:13:33<07:51, 12.08s/it]"
     ]
    },
    {
     "name": "stdout",
     "output_type": "stream",
     "text": [
      "\n",
      "http://www.univie.ac.at/webda/cgi-bin/frame_data_list.cgi?to05+ubvpg+ubv.pgo\n",
      "Retrieval error. Skipping to05\n",
      "tr01\n",
      "tr01 15\n",
      "Data retrived, starting pbsearch\n",
      "('searched for a subset of ', 15, 'Coords against 2mass list of', 9073309)"
     ]
    },
    {
     "name": "stderr",
     "output_type": "stream",
     "text": [
      "\r",
      " 96%|█████████▌| 908/946 [5:13:41<06:53, 10.89s/it]"
     ]
    },
    {
     "name": "stdout",
     "output_type": "stream",
     "text": [
      "\n",
      "('Coord matches: ', 0, 'with a tolerance of ', 0.005556)\n",
      "No matches. Skipping tr01\n",
      "tr02\n",
      "tr02 27\n",
      "Data retrived, starting pbsearch\n",
      "('searched for a subset of ', 27, 'Coords against 2mass list of', 9073309)"
     ]
    },
    {
     "name": "stderr",
     "output_type": "stream",
     "text": [
      "\r",
      " 96%|█████████▌| 909/946 [5:13:54<07:06, 11.53s/it]"
     ]
    },
    {
     "name": "stdout",
     "output_type": "stream",
     "text": [
      "\n",
      "('Coord matches: ', 0, 'with a tolerance of ', 0.005556)\n",
      "No matches. Skipping tr02\n",
      "tr03\n",
      "error with parsing mags html"
     ]
    },
    {
     "name": "stderr",
     "output_type": "stream",
     "text": [
      "\r",
      " 96%|█████████▌| 910/946 [5:15:13<19:06, 31.86s/it]"
     ]
    },
    {
     "name": "stdout",
     "output_type": "stream",
     "text": [
      "\n",
      "http://www.univie.ac.at/webda/cgi-bin/frame_data_list.cgi?tr03+ubvpg+ubv.pgo\n",
      "Retrieval error. Skipping tr03\n",
      "tr07\n",
      "error with parsing mags html"
     ]
    },
    {
     "name": "stderr",
     "output_type": "stream",
     "text": [
      "\r",
      " 96%|█████████▋| 911/946 [5:15:16<13:27, 23.06s/it]"
     ]
    },
    {
     "name": "stdout",
     "output_type": "stream",
     "text": [
      "\n",
      "http://www.univie.ac.at/webda/cgi-bin/frame_data_list.cgi?tr07+ubvpg+ubv.pgo\n",
      "Retrieval error. Skipping tr07\n",
      "tr09\n",
      "tr09 28\n",
      "Data retrived, starting pbsearch\n",
      "('searched for a subset of ', 28, 'Coords against 2mass list of', 9073309)"
     ]
    },
    {
     "name": "stderr",
     "output_type": "stream",
     "text": [
      "\r",
      " 96%|█████████▋| 912/946 [5:15:29<11:26, 20.18s/it]"
     ]
    },
    {
     "name": "stdout",
     "output_type": "stream",
     "text": [
      "\n",
      "('Coord matches: ', 0, 'with a tolerance of ', 0.005556)\n",
      "No matches. Skipping tr09\n",
      "tr10\n",
      "error with parsing mags html"
     ]
    },
    {
     "name": "stderr",
     "output_type": "stream",
     "text": [
      "\r",
      " 97%|█████████▋| 913/946 [5:15:31<08:06, 14.75s/it]"
     ]
    },
    {
     "name": "stdout",
     "output_type": "stream",
     "text": [
      "\n",
      "http://www.univie.ac.at/webda/cgi-bin/frame_data_list.cgi?tr10+ubvpg+ubv.pgo\n",
      "Retrieval error. Skipping tr10\n",
      "tr12\n",
      "error with parsing mags html"
     ]
    },
    {
     "name": "stderr",
     "output_type": "stream",
     "text": [
      "\r",
      " 97%|█████████▋| 914/946 [5:15:33<05:46, 10.81s/it]"
     ]
    },
    {
     "name": "stdout",
     "output_type": "stream",
     "text": [
      "\n",
      "http://www.univie.ac.at/webda/cgi-bin/frame_data_list.cgi?tr12+ubvpg+ubv.pgo\n",
      "Retrieval error. Skipping tr12\n",
      "tr14\n",
      "tr14 80\n",
      "Data retrived, starting pbsearch\n",
      "('searched for a subset of ', 80, 'Coords against 2mass list of', 9073309)"
     ]
    },
    {
     "name": "stderr",
     "output_type": "stream",
     "text": [
      "\r",
      " 97%|█████████▋| 915/946 [5:16:09<09:27, 18.32s/it]"
     ]
    },
    {
     "name": "stdout",
     "output_type": "stream",
     "text": [
      "\n",
      "('Coord matches: ', 0, 'with a tolerance of ', 0.005556)\n",
      "No matches. Skipping tr14\n",
      "tr15\n",
      "tr15 52\n",
      "Data retrived, starting pbsearch\n",
      "('searched for a subset of ', 52, 'Coords against 2mass list of', 9073309)"
     ]
    },
    {
     "name": "stderr",
     "output_type": "stream",
     "text": [
      "\r",
      " 97%|█████████▋| 916/946 [5:16:34<10:17, 20.57s/it]"
     ]
    },
    {
     "name": "stdout",
     "output_type": "stream",
     "text": [
      "\n",
      "('Coord matches: ', 0, 'with a tolerance of ', 0.005556)\n",
      "No matches. Skipping tr15\n",
      "tr16\n",
      "error with parsing mags html"
     ]
    },
    {
     "name": "stderr",
     "output_type": "stream",
     "text": [
      "\r",
      " 97%|█████████▋| 917/946 [5:16:38<07:32, 15.62s/it]"
     ]
    },
    {
     "name": "stdout",
     "output_type": "stream",
     "text": [
      "\n",
      "http://www.univie.ac.at/webda/cgi-bin/frame_data_list.cgi?tr16+ubvpg+ubv.pgo\n",
      "Retrieval error. Skipping tr16\n",
      "tr17\n",
      "tr17 11\n",
      "Data retrived, starting pbsearch\n",
      "('searched for a subset of ', 11, 'Coords against 2mass list of', 9073309)"
     ]
    },
    {
     "name": "stderr",
     "output_type": "stream",
     "text": [
      "\r",
      " 97%|█████████▋| 918/946 [5:16:45<05:58, 12.80s/it]"
     ]
    },
    {
     "name": "stdout",
     "output_type": "stream",
     "text": [
      "\n",
      "('Coord matches: ', 0, 'with a tolerance of ', 0.005556)\n",
      "No matches. Skipping tr17\n",
      "tr18\n",
      "tr18 237\n",
      "Data retrived, starting pbsearch\n",
      "('searched for a subset of ', 83, 'Coords against 2mass list of', 9073309)"
     ]
    },
    {
     "name": "stderr",
     "output_type": "stream",
     "text": [
      "\r",
      " 97%|█████████▋| 919/946 [5:17:49<12:39, 28.12s/it]"
     ]
    },
    {
     "name": "stdout",
     "output_type": "stream",
     "text": [
      "\n",
      "('Coord matches: ', 0, 'with a tolerance of ', 0.005556)\n",
      "No matches. Skipping tr18\n",
      "tr20\n",
      "error with parsing coords html"
     ]
    },
    {
     "name": "stderr",
     "output_type": "stream",
     "text": [
      "\r",
      " 97%|█████████▋| 920/946 [5:18:24<13:09, 30.38s/it]"
     ]
    },
    {
     "name": "stdout",
     "output_type": "stream",
     "text": [
      "\n",
      "http://www.univie.ac.at/webda/cgi-bin/frame_data_list.cgi?tr20+ad2k+ad2000.coo\n",
      "Retrieval error. Skipping tr20\n",
      "tr21\n",
      "error with parsing mags html"
     ]
    },
    {
     "name": "stderr",
     "output_type": "stream",
     "text": [
      "\r",
      " 97%|█████████▋| 921/946 [5:18:27<09:12, 22.08s/it]"
     ]
    },
    {
     "name": "stdout",
     "output_type": "stream",
     "text": [
      "\n",
      "http://www.univie.ac.at/webda/cgi-bin/frame_data_list.cgi?tr21+ubvpg+ubv.pgo\n",
      "Retrieval error. Skipping tr21\n",
      "tr22\n",
      "tr22 71\n",
      "Data retrived, starting pbsearch\n",
      "('searched for a subset of ', 71, 'Coords against 2mass list of', 9073309)"
     ]
    },
    {
     "name": "stderr",
     "output_type": "stream",
     "text": [
      "\r",
      " 97%|█████████▋| 922/946 [5:18:58<09:56, 24.84s/it]"
     ]
    },
    {
     "name": "stdout",
     "output_type": "stream",
     "text": [
      "\n",
      "('Coord matches: ', 0, 'with a tolerance of ', 0.005556)\n",
      "No matches. Skipping tr22\n",
      "tr24\n",
      "tr24 296\n",
      "Data retrived, starting pbsearch\n",
      "('searched for a subset of ', 249, 'Coords against 2mass list of', 9073309)"
     ]
    },
    {
     "name": "stderr",
     "output_type": "stream",
     "text": [
      "\r",
      " 98%|█████████▊| 923/946 [5:20:45<18:53, 49.29s/it]"
     ]
    },
    {
     "name": "stdout",
     "output_type": "stream",
     "text": [
      "\n",
      "('Coord matches: ', 0, 'with a tolerance of ', 0.005556)\n",
      "No matches. Skipping tr24\n",
      "tr26\n",
      "tr26 41\n",
      "Data retrived, starting pbsearch\n",
      "('searched for a subset of ', 41, 'Coords against 2mass list of', 9073309)"
     ]
    },
    {
     "name": "stderr",
     "output_type": "stream",
     "text": [
      "\r",
      " 98%|█████████▊| 924/946 [5:21:03<14:42, 40.11s/it]"
     ]
    },
    {
     "name": "stdout",
     "output_type": "stream",
     "text": [
      "\n",
      "('Coord matches: ', 0, 'with a tolerance of ', 0.005556)\n",
      "No matches. Skipping tr26\n",
      "tr27\n",
      "tr27 48\n",
      "Data retrived, starting pbsearch\n",
      "('searched for a subset of ', 38, 'Coords against 2mass list of', 9073309)"
     ]
    },
    {
     "name": "stderr",
     "output_type": "stream",
     "text": [
      "\r",
      " 98%|█████████▊| 925/946 [5:21:21<11:41, 33.42s/it]"
     ]
    },
    {
     "name": "stdout",
     "output_type": "stream",
     "text": [
      "\n",
      "('Coord matches: ', 0, 'with a tolerance of ', 0.005556)\n",
      "No matches. Skipping tr27\n",
      "tr28\n",
      "tr28 123\n",
      "Data retrived, starting pbsearch\n",
      "('searched for a subset of ', 82, 'Coords against 2mass list of', 9073309)"
     ]
    },
    {
     "name": "stderr",
     "output_type": "stream",
     "text": [
      "\r",
      " 98%|█████████▊| 926/946 [5:21:58<11:30, 34.54s/it]"
     ]
    },
    {
     "name": "stdout",
     "output_type": "stream",
     "text": [
      "\n",
      "('Coord matches: ', 0, 'with a tolerance of ', 0.005556)\n",
      "No matches. Skipping tr28\n",
      "tr29\n",
      "error with parsing mags html"
     ]
    },
    {
     "name": "stderr",
     "output_type": "stream",
     "text": [
      "\r",
      " 98%|█████████▊| 927/946 [5:22:00<07:49, 24.70s/it]"
     ]
    },
    {
     "name": "stdout",
     "output_type": "stream",
     "text": [
      "\n",
      "http://www.univie.ac.at/webda/cgi-bin/frame_data_list.cgi?tr29+ubvpg+ubv.pgo\n",
      "Retrieval error. Skipping tr29\n",
      "tr30\n",
      "error with parsing mags html"
     ]
    },
    {
     "name": "stderr",
     "output_type": "stream",
     "text": [
      "\r",
      " 98%|█████████▊| 928/946 [5:22:02<05:20, 17.81s/it]"
     ]
    },
    {
     "name": "stdout",
     "output_type": "stream",
     "text": [
      "\n",
      "http://www.univie.ac.at/webda/cgi-bin/frame_data_list.cgi?tr30+ubvpg+ubv.pgo\n",
      "Retrieval error. Skipping tr30\n",
      "tr31\n",
      "error with parsing mags html"
     ]
    },
    {
     "name": "stderr",
     "output_type": "stream",
     "text": [
      "\r",
      " 98%|█████████▊| 929/946 [5:22:03<03:40, 12.99s/it]"
     ]
    },
    {
     "name": "stdout",
     "output_type": "stream",
     "text": [
      "\n",
      "http://www.univie.ac.at/webda/cgi-bin/frame_data_list.cgi?tr31+ubvpg+ubv.pgo\n",
      "Retrieval error. Skipping tr31\n",
      "tr32\n",
      "error with parsing coords html"
     ]
    },
    {
     "name": "stderr",
     "output_type": "stream",
     "text": [
      "\r",
      " 98%|█████████▊| 930/946 [5:22:05<02:31,  9.50s/it]"
     ]
    },
    {
     "name": "stdout",
     "output_type": "stream",
     "text": [
      "\n",
      "http://www.univie.ac.at/webda/cgi-bin/frame_data_list.cgi?tr32+ad2k+ad2000.coo\n",
      "Retrieval error. Skipping tr32\n",
      "tr33\n",
      "error with parsing mags html"
     ]
    },
    {
     "name": "stderr",
     "output_type": "stream",
     "text": [
      "\r",
      " 98%|█████████▊| 931/946 [5:22:06<01:47,  7.16s/it]"
     ]
    },
    {
     "name": "stdout",
     "output_type": "stream",
     "text": [
      "\n",
      "http://www.univie.ac.at/webda/cgi-bin/frame_data_list.cgi?tr33+ubvpg+ubv.pgo\n",
      "Retrieval error. Skipping tr33\n",
      "tr34\n",
      "error with parsing mags html"
     ]
    },
    {
     "name": "stderr",
     "output_type": "stream",
     "text": [
      "\r",
      " 99%|█████████▊| 932/946 [5:22:12<01:33,  6.67s/it]"
     ]
    },
    {
     "name": "stdout",
     "output_type": "stream",
     "text": [
      "\n",
      "http://www.univie.ac.at/webda/cgi-bin/frame_data_list.cgi?tr34+ubvpg+ubv.pgo\n",
      "Retrieval error. Skipping tr34\n",
      "tr35\n",
      "tr35"
     ]
    },
    {
     "name": "stderr",
     "output_type": "stream",
     "text": [
      "\r",
      " 99%|█████████▊| 933/946 [5:22:14<01:07,  5.17s/it]"
     ]
    },
    {
     "name": "stdout",
     "output_type": "stream",
     "text": [
      " 0\n",
      "Data retrived, starting pbsearch\n",
      "('searched for a subset of ', 0, 'Coords against 2mass list of', 9073309)\n",
      "('Coord matches: ', 0, 'with a tolerance of ', 0.005556)\n",
      "No matches. Skipping tr35\n",
      "tr37\n",
      "tr37"
     ]
    },
    {
     "name": "stderr",
     "output_type": "stream",
     "text": [
      "\r",
      " 99%|█████████▊| 934/946 [5:22:16<00:53,  4.44s/it]"
     ]
    },
    {
     "name": "stdout",
     "output_type": "stream",
     "text": [
      " 0\n",
      "Data retrived, starting pbsearch\n",
      "('searched for a subset of ', 0, 'Coords against 2mass list of', 9073309)\n",
      "('Coord matches: ', 0, 'with a tolerance of ', 0.005556)\n",
      "No matches. Skipping tr37\n",
      "tu01\n",
      "tu01 4\n",
      "Data retrived, starting pbsearch\n",
      "('searched for a subset of ', 4, 'Coords against 2mass list of', 9073309)"
     ]
    },
    {
     "name": "stderr",
     "output_type": "stream",
     "text": [
      "\r",
      " 99%|█████████▉| 935/946 [5:22:20<00:45,  4.17s/it]"
     ]
    },
    {
     "name": "stdout",
     "output_type": "stream",
     "text": [
      "\n",
      "('Coord matches: ', 0, 'with a tolerance of ', 0.005556)\n",
      "No matches. Skipping tu01\n",
      "tu02\n",
      "error with parsing mags html"
     ]
    },
    {
     "name": "stderr",
     "output_type": "stream",
     "text": [
      "\r",
      " 99%|█████████▉| 936/946 [5:22:31<01:02,  6.22s/it]"
     ]
    },
    {
     "name": "stdout",
     "output_type": "stream",
     "text": [
      "\n",
      "http://www.univie.ac.at/webda/cgi-bin/frame_data_list.cgi?tu02+ubvpg+ubv.pgo\n",
      "Retrieval error. Skipping tu02\n",
      "tu05\n",
      "error with parsing mags html"
     ]
    },
    {
     "name": "stderr",
     "output_type": "stream",
     "text": [
      "\r",
      " 99%|█████████▉| 937/946 [5:22:39<01:01,  6.79s/it]"
     ]
    },
    {
     "name": "stdout",
     "output_type": "stream",
     "text": [
      "\n",
      "http://www.univie.ac.at/webda/cgi-bin/frame_data_list.cgi?tu05+ubvpg+ubv.pgo\n",
      "Retrieval error. Skipping tu05\n",
      "tu09\n",
      "tu09 23\n",
      "Data retrived, starting pbsearch\n",
      "('searched for a subset of ', 23, 'Coords against 2mass list of', 9073309)"
     ]
    },
    {
     "name": "stderr",
     "output_type": "stream",
     "text": [
      "\r",
      " 99%|█████████▉| 938/946 [5:22:50<01:04,  8.12s/it]"
     ]
    },
    {
     "name": "stdout",
     "output_type": "stream",
     "text": [
      "\n",
      "('Coord matches: ', 0, 'with a tolerance of ', 0.005556)\n",
      "No matches. Skipping tu09\n",
      "up01\n",
      "error with parsing mags html"
     ]
    },
    {
     "name": "stderr",
     "output_type": "stream",
     "text": [
      "\r",
      " 99%|█████████▉| 939/946 [5:22:52<00:43,  6.18s/it]"
     ]
    },
    {
     "name": "stdout",
     "output_type": "stream",
     "text": [
      "\n",
      "http://www.univie.ac.at/webda/cgi-bin/frame_data_list.cgi?up01+ubvpg+ubv.pgo\n",
      "Retrieval error. Skipping up01\n",
      "vdb001\n",
      "vdb001"
     ]
    },
    {
     "name": "stderr",
     "output_type": "stream",
     "text": [
      "\r",
      " 99%|█████████▉| 940/946 [5:22:54<00:29,  4.85s/it]"
     ]
    },
    {
     "name": "stdout",
     "output_type": "stream",
     "text": [
      " 0\n",
      "Data retrived, starting pbsearch\n",
      "('searched for a subset of ', 0, 'Coords against 2mass list of', 9073309)\n",
      "('Coord matches: ', 0, 'with a tolerance of ', 0.005556)\n",
      "No matches. Skipping vdb001\n",
      "vdb092\n",
      "error with parsing mags html"
     ]
    },
    {
     "name": "stderr",
     "output_type": "stream",
     "text": [
      "\r",
      " 99%|█████████▉| 941/946 [5:22:55<00:19,  3.95s/it]"
     ]
    },
    {
     "name": "stdout",
     "output_type": "stream",
     "text": [
      "\n",
      "http://www.univie.ac.at/webda/cgi-bin/frame_data_list.cgi?vdb092+ubvpg+ubv.pgo\n",
      "Retrieval error. Skipping vdb092\n",
      "vdb113\n",
      "error with parsing mags html"
     ]
    },
    {
     "name": "stderr",
     "output_type": "stream",
     "text": [
      "\r",
      "100%|█████████▉| 942/946 [5:22:57<00:13,  3.35s/it]"
     ]
    },
    {
     "name": "stdout",
     "output_type": "stream",
     "text": [
      "\n",
      "http://www.univie.ac.at/webda/cgi-bin/frame_data_list.cgi?vdb113+ubvpg+ubv.pgo\n",
      "Retrieval error. Skipping vdb113\n",
      "wat06\n",
      "wat06 8\n",
      "Data retrived, starting pbsearch\n",
      "('searched for a subset of ', 8, 'Coords against 2mass list of', 9073309)"
     ]
    },
    {
     "name": "stderr",
     "output_type": "stream",
     "text": [
      "\r",
      "100%|█████████▉| 943/946 [5:23:02<00:11,  3.83s/it]"
     ]
    },
    {
     "name": "stdout",
     "output_type": "stream",
     "text": [
      "\n",
      "('Coord matches: ', 0, 'with a tolerance of ', 0.005556)\n",
      "No matches. Skipping wat06\n",
      "wat07\n",
      "wat07 3\n",
      "Data retrived, starting pbsearch\n",
      "('searched for a subset of ', 3, 'Coords against 2mass list of', 9073309)"
     ]
    },
    {
     "name": "stderr",
     "output_type": "stream",
     "text": [
      "\r",
      "100%|█████████▉| 944/946 [5:23:05<00:07,  3.57s/it]"
     ]
    },
    {
     "name": "stdout",
     "output_type": "stream",
     "text": [
      "\n",
      "('Coord matches: ', 0, 'with a tolerance of ', 0.005556)\n",
      "No matches. Skipping wat07\n",
      "wes01\n",
      "error with parsing mags html"
     ]
    },
    {
     "name": "stderr",
     "output_type": "stream",
     "text": [
      "\r",
      "100%|█████████▉| 945/946 [5:23:09<00:03,  3.50s/it]"
     ]
    },
    {
     "name": "stdout",
     "output_type": "stream",
     "text": [
      "\n",
      "http://www.univie.ac.at/webda/cgi-bin/frame_data_list.cgi?wes01+ubvpg+ubv.pgo\n",
      "Retrieval error. Skipping wes01\n",
      "wes02\n",
      "error with parsing mags html"
     ]
    },
    {
     "name": "stderr",
     "output_type": "stream",
     "text": [
      "                                                   "
     ]
    },
    {
     "name": "stdout",
     "output_type": "stream",
     "text": [
      "\n",
      "http://www.univie.ac.at/webda/cgi-bin/frame_data_list.cgi?wes02+ubvpg+ubv.pgo\n",
      "Retrieval error. Skipping wes02\n",
      "['bl01', 'bo15', 'ho18', 'ic4665', 'mel066', 'mel071', 'ngc1662', 'ngc2204', 'ngc2215', 'ngc2287', 'ngc2506', 'ngc2516', 'ngc2682', 'ngc6087', 'ngc6208', 'ngc6716']\n"
     ]
    },
    {
     "name": "stderr",
     "output_type": "stream",
     "text": [
      "\r"
     ]
    },
    {
     "data": {
      "image/png": "[encoded data removed]",
      "text/plain": [
       "<matplotlib.figure.Figure at 0x10e181668>"
      ]
     },
     "metadata": {},
     "output_type": "display_data"
    }
   ],
   "source": [
    "# loop this code over a lot of clusters\n",
    "\n",
    "names = coordnames\n",
    "tol = 0.005556\n",
    "coorddiff = []\n",
    "errnames = []\n",
    "for y in tqdm(np.arange(len(names))):\n",
    "\n",
    "    name = names[y]\n",
    "    print(name)\n",
    "\n",
    "    subsetid, subsetra, subsetdec, subsetmid, subsetvmag, subsetbv = getwebda(name)\n",
    "    if (subsetid) is None:\n",
    "        print(\"Retrieval error. Skipping\", name)\n",
    "        continue\n",
    "\n",
    "    print(name, len(subsetid))\n",
    "    subsetzip = list(zip(subsetra, subsetdec, subsetvmag, subsetbv, subsetmid,subsetid))\n",
    "    print(\"Data retrived, starting pbsearch\")\n",
    "    searched_ra, matched_ra = pbsearch(twomasszip, subsetzip, tol)\n",
    "    if len(searched_ra) == 0:\n",
    "        print(\"No matches. Skipping\", name)\n",
    "        continue\n",
    "\n",
    "    # take the euclidean distance between coordinates, magnitude, and color\n",
    "    a = [np.asarray(x[:4]) for x in searched_ra]\n",
    "    b = [np.asarray(x[:4]) for x in matched_ra]\n",
    "\n",
    "    dists = [np.linalg.norm(a[i]-b[i]) for i in np.arange(len(a))]\n",
    "    #plt.hist(dists, bins = 20)\n",
    "    #plt.show()\n",
    "\n",
    "\n",
    "    # find the repeat matches, and save those who have the lesser distance\n",
    "    # how do I quantify how sure I am the lesser one is the true one? \n",
    "    try:\n",
    "        matchedid = []\n",
    "        searchedid = []\n",
    "        d = []\n",
    "        for i in np.arange(len(matched_ra)):\n",
    "            matchedid.append(matched_ra[i][4])\n",
    "            searchedid.append(searched_ra[i][4])\n",
    "\n",
    "        tmp = []\n",
    "        for j in np.arange(len(searchedid)):\n",
    "            x = [i for i, y in enumerate(searchedid) if y == searchedid[j]]\n",
    "            tmp.append(x)\n",
    "\n",
    "        bar = []\n",
    "        for entry in np.unique(tmp):\n",
    "            if len(entry) > 1:\n",
    "                foo = [dists[x] for x in entry]\n",
    "                #print(entry, foo)\n",
    "                minindex = [i for i, j in enumerate(foo) if j == min(foo)]\n",
    "                minentry = entry[minindex[0]]\n",
    "                #print(minentry, dists[minentry])\n",
    "                bar.append(minentry)\n",
    "            else:\n",
    "                #print(entry, dists[entry[0]])\n",
    "                bar.append(entry[0])\n",
    "    except:\n",
    "        print(name, \"had no repeats\")\n",
    "        bar = np.arange(len(dists))\n",
    "\n",
    "    try:\n",
    "        # so bar has the closest ones and the non-repeated ones. How far away are these?\n",
    "        closest = np.asarray([dists[x] for x in bar])\n",
    "\n",
    "        # guess a high number of bins\n",
    "        bins = 20#14\n",
    "        data = py.hist(closest, bins = bins)\n",
    "\n",
    "        # is it too small? observed and expected frequencies should be at least 5: http://docs.scipy.org/doc/scipy-0.15.1/reference/generated/scipy.stats.chisquare.html\n",
    "        # grab number in each bin, check that most of them are above 5, otherwise decrease bin number and do it again\n",
    "        thresh = 0.7\n",
    "        toomanybins = len([x for x in data[0] if x >= 5])/len(data[0]) < thresh\n",
    "\n",
    "        while toomanybins:\n",
    "            bins = bins - 1\n",
    "            data = py.hist(closest, bins = bins)\n",
    "            toomanybins = len([x for x in data[0] if x >= 5])/len(data[0]) < thresh\n",
    "        if bins < 10:\n",
    "            bins = 10\n",
    "        print(\"using\",bins, \"bins\")\n",
    "        plt.close()\n",
    "\n",
    "        data = py.hist(closest, bins = bins)\n",
    "        # Generate data from bins as a set of points \n",
    "        x = [0.5 * (data[1][i] + data[1][i+1]) for i in range(len(data[1])-1)]\n",
    "        y = data[0]\n",
    "    except:\n",
    "        print(name, \"had error with histogram\")\n",
    "        errnames.append(name)\n",
    "        continue\n",
    "\n",
    "    try:\n",
    "        popt, pcov = optimize.curve_fit(gauss, x, y)\n",
    "    except:\n",
    "        print(name, \"had error with optimize.curve_fit\")\n",
    "        errnames.append(name)\n",
    "        continue\n",
    "    x_fit = py.linspace(x[0], x[-1], 100)\n",
    "    y_fit = gauss(x_fit, *popt)\n",
    "\n",
    "\n",
    "    plt.plot(x_fit, y_fit, lw=4, color=\"r\")\n",
    "\n",
    "    cx_fit = py.linspace(x[0], x[-1], len(x))\n",
    "    cy_fit = gauss(cx_fit, *popt)\n",
    "\n",
    "    # check degrees of freedom - number of bins I think\n",
    "    # does this give reduced chi squared? \n",
    "    # near 1 is a good fit\n",
    "    chi2 = (chisquare(f_obs=y,f_exp=cy_fit))\n",
    "    rchi2 = chi2[0]/(len(x)-3)\n",
    "    print(chi2, rchi2)\n",
    "    \n",
    "    \n",
    "    if not rchi2 or rchi2 > 6:\n",
    "        print(\"Error with reduced chi squared:\",rchi2, 'for', name)\n",
    "        errnames.append(name)\n",
    "        continue\n",
    "    \n",
    "    plt.xlabel('Angular distance, in degrees')\n",
    "    plt.ylabel('Number of Stars')\n",
    "    plt.title('Euclidean Distances \\n mu={0:.2e}, std={1:.2e}, rchi2:{2:.2e}, bins:{3}'.format(popt[1], popt[2], rchi2, bins))\n",
    "    plt.ticklabel_format(style='sci', axis='x', scilimits=(0,0))\n",
    "\n",
    "    # draw mean line\n",
    "    sx = [popt[1]]*(np.max(data[0]))\n",
    "    sy = np.arange(np.max(data[0]))\n",
    "    plt.plot(sx,sy, color=\"g\")\n",
    "    \n",
    "    # draw 1,2,3 sigma line\n",
    "    for i in [1,2,3]:  \n",
    "        sx = [popt[1]+popt[2]*i]*(np.max(data[0]))\n",
    "        sy = np.arange(np.max(data[0]))\n",
    "        plt.plot(sx,sy, color=\"r\")\n",
    "    plt.show()\n",
    "\n",
    "    # maybe just take the data w/i 1 sigma of the mean? \n",
    "\n",
    "    s = 1\n",
    "    coordmask = np.asarray([int(dist < (popt[1]+s*popt[2]) and dist > (popt[1]-s*popt[2])) for dist in dists])\n",
    "    print(\"selected\", sum(coordmask), \"from\",len(coordmask))\n",
    "    coordfiltered_searched_ra = np.asarray(searched_ra)[coordmask == 1]\n",
    "    coordfiltered_matched_ra = np.asarray(matched_ra)[coordmask == 1]\n",
    "\n",
    "\n",
    "\n",
    "    N = sum(coordmask)\n",
    "    if N > 0:\n",
    "\n",
    "        print(N, \"matches for\", name, \"for tolerance\", tol)\n",
    "        filename = \"filteredresults/\"+name+\"_wtol\"+str(tol)+\"_matched\"+str(N)+'.csv'\n",
    "        # subsetra, subsetdec, subsetvmag, subsetbv, subsetmid, subsetid\n",
    "        # twomass_ra, twomass_dec, twomass_vmag, twomass_bv, twomass_ident\n",
    "        header = [\"webdacoordid\", \"webdaras\", \"webdadecs\", \"webdamagid\", \"webdavmags\", \"webdabv\",\"galahids\", \"twomassras\", \"twomassdecs\", \"twomassvmags\", \"twomassbv\"]\n",
    "        with open(filename, 'w', newline='') as fp:\n",
    "            a = csv.writer(fp, delimiter=',')\n",
    "            a.writerow(header)\n",
    "            for i in np.arange(N):\n",
    "                data = [coordfiltered_searched_ra[i][5], coordfiltered_searched_ra[i][0], coordfiltered_searched_ra[i][1], coordfiltered_searched_ra[i][4], coordfiltered_searched_ra[i][2], coordfiltered_searched_ra[i][3], coordfiltered_matched_ra[i][4], coordfiltered_matched_ra[i][0], coordfiltered_matched_ra[i][1], coordfiltered_matched_ra[i][2], coordfiltered_matched_ra[i][3]]\n",
    "                a.writerow(data)\n",
    "    else:\n",
    "        print(\"No matches for\", name, \"for tolerance\", tol)\n",
    "        \n",
    "print(errnames)"
   ]
  },
  {
   "cell_type": "code",
   "execution_count": 8,
   "metadata": {
    "collapsed": false
   },
   "outputs": [
    {
     "data": {
      "text/plain": [
       "16"
      ]
     },
     "execution_count": 8,
     "metadata": {},
     "output_type": "execute_result"
    }
   ],
   "source": [
    "len(errnames)"
   ]
  },
  {
   "cell_type": "code",
   "execution_count": 179,
   "metadata": {
    "collapsed": false
   },
   "outputs": [
    {
     "name": "stdout",
     "output_type": "stream",
     "text": [
      "['filteredresults/ho18_wtol0.005556_matched3.csv', 'filteredresults/ic4651_wtol0.005556_matched234.csv', 'filteredresults/ic4665_wtol0.005556_matched32.csv', 'filteredresults/ic4756_wtol0.005556_matched81.csv', 'filteredresults/ngc2112_wtol0.005556_matched41.csv', 'filteredresults/ngc2112_wtol0.005556_matched43.csv', 'filteredresults/ngc2204_wtol0.005556_matched20.csv', 'filteredresults/ngc2215_wtol0.005556_matched12.csv', 'filteredresults/ngc2287_wtol0.005556_matched10.csv', 'filteredresults/ngc2354_wtol0.005556_matched40.csv', 'filteredresults/ngc2516_wtol0.005556_matched312.csv', 'filteredresults/ngc2516_wtol0.005556_matched314.csv', 'filteredresults/ngc3680_wtol0.005556_matched39.csv', 'filteredresults/ngc3960_wtol0.005556_matched38.csv', 'filteredresults/ngc6025_wtol0.005556_matched35.csv']\n"
     ]
    },
    {
     "data": {
      "text/plain": [
       "<matplotlib.text.Text at 0x12acd2be0>"
      ]
     },
     "execution_count": 179,
     "metadata": {},
     "output_type": "execute_result"
    },
    {
     "name": "stderr",
     "output_type": "stream",
     "text": [
      "/Users/mmcintosh/anaconda/lib/python3.4/site-packages/matplotlib/collections.py:590: FutureWarning: elementwise comparison failed; returning scalar instead, but in the future will perform elementwise comparison\n",
      "  if self._edgecolors == str('face'):\n"
     ]
    },
    {
     "data": {
      "image/png": "[encoded data removed]",
      "text/plain": [
       "<matplotlib.figure.Figure at 0x10e802668>"
      ]
     },
     "metadata": {},
     "output_type": "display_data"
    }
   ],
   "source": [
    "from astropy.io import ascii\n",
    "import astropy.coordinates as coord\n",
    "import glob\n",
    "\n",
    "\n",
    "files = glob.glob(\"filteredresults/*\")\n",
    "\n",
    "ra_arr = []\n",
    "dec_arr = []\n",
    "\n",
    "for file in files:\n",
    "    data = ascii.read(file, header_start=0, data_start=1)\n",
    "    ra = coord.Angle(data[\"twomassras\"]*u.degree)\n",
    "    ra = ra.wrap_at(180*u.degree)\n",
    "    ra = ra.radian\n",
    "    ra_arr.extend(ra)\n",
    "\n",
    "    dec = coord.Angle(data[\"twomassdecs\"]*u.degree)\n",
    "    dec = dec.radian\n",
    "    dec_arr.extend(dec)\n",
    "\n",
    "fig = plt.figure(figsize=(8,6))\n",
    "ax = fig.add_subplot(111, projection=\"mollweide\")\n",
    "ax.grid(True)\n",
    "ax.scatter(ra_arr, dec_arr)\n",
    "len(files)\n",
    "ax.set_title(\"All sky projection of matched GALAH inputs w/ Webda Data \\n {0} clusters plotted\".format(len(files)))"
   ]
  },
  {
   "cell_type": "code",
   "execution_count": null,
   "metadata": {
    "collapsed": true
   },
   "outputs": [],
   "source": [
    "# back up for webda, download files individually\n",
    "# Read in Webda observed Name, RA, and DEC information\n",
    "'''\n",
    "\n",
    "df = pd.read_csv('ad2000.coo', delimiter='\\t',index_col=False, header=1)\n",
    "df.columns = [\"ID\", \"ref\", \"RA\", \"DEC\"]\n",
    "\n",
    "\n",
    "coords = [coordconvert(ra, dec) for ra in df[\"RA\"] for dec in df[\"DEC\"]]\n",
    "subsetra = np.asarray([coord[0] for coord in coords])\n",
    "subsetdec = np.asarray([coord[1] for coord in coords])\n",
    "'''\n",
    "\n",
    "# Read in Gayandhi's 2Mass input database Name, RA, and DEC information\n",
    "# note this data is presorted by RA\n",
    "'''\n",
    "\n",
    "df = pd.read_csv('gsortedgal.csv', delimiter=',',index_col=False, header=0)\n",
    "df.columns = [\"ID\", \"RA\", \"DEC\"]\n",
    "\n",
    "# get rid of blank entries\n",
    "print(len(df))\n",
    "df = df.loc[(df != 0).any(1)]\n",
    "print(len(df))\n",
    "print(df.head())\n",
    "\n",
    "# assign to np arrays\n",
    "twomass_ident = np.asarray(df[\"ID\"])\n",
    "twomass_ra = np.asarray(df[\"RA\"])\n",
    "twomass_dec = np.asarray(df[\"DEC\"])\n",
    "\n",
    "'''\n",
    "\n",
    "# dias data\n",
    "'''\n",
    "\n",
    "# Read in DIAS \n",
    "# I didn't know an easy way to read in this file so this is very messy and hacked and slow and I apologize\n",
    "\n",
    "\n",
    "dias_data = np.genfromtxt('dias.txt', delimiter='\\t', names=None, dtype=None)\n",
    "dias_data = dias_data[1:]\n",
    "\n",
    "data = []\n",
    "subsetid = []\n",
    "subsetra = []\n",
    "subsetdec = []\n",
    "for line in dias_data:\n",
    " \n",
    "    line = line.decode('UTF-8')\n",
    "\n",
    "    line = (str(line).split(\"  \"))\n",
    "\n",
    "    line = np.array(list(filter(None, line)))\n",
    "    subsetid.append(line[0])\n",
    "    try:\n",
    "        c = SkyCoord(line[1], line[2], unit=(u.hourangle, u.deg))\n",
    "        subsetra.append(c.ra.degree)\n",
    "        subsetdec.append(c.dec.degree)\n",
    "    except:\n",
    "        print(\"error: \", line)\n",
    "    data.append(line)\n",
    "    \n",
    "# some problems with dec\n",
    "subsetra = np.asarray(subsetra)\n",
    "subsetdec = np.asarray(subsetdec)\n",
    "name = \"dias\"\n",
    "\n",
    "\n",
    "'''"
   ]
  },
  {
   "cell_type": "markdown",
   "metadata": {},
   "source": [
    "[Back to Top](#Table-of-Contents) \n"
   ]
  },
  {
   "cell_type": "code",
   "execution_count": null,
   "metadata": {
    "collapsed": true
   },
   "outputs": [],
   "source": []
  }
 ],
 "metadata": {
  "kernelspec": {
   "display_name": "Python 3",
   "language": "python",
   "name": "python3"
  },
  "language_info": {
   "codemirror_mode": {
    "name": "ipython",
    "version": 3
   },
   "file_extension": ".py",
   "mimetype": "text/x-python",
   "name": "python",
   "nbconvert_exporter": "python",
   "pygments_lexer": "ipython3",
   "version": "3.4.3"
  }
 },
 "nbformat": 4,
 "nbformat_minor": 0
}
