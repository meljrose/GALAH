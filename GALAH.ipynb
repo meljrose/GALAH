{
 "cells": [
  {
   "cell_type": "markdown",
   "metadata": {},
   "source": [
    "# AAO GALAH RESEARCH JAN-APR 2016"
   ]
  },
  {
   "cell_type": "markdown",
   "metadata": {},
   "source": [
    "### Missy McIntosh, Gayandhi de Silva, Jeffrey Simpson\n",
    "http://www.univie.ac.at/webda/cgi-bin/frame_data_list.cgi?ascc111+ad2k+ad2000.coo"
   ]
  },
  {
   "cell_type": "markdown",
   "metadata": {},
   "source": [
    "#### Check if there are any known open clusters in GALAH\n",
    "#### This is a very slow python script...."
   ]
  },
  {
   "cell_type": "code",
   "execution_count": 4,
   "metadata": {
    "collapsed": false
   },
   "outputs": [
    {
     "name": "stderr",
     "output_type": "stream",
     "text": [
      "/Users/mmcintosh/anaconda/lib/python3.4/site-packages/IPython/kernel/__init__.py:13: ShimWarning: The `IPython.kernel` package has been deprecated. You should import from ipykernel or jupyter_client instead.\n",
      "  \"You should import from ipykernel or jupyter_client instead.\", ShimWarning)\n"
     ]
    }
   ],
   "source": [
    "import numpy as np\n",
    "from astropy import units as u\n",
    "from astropy.coordinates import SkyCoord\n",
    "from astropy.coordinates import FK4\n",
    "import time\n",
    "from tqdm import *\n",
    "import pandas as pd\n",
    "import codecs\n",
    "import numpy as np\n",
    "from lxml import html\n",
    "from lxml import etree\n",
    "import requests\n",
    "from astropy import units as u\n",
    "from astropy.coordinates import SkyCoord\n",
    "from astropy.coordinates import FK4\n",
    "import csv"
   ]
  },
  {
   "cell_type": "code",
   "execution_count": 43,
   "metadata": {
    "collapsed": true
   },
   "outputs": [],
   "source": [
    "def coordconvert(ra, dec):\n",
    "    c = SkyCoord(ra, dec, unit=(u.hourangle, u.deg))\n",
    "    newra = c.ra.degree\n",
    "    newdec = c.dec.degree\n",
    "    return(newra, newdec)\n",
    "\n",
    "# grab each cluster coordinate file\n",
    "## replace var in http://www.univie.ac.at/webda/cgi-bin/frame_data_list.cgi?var+ad2k+ad2000.coo\n",
    "## go to this link, scrape off RA and DEC data\n",
    "def getwebda(name):\n",
    "    linkpt1 = \"http://www.univie.ac.at/webda/cgi-bin/frame_data_list.cgi?\"\n",
    "    linkpt2 = \"+ad2k+ad2000.coo\"\n",
    "    link = linkpt1+name+linkpt2\n",
    "    print(name)\n",
    "    print(link)\n",
    "    page = requests.get(link)\n",
    "    tree = html.fromstring(page.content)\n",
    "    text = str(etree.tostring(tree))\n",
    "    temp = text.split(r'\\n\\n ')\n",
    "    temp = temp[-1]\n",
    "    temp = temp.split(r'\\n')\n",
    "    temp = temp[:-2]\n",
    "    temp = [x.split(r'  ') for x in temp]\n",
    "    coords = [coordconvert(coord[2], coord[3]) for coord in temp]\n",
    "    subsetra = np.asarray([coord[0] for coord in coords])\n",
    "    subsetdec = np.asarray([coord[1] for coord in coords])\n",
    "    return(temp[0], subsetra, subsetdec)\n",
    "\n",
    "def pbsearch(sorted_data, subset, tolerance):\n",
    "    tol = tolerance\n",
    "    searched_arr = []\n",
    "    matched_arr = []\n",
    "    \n",
    "    for i in tqdm(range(len(subset))):\n",
    "        a = subset[i]\n",
    "        ra = sorted_data\n",
    "        n = len(ra)\n",
    "        time.sleep(3)\n",
    "        for element in np.arange(0,n):\n",
    "            index = round(n/2)\n",
    "            entry = ra[index]\n",
    "            \n",
    "            if a - tol > entry:\n",
    "                ra = ra[index:]\n",
    "            elif a + tol < entry:\n",
    "                ra = ra[:(index-1)]\n",
    "            else:\n",
    "                matched_arr.append(entry)\n",
    "                searched_arr.append(a)\n",
    "                ra = np.delete(ra, index)\n",
    "            n = len(ra)\n",
    "    \n",
    "            if n > 1:\n",
    "                continue\n",
    "            else:\n",
    "                break \n",
    "    print(\"searched for a subset of \", len(subset), \"RAs against 2mass list of\", len(sorted_data), \"RAs\")\n",
    "    print(\"RA matches: \", len(matched_arr), \"with a tolerance of \", tol)\n",
    "    return(searched_arr,matched_arr)\n",
    "\n",
    "def checkdec(dec1, dec2, tol):\n",
    "    if np.absolute((dec1) - (dec2)) < tol:\n",
    "        return(1)\n",
    "    else:\n",
    "        return(0)\n"
   ]
  },
  {
   "cell_type": "code",
   "execution_count": null,
   "metadata": {
    "collapsed": false
   },
   "outputs": [],
   "source": [
    "# Read in Gayandhi's 2Mass input database Name, RA, and DEC information\n",
    "# note this data is presorted by RA\n",
    "'''\n",
    "\n",
    "df = pd.read_csv('gsortedgal.csv', delimiter=',',index_col=False, header=0)\n",
    "df.columns = [\"ID\", \"RA\", \"DEC\"]\n",
    "\n",
    "# get rid of blank entries\n",
    "print(len(df))\n",
    "df = df.loc[(df != 0).any(1)]\n",
    "print(len(df))\n",
    "print(df.head())\n",
    "\n",
    "# assign to np arrays\n",
    "twomass_ident = np.asarray(df[\"ID\"])\n",
    "twomass_ra = np.asarray(df[\"RA\"])\n",
    "twomass_dec = np.asarray(df[\"DEC\"])\n",
    "'''"
   ]
  },
  {
   "cell_type": "code",
   "execution_count": 38,
   "metadata": {
    "collapsed": false
   },
   "outputs": [
    {
     "name": "stdout",
     "output_type": "stream",
     "text": [
      "10 weird sorts\n",
      "9073309\n",
      "<bound method DataFrame.head of               ID    VMag          RA        DEC\n",
      "0        1093660  13.429    0.001009 -57.713554\n",
      "1         179614  12.412    0.001045 -75.687950\n",
      "2        2969783  11.446    0.001108 -34.697872\n",
      "3        4979866  12.242    0.001129  -9.856497\n",
      "4        8247442  12.909    0.001160   3.020907\n",
      "5        4557755  12.994    0.001162 -15.580398\n",
      "6        2080468  13.722    0.001469 -45.096962\n",
      "7        7363787  14.091    0.001501 -37.677406\n",
      "8        7186563  14.103    0.001561 -44.879086\n",
      "9         123316  13.274    0.001595 -77.940849\n",
      "10       1551443  12.032    0.001693 -51.243954\n",
      "11       8004695  14.040    0.001819  -9.910997\n",
      "12       7283228  14.124    0.001961 -40.999020\n",
      "13       6587378  14.234    0.001998 -84.804314\n",
      "14       1358368  12.960    0.002023 -53.789234\n",
      "15       3049618  12.999    0.002469 -33.759903\n",
      "16       6230060  12.743    0.002529   7.491479\n",
      "17       6152746  12.954    0.002630   6.502540\n",
      "18       7980033  14.089    0.002680 -11.282503\n",
      "19       5352278  12.658    0.002723  -4.483415\n",
      "20       4429353  13.033    0.002732 -17.190271\n",
      "21       5319379  13.243    0.002775  -4.979187\n",
      "22       1014341  12.992    0.002776 -59.299248\n",
      "23       8212546  11.442    0.002788   1.247281\n",
      "24       4474286  12.845    0.003038 -16.631849\n",
      "25       4001472  13.281    0.003147 -22.551811\n",
      "26       3581027  13.999    0.003150 -27.707458\n",
      "27       4196212  13.076    0.003227 -20.093813\n",
      "28       5643875  12.527    0.003413  -0.277985\n",
      "29       4069954  11.101    0.003900 -21.686312\n",
      "...          ...     ...         ...        ...\n",
      "9073279  4714127  13.820  359.995571 -13.541080\n",
      "9073280  6501904  12.603  359.995601  10.971617\n",
      "9073281  1142694  12.958  359.995783 -56.851120\n",
      "9073282   385452  12.662  359.995958 -70.564941\n",
      "9073283  2255901  12.686  359.996471 -43.115215\n",
      "9073284    14662  13.245  359.996632 -85.796310\n",
      "9073285  5753848  12.175  359.996685   1.239513\n",
      "9073286  8083155  14.252  359.996759  -5.829586\n",
      "9073287  6735068  14.229  359.996850 -67.873199\n",
      "9073288  8233718  14.191  359.996888   2.235617\n",
      "9073289  1574970  13.778  359.996954 -50.941891\n",
      "9073290  6957428  14.006  359.996961 -54.356274\n",
      "9073291  4610900  13.427  359.997180 -14.893713\n",
      "9073292  2161857  13.161  359.997202 -44.185658\n",
      "9073293  5872733  11.634  359.997336   2.842484\n",
      "9073294  5277266  12.876  359.997466  -5.609555\n",
      "9073295  1881662  13.590  359.997536 -47.335827\n",
      "9073296  1170680  12.514  359.997992 -56.414474\n",
      "9073297  6199084  13.794  359.998172   7.093366\n",
      "9073298  3877205  12.777  359.998237 -24.108027\n",
      "9073299  6742310  14.215  359.998379 -67.448669\n",
      "9073300   812514  12.838  359.998760 -63.246014\n",
      "9073301  4481899  13.944  359.998942 -16.539461\n",
      "9073302  5659681  10.467  359.999080  -0.065399\n",
      "9073303  2770340  13.116  359.999146 -37.100018\n",
      "9073304  5837969  12.841  359.999191   2.379040\n",
      "9073305  3580210  11.484  359.999292 -27.718981\n",
      "9073306  8111727  14.057  359.999530  -4.241018\n",
      "9073307  6052912  11.460  359.999892   5.208454\n",
      "9073308  1421021  13.698  359.999895 -52.963341\n",
      "\n",
      "[9073309 rows x 4 columns]>\n"
     ]
    }
   ],
   "source": [
    "# Read in Jeffrey's 2Mass input database Name, RA, and DEC information\n",
    "# note this data is presorted by RA\n",
    "\n",
    "df = pd.read_csv('jsortedgal.csv', delimiter=',',index_col=False, header=0, dtype=float)\n",
    "df.columns = [\"ID\", \"VMag\", \"RA\", \"DEC\"]\n",
    "\n",
    "#df.sort_values(\"RA\")\n",
    "#all(l[i] <= l[i+1] for i in np.arange(len(l)-1))\n",
    "# there's some weird sorting problems. A few are multiplied by 10^-4 for some reason\n",
    "l = (df[\"RA\"])\n",
    "problems = []\n",
    "for i in np.arange(len(l)-1):\n",
    "    if (l[i] <= l[i+1]):\n",
    "        continue\n",
    "    else:\n",
    "        problems.append(i+1)\n",
    "print(len(problems), \"weird sorts\")\n",
    "for problem in problems:\n",
    "    df[\"RA\"][problem] = df[\"RA\"][problem]*10000\n",
    "\n",
    "\n",
    "\n",
    "print(len(df))\n",
    "print(df.head)\n",
    "twomass_ident = np.asarray(df[\"ID\"])\n",
    "twomass_vmag = np.asarray(df[\"VMag\"])\n",
    "twomass_ra = np.asarray(df[\"RA\"])\n",
    "twomass_dec = np.asarray(df[\"DEC\"])"
   ]
  },
  {
   "cell_type": "code",
   "execution_count": null,
   "metadata": {
    "collapsed": false
   },
   "outputs": [],
   "source": [
    "# Read in DIAS \n",
    "# I didn't know an easy way to read in this file so this is very messy and hacked and slow and I apologize\n",
    "''' \n",
    "\n",
    "dias_data = np.genfromtxt('dias.txt', delimiter='\\t', names=None, dtype=None)\n",
    "dias_data = dias_data[1:]\n",
    "\n",
    "data = []\n",
    "subsetid = []\n",
    "subsetra = []\n",
    "subsetdec = []\n",
    "for line in dias_data:\n",
    " \n",
    "    line = line.decode('UTF-8')\n",
    "\n",
    "    line = (str(line).split(\"  \"))\n",
    "\n",
    "    line = np.array(list(filter(None, line)))\n",
    "    subsetid.append(line[0])\n",
    "    try:\n",
    "        c = SkyCoord(line[1], line[2], unit=(u.hourangle, u.deg))\n",
    "        subsetra.append(c.ra.degree)\n",
    "        subsetdec.append(c.dec.degree)\n",
    "    except:\n",
    "        print(\"error: \", line)\n",
    "    data.append(line)\n",
    "    \n",
    "# some problems with dec\n",
    "subsetra = np.asarray(subsetra)\n",
    "subsetdec = np.asarray(subsetdec)\n",
    "name = \"dias\"\n",
    "'''"
   ]
  },
  {
   "cell_type": "code",
   "execution_count": 40,
   "metadata": {
    "collapsed": false
   },
   "outputs": [
    {
     "name": "stdout",
     "output_type": "stream",
     "text": [
      "946\n",
      "ale02\n",
      "http://www.univie.ac.at/webda/cgi-bin/frame_data_list.cgi?ale02+ad2k+ad2000.coo\n"
     ]
    }
   ],
   "source": [
    "# Read in WEBDA\n",
    "\n",
    "#I got this html from querying webda for all clusters with J2000 coordinate data available\n",
    "\n",
    "# connect to webda database\n",
    "# grab each cluster name\n",
    "## search this page: http://www.univie.ac.at/webda/cgi-bin/seldb.cgi?\n",
    "## for links like http://www.univie.ac.at/webda/cgi-bin/ocl_page.cgi?dirname=wes02\n",
    "## and grab the string after dirname=  \n",
    "\n",
    "\n",
    "f = codecs.open(\"clustershtml.html\", \"r\", \"utf-8\")\n",
    "page = f.read()\n",
    "split = page.split(\"dirname=\")\n",
    "names = [split[x].split('\"')[0] for x in np.arange(len(split))]\n",
    "names = names[1:]\n",
    "print(len(names))\n",
    "i = 1\n",
    "name = names[i]\n",
    "subsetid, subsetra, subsetdec = getwebda(name)"
   ]
  },
  {
   "cell_type": "code",
   "execution_count": null,
   "metadata": {
    "collapsed": true
   },
   "outputs": [],
   "source": []
  },
  {
   "cell_type": "code",
   "execution_count": 41,
   "metadata": {
    "collapsed": false
   },
   "outputs": [
    {
     "name": "stdout",
     "output_type": "stream",
     "text": [
      "[ 0.118115  0.118397  0.118726  0.119066  0.119151]\n",
      "[  0.736194   3.603777 -32.138985 -64.530884 -49.611828]\n"
     ]
    }
   ],
   "source": [
    "print(twomass_ra[1000:1005])\n",
    "print(twomass_dec[1000:1005])\n",
    "\n",
    "# add in fake positive matches at the very end to make sure the code works\n",
    "subsetra = np.append(subsetra, twomass_ra[1000:1005])\n",
    "subsetdec = np.append(subsetdec, twomass_dec[1000:1005])\n",
    "\n"
   ]
  },
  {
   "cell_type": "code",
   "execution_count": null,
   "metadata": {
    "collapsed": false
   },
   "outputs": [
    {
     "name": "stderr",
     "output_type": "stream",
     "text": [
      " 37%|███▋      | 17/46 [00:51<01:27,  3.03s/it]"
     ]
    }
   ],
   "source": [
    "# search each coord in file against 2 mass\n",
    "\n",
    "# return subset RAs found within sorted data\n",
    "# tolernece is 20 arc seconds\n",
    "tol = 0.005556\n",
    "searched_ra, matched_ra = pbsearch(twomass_ra, subsetra, tol)\n",
    "\n"
   ]
  },
  {
   "cell_type": "code",
   "execution_count": 35,
   "metadata": {
    "collapsed": false
   },
   "outputs": [
    {
     "name": "stdout",
     "output_type": "stream",
     "text": [
      "19611\n",
      "26398\n",
      "33178\n",
      "39119\n",
      "39213\n",
      "69043\n",
      "70513\n",
      "71098\n",
      "74894\n",
      "80128\n"
     ]
    }
   ],
   "source": [
    "l = (df[\"RA\"])\n",
    "problems = []\n",
    "for i in np.arange(len(l)-1):\n",
    "    if (l[i] <= l[i+1]):\n",
    "        continue\n",
    "    else:\n",
    "        problems.append(i)\n",
    "        print(i)"
   ]
  },
  {
   "cell_type": "code",
   "execution_count": 37,
   "metadata": {
    "collapsed": false
   },
   "outputs": [
    {
     "name": "stdout",
     "output_type": "stream",
     "text": [
      "10 weird sorts\n",
      "96092830.0 9.61 9.610174\n"
     ]
    }
   ],
   "source": [
    "\n",
    "print(len(problems), \"weird sorts\")\n",
    "for problem in problems:\n",
    "    df[\"RA\"][problem+1] = df[\"RA\"][problem+1]*10000\n",
    "\n",
    "problem = 80128\n",
    "temp1 = twomass_ra[problem]\n",
    "temp2 = twomass_ra[problem+1]*10000\n",
    "temp3 = twomass_ra[problem+2]\n",
    "#(temp[0] <= temp[1])\n",
    "print(temp1, temp2, temp3)"
   ]
  },
  {
   "cell_type": "code",
   "execution_count": 42,
   "metadata": {
    "collapsed": false
   },
   "outputs": [
    {
     "name": "stdout",
     "output_type": "stream",
     "text": [
      "[ 71.204034  71.204218  71.204377  71.204438  71.204616]\n",
      "<class 'numpy.ndarray'>\n",
      "71.204438\n",
      "[ 71.204034  71.204218  71.204377  71.204616]\n",
      "[ 71.204034  71.204218]\n"
     ]
    },
    {
     "name": "stderr",
     "output_type": "stream",
     "text": [
      "/Users/mmcintosh/anaconda/lib/python3.4/site-packages/ipykernel/__main__.py:9: DeprecationWarning: using a non-integer number instead of an integer will result in an error in the future\n"
     ]
    },
    {
     "data": {
      "text/plain": [
       "array([1, 2, 3, 4, 6])"
      ]
     },
     "execution_count": 42,
     "metadata": {},
     "output_type": "execute_result"
    }
   ],
   "source": [
    "temp = twomass_ra[753120:753125]\n",
    "print(temp)\n",
    "n = 3\n",
    "index = np.array(temp[n])\n",
    "print(type(index))\n",
    "print(index)\n",
    "num = np.delete(temp, n)\n",
    "print(num)\n",
    "arr = np.concatenate(temp[:(n-1)], temp[(n+1):])\n",
    "print(arr)\n",
    "\n",
    "test = [1,2,3,4,5,6]\n",
    "np.delete(test, 4)"
   ]
  },
  {
   "cell_type": "code",
   "execution_count": null,
   "metadata": {
    "collapsed": true
   },
   "outputs": [],
   "source": [
    "# retrieve the DEC and indicies of the found subset RAs\n",
    "# check that the DEC values are w/i tolerence and return matched indices\n",
    "# indices returned are for 2MASS\n",
    "\n",
    "searcheddec_index = [np.where(subsetra == ra)[0][0] for ra in searched_ra] \n",
    "searcheddec = [subsetdec[x] for x in searcheddec_index]\n",
    "\n",
    "matcheddec_index = [np.where(twomass_ra == ra)[0][0] for ra in matched_ra]  \n",
    "matcheddec = [twomass_dec[x] for x in matcheddec_index]\n",
    "\n"
   ]
  },
  {
   "cell_type": "code",
   "execution_count": null,
   "metadata": {
    "collapsed": false
   },
   "outputs": [],
   "source": [
    "bools = []\n",
    "for i in np.arange(len(matcheddec_index)):\n",
    "    bol = checkdec(matcheddec[i],searcheddec[i], tol)\n",
    "    bools.append(bol)\n",
    "\n",
    "\n",
    "# select info on the matched RA and DECs\n",
    "n= np.sum(bools)\n",
    "if n > 0:\n",
    "    print(n, \"matches for\", name, \"for tolerance\", tol)\n",
    "    fullmatchindex = np.where(bools)[0]\n",
    "    fullmatchindex = [int(x) for x in fullmatchindex]\n",
    "    subsetids = [subsetid[index] for index in fullmatchindex]\n",
    "    galahids = [twomass_ident[index] for index in fullmatchindex]\n",
    "    filename = name+\"_wtol\"+str(tol)+\"_matched\"+str(n)+'.csv'\n",
    "    with open(filename, 'w', newline='') as fp:\n",
    "        a = csv.writer(fp, delimiter=',')\n",
    "        data = [subsetids, galahids]\n",
    "        a.writerows(data)\n",
    "else:\n",
    "    print(\"No matches for\", name, \"for tolerance\", tol)\n",
    "   "
   ]
  },
  {
   "cell_type": "code",
   "execution_count": null,
   "metadata": {
    "collapsed": false
   },
   "outputs": [],
   "source": [
    "#debug\n",
    "\n",
    "print(len(twomass_ident))\n",
    "print(len(subsetra))\n",
    "\n",
    "\n",
    "print(twomass_ra[1000:1005])\n",
    "print(twomass_dec[1000:1005])\n",
    "\n",
    "# add in fake positive matches at the very end to make sure the code works\n",
    "subsetra = np.append(subsetra, twomass_ra[1000:1005])\n",
    "subsetdec = np.append(subsetdec, twomass_dec[1000:1005])\n",
    "\n"
   ]
  },
  {
   "cell_type": "code",
   "execution_count": null,
   "metadata": {
    "collapsed": true
   },
   "outputs": [],
   "source": [
    "# back up for webda, download files individually\n",
    "# Read in Webda observed Name, RA, and DEC information\n",
    "\n",
    "df = pd.read_csv('ad2000.coo', delimiter='\\t',index_col=False, header=1)\n",
    "df.columns = [\"ID\", \"ref\", \"RA\", \"DEC\"]\n",
    "\n",
    "\n",
    "coords = [coordconvert(ra, dec) for ra in df[\"RA\"] for dec in df[\"DEC\"]]\n",
    "subsetra = np.asarray([coord[0] for coord in coords])\n",
    "subsetdec = np.asarray([coord[1] for coord in coords])"
   ]
  },
  {
   "cell_type": "code",
   "execution_count": null,
   "metadata": {
    "collapsed": false
   },
   "outputs": [],
   "source": []
  },
  {
   "cell_type": "code",
   "execution_count": null,
   "metadata": {
    "collapsed": true
   },
   "outputs": [],
   "source": []
  }
 ],
 "metadata": {
  "kernelspec": {
   "display_name": "Python 3",
   "language": "python",
   "name": "python3"
  },
  "language_info": {
   "codemirror_mode": {
    "name": "ipython",
    "version": 3
   },
   "file_extension": ".py",
   "mimetype": "text/x-python",
   "name": "python",
   "nbconvert_exporter": "python",
   "pygments_lexer": "ipython3",
   "version": "3.4.3"
  }
 },
 "nbformat": 4,
 "nbformat_minor": 0
}
