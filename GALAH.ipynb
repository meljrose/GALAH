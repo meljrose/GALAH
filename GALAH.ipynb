{
 "cells": [
  {
   "cell_type": "markdown",
   "metadata": {},
   "source": [
    "# AAO GALAH RESEARCH JAN-APR 2016"
   ]
  },
  {
   "cell_type": "markdown",
   "metadata": {},
   "source": [
    "### Missy McIntosh, Gayandhi de Silva, Jeffrey Simpson"
   ]
  },
  {
   "cell_type": "markdown",
   "metadata": {},
   "source": [
    "#### Check if there are any known open clusters in GALAH"
   ]
  },
  {
   "cell_type": "code",
   "execution_count": 8,
   "metadata": {
    "collapsed": false
   },
   "outputs": [
    {
     "name": "stdout",
     "output_type": "stream",
     "text": [
      "+33 33 29.76\n"
     ]
    },
    {
     "ename": "AttributeError",
     "evalue": "'module' object has no attribute 'Starbase_readtable'",
     "output_type": "error",
     "traceback": [
      "\u001b[0;31m---------------------------------------------------------------------------\u001b[0m",
      "\u001b[0;31mAttributeError\u001b[0m                            Traceback (most recent call last)",
      "\u001b[0;32m<ipython-input-8-f35f7575ea7a>\u001b[0m in \u001b[0;36m<module>\u001b[0;34m()\u001b[0m\n\u001b[1;32m     22\u001b[0m \u001b[0mc\u001b[0m\u001b[0;34m.\u001b[0m\u001b[0mto_string\u001b[0m\u001b[0;34m(\u001b[0m\u001b[0;34m'decimal'\u001b[0m\u001b[0;34m)\u001b[0m\u001b[0;34m\u001b[0m\u001b[0m\n\u001b[1;32m     23\u001b[0m \u001b[0;34m\u001b[0m\u001b[0m\n\u001b[0;32m---> 24\u001b[0;31m \u001b[0mtest\u001b[0m \u001b[0;34m=\u001b[0m \u001b[0mstarbase\u001b[0m\u001b[0;34m.\u001b[0m\u001b[0mStarbase_readtable\u001b[0m\u001b[0;34m(\u001b[0m\u001b[0;34m'ad2000.coo'\u001b[0m\u001b[0;34m)\u001b[0m\u001b[0;34m\u001b[0m\u001b[0m\n\u001b[0m",
      "\u001b[0;31mAttributeError\u001b[0m: 'module' object has no attribute 'Starbase_readtable'"
     ]
    }
   ],
   "source": [
    "import numpy as np\n",
    "import starbase\n",
    "from astropy import units as u\n",
    "from astropy.coordinates import SkyCoord\n",
    "from astropy.coordinates import FK5\n",
    "\n",
    "# Read in 2Mass input database Name, RA, and DEC information\n",
    "twomass_data = np.genfromtxt('test.csv', delimiter=',', names=True, dtype=float)\n",
    "\n",
    "# Read in Webda observed Name, RA, and DEC information\n",
    "webda_data = np.genfromtxt('ad2000.coo', delimiter='\\t', names=True, dtype=None)\n",
    "#webda_data['ra'] = webda_data\n",
    "\n",
    "subset = [[10.5680911, 109.8102128, 27.831013, 1.1438403, 276.1315219, 1, 400],[-89.969946899999997, -89.9304625, 5,5,-89.915107199999994,5,-89.915107199999994]]\n",
    "\n",
    "\n",
    "test = (webda_data[2][3].decode('UTF-8'))\n",
    "print(test)\n",
    "#print(np.float(test))\n",
    "\n",
    "c = SkyCoord(ra=10.68458*u.degree, dec=41.26917*u.degree)\n",
    "c.to_string('decimal')\n",
    "\n",
    "test = starbase.Starbase_readtable('ad2000.coo')"
   ]
  },
  {
   "cell_type": "code",
   "execution_count": 275,
   "metadata": {
    "collapsed": false
   },
   "outputs": [],
   "source": [
    "def pbsearch(sorted_data, subset, tolerance):\n",
    "    tol = tolerance\n",
    "\n",
    "    # return index if it exists, otherwise, print \"not found\"\n",
    "    matched_arr = []\n",
    "    for a in subset: \n",
    "        ra = sorted_data\n",
    "        n = len(ra)\n",
    "        for element in np.arange(0,n):\n",
    "            n = len(ra)\n",
    "            #print('loop: ', element)\n",
    "            if a - tol > ra[int(n/2)]:\n",
    "                ra = ra[int(n/2):n]\n",
    "            elif a + tol < ra[int(n/2)]:\n",
    "                ra = ra[0:int(n/2)]\n",
    "            else:\n",
    "                match = ra[int(n/2)]\n",
    "                print('match!  searched', a, \" found\", match, \" which is\", np.absolute(a - ra[int(n/2)]), \"away\")\n",
    "                matched_arr.append(match)\n",
    "                break\n",
    "                \n",
    "            if n > 1:\n",
    "                continue\n",
    "            else:\n",
    "                print(a, \"not found within tolerance\")\n",
    "                break\n",
    "        \n",
    "    return(matched_arr)"
   ]
  },
  {
   "cell_type": "code",
   "execution_count": 276,
   "metadata": {
    "collapsed": false
   },
   "outputs": [
    {
     "name": "stdout",
     "output_type": "stream",
     "text": [
      "[  10.5680911  109.8102128   27.8310139    1.1438403  276.1315219] \n",
      " \n",
      " [   1.1438403   10.5680911   27.8310139  109.8102128  276.1315219]\n",
      "match!  searched 10.5680911  found 10.5680911  which is 0.0 away\n",
      "match!  searched 109.8102128  found 109.8102128  which is 0.0 away\n",
      "match!  searched 27.831013  found 27.8310139  which is 8.99999999859e-07 away\n",
      "match!  searched 1.1438403  found 1.1438403  which is 0.0 away\n",
      "match!  searched 276.1315219  found 276.1315219  which is 0.0 away\n",
      "1 not found within tolerance\n",
      "400 not found within tolerance\n",
      "----------------------------------------------------------------------------------------------------\n"
     ]
    }
   ],
   "source": [
    "# Search first by RA and then by DEC\n",
    "# sort RA values to make the search faster\n",
    "ra_sorted = np.sort(twomass_data, order='ra')\n",
    "ra = ra_sorted['ra']\n",
    "print(twomass_data[\"ra\"], \"\\n\", \"\\n\", ra_sorted[\"ra\"])\n",
    "\n",
    "# return subset RAs found within sorted data\n",
    "tol = 0.0005\n",
    "ra_arr = pbsearch(ra, subset[0], tol)\n",
    "print(\"-\"*100)"
   ]
  },
  {
   "cell_type": "code",
   "execution_count": 277,
   "metadata": {
    "collapsed": false
   },
   "outputs": [],
   "source": [
    "# retrieve the DEC and indicies of the found subset RAs\n",
    "ind_arr = []\n",
    "dec_arr = []\n",
    "for ra in ra_arr:\n",
    "    ind = np.where(twomass_data['ra'] == ra)[0][0]\n",
    "    ind_arr.append(ind)\n",
    "    dec = twomass_data['dec'][ind]\n",
    "    dec_arr.append(dec)"
   ]
  },
  {
   "cell_type": "code",
   "execution_count": 278,
   "metadata": {
    "collapsed": false
   },
   "outputs": [
    {
     "name": "stdout",
     "output_type": "stream",
     "text": [
      "[0, 4]\n"
     ]
    }
   ],
   "source": [
    "# check that the DEC values are w/i tolerence and return matched indices\n",
    "matched_ind = []\n",
    "for i in np.arange(0,len(dec_arr)):\n",
    "    a = subset[1][i]\n",
    "    dec = dec_arr[i]\n",
    "    if np.absolute(a - dec) < tol:\n",
    "        matched_ind.append(ind_arr[i])\n",
    "print(matched_ind)"
   ]
  },
  {
   "cell_type": "code",
   "execution_count": 279,
   "metadata": {
    "collapsed": false
   },
   "outputs": [
    {
     "data": {
      "text/plain": [
       "array([ 0.,  4.])"
      ]
     },
     "execution_count": 279,
     "metadata": {},
     "output_type": "execute_result"
    }
   ],
   "source": [
    "# select info on the matched RA and DECs\n",
    "twomass_data['galah_id'][matched_ind]"
   ]
  },
  {
   "cell_type": "code",
   "execution_count": null,
   "metadata": {
    "collapsed": true
   },
   "outputs": [],
   "source": []
  }
 ],
 "metadata": {
  "kernelspec": {
   "display_name": "Python 3",
   "language": "python",
   "name": "python3"
  },
  "language_info": {
   "codemirror_mode": {
    "name": "ipython",
    "version": 3
   },
   "file_extension": ".py",
   "mimetype": "text/x-python",
   "name": "python",
   "nbconvert_exporter": "python",
   "pygments_lexer": "ipython3",
   "version": "3.4.3"
  }
 },
 "nbformat": 4,
 "nbformat_minor": 0
}
