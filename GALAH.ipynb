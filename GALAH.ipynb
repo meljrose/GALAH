{
 "cells": [
  {
   "cell_type": "markdown",
   "metadata": {},
   "source": [
    "# AAO GALAH RESEARCH JAN-APR 2016"
   ]
  },
  {
   "cell_type": "markdown",
   "metadata": {},
   "source": [
    "### Missy McIntosh, Gayandhi de Silva, Jeffrey Simpson\n",
    "http://www.univie.ac.at/webda/cgi-bin/frame_data_list.cgi?ascc111+ad2k+ad2000.coo"
   ]
  },
  {
   "cell_type": "markdown",
   "metadata": {},
   "source": [
    "#### Check if there are any known open clusters in GALAH\n",
    "#### This is a very slow python script...."
   ]
  },
  {
   "cell_type": "code",
   "execution_count": 1,
   "metadata": {
    "collapsed": false
   },
   "outputs": [
    {
     "name": "stderr",
     "output_type": "stream",
     "text": [
      "/Users/mmcintosh/anaconda/lib/python3.4/site-packages/IPython/kernel/__init__.py:13: ShimWarning: The `IPython.kernel` package has been deprecated. You should import from ipykernel or jupyter_client instead.\n",
      "  \"You should import from ipykernel or jupyter_client instead.\", ShimWarning)\n"
     ]
    }
   ],
   "source": [
    "import numpy as np\n",
    "from astropy import units as u\n",
    "from astropy.coordinates import SkyCoord\n",
    "from astropy.coordinates import FK4\n",
    "import time\n",
    "from tqdm import *\n",
    "\n",
    "\n",
    "\n",
    "\n",
    "# Read in 2Mass input database Name, RA, and DEC information\n",
    "# note this data is presorted by RA\n",
    "\n",
    "twomass_data = np.genfromtxt('sortedgal.tbl', delimiter='\\t', names=True, dtype=float)\n",
    "\n",
    "twomass_ident = []\n",
    "twomass_ra = []\n",
    "twomass_dec = []\n",
    "for i in tqdm(range(len(twomass_data))):\n",
    "    twomass_ident.append(twomass_data[i][0])\n",
    "    twomass_ra.append(twomass_data[i][1])\n",
    "    twomass_dec.append(twomass_data[i][2])\n",
    "    time.sleep(3)"
   ]
  },
  {
   "cell_type": "code",
   "execution_count": 2,
   "metadata": {
    "collapsed": false
   },
   "outputs": [
    {
     "name": "stderr",
     "output_type": "stream",
     "text": [
      "WARNING: IllegalMinuteWarning: 'minute' was found  to be '60', which is not in range [0,60). Treating as 0 min, +1 hr/deg [astropy.coordinates.angle_utilities]\n",
      "WARNING:astropy:IllegalMinuteWarning: 'minute' was found  to be '60', which is not in range [0,60). Treating as 0 min, +1 hr/deg\n"
     ]
    }
   ],
   "source": [
    "# Read in DIAS Name, RA, DEC\n",
    "# I didn't know an easy way to read in this file so this is very messy and hacked and I apologize\n",
    "\n",
    "\n",
    "dias_data = np.genfromtxt('dias.txt', delimiter='\\t', names=None, dtype=None)\n",
    "dias_data = dias_data[1:]\n",
    "\n",
    "\n",
    "data = []\n",
    "name = []\n",
    "subsetra = []\n",
    "subsetdec = []\n",
    "for line in dias_data:\n",
    " \n",
    "    line = line.decode('UTF-8')\n",
    "\n",
    "    line = (str(line).split(\"  \"))\n",
    "\n",
    "    line = np.array(list(filter(None, line)))\n",
    "    name.append(line[0])\n",
    "    try:\n",
    "        c = SkyCoord(line[1], line[2], unit=(u.hourangle, u.deg))\n",
    "        subsetra.append(c.ra.degree)\n",
    "        subsetdec.append(c.dec.degree)\n",
    "    except:\n",
    "        print(\"error: \", line)\n",
    "    data.append(line)\n",
    "    \n",
    "# some problems with dec\n",
    "subsetra = np.asarray(subsetra)\n",
    "subsetdec = np.asarray(subsetdec)"
   ]
  },
  {
   "cell_type": "code",
   "execution_count": 75,
   "metadata": {
    "collapsed": false
   },
   "outputs": [
    {
     "name": "stdout",
     "output_type": "stream",
     "text": [
      "8395154\n"
     ]
    }
   ],
   "source": [
    "print(len(twomass_ident))\n",
    "\n"
   ]
  },
  {
   "cell_type": "code",
   "execution_count": 3,
   "metadata": {
    "collapsed": false
   },
   "outputs": [
    {
     "ename": "NameError",
     "evalue": "name 'webda_data' is not defined",
     "output_type": "error",
     "traceback": [
      "\u001b[0;31m---------------------------------------------------------------------------\u001b[0m",
      "\u001b[0;31mNameError\u001b[0m                                 Traceback (most recent call last)",
      "\u001b[0;32m<ipython-input-3-d93ee3661591>\u001b[0m in \u001b[0;36m<module>\u001b[0;34m()\u001b[0m\n\u001b[1;32m      5\u001b[0m \u001b[0msubsetra\u001b[0m \u001b[0;34m=\u001b[0m \u001b[0;34m[\u001b[0m\u001b[0;34m]\u001b[0m\u001b[0;34m\u001b[0m\u001b[0m\n\u001b[1;32m      6\u001b[0m \u001b[0msubsetdec\u001b[0m \u001b[0;34m=\u001b[0m \u001b[0;34m[\u001b[0m\u001b[0;34m]\u001b[0m\u001b[0;34m\u001b[0m\u001b[0m\n\u001b[0;32m----> 7\u001b[0;31m \u001b[0;32mfor\u001b[0m \u001b[0mi\u001b[0m \u001b[0;32min\u001b[0m \u001b[0mnp\u001b[0m\u001b[0;34m.\u001b[0m\u001b[0marange\u001b[0m\u001b[0;34m(\u001b[0m\u001b[0;36m2\u001b[0m\u001b[0;34m,\u001b[0m\u001b[0mlen\u001b[0m\u001b[0;34m(\u001b[0m\u001b[0mwebda_data\u001b[0m\u001b[0;34m)\u001b[0m\u001b[0;34m)\u001b[0m\u001b[0;34m:\u001b[0m\u001b[0;34m\u001b[0m\u001b[0m\n\u001b[0m\u001b[1;32m      8\u001b[0m     \u001b[0mcoords\u001b[0m \u001b[0;34m=\u001b[0m \u001b[0;34m[\u001b[0m\u001b[0;34m(\u001b[0m\u001b[0mwebda_data\u001b[0m\u001b[0;34m[\u001b[0m\u001b[0mi\u001b[0m\u001b[0;34m]\u001b[0m\u001b[0;34m[\u001b[0m\u001b[0;36m2\u001b[0m\u001b[0;34m]\u001b[0m\u001b[0;34m.\u001b[0m\u001b[0mdecode\u001b[0m\u001b[0;34m(\u001b[0m\u001b[0;34m'UTF-8'\u001b[0m\u001b[0;34m)\u001b[0m\u001b[0;34m)\u001b[0m\u001b[0;34m+\u001b[0m\u001b[0;34m\" \"\u001b[0m\u001b[0;34m+\u001b[0m \u001b[0;34m(\u001b[0m\u001b[0mwebda_data\u001b[0m\u001b[0;34m[\u001b[0m\u001b[0mi\u001b[0m\u001b[0;34m]\u001b[0m\u001b[0;34m[\u001b[0m\u001b[0;36m3\u001b[0m\u001b[0;34m]\u001b[0m\u001b[0;34m.\u001b[0m\u001b[0mdecode\u001b[0m\u001b[0;34m(\u001b[0m\u001b[0;34m'UTF-8'\u001b[0m\u001b[0;34m)\u001b[0m\u001b[0;34m)\u001b[0m\u001b[0;34m]\u001b[0m\u001b[0;34m\u001b[0m\u001b[0m\n\u001b[1;32m      9\u001b[0m     \u001b[0mc\u001b[0m \u001b[0;34m=\u001b[0m \u001b[0mSkyCoord\u001b[0m\u001b[0;34m(\u001b[0m\u001b[0mcoords\u001b[0m\u001b[0;34m,\u001b[0m \u001b[0munit\u001b[0m\u001b[0;34m=\u001b[0m\u001b[0;34m(\u001b[0m\u001b[0mu\u001b[0m\u001b[0;34m.\u001b[0m\u001b[0mhourangle\u001b[0m\u001b[0;34m,\u001b[0m \u001b[0mu\u001b[0m\u001b[0;34m.\u001b[0m\u001b[0mdeg\u001b[0m\u001b[0;34m)\u001b[0m\u001b[0;34m)\u001b[0m\u001b[0;34m\u001b[0m\u001b[0m\n",
      "\u001b[0;31mNameError\u001b[0m: name 'webda_data' is not defined"
     ]
    }
   ],
   "source": [
    "# Read in Webda observed Name, RA, and DEC information\n",
    "webda_data = np.genfromtxt('ad2000.coo', delimiter='\\t', names=None, dtype=None)\n",
    "\n",
    "#subset = [[10.5680911, 109.8102128, 27.831013, 1.1438403, 276.1315219, 1, 400],[-89.969946899999997, -89.9304625, 5,5,-89.915107199999994,5,-89.915107199999994]]\n",
    "subsetra = []\n",
    "subsetdec = []\n",
    "for i in np.arange(2,len(webda_data)):\n",
    "    coords = [(webda_data[i][2].decode('UTF-8'))+\" \"+ (webda_data[i][3].decode('UTF-8'))]\n",
    "    c = SkyCoord(coords, unit=(u.hourangle, u.deg))\n",
    "    subsetra.append(c.ra.degree[0])\n",
    "    subsetdec.append(c.dec.degree[0])\n",
    "    \n",
    "#subsetra.extend(subset[0])\n",
    "#subsetdec.extend(subset[1])\n",
    "subsetra = np.asarray(subsetra)\n",
    "subsetdec = np.asarray(subsetdec)\n"
   ]
  },
  {
   "cell_type": "code",
   "execution_count": 28,
   "metadata": {
    "collapsed": false
   },
   "outputs": [],
   "source": [
    "def pbsearch(sorted_data, subset, tolerance):\n",
    "    tol = tolerance\n",
    "\n",
    "    # return index if it exists, otherwise, print \"not found\"\n",
    "    searched_arr = []\n",
    "    matched_arr = []\n",
    "    for i in tqdm(range(len(subset))):\n",
    "        a = subset[i]\n",
    "        time.sleep(3)\n",
    "        ra = sorted_data\n",
    "        n = len(ra)\n",
    "        for element in np.arange(0,n):\n",
    "            n = len(ra)\n",
    "            if a - tol > ra[int(n/2)]:\n",
    "                ra = ra[int(n/2):n]\n",
    "            elif a + tol < ra[int(n/2)]:\n",
    "                ra = ra[0:int(n/2)]\n",
    "            else:\n",
    "                match = ra[int(n/2)]\n",
    "                #print('match!  searched', a, \" found\", match, \" which is\", np.absolute(a - ra[int(n/2)]), \"away\")\n",
    "                matched_arr.append(match)\n",
    "                searched_arr.append(a)\n",
    "                break\n",
    "                \n",
    "            if n > 1:\n",
    "                continue\n",
    "            else:\n",
    "                break \n",
    "    print(\"searched for a subset of \", len(subset), \"RAs against 2mass list of\", len(sorted_data), \"RAs\")\n",
    "    print(\"RA matches: \", len(matched_arr), \"with a tolerance of \", tol)\n",
    "    return(searched_arr,matched_arr)"
   ]
  },
  {
   "cell_type": "code",
   "execution_count": 13,
   "metadata": {
    "collapsed": false
   },
   "outputs": [
    {
     "name": "stderr",
     "output_type": "stream",
     "text": [
      "                                                     "
     ]
    },
    {
     "name": "stdout",
     "output_type": "stream",
     "text": [
      "searched for a subset of  2168 RAs against 2mass list of 8395154 RAs\n",
      "RA matches:  2168 with a tolerance of  0.0005\n"
     ]
    },
    {
     "name": "stderr",
     "output_type": "stream",
     "text": [
      "\r",
      "[========================================================================] 100%\r\n"
     ]
    }
   ],
   "source": [
    "# return subset RAs found within sorted data\n",
    "tol = 0.0005\n",
    "searched_ra, matched_ra = pbsearch(twomass_ra, subsetra, tol)"
   ]
  },
  {
   "cell_type": "code",
   "execution_count": 34,
   "metadata": {
    "collapsed": false
   },
   "outputs": [
    {
     "name": "stderr",
     "output_type": "stream",
     "text": [
      "  0%|          | 10/2168 [00:36<2:12:22,  3.68s/it]"
     ]
    },
    {
     "name": "stdout",
     "output_type": "stream",
     "text": [
      "decs: -43.4717158 60.9666666667\n",
      "diff:  -104.438382467\n",
      "decs:"
     ]
    },
    {
     "name": "stderr",
     "output_type": "stream",
     "text": [
      "  1%|          | 20/2168 [01:13<2:09:39,  3.62s/it]"
     ]
    },
    {
     "name": "stdout",
     "output_type": "stream",
     "text": [
      " -17.5846536 61.475\n",
      "diff:  -79.0596536\n",
      "decs:"
     ]
    },
    {
     "name": "stderr",
     "output_type": "stream",
     "text": [
      "  1%|▏         | 30/2168 [01:49<2:08:57,  3.62s/it]"
     ]
    },
    {
     "name": "stdout",
     "output_type": "stream",
     "text": [
      " -59.4721022 60.9333333333\n",
      "diff:  -120.405435533\n",
      "decs:"
     ]
    },
    {
     "name": "stderr",
     "output_type": "stream",
     "text": [
      "  2%|▏         | 40/2168 [02:25<2:08:20,  3.62s/it]"
     ]
    },
    {
     "name": "stdout",
     "output_type": "stream",
     "text": [
      " -24.9725036 63.7577777778\n",
      "diff:  -88.7302813778\n",
      "decs:"
     ]
    },
    {
     "name": "stderr",
     "output_type": "stream",
     "text": [
      "  2%|▏         | 50/2168 [03:01<2:07:19,  3.61s/it]"
     ]
    },
    {
     "name": "stdout",
     "output_type": "stream",
     "text": [
      " -42.1330339 63.1555555556\n",
      "diff:  -105.288589456\n",
      "decs:"
     ]
    },
    {
     "name": "stderr",
     "output_type": "stream",
     "text": [
      "  3%|▎         | 60/2168 [03:37<2:06:53,  3.61s/it]"
     ]
    },
    {
     "name": "stdout",
     "output_type": "stream",
     "text": [
      " -68.3944786 60.15\n",
      "diff:  -128.5444786\n",
      "decs:"
     ]
    },
    {
     "name": "stderr",
     "output_type": "stream",
     "text": [
      "  3%|▎         | 70/2168 [04:13<2:06:29,  3.62s/it]"
     ]
    },
    {
     "name": "stdout",
     "output_type": "stream",
     "text": [
      " 8.9936997 59.85\n",
      "diff:  -50.8563003\n",
      "decs:"
     ]
    },
    {
     "name": "stderr",
     "output_type": "stream",
     "text": [
      "  4%|▎         | 80/2168 [04:49<2:05:58,  3.62s/it]"
     ]
    },
    {
     "name": "stdout",
     "output_type": "stream",
     "text": [
      " -2.5348831 62.0216666667\n",
      "diff:  -64.5565497667\n",
      "decs:"
     ]
    },
    {
     "name": "stderr",
     "output_type": "stream",
     "text": [
      "  4%|▍         | 90/2168 [05:26<2:04:59,  3.61s/it]"
     ]
    },
    {
     "name": "stdout",
     "output_type": "stream",
     "text": [
      " -43.8667542 58.2866666667\n",
      "diff:  -102.153420867\n",
      "decs:"
     ]
    },
    {
     "name": "stderr",
     "output_type": "stream",
     "text": [
      "  5%|▍         | 100/2168 [06:02<2:04:15,  3.60s/it]"
     ]
    },
    {
     "name": "stdout",
     "output_type": "stream",
     "text": [
      " -75.1808403 64.5383333333\n",
      "diff:  -139.719173633\n",
      "decs:"
     ]
    },
    {
     "name": "stderr",
     "output_type": "stream",
     "text": [
      "  5%|▌         | 110/2168 [8:57:45<452:17:29, 791.18s/it] "
     ]
    },
    {
     "name": "stdout",
     "output_type": "stream",
     "text": [
      " -7.9492578 71.81\n",
      "diff:  -79.7592578\n",
      "decs:"
     ]
    },
    {
     "name": "stderr",
     "output_type": "stream",
     "text": [
      "  6%|▌         | 120/2168 [8:58:23<14:45:31, 25.94s/it]"
     ]
    },
    {
     "name": "stdout",
     "output_type": "stream",
     "text": [
      " -8.0107364 61.3558333333\n",
      "diff:  -69.3665697333\n",
      "decs:"
     ]
    },
    {
     "name": "stderr",
     "output_type": "stream",
     "text": [
      "  6%|▌         | 130/2168 [8:59:00<2:25:23,  4.28s/it]"
     ]
    },
    {
     "name": "stdout",
     "output_type": "stream",
     "text": [
      " -77.1971867 60.2569444444\n",
      "diff:  -137.454131144\n",
      "decs:"
     ]
    },
    {
     "name": "stderr",
     "output_type": "stream",
     "text": [
      "  6%|▋         | 140/2168 [8:59:36<2:04:11,  3.67s/it]"
     ]
    },
    {
     "name": "stdout",
     "output_type": "stream",
     "text": [
      " -77.6100789 63.8666666667\n",
      "diff:  -141.476745567\n",
      "decs:"
     ]
    },
    {
     "name": "stderr",
     "output_type": "stream",
     "text": [
      "  7%|▋         | 150/2168 [9:00:12<2:01:33,  3.61s/it]"
     ]
    },
    {
     "name": "stdout",
     "output_type": "stream",
     "text": [
      " -51.2410914 58.7333333333\n",
      "diff:  -109.974424733\n",
      "decs:"
     ]
    },
    {
     "name": "stderr",
     "output_type": "stream",
     "text": [
      "  7%|▋         | 160/2168 [9:00:49<2:01:18,  3.62s/it]"
     ]
    },
    {
     "name": "stdout",
     "output_type": "stream",
     "text": [
      " -68.5929956 54.9166666667\n",
      "diff:  -123.509662267\n",
      "decs:"
     ]
    },
    {
     "name": "stderr",
     "output_type": "stream",
     "text": [
      "  8%|▊         | 170/2168 [9:01:25<2:00:34,  3.62s/it]"
     ]
    },
    {
     "name": "stdout",
     "output_type": "stream",
     "text": [
      " -61.763715 60.5661111111\n",
      "diff:  -122.329826111\n",
      "decs:"
     ]
    },
    {
     "name": "stderr",
     "output_type": "stream",
     "text": [
      "  8%|▊         | 180/2168 [9:02:01<2:00:19,  3.63s/it]"
     ]
    },
    {
     "name": "stdout",
     "output_type": "stream",
     "text": [
      " -14.8397856 58.6\n",
      "diff:  -73.4397856\n",
      "decs:"
     ]
    },
    {
     "name": "stderr",
     "output_type": "stream",
     "text": [
      "  9%|▉         | 190/2168 [9:02:37<2:00:23,  3.65s/it]"
     ]
    },
    {
     "name": "stdout",
     "output_type": "stream",
     "text": [
      " -4.7155442 52.6538888889\n",
      "diff:  -57.3694330889\n",
      "decs:"
     ]
    },
    {
     "name": "stderr",
     "output_type": "stream",
     "text": [
      "  9%|▉         | 200/2168 [9:03:14<1:58:38,  3.62s/it]"
     ]
    },
    {
     "name": "stdout",
     "output_type": "stream",
     "text": [
      " -23.6781011 52.6583333333\n",
      "diff:  -76.3364344333\n",
      "decs:"
     ]
    },
    {
     "name": "stderr",
     "output_type": "stream",
     "text": [
      " 10%|▉         | 210/2168 [9:03:50<1:58:14,  3.62s/it]"
     ]
    },
    {
     "name": "stdout",
     "output_type": "stream",
     "text": [
      " -3.1749483 57.2372222222\n",
      "diff:  -60.4121705222\n",
      "decs:"
     ]
    },
    {
     "name": "stderr",
     "output_type": "stream",
     "text": [
      " 10%|█         | 220/2168 [9:04:26<1:57:27,  3.62s/it]"
     ]
    },
    {
     "name": "stdout",
     "output_type": "stream",
     "text": [
      " -39.2448614 62.3316666667\n",
      "diff:  -101.576528067\n",
      "decs:"
     ]
    },
    {
     "name": "stderr",
     "output_type": "stream",
     "text": [
      " 11%|█         | 230/2168 [9:05:02<1:56:44,  3.61s/it]"
     ]
    },
    {
     "name": "stdout",
     "output_type": "stream",
     "text": [
      " -14.5307903 44.9166666667\n",
      "diff:  -59.4474569667\n",
      "decs:"
     ]
    },
    {
     "name": "stderr",
     "output_type": "stream",
     "text": [
      " 11%|█         | 240/2168 [9:05:39<1:57:13,  3.65s/it]"
     ]
    },
    {
     "name": "stdout",
     "output_type": "stream",
     "text": [
      " -22.9281281 45.27\n",
      "diff:  -68.1981281\n",
      "decs:"
     ]
    },
    {
     "name": "stderr",
     "output_type": "stream",
     "text": [
      " 12%|█▏        | 250/2168 [9:06:15<1:55:34,  3.62s/it]"
     ]
    },
    {
     "name": "stdout",
     "output_type": "stream",
     "text": [
      " -71.3004764 41.5125\n",
      "diff:  -112.8129764\n",
      "decs:"
     ]
    },
    {
     "name": "stderr",
     "output_type": "stream",
     "text": [
      " 12%|█▏        | 260/2168 [9:06:51<1:55:18,  3.63s/it]"
     ]
    },
    {
     "name": "stdout",
     "output_type": "stream",
     "text": [
      " -61.9025428 41.73\n",
      "diff:  -103.6325428\n",
      "decs:"
     ]
    },
    {
     "name": "stderr",
     "output_type": "stream",
     "text": [
      " 12%|█▏        | 270/2168 [9:07:27<1:54:52,  3.63s/it]"
     ]
    },
    {
     "name": "stdout",
     "output_type": "stream",
     "text": [
      " -71.5923042 -68.8444444444\n",
      "diff:  -2.74785975556\n",
      "decs:"
     ]
    },
    {
     "name": "stderr",
     "output_type": "stream",
     "text": [
      " 13%|█▎        | 280/2168 [9:08:04<1:56:37,  3.71s/it]"
     ]
    },
    {
     "name": "stdout",
     "output_type": "stream",
     "text": [
      " -50.0078025 52.8333333333\n",
      "diff:  -102.841135833\n",
      "decs:"
     ]
    },
    {
     "name": "stderr",
     "output_type": "stream",
     "text": [
      " 13%|█▎        | 290/2168 [9:08:40<1:54:33,  3.66s/it]"
     ]
    },
    {
     "name": "stdout",
     "output_type": "stream",
     "text": [
      " 10.89262 49.8688888889\n",
      "diff:  -38.9762688889\n",
      "decs:"
     ]
    },
    {
     "name": "stderr",
     "output_type": "stream",
     "text": [
      " 14%|█▍        | 300/2168 [9:09:17<1:52:35,  3.62s/it]"
     ]
    },
    {
     "name": "stdout",
     "output_type": "stream",
     "text": [
      " 1.9638494 32.6886111111\n",
      "diff:  -30.7247617111\n",
      "decs:"
     ]
    },
    {
     "name": "stderr",
     "output_type": "stream",
     "text": [
      " 14%|█▍        | 310/2168 [9:09:53<1:52:21,  3.63s/it]"
     ]
    },
    {
     "name": "stdout",
     "output_type": "stream",
     "text": [
      " -41.4215478 30.6\n",
      "diff:  -72.0215478\n",
      "decs:"
     ]
    },
    {
     "name": "stderr",
     "output_type": "stream",
     "text": [
      " 15%|█▍        | 320/2168 [9:10:29<1:51:59,  3.64s/it]"
     ]
    },
    {
     "name": "stdout",
     "output_type": "stream",
     "text": [
      " -35.4993156 33.5005555556\n",
      "diff:  -68.9998711556\n",
      "decs:"
     ]
    },
    {
     "name": "stderr",
     "output_type": "stream",
     "text": [
      " 15%|█▌        | 330/2168 [9:11:06<1:51:16,  3.63s/it]"
     ]
    },
    {
     "name": "stdout",
     "output_type": "stream",
     "text": [
      " -6.5821242 0.82\n",
      "diff:  -7.4021242\n",
      "decs:"
     ]
    },
    {
     "name": "stderr",
     "output_type": "stream",
     "text": [
      " 16%|█▌        | 340/2168 [9:11:43<1:52:03,  3.68s/it]"
     ]
    },
    {
     "name": "stdout",
     "output_type": "stream",
     "text": [
      " 9.8486156 34.4233333333\n",
      "diff:  -24.5747177333\n",
      "decs:"
     ]
    },
    {
     "name": "stderr",
     "output_type": "stream",
     "text": [
      " 16%|█▌        | 350/2168 [9:12:19<1:50:03,  3.63s/it]"
     ]
    },
    {
     "name": "stdout",
     "output_type": "stream",
     "text": [
      " -20.7097175 25.5955555556\n",
      "diff:  -46.3052730556\n",
      "decs:"
     ]
    },
    {
     "name": "stderr",
     "output_type": "stream",
     "text": [
      " 17%|█▋        | 360/2168 [9:12:56<1:50:32,  3.67s/it]"
     ]
    },
    {
     "name": "stdout",
     "output_type": "stream",
     "text": [
      " -24.0099069 31.8555555556\n",
      "diff:  -55.8654624556\n",
      "decs:"
     ]
    },
    {
     "name": "stderr",
     "output_type": "stream",
     "text": [
      " 17%|█▋        | 370/2168 [9:13:32<1:48:24,  3.62s/it]"
     ]
    },
    {
     "name": "stdout",
     "output_type": "stream",
     "text": [
      " -20.4110894 -17.8466666667\n",
      "diff:  -2.56442273333\n",
      "decs:"
     ]
    },
    {
     "name": "stderr",
     "output_type": "stream",
     "text": [
      " 18%|█▊        | 380/2168 [9:14:08<1:48:09,  3.63s/it]"
     ]
    },
    {
     "name": "stdout",
     "output_type": "stream",
     "text": [
      " -25.6894744 28.9413888889\n",
      "diff:  -54.6308632889\n",
      "decs:"
     ]
    },
    {
     "name": "stderr",
     "output_type": "stream",
     "text": [
      " 18%|█▊        | 390/2168 [9:14:45<1:49:24,  3.69s/it]"
     ]
    },
    {
     "name": "stdout",
     "output_type": "stream",
     "text": [
      " -48.0559203 26.3680555556\n",
      "diff:  -74.4239758556\n",
      "decs:"
     ]
    },
    {
     "name": "stderr",
     "output_type": "stream",
     "text": [
      " 18%|█▊        | 400/2168 [9:15:21<1:46:33,  3.62s/it]"
     ]
    },
    {
     "name": "stdout",
     "output_type": "stream",
     "text": [
      " 10.613624 29.9044444444\n",
      "diff:  -19.2908204444\n",
      "decs:"
     ]
    },
    {
     "name": "stderr",
     "output_type": "stream",
     "text": [
      " 19%|█▉        | 410/2168 [9:15:57<1:45:45,  3.61s/it]"
     ]
    },
    {
     "name": "stdout",
     "output_type": "stream",
     "text": [
      " -27.9130475 35.2766666667\n",
      "diff:  -63.1897141667\n",
      "decs:"
     ]
    },
    {
     "name": "stderr",
     "output_type": "stream",
     "text": [
      " 19%|█▉        | 420/2168 [9:16:33<1:45:11,  3.61s/it]"
     ]
    },
    {
     "name": "stdout",
     "output_type": "stream",
     "text": [
      " -13.4179394 24.0558333333\n",
      "diff:  -37.4737727333\n",
      "decs:"
     ]
    },
    {
     "name": "stderr",
     "output_type": "stream",
     "text": [
      " 20%|█▉        | 430/2168 [9:17:10<1:44:50,  3.62s/it]"
     ]
    },
    {
     "name": "stdout",
     "output_type": "stream",
     "text": [
      " -8.9130292 24.3333333333\n",
      "diff:  -33.2463625333\n",
      "decs:"
     ]
    },
    {
     "name": "stderr",
     "output_type": "stream",
     "text": [
      " 20%|██        | 440/2168 [9:17:46<1:44:21,  3.62s/it]"
     ]
    },
    {
     "name": "stdout",
     "output_type": "stream",
     "text": [
      " 4.0379978 24.5605555556\n",
      "diff:  -20.5225577556\n",
      "decs:"
     ]
    },
    {
     "name": "stderr",
     "output_type": "stream",
     "text": [
      " 21%|██        | 450/2168 [9:18:22<1:43:25,  3.61s/it]"
     ]
    },
    {
     "name": "stdout",
     "output_type": "stream",
     "text": [
      " 0.22645 13.0072222222\n",
      "diff:  -12.7807722222\n",
      "decs:"
     ]
    },
    {
     "name": "stderr",
     "output_type": "stream",
     "text": [
      " 21%|██        | 460/2168 [9:18:59<1:44:29,  3.67s/it]"
     ]
    },
    {
     "name": "stdout",
     "output_type": "stream",
     "text": [
      " 3.7352119 3.845\n",
      "diff:  -0.1097881\n",
      "decs:"
     ]
    },
    {
     "name": "stderr",
     "output_type": "stream",
     "text": [
      " 22%|██▏       | 470/2168 [9:19:36<1:43:43,  3.67s/it]"
     ]
    },
    {
     "name": "stdout",
     "output_type": "stream",
     "text": [
      " -34.7595067 46.67\n",
      "diff:  -81.4295067\n",
      "decs:"
     ]
    },
    {
     "name": "stderr",
     "output_type": "stream",
     "text": [
      " 22%|██▏       | 480/2168 [9:20:12<1:42:20,  3.64s/it]"
     ]
    },
    {
     "name": "stdout",
     "output_type": "stream",
     "text": [
      " -11.1936725 14.5830555556\n",
      "diff:  -25.7767280556\n",
      "decs:"
     ]
    },
    {
     "name": "stderr",
     "output_type": "stream",
     "text": [
      " 23%|██▎       | 490/2168 [9:20:48<1:41:00,  3.61s/it]"
     ]
    },
    {
     "name": "stdout",
     "output_type": "stream",
     "text": [
      " -67.6996142 -7.02\n",
      "diff:  -60.6796142\n",
      "decs:"
     ]
    },
    {
     "name": "stderr",
     "output_type": "stream",
     "text": [
      " 23%|██▎       | 500/2168 [9:21:25<1:40:48,  3.63s/it]"
     ]
    },
    {
     "name": "stdout",
     "output_type": "stream",
     "text": [
      " -47.2575919 4.96916666667\n",
      "diff:  -52.2267585667\n",
      "decs:"
     ]
    },
    {
     "name": "stderr",
     "output_type": "stream",
     "text": [
      " 24%|██▎       | 510/2168 [9:22:01<1:39:59,  3.62s/it]"
     ]
    },
    {
     "name": "stdout",
     "output_type": "stream",
     "text": [
      " -27.5956189 8.08333333333\n",
      "diff:  -35.6789522333\n",
      "decs:"
     ]
    },
    {
     "name": "stderr",
     "output_type": "stream",
     "text": [
      " 24%|██▍       | 520/2168 [9:22:37<1:40:25,  3.66s/it]"
     ]
    },
    {
     "name": "stdout",
     "output_type": "stream",
     "text": [
      " -16.9636144 5.60055555556\n",
      "diff:  -22.5641699556\n",
      "decs:"
     ]
    },
    {
     "name": "stderr",
     "output_type": "stream",
     "text": [
      " 24%|██▍       | 530/2168 [9:23:14<1:39:33,  3.65s/it]"
     ]
    },
    {
     "name": "stdout",
     "output_type": "stream",
     "text": [
      " -6.9857769 1.14333333333\n",
      "diff:  -8.12911023333\n",
      "decs:"
     ]
    },
    {
     "name": "stderr",
     "output_type": "stream",
     "text": [
      " 25%|██▍       | 540/2168 [9:23:51<1:39:55,  3.68s/it]"
     ]
    },
    {
     "name": "stdout",
     "output_type": "stream",
     "text": [
      " -21.9317797 -29.4541666667\n",
      "diff:  7.52238696667\n",
      "decs:"
     ]
    },
    {
     "name": "stderr",
     "output_type": "stream",
     "text": [
      " 25%|██▌       | 550/2168 [9:24:27<1:37:36,  3.62s/it]"
     ]
    },
    {
     "name": "stdout",
     "output_type": "stream",
     "text": [
      " -11.0138622 0.3\n",
      "diff:  -11.3138622\n",
      "decs:"
     ]
    },
    {
     "name": "stderr",
     "output_type": "stream",
     "text": [
      " 26%|██▌       | 560/2168 [9:25:03<1:37:03,  3.62s/it]"
     ]
    },
    {
     "name": "stdout",
     "output_type": "stream",
     "text": [
      " -24.0676203 -10.5333333333\n",
      "diff:  -13.5342869667\n",
      "decs:"
     ]
    },
    {
     "name": "stderr",
     "output_type": "stream",
     "text": [
      " 26%|██▋       | 570/2168 [9:25:39<1:36:59,  3.64s/it]"
     ]
    },
    {
     "name": "stdout",
     "output_type": "stream",
     "text": [
      " -45.406045 3.64166666667\n",
      "diff:  -49.0477116667\n",
      "decs:"
     ]
    },
    {
     "name": "stderr",
     "output_type": "stream",
     "text": [
      " 27%|██▋       | 580/2168 [9:26:16<1:35:39,  3.61s/it]"
     ]
    },
    {
     "name": "stdout",
     "output_type": "stream",
     "text": [
      " -29.3828886 -7.20333333333\n",
      "diff:  -22.1795552667\n",
      "decs:"
     ]
    },
    {
     "name": "stderr",
     "output_type": "stream",
     "text": [
      " 27%|██▋       | 590/2168 [9:26:52<1:35:08,  3.62s/it]"
     ]
    },
    {
     "name": "stdout",
     "output_type": "stream",
     "text": [
      " -18.4484556 3.21666666667\n",
      "diff:  -21.6651222667\n",
      "decs:"
     ]
    },
    {
     "name": "stderr",
     "output_type": "stream",
     "text": [
      " 28%|██▊       | 600/2168 [9:27:29<1:35:22,  3.65s/it]"
     ]
    },
    {
     "name": "stdout",
     "output_type": "stream",
     "text": [
      " -49.9443936 -5.82666666667\n",
      "diff:  -44.1177269333\n",
      "decs:"
     ]
    },
    {
     "name": "stderr",
     "output_type": "stream",
     "text": [
      " 28%|██▊       | 610/2168 [9:28:05<1:34:10,  3.63s/it]"
     ]
    },
    {
     "name": "stdout",
     "output_type": "stream",
     "text": [
      " -28.0418533 -21.9166666667\n",
      "diff:  -6.12518663333\n",
      "decs:"
     ]
    },
    {
     "name": "stderr",
     "output_type": "stream",
     "text": [
      " 29%|██▊       | 620/2168 [9:28:41<1:33:55,  3.64s/it]"
     ]
    },
    {
     "name": "stdout",
     "output_type": "stream",
     "text": [
      " -46.2726206 -19.75\n",
      "diff:  -26.5226206\n",
      "decs:"
     ]
    },
    {
     "name": "stderr",
     "output_type": "stream",
     "text": [
      " 29%|██▉       | 630/2168 [9:29:18<1:32:42,  3.62s/it]"
     ]
    },
    {
     "name": "stdout",
     "output_type": "stream",
     "text": [
      " -46.1901578 -10.715\n",
      "diff:  -35.4751578\n",
      "decs:"
     ]
    },
    {
     "name": "stderr",
     "output_type": "stream",
     "text": [
      " 30%|██▉       | 640/2168 [9:29:54<1:32:34,  3.63s/it]"
     ]
    },
    {
     "name": "stdout",
     "output_type": "stream",
     "text": [
      " -42.5217861 -13.1933333333\n",
      "diff:  -29.3284527667\n",
      "decs:"
     ]
    },
    {
     "name": "stderr",
     "output_type": "stream",
     "text": [
      " 30%|██▉       | 650/2168 [9:30:30<1:31:23,  3.61s/it]"
     ]
    },
    {
     "name": "stdout",
     "output_type": "stream",
     "text": [
      " -25.7201108 2.12\n",
      "diff:  -27.8401108\n",
      "decs:"
     ]
    },
    {
     "name": "stderr",
     "output_type": "stream",
     "text": [
      " 30%|███       | 660/2168 [9:31:06<1:30:51,  3.62s/it]"
     ]
    },
    {
     "name": "stdout",
     "output_type": "stream",
     "text": [
      " -53.1742969 -13.1930555556\n",
      "diff:  -39.9812413444\n",
      "decs:"
     ]
    },
    {
     "name": "stderr",
     "output_type": "stream",
     "text": [
      " 31%|███       | 670/2168 [9:31:43<1:30:33,  3.63s/it]"
     ]
    },
    {
     "name": "stdout",
     "output_type": "stream",
     "text": [
      " -67.1618825 -17.6130555556\n",
      "diff:  -49.5488269444\n",
      "decs:"
     ]
    },
    {
     "name": "stderr",
     "output_type": "stream",
     "text": [
      " 31%|███▏      | 680/2168 [9:32:19<1:29:30,  3.61s/it]"
     ]
    },
    {
     "name": "stdout",
     "output_type": "stream",
     "text": [
      " -36.4126178 1.80805555556\n",
      "diff:  -38.2206733556\n",
      "decs:"
     ]
    },
    {
     "name": "stderr",
     "output_type": "stream",
     "text": [
      " 32%|███▏      | 690/2168 [9:32:55<1:28:57,  3.61s/it]"
     ]
    },
    {
     "name": "stdout",
     "output_type": "stream",
     "text": [
      " -40.0371794 -13.2633333333\n",
      "diff:  -26.7738460667\n",
      "decs:"
     ]
    },
    {
     "name": "stderr",
     "output_type": "stream",
     "text": [
      " 32%|███▏      | 700/2168 [9:33:31<1:28:28,  3.62s/it]"
     ]
    },
    {
     "name": "stdout",
     "output_type": "stream",
     "text": [
      " -53.7206922 -21.5833333333\n",
      "diff:  -32.1373588667\n",
      "decs:"
     ]
    },
    {
     "name": "stderr",
     "output_type": "stream",
     "text": [
      " 33%|███▎      | 710/2168 [9:34:07<1:27:44,  3.61s/it]"
     ]
    },
    {
     "name": "stdout",
     "output_type": "stream",
     "text": [
      " -32.0900181 13.6083333333\n",
      "diff:  -45.6983514333\n",
      "decs:"
     ]
    },
    {
     "name": "stderr",
     "output_type": "stream",
     "text": [
      " 33%|███▎      | 720/2168 [9:34:43<1:27:26,  3.62s/it]"
     ]
    },
    {
     "name": "stdout",
     "output_type": "stream",
     "text": [
      " -47.3501958 -13.9666666667\n",
      "diff:  -33.3835291333\n",
      "decs:"
     ]
    },
    {
     "name": "stderr",
     "output_type": "stream",
     "text": [
      " 34%|███▎      | 730/2168 [9:35:19<1:26:20,  3.60s/it]"
     ]
    },
    {
     "name": "stdout",
     "output_type": "stream",
     "text": [
      " 6.5569894 -12.7636111111\n",
      "diff:  19.3206005111\n",
      "decs:"
     ]
    },
    {
     "name": "stderr",
     "output_type": "stream",
     "text": [
      " 34%|███▍      | 740/2168 [9:35:56<1:25:59,  3.61s/it]"
     ]
    },
    {
     "name": "stdout",
     "output_type": "stream",
     "text": [
      " 7.8514717 -19.7897222222\n",
      "diff:  27.6411939222\n",
      "decs:"
     ]
    },
    {
     "name": "stderr",
     "output_type": "stream",
     "text": [
      " 35%|███▍      | 750/2168 [9:36:32<1:25:41,  3.63s/it]"
     ]
    },
    {
     "name": "stdout",
     "output_type": "stream",
     "text": [
      " -51.5368769 -12.0666666667\n",
      "diff:  -39.4702102333\n",
      "decs:"
     ]
    },
    {
     "name": "stderr",
     "output_type": "stream",
     "text": [
      " 35%|███▌      | 760/2168 [9:37:08<1:24:52,  3.62s/it]"
     ]
    },
    {
     "name": "stdout",
     "output_type": "stream",
     "text": [
      " -38.8814139 -16.2966666667\n",
      "diff:  -22.5847472333\n",
      "decs:"
     ]
    },
    {
     "name": "stderr",
     "output_type": "stream",
     "text": [
      " 36%|███▌      | 770/2168 [9:37:44<1:24:24,  3.62s/it]"
     ]
    },
    {
     "name": "stdout",
     "output_type": "stream",
     "text": [
      " -60.1985911 -14.81\n",
      "diff:  -45.3885911\n",
      "decs:"
     ]
    },
    {
     "name": "stderr",
     "output_type": "stream",
     "text": [
      " 36%|███▌      | 780/2168 [9:38:20<1:23:30,  3.61s/it]"
     ]
    },
    {
     "name": "stdout",
     "output_type": "stream",
     "text": [
      " -43.9783433 -46.7133333333\n",
      "diff:  2.73499003333\n",
      "decs:"
     ]
    },
    {
     "name": "stderr",
     "output_type": "stream",
     "text": [
      " 36%|███▋      | 790/2168 [9:38:57<1:23:05,  3.62s/it]"
     ]
    },
    {
     "name": "stdout",
     "output_type": "stream",
     "text": [
      " -49.8444683 -27.9141666667\n",
      "diff:  -21.9303016333\n",
      "decs:"
     ]
    },
    {
     "name": "stderr",
     "output_type": "stream",
     "text": [
      " 37%|███▋      | 800/2168 [9:39:33<1:22:17,  3.61s/it]"
     ]
    },
    {
     "name": "stdout",
     "output_type": "stream",
     "text": [
      " -13.4789286 -22.1305555556\n",
      "diff:  8.65162695556\n",
      "decs:"
     ]
    },
    {
     "name": "stderr",
     "output_type": "stream",
     "text": [
      " 37%|███▋      | 810/2168 [9:40:09<1:21:42,  3.61s/it]"
     ]
    },
    {
     "name": "stdout",
     "output_type": "stream",
     "text": [
      " -67.5011475 -53.045\n",
      "diff:  -14.4561475\n",
      "decs:"
     ]
    },
    {
     "name": "stderr",
     "output_type": "stream",
     "text": [
      " 38%|███▊      | 820/2168 [9:40:45<1:21:17,  3.62s/it]"
     ]
    },
    {
     "name": "stdout",
     "output_type": "stream",
     "text": [
      " 0.9552272 -30.3666666667\n",
      "diff:  31.3218938667\n",
      "decs:"
     ]
    },
    {
     "name": "stderr",
     "output_type": "stream",
     "text": [
      " 38%|███▊      | 830/2168 [9:41:21<1:20:22,  3.60s/it]"
     ]
    },
    {
     "name": "stdout",
     "output_type": "stream",
     "text": [
      " -70.6697558 -10.77\n",
      "diff:  -59.8997558\n",
      "decs:"
     ]
    },
    {
     "name": "stderr",
     "output_type": "stream",
     "text": [
      " 39%|███▊      | 840/2168 [9:41:57<1:20:16,  3.63s/it]"
     ]
    },
    {
     "name": "stdout",
     "output_type": "stream",
     "text": [
      " -74.8042908 -46.3833333333\n",
      "diff:  -28.4209574667\n",
      "decs:"
     ]
    },
    {
     "name": "stderr",
     "output_type": "stream",
     "text": [
      " 39%|███▉      | 850/2168 [9:42:33<1:19:16,  3.61s/it]"
     ]
    },
    {
     "name": "stdout",
     "output_type": "stream",
     "text": [
      " -5.6410003 -32.35\n",
      "diff:  26.7089997\n",
      "decs:"
     ]
    },
    {
     "name": "stderr",
     "output_type": "stream",
     "text": [
      " 40%|███▉      | 860/2168 [9:43:10<1:18:40,  3.61s/it]"
     ]
    },
    {
     "name": "stdout",
     "output_type": "stream",
     "text": [
      " 2.5794194 -37.595\n",
      "diff:  40.1744194\n",
      "decs:"
     ]
    },
    {
     "name": "stderr",
     "output_type": "stream",
     "text": [
      " 40%|████      | 870/2168 [9:43:46<1:18:17,  3.62s/it]"
     ]
    },
    {
     "name": "stdout",
     "output_type": "stream",
     "text": [
      " 5.6810017 -35.65\n",
      "diff:  41.3310017\n",
      "decs:"
     ]
    },
    {
     "name": "stderr",
     "output_type": "stream",
     "text": [
      " 41%|████      | 880/2168 [9:44:22<1:17:30,  3.61s/it]"
     ]
    },
    {
     "name": "stdout",
     "output_type": "stream",
     "text": [
      " -51.4933358 -36.2166666667\n",
      "diff:  -15.2766691333\n",
      "decs:"
     ]
    },
    {
     "name": "stderr",
     "output_type": "stream",
     "text": [
      " 41%|████      | 890/2168 [9:44:58<1:17:00,  3.62s/it]"
     ]
    },
    {
     "name": "stdout",
     "output_type": "stream",
     "text": [
      " 10.79388 -47.2141666667\n",
      "diff:  58.0080466667\n",
      "decs:"
     ]
    },
    {
     "name": "stderr",
     "output_type": "stream",
     "text": [
      " 42%|████▏     | 900/2168 [9:45:34<1:16:41,  3.63s/it]"
     ]
    },
    {
     "name": "stdout",
     "output_type": "stream",
     "text": [
      " -23.1676786 -19.1\n",
      "diff:  -4.0676786\n",
      "decs:"
     ]
    },
    {
     "name": "stderr",
     "output_type": "stream",
     "text": [
      " 42%|████▏     | 910/2168 [9:46:10<1:15:47,  3.61s/it]"
     ]
    },
    {
     "name": "stdout",
     "output_type": "stream",
     "text": [
      " -12.9076181 -44.4166666667\n",
      "diff:  31.5090485667\n",
      "decs:"
     ]
    },
    {
     "name": "stderr",
     "output_type": "stream",
     "text": [
      " 42%|████▏     | 920/2168 [9:46:47<1:15:06,  3.61s/it]"
     ]
    },
    {
     "name": "stdout",
     "output_type": "stream",
     "text": [
      " -5.5426939 -44.05\n",
      "diff:  38.5073061\n",
      "decs:"
     ]
    },
    {
     "name": "stderr",
     "output_type": "stream",
     "text": [
      " 43%|████▎     | 930/2168 [9:47:23<1:14:25,  3.61s/it]"
     ]
    },
    {
     "name": "stdout",
     "output_type": "stream",
     "text": [
      " -53.1030669 -79.0272222222\n",
      "diff:  25.9241553222\n",
      "decs:"
     ]
    },
    {
     "name": "stderr",
     "output_type": "stream",
     "text": [
      " 43%|████▎     | 940/2168 [9:47:59<1:14:01,  3.62s/it]"
     ]
    },
    {
     "name": "stdout",
     "output_type": "stream",
     "text": [
      " -53.3835258 -46.2961111111\n",
      "diff:  -7.08741468889\n",
      "decs:"
     ]
    },
    {
     "name": "stderr",
     "output_type": "stream",
     "text": [
      " 44%|████▍     | 950/2168 [9:48:35<1:13:47,  3.64s/it]"
     ]
    },
    {
     "name": "stdout",
     "output_type": "stream",
     "text": [
      " -29.176625 -52.075\n",
      "diff:  22.898375\n",
      "decs:"
     ]
    },
    {
     "name": "stderr",
     "output_type": "stream",
     "text": [
      " 44%|████▍     | 960/2168 [9:49:11<1:12:41,  3.61s/it]"
     ]
    },
    {
     "name": "stdout",
     "output_type": "stream",
     "text": [
      " -55.9268353 -41.72\n",
      "diff:  -14.2068353\n",
      "decs:"
     ]
    },
    {
     "name": "stderr",
     "output_type": "stream",
     "text": [
      " 45%|████▍     | 970/2168 [9:49:47<1:12:07,  3.61s/it]"
     ]
    },
    {
     "name": "stdout",
     "output_type": "stream",
     "text": [
      " -74.8724961 -43.25\n",
      "diff:  -31.6224961\n",
      "decs:"
     ]
    },
    {
     "name": "stderr",
     "output_type": "stream",
     "text": [
      " 45%|████▌     | 980/2168 [9:50:23<1:11:30,  3.61s/it]"
     ]
    },
    {
     "name": "stdout",
     "output_type": "stream",
     "text": [
      " -62.9975608 -47.04\n",
      "diff:  -15.9575608\n",
      "decs:"
     ]
    },
    {
     "name": "stderr",
     "output_type": "stream",
     "text": [
      " 46%|████▌     | 990/2168 [9:51:00<1:10:49,  3.61s/it]"
     ]
    },
    {
     "name": "stdout",
     "output_type": "stream",
     "text": [
      " -65.1065586 -52.84\n",
      "diff:  -12.2665586\n",
      "decs:"
     ]
    },
    {
     "name": "stderr",
     "output_type": "stream",
     "text": [
      " 46%|████▌     | 1000/2168 [9:51:36<1:10:20,  3.61s/it]"
     ]
    },
    {
     "name": "stdout",
     "output_type": "stream",
     "text": [
      " -37.4521486 -53.2333333333\n",
      "diff:  15.7811847333\n",
      "decs:"
     ]
    },
    {
     "name": "stderr",
     "output_type": "stream",
     "text": [
      " 47%|████▋     | 1010/2168 [9:52:12<1:09:39,  3.61s/it]"
     ]
    },
    {
     "name": "stdout",
     "output_type": "stream",
     "text": [
      " -71.4407186 -53.05\n",
      "diff:  -18.3907186\n",
      "decs:"
     ]
    },
    {
     "name": "stderr",
     "output_type": "stream",
     "text": [
      " 47%|████▋     | 1020/2168 [9:52:48<1:09:11,  3.62s/it]"
     ]
    },
    {
     "name": "stdout",
     "output_type": "stream",
     "text": [
      " -29.9803686 -52.9577777778\n",
      "diff:  22.9774091778\n",
      "decs:"
     ]
    },
    {
     "name": "stderr",
     "output_type": "stream",
     "text": [
      " 48%|████▊     | 1030/2168 [9:53:24<1:08:29,  3.61s/it]"
     ]
    },
    {
     "name": "stdout",
     "output_type": "stream",
     "text": [
      " -37.8101556 -54.44\n",
      "diff:  16.6298444\n",
      "decs:"
     ]
    },
    {
     "name": "stderr",
     "output_type": "stream",
     "text": [
      " 48%|████▊     | 1040/2168 [9:54:00<1:08:16,  3.63s/it]"
     ]
    },
    {
     "name": "stdout",
     "output_type": "stream",
     "text": [
      " -66.4264656 -57.08\n",
      "diff:  -9.3464656\n",
      "decs:"
     ]
    },
    {
     "name": "stderr",
     "output_type": "stream",
     "text": [
      " 48%|████▊     | 1050/2168 [9:54:37<1:07:30,  3.62s/it]"
     ]
    },
    {
     "name": "stdout",
     "output_type": "stream",
     "text": [
      " -41.4001267 -49.5666666667\n",
      "diff:  8.16653996667\n",
      "decs:"
     ]
    },
    {
     "name": "stderr",
     "output_type": "stream",
     "text": [
      " 49%|████▉     | 1060/2168 [9:55:13<1:06:39,  3.61s/it]"
     ]
    },
    {
     "name": "stdout",
     "output_type": "stream",
     "text": [
      " -38.1307853 -60.3\n",
      "diff:  22.1692147\n",
      "decs:"
     ]
    },
    {
     "name": "stderr",
     "output_type": "stream",
     "text": [
      " 49%|████▉     | 1070/2168 [9:55:49<1:06:17,  3.62s/it]"
     ]
    },
    {
     "name": "stdout",
     "output_type": "stream",
     "text": [
      " -48.3186119 -29.19\n",
      "diff:  -19.1286119\n",
      "decs:"
     ]
    },
    {
     "name": "stderr",
     "output_type": "stream",
     "text": [
      " 50%|████▉     | 1080/2168 [9:56:25<1:05:33,  3.62s/it]"
     ]
    },
    {
     "name": "stdout",
     "output_type": "stream",
     "text": [
      " -39.2341789 -69.335\n",
      "diff:  30.1008211\n",
      "decs:"
     ]
    },
    {
     "name": "stderr",
     "output_type": "stream",
     "text": [
      " 50%|█████     | 1090/2168 [9:57:01<1:05:21,  3.64s/it]"
     ]
    },
    {
     "name": "stdout",
     "output_type": "stream",
     "text": [
      " -63.580978 -60.6666666667\n",
      "diff:  -2.91431133333\n",
      "decs:"
     ]
    },
    {
     "name": "stderr",
     "output_type": "stream",
     "text": [
      " 51%|█████     | 1100/2168 [9:57:38<1:05:03,  3.66s/it]"
     ]
    },
    {
     "name": "stdout",
     "output_type": "stream",
     "text": [
      " -52.1146914 -58.48\n",
      "diff:  6.3653086\n",
      "decs:"
     ]
    },
    {
     "name": "stderr",
     "output_type": "stream",
     "text": [
      " 51%|█████     | 1110/2168 [9:58:14<1:05:00,  3.69s/it]"
     ]
    },
    {
     "name": "stdout",
     "output_type": "stream",
     "text": [
      " -50.7389217 -69.0333333333\n",
      "diff:  18.2944116333\n",
      "decs:"
     ]
    },
    {
     "name": "stderr",
     "output_type": "stream",
     "text": [
      " 52%|█████▏    | 1120/2168 [9:58:52<1:06:26,  3.80s/it]"
     ]
    },
    {
     "name": "stdout",
     "output_type": "stream",
     "text": [
      " -38.5193664 -59.3666666667\n",
      "diff:  20.8473002667\n",
      "decs:"
     ]
    },
    {
     "name": "stderr",
     "output_type": "stream",
     "text": [
      " 52%|█████▏    | 1130/2168 [9:59:30<1:05:26,  3.78s/it]"
     ]
    },
    {
     "name": "stdout",
     "output_type": "stream",
     "text": [
      " -40.2942003 -62.3166666667\n",
      "diff:  22.0224663667\n",
      "decs:"
     ]
    },
    {
     "name": "stderr",
     "output_type": "stream",
     "text": [
      " 53%|█████▎    | 1140/2168 [10:00:08<1:05:06,  3.80s/it]"
     ]
    },
    {
     "name": "stdout",
     "output_type": "stream",
     "text": [
      " -44.2325794 -61.1875\n",
      "diff:  16.9549206\n",
      "decs:"
     ]
    },
    {
     "name": "stderr",
     "output_type": "stream",
     "text": [
      " 53%|█████▎    | 1150/2168 [10:00:46<1:04:36,  3.81s/it]"
     ]
    },
    {
     "name": "stdout",
     "output_type": "stream",
     "text": [
      " -76.376115 -58.7533333333\n",
      "diff:  -17.6227816667\n",
      "decs:"
     ]
    },
    {
     "name": "stderr",
     "output_type": "stream",
     "text": [
      " 54%|█████▎    | 1160/2168 [10:01:24<1:03:35,  3.79s/it]"
     ]
    },
    {
     "name": "stdout",
     "output_type": "stream",
     "text": [
      " -51.1755622 -60.4\n",
      "diff:  9.2244378\n",
      "decs:"
     ]
    },
    {
     "name": "stderr",
     "output_type": "stream",
     "text": [
      " 54%|█████▍    | 1170/2168 [10:02:02<1:02:59,  3.79s/it]"
     ]
    },
    {
     "name": "stdout",
     "output_type": "stream",
     "text": [
      " -36.5714803 -55.42\n",
      "diff:  18.8485197\n",
      "decs:"
     ]
    },
    {
     "name": "stderr",
     "output_type": "stream",
     "text": [
      " 54%|█████▍    | 1180/2168 [10:02:40<1:02:14,  3.78s/it]"
     ]
    },
    {
     "name": "stdout",
     "output_type": "stream",
     "text": [
      " -2.8421306 -58.55\n",
      "diff:  55.7078694\n",
      "decs:"
     ]
    },
    {
     "name": "stderr",
     "output_type": "stream",
     "text": [
      " 55%|█████▍    | 1190/2168 [10:03:18<1:01:39,  3.78s/it]"
     ]
    },
    {
     "name": "stdout",
     "output_type": "stream",
     "text": [
      " -71.1766336 -62.4833333333\n",
      "diff:  -8.69330026667\n",
      "decs:"
     ]
    },
    {
     "name": "stderr",
     "output_type": "stream",
     "text": [
      " 55%|█████▌    | 1200/2168 [10:03:55<1:01:08,  3.79s/it]"
     ]
    },
    {
     "name": "stdout",
     "output_type": "stream",
     "text": [
      " -67.4786328 -55.6733333333\n",
      "diff:  -11.8052994667\n",
      "decs:"
     ]
    },
    {
     "name": "stderr",
     "output_type": "stream",
     "text": [
      " 56%|█████▌    | 1210/2168 [10:04:33<1:00:19,  3.78s/it]"
     ]
    },
    {
     "name": "stdout",
     "output_type": "stream",
     "text": [
      " -23.0979856 -60.925\n",
      "diff:  37.8270144\n",
      "decs:"
     ]
    },
    {
     "name": "stderr",
     "output_type": "stream",
     "text": [
      " 56%|█████▋    | 1220/2168 [10:05:11<59:46,  3.78s/it]"
     ]
    },
    {
     "name": "stdout",
     "output_type": "stream",
     "text": [
      " -30.5962253 -62.7063888889\n",
      "diff:  32.1101635889\n",
      "decs:"
     ]
    },
    {
     "name": "stderr",
     "output_type": "stream",
     "text": [
      " 57%|█████▋    | 1230/2168 [10:05:49<59:18,  3.79s/it]"
     ]
    },
    {
     "name": "stdout",
     "output_type": "stream",
     "text": [
      " -47.0138467 -68.4666666667\n",
      "diff:  21.4528199667\n",
      "decs:"
     ]
    },
    {
     "name": "stderr",
     "output_type": "stream",
     "text": [
      " 57%|█████▋    | 1240/2168 [10:06:27<58:31,  3.78s/it]"
     ]
    },
    {
     "name": "stdout",
     "output_type": "stream",
     "text": [
      " -44.0669697 -56.4333333333\n",
      "diff:  12.3663636333\n",
      "decs:"
     ]
    },
    {
     "name": "stderr",
     "output_type": "stream",
     "text": [
      " 58%|█████▊    | 1250/2168 [10:07:05<58:06,  3.80s/it]"
     ]
    },
    {
     "name": "stdout",
     "output_type": "stream",
     "text": [
      " -44.1148975 -62.995\n",
      "diff:  18.8801025\n",
      "decs:"
     ]
    },
    {
     "name": "stderr",
     "output_type": "stream",
     "text": [
      " 58%|█████▊    | 1260/2168 [10:07:43<57:29,  3.80s/it]"
     ]
    },
    {
     "name": "stdout",
     "output_type": "stream",
     "text": [
      " -46.8867353 -65.3\n",
      "diff:  18.4132647\n",
      "decs:"
     ]
    },
    {
     "name": "stderr",
     "output_type": "stream",
     "text": [
      " 59%|█████▊    | 1270/2168 [10:08:20<56:30,  3.78s/it]"
     ]
    },
    {
     "name": "stdout",
     "output_type": "stream",
     "text": [
      " -40.9883169 -66.1833333333\n",
      "diff:  25.1950164333\n",
      "decs:"
     ]
    },
    {
     "name": "stderr",
     "output_type": "stream",
     "text": [
      " 59%|█████▉    | 1280/2168 [10:08:58<56:01,  3.79s/it]"
     ]
    },
    {
     "name": "stdout",
     "output_type": "stream",
     "text": [
      " -45.5697008 -61.2\n",
      "diff:  15.6302992\n",
      "decs:"
     ]
    },
    {
     "name": "stderr",
     "output_type": "stream",
     "text": [
      " 60%|█████▉    | 1290/2168 [10:09:36<55:30,  3.79s/it]"
     ]
    },
    {
     "name": "stdout",
     "output_type": "stream",
     "text": [
      " -26.1881186 -62.4172222222\n",
      "diff:  36.2291036222\n",
      "decs:"
     ]
    },
    {
     "name": "stderr",
     "output_type": "stream",
     "text": [
      " 60%|█████▉    | 1300/2168 [10:10:14<54:39,  3.78s/it]"
     ]
    },
    {
     "name": "stdout",
     "output_type": "stream",
     "text": [
      " -50.1393594 -62.915\n",
      "diff:  12.7756406\n",
      "decs:"
     ]
    },
    {
     "name": "stderr",
     "output_type": "stream",
     "text": [
      " 60%|██████    | 1310/2168 [10:10:52<54:15,  3.79s/it]"
     ]
    },
    {
     "name": "stdout",
     "output_type": "stream",
     "text": [
      " -20.2017044 -66.4\n",
      "diff:  46.1982956\n",
      "decs:"
     ]
    },
    {
     "name": "stderr",
     "output_type": "stream",
     "text": [
      " 61%|██████    | 1320/2168 [10:11:30<53:53,  3.81s/it]"
     ]
    },
    {
     "name": "stdout",
     "output_type": "stream",
     "text": [
      " -74.4689744 -70.3916666667\n",
      "diff:  -4.07730773333\n",
      "decs:"
     ]
    },
    {
     "name": "stderr",
     "output_type": "stream",
     "text": [
      " 61%|██████▏   | 1330/2168 [10:12:08<53:02,  3.80s/it]"
     ]
    },
    {
     "name": "stdout",
     "output_type": "stream",
     "text": [
      " -43.8776192 -78.5033333333\n",
      "diff:  34.6257141333\n",
      "decs:"
     ]
    },
    {
     "name": "stderr",
     "output_type": "stream",
     "text": [
      " 62%|██████▏   | 1340/2168 [10:12:46<52:24,  3.80s/it]"
     ]
    },
    {
     "name": "stdout",
     "output_type": "stream",
     "text": [
      " -54.8168842 -60.8833333333\n",
      "diff:  6.06644913333\n",
      "decs:"
     ]
    },
    {
     "name": "stderr",
     "output_type": "stream",
     "text": [
      " 62%|██████▏   | 1350/2168 [10:13:24<51:48,  3.80s/it]"
     ]
    },
    {
     "name": "stdout",
     "output_type": "stream",
     "text": [
      " -21.7029722 69.5666666667\n",
      "diff:  -91.2696388667\n",
      "decs:"
     ]
    },
    {
     "name": "stderr",
     "output_type": "stream",
     "text": [
      " 63%|██████▎   | 1360/2168 [10:14:02<51:02,  3.79s/it]"
     ]
    },
    {
     "name": "stdout",
     "output_type": "stream",
     "text": [
      " -11.4781525 -52.67\n",
      "diff:  41.1918475\n",
      "decs:"
     ]
    },
    {
     "name": "stderr",
     "output_type": "stream",
     "text": [
      " 63%|██████▎   | 1370/2168 [10:14:40<50:40,  3.81s/it]"
     ]
    },
    {
     "name": "stdout",
     "output_type": "stream",
     "text": [
      " -31.495095 -58.7833333333\n",
      "diff:  27.2882383333\n",
      "decs:"
     ]
    },
    {
     "name": "stderr",
     "output_type": "stream",
     "text": [
      " 64%|██████▎   | 1380/2168 [10:15:18<49:54,  3.80s/it]"
     ]
    },
    {
     "name": "stdout",
     "output_type": "stream",
     "text": [
      " -65.90282 -64.8633333333\n",
      "diff:  -1.03948666667\n",
      "decs:"
     ]
    },
    {
     "name": "stderr",
     "output_type": "stream",
     "text": [
      " 64%|██████▍   | 1390/2168 [10:15:56<49:05,  3.79s/it]"
     ]
    },
    {
     "name": "stdout",
     "output_type": "stream",
     "text": [
      " -42.9371769 -64.41\n",
      "diff:  21.4728231\n",
      "decs:"
     ]
    },
    {
     "name": "stderr",
     "output_type": "stream",
     "text": [
      " 65%|██████▍   | 1400/2168 [10:16:34<48:11,  3.76s/it]"
     ]
    },
    {
     "name": "stdout",
     "output_type": "stream",
     "text": [
      " 7.8828064 -57.4366666667\n",
      "diff:  65.3194730667\n",
      "decs:"
     ]
    },
    {
     "name": "stderr",
     "output_type": "stream",
     "text": [
      " 65%|██████▌   | 1410/2168 [10:17:12<47:38,  3.77s/it]"
     ]
    },
    {
     "name": "stdout",
     "output_type": "stream",
     "text": [
      " -69.3562144 -52.4\n",
      "diff:  -16.9562144\n",
      "decs:"
     ]
    },
    {
     "name": "stderr",
     "output_type": "stream",
     "text": [
      " 65%|██████▌   | 1420/2168 [10:17:49<47:10,  3.78s/it]"
     ]
    },
    {
     "name": "stdout",
     "output_type": "stream",
     "text": [
      " -61.7761656 -48.8925\n",
      "diff:  -12.8836656\n",
      "decs:"
     ]
    },
    {
     "name": "stderr",
     "output_type": "stream",
     "text": [
      " 66%|██████▌   | 1430/2168 [10:18:45<1:17:06,  6.27s/it]"
     ]
    },
    {
     "name": "stdout",
     "output_type": "stream",
     "text": [
      " -67.8008567 -47.3105555556\n",
      "diff:  -20.4903011444\n",
      "decs:"
     ]
    },
    {
     "name": "stderr",
     "output_type": "stream",
     "text": [
      " 66%|██████▋   | 1440/2168 [10:19:54<1:23:18,  6.87s/it]"
     ]
    },
    {
     "name": "stdout",
     "output_type": "stream",
     "text": [
      " -32.4006328 -43.7416666667\n",
      "diff:  11.3410338667\n",
      "decs:"
     ]
    },
    {
     "name": "stderr",
     "output_type": "stream",
     "text": [
      " 67%|██████▋   | 1450/2168 [10:21:01<1:20:14,  6.70s/it]"
     ]
    },
    {
     "name": "stdout",
     "output_type": "stream",
     "text": [
      " -6.9161581 -47.0833333333\n",
      "diff:  40.1671752333\n",
      "decs:"
     ]
    },
    {
     "name": "stderr",
     "output_type": "stream",
     "text": [
      " 67%|██████▋   | 1460/2168 [10:22:09<1:19:35,  6.75s/it]"
     ]
    },
    {
     "name": "stdout",
     "output_type": "stream",
     "text": [
      " -29.9880839 -40.7083333333\n",
      "diff:  10.7202494333\n",
      "decs:"
     ]
    },
    {
     "name": "stderr",
     "output_type": "stream",
     "text": [
      " 68%|██████▊   | 1470/2168 [10:23:14<1:08:47,  5.91s/it]"
     ]
    },
    {
     "name": "stdout",
     "output_type": "stream",
     "text": [
      " -30.4592222 -44.8116666667\n",
      "diff:  14.3524444667\n",
      "decs:"
     ]
    },
    {
     "name": "stderr",
     "output_type": "stream",
     "text": [
      " 68%|██████▊   | 1480/2168 [10:23:57<46:52,  4.09s/it]"
     ]
    },
    {
     "name": "stdout",
     "output_type": "stream",
     "text": [
      " -26.7278175 -42.0733333333\n",
      "diff:  15.3455158333\n",
      "decs:"
     ]
    },
    {
     "name": "stderr",
     "output_type": "stream",
     "text": [
      " 69%|██████▊   | 1490/2168 [10:24:35<43:04,  3.81s/it]"
     ]
    },
    {
     "name": "stdout",
     "output_type": "stream",
     "text": [
      " -48.8716892 -38.4622222222\n",
      "diff:  -10.4094669778\n",
      "decs:"
     ]
    },
    {
     "name": "stderr",
     "output_type": "stream",
     "text": [
      " 69%|██████▉   | 1500/2168 [10:25:13<42:14,  3.79s/it]"
     ]
    },
    {
     "name": "stdout",
     "output_type": "stream",
     "text": [
      " -15.1991147 -35.8833333333\n",
      "diff:  20.6842186333\n",
      "decs:"
     ]
    },
    {
     "name": "stderr",
     "output_type": "stream",
     "text": [
      " 70%|██████▉   | 1510/2168 [10:25:51<41:32,  3.79s/it]"
     ]
    },
    {
     "name": "stdout",
     "output_type": "stream",
     "text": [
      " -52.6815839 -29.4972222222\n",
      "diff:  -23.1843616778\n",
      "decs:"
     ]
    },
    {
     "name": "stderr",
     "output_type": "stream",
     "text": [
      " 70%|███████   | 1520/2168 [10:26:29<40:57,  3.79s/it]"
     ]
    },
    {
     "name": "stdout",
     "output_type": "stream",
     "text": [
      " -50.6122261 -29.1783333333\n",
      "diff:  -21.4338927667\n",
      "decs:"
     ]
    },
    {
     "name": "stderr",
     "output_type": "stream",
     "text": [
      " 71%|███████   | 1530/2168 [10:27:07<40:24,  3.80s/it]"
     ]
    },
    {
     "name": "stdout",
     "output_type": "stream",
     "text": [
      " -2.1830506 -58.13\n",
      "diff:  55.9469494\n",
      "decs:"
     ]
    },
    {
     "name": "stderr",
     "output_type": "stream",
     "text": [
      " 71%|███████   | 1540/2168 [10:27:45<39:56,  3.82s/it]"
     ]
    },
    {
     "name": "stdout",
     "output_type": "stream",
     "text": [
      " -41.1165706 -32.2533333333\n",
      "diff:  -8.86323726667\n",
      "decs:"
     ]
    },
    {
     "name": "stderr",
     "output_type": "stream",
     "text": [
      " 71%|███████▏  | 1550/2168 [10:28:23<38:58,  3.78s/it]"
     ]
    },
    {
     "name": "stdout",
     "output_type": "stream",
     "text": [
      " -15.381835 5.71666666667\n",
      "diff:  -21.0985016667\n",
      "decs:"
     ]
    },
    {
     "name": "stderr",
     "output_type": "stream",
     "text": [
      " 72%|███████▏  | 1560/2168 [10:29:01<38:20,  3.78s/it]"
     ]
    },
    {
     "name": "stdout",
     "output_type": "stream",
     "text": [
      " 7.1944406 -29.25\n",
      "diff:  36.4444406\n",
      "decs:"
     ]
    },
    {
     "name": "stderr",
     "output_type": "stream",
     "text": [
      " 72%|███████▏  | 1570/2168 [10:29:39<37:49,  3.80s/it]"
     ]
    },
    {
     "name": "stdout",
     "output_type": "stream",
     "text": [
      " 8.9497944 -30.1\n",
      "diff:  39.0497944\n",
      "decs:"
     ]
    },
    {
     "name": "stderr",
     "output_type": "stream",
     "text": [
      " 73%|███████▎  | 1580/2168 [10:30:17<37:01,  3.78s/it]"
     ]
    },
    {
     "name": "stdout",
     "output_type": "stream",
     "text": [
      " -39.1848972 -34.7933333333\n",
      "diff:  -4.39156386667\n",
      "decs:"
     ]
    },
    {
     "name": "stderr",
     "output_type": "stream",
     "text": [
      " 73%|███████▎  | 1590/2168 [10:30:55<36:19,  3.77s/it]"
     ]
    },
    {
     "name": "stdout",
     "output_type": "stream",
     "text": [
      " -34.0024103 -29.395\n",
      "diff:  -4.6074103\n",
      "decs:"
     ]
    },
    {
     "name": "stderr",
     "output_type": "stream",
     "text": [
      " 74%|███████▍  | 1600/2168 [10:31:33<35:48,  3.78s/it]"
     ]
    },
    {
     "name": "stdout",
     "output_type": "stream",
     "text": [
      " -47.6499617 2.9\n",
      "diff:  -50.5499617\n",
      "decs:"
     ]
    },
    {
     "name": "stderr",
     "output_type": "stream",
     "text": [
      " 74%|███████▍  | 1610/2168 [10:32:11<35:16,  3.79s/it]"
     ]
    },
    {
     "name": "stdout",
     "output_type": "stream",
     "text": [
      " 11.648042 -58.5233333333\n",
      "diff:  70.1713753333\n",
      "decs:"
     ]
    },
    {
     "name": "stderr",
     "output_type": "stream",
     "text": [
      " 75%|███████▍  | 1620/2168 [10:32:49<34:34,  3.79s/it]"
     ]
    },
    {
     "name": "stdout",
     "output_type": "stream",
     "text": [
      " -41.0482128 -18.435\n",
      "diff:  -22.6132128\n",
      "decs:"
     ]
    },
    {
     "name": "stderr",
     "output_type": "stream",
     "text": [
      " 75%|███████▌  | 1630/2168 [10:33:26<33:54,  3.78s/it]"
     ]
    },
    {
     "name": "stdout",
     "output_type": "stream",
     "text": [
      " -28.6815897 -19.0\n",
      "diff:  -9.6815897\n",
      "decs:"
     ]
    },
    {
     "name": "stderr",
     "output_type": "stream",
     "text": [
      " 76%|███████▌  | 1640/2168 [10:34:04<33:22,  3.79s/it]"
     ]
    },
    {
     "name": "stdout",
     "output_type": "stream",
     "text": [
      " -1.6200522 -16.65\n",
      "diff:  15.0299478\n",
      "decs:"
     ]
    },
    {
     "name": "stderr",
     "output_type": "stream",
     "text": [
      " 76%|███████▌  | 1650/2168 [10:34:42<32:47,  3.80s/it]"
     ]
    },
    {
     "name": "stdout",
     "output_type": "stream",
     "text": [
      " -32.3864461 -63.8083333333\n",
      "diff:  31.4218872333\n",
      "decs:"
     ]
    },
    {
     "name": "stderr",
     "output_type": "stream",
     "text": [
      " 77%|███████▋  | 1660/2168 [10:35:20<32:07,  3.79s/it]"
     ]
    },
    {
     "name": "stdout",
     "output_type": "stream",
     "text": [
      " -45.4744336 -10.0\n",
      "diff:  -35.4744336\n",
      "decs:"
     ]
    },
    {
     "name": "stderr",
     "output_type": "stream",
     "text": [
      " 77%|███████▋  | 1670/2168 [10:35:58<31:33,  3.80s/it]"
     ]
    },
    {
     "name": "stdout",
     "output_type": "stream",
     "text": [
      " -22.7124156 -12.3166666667\n",
      "diff:  -10.3957489333\n",
      "decs:"
     ]
    },
    {
     "name": "stderr",
     "output_type": "stream",
     "text": [
      " 77%|███████▋  | 1680/2168 [10:36:36<30:58,  3.81s/it]"
     ]
    },
    {
     "name": "stdout",
     "output_type": "stream",
     "text": [
      " -22.1606781 -7.81333333333\n",
      "diff:  -14.3473447667\n",
      "decs:"
     ]
    },
    {
     "name": "stderr",
     "output_type": "stream",
     "text": [
      " 78%|███████▊  | 1690/2168 [10:37:14<30:09,  3.78s/it]"
     ]
    },
    {
     "name": "stdout",
     "output_type": "stream",
     "text": [
      " -31.7996225 -33.63\n",
      "diff:  1.8303775\n",
      "decs:"
     ]
    },
    {
     "name": "stderr",
     "output_type": "stream",
     "text": [
      " 78%|███████▊  | 1700/2168 [10:37:52<29:34,  3.79s/it]"
     ]
    },
    {
     "name": "stdout",
     "output_type": "stream",
     "text": [
      " -26.9880811 -18.73\n",
      "diff:  -8.2580811\n",
      "decs:"
     ]
    },
    {
     "name": "stderr",
     "output_type": "stream",
     "text": [
      " 79%|███████▉  | 1710/2168 [10:38:30<29:00,  3.80s/it]"
     ]
    },
    {
     "name": "stdout",
     "output_type": "stream",
     "text": [
      " -29.7324786 -20.2033333333\n",
      "diff:  -9.52914526667\n",
      "decs:"
     ]
    },
    {
     "name": "stderr",
     "output_type": "stream",
     "text": [
      " 79%|███████▉  | 1720/2168 [10:39:08<28:14,  3.78s/it]"
     ]
    },
    {
     "name": "stdout",
     "output_type": "stream",
     "text": [
      " -21.2133614 -8.97\n",
      "diff:  -12.2433614\n",
      "decs:"
     ]
    },
    {
     "name": "stderr",
     "output_type": "stream",
     "text": [
      " 80%|███████▉  | 1730/2168 [10:39:46<27:38,  3.79s/it]"
     ]
    },
    {
     "name": "stdout",
     "output_type": "stream",
     "text": [
      " -39.8080978 6.28611111111\n",
      "diff:  -46.0942089111\n",
      "decs:"
     ]
    },
    {
     "name": "stderr",
     "output_type": "stream",
     "text": [
      " 80%|████████  | 1740/2168 [10:40:24<27:00,  3.79s/it]"
     ]
    },
    {
     "name": "stdout",
     "output_type": "stream",
     "text": [
      " -14.0738186 -42.6483333333\n",
      "diff:  28.5745147333\n",
      "decs:"
     ]
    },
    {
     "name": "stderr",
     "output_type": "stream",
     "text": [
      " 81%|████████  | 1750/2168 [10:41:02<26:22,  3.79s/it]"
     ]
    },
    {
     "name": "stdout",
     "output_type": "stream",
     "text": [
      " -32.2235394 37.7716666667\n",
      "diff:  -69.9952060667\n",
      "decs:"
     ]
    },
    {
     "name": "stderr",
     "output_type": "stream",
     "text": [
      " 81%|████████  | 1760/2168 [10:41:40<25:49,  3.80s/it]"
     ]
    },
    {
     "name": "stdout",
     "output_type": "stream",
     "text": [
      " -17.2455644 13.9822222222\n",
      "diff:  -31.2277866222\n",
      "decs:"
     ]
    },
    {
     "name": "stderr",
     "output_type": "stream",
     "text": [
      " 82%|████████▏ | 1770/2168 [10:42:17<25:09,  3.79s/it]"
     ]
    },
    {
     "name": "stdout",
     "output_type": "stream",
     "text": [
      " -24.7658031 18.52\n",
      "diff:  -43.2858031\n",
      "decs:"
     ]
    },
    {
     "name": "stderr",
     "output_type": "stream",
     "text": [
      " 82%|████████▏ | 1780/2168 [10:42:59<28:39,  4.43s/it]"
     ]
    },
    {
     "name": "stdout",
     "output_type": "stream",
     "text": [
      " 0.5530444 40.1969444444\n",
      "diff:  -39.6439000444\n",
      "decs:"
     ]
    },
    {
     "name": "stderr",
     "output_type": "stream",
     "text": [
      " 83%|████████▎ | 1790/2168 [10:43:38<24:20,  3.86s/it]"
     ]
    },
    {
     "name": "stdout",
     "output_type": "stream",
     "text": [
      " -38.1261606 17.5166666667\n",
      "diff:  -55.6428272667\n",
      "decs:"
     ]
    },
    {
     "name": "stderr",
     "output_type": "stream",
     "text": [
      " 83%|████████▎ | 1800/2168 [10:44:16<23:19,  3.80s/it]"
     ]
    },
    {
     "name": "stdout",
     "output_type": "stream",
     "text": [
      " -7.3507517 21.96\n",
      "diff:  -29.3107517\n",
      "decs:"
     ]
    },
    {
     "name": "stderr",
     "output_type": "stream",
     "text": [
      " 83%|████████▎ | 1810/2168 [10:44:54<22:50,  3.83s/it]"
     ]
    },
    {
     "name": "stdout",
     "output_type": "stream",
     "text": [
      " 9.4496678 18.3333333333\n",
      "diff:  -8.88366553333\n",
      "decs:"
     ]
    },
    {
     "name": "stderr",
     "output_type": "stream",
     "text": [
      " 84%|████████▍ | 1820/2168 [10:45:32<22:05,  3.81s/it]"
     ]
    },
    {
     "name": "stdout",
     "output_type": "stream",
     "text": [
      " -1.0058142 26.7586111111\n",
      "diff:  -27.7644253111\n",
      "decs:"
     ]
    },
    {
     "name": "stderr",
     "output_type": "stream",
     "text": [
      " 84%|████████▍ | 1830/2168 [10:46:10<21:22,  3.79s/it]"
     ]
    },
    {
     "name": "stdout",
     "output_type": "stream",
     "text": [
      " -49.8747942 28.6166666667\n",
      "diff:  -78.4914608667\n",
      "decs:"
     ]
    },
    {
     "name": "stderr",
     "output_type": "stream",
     "text": [
      " 85%|████████▍ | 1840/2168 [10:46:48<20:48,  3.81s/it]"
     ]
    },
    {
     "name": "stdout",
     "output_type": "stream",
     "text": [
      " -63.6927269 31.9669444444\n",
      "diff:  -95.6596713444\n",
      "decs:"
     ]
    },
    {
     "name": "stderr",
     "output_type": "stream",
     "text": [
      " 85%|████████▌ | 1850/2168 [10:47:26<20:11,  3.81s/it]"
     ]
    },
    {
     "name": "stdout",
     "output_type": "stream",
     "text": [
      " -16.8281794 35.7766666667\n",
      "diff:  -52.6048460667\n",
      "decs:"
     ]
    },
    {
     "name": "stderr",
     "output_type": "stream",
     "text": [
      " 86%|████████▌ | 1860/2168 [10:48:04<19:32,  3.81s/it]"
     ]
    },
    {
     "name": "stdout",
     "output_type": "stream",
     "text": [
      " -81.7325928 41.3666666667\n",
      "diff:  -123.099259467\n",
      "decs:"
     ]
    },
    {
     "name": "stderr",
     "output_type": "stream",
     "text": [
      " 86%|████████▋ | 1870/2168 [10:48:42<18:52,  3.80s/it]"
     ]
    },
    {
     "name": "stdout",
     "output_type": "stream",
     "text": [
      " -0.5196669 26.7355555556\n",
      "diff:  -27.2552224556\n",
      "decs:"
     ]
    },
    {
     "name": "stderr",
     "output_type": "stream",
     "text": [
      " 87%|████████▋ | 1880/2168 [10:49:20<18:10,  3.79s/it]"
     ]
    },
    {
     "name": "stdout",
     "output_type": "stream",
     "text": [
      " -61.3288233 52.075\n",
      "diff:  -113.4038233\n",
      "decs:"
     ]
    },
    {
     "name": "stderr",
     "output_type": "stream",
     "text": [
      " 87%|████████▋ | 1890/2168 [10:49:58<17:35,  3.80s/it]"
     ]
    },
    {
     "name": "stdout",
     "output_type": "stream",
     "text": [
      " 10.569477 37.75\n",
      "diff:  -27.180523\n",
      "decs:"
     ]
    },
    {
     "name": "stderr",
     "output_type": "stream",
     "text": [
      " 88%|████████▊ | 1900/2168 [10:50:36<16:58,  3.80s/it]"
     ]
    },
    {
     "name": "stdout",
     "output_type": "stream",
     "text": [
      " 10.962139 37.3666666667\n",
      "diff:  -26.4045276667\n",
      "decs:"
     ]
    },
    {
     "name": "stderr",
     "output_type": "stream",
     "text": [
      " 88%|████████▊ | 1910/2168 [10:51:14<16:22,  3.81s/it]"
     ]
    },
    {
     "name": "stdout",
     "output_type": "stream",
     "text": [
      " 9.2625406 40.2269444444\n",
      "diff:  -30.9644038444\n",
      "decs:"
     ]
    },
    {
     "name": "stderr",
     "output_type": "stream",
     "text": [
      " 89%|████████▊ | 1920/2168 [10:51:52<15:39,  3.79s/it]"
     ]
    },
    {
     "name": "stdout",
     "output_type": "stream",
     "text": [
      " 5.6827222 41.7166666667\n",
      "diff:  -36.0339444667\n",
      "decs:"
     ]
    },
    {
     "name": "stderr",
     "output_type": "stream",
     "text": [
      " 89%|████████▉ | 1930/2168 [10:52:30<15:01,  3.79s/it]"
     ]
    },
    {
     "name": "stdout",
     "output_type": "stream",
     "text": [
      " 7.7855153 41.4155555556\n",
      "diff:  -33.6300402556\n",
      "decs:"
     ]
    },
    {
     "name": "stderr",
     "output_type": "stream",
     "text": [
      " 89%|████████▉ | 1940/2168 [10:53:08<14:28,  3.81s/it]"
     ]
    },
    {
     "name": "stdout",
     "output_type": "stream",
     "text": [
      " -47.7372947 16.6183333333\n",
      "diff:  -64.3556280333\n",
      "decs:"
     ]
    },
    {
     "name": "stderr",
     "output_type": "stream",
     "text": [
      " 90%|████████▉ | 1950/2168 [10:53:46<13:48,  3.80s/it]"
     ]
    },
    {
     "name": "stdout",
     "output_type": "stream",
     "text": [
      " -38.3283267 39.6111111111\n",
      "diff:  -77.9394378111\n",
      "decs:"
     ]
    },
    {
     "name": "stderr",
     "output_type": "stream",
     "text": [
      " 90%|█████████ | 1960/2168 [10:54:24<13:09,  3.80s/it]"
     ]
    },
    {
     "name": "stdout",
     "output_type": "stream",
     "text": [
      " -22.5050839 44.6333333333\n",
      "diff:  -67.1384172333\n",
      "decs:"
     ]
    },
    {
     "name": "stderr",
     "output_type": "stream",
     "text": [
      " 91%|█████████ | 1970/2168 [10:55:02<12:32,  3.80s/it]"
     ]
    },
    {
     "name": "stdout",
     "output_type": "stream",
     "text": [
      " -58.4975569 40.4666666667\n",
      "diff:  -98.9642235667\n",
      "decs:"
     ]
    },
    {
     "name": "stderr",
     "output_type": "stream",
     "text": [
      " 91%|█████████▏| 1980/2168 [10:55:40<11:56,  3.81s/it]"
     ]
    },
    {
     "name": "stdout",
     "output_type": "stream",
     "text": [
      " -4.1083247 45.6166666667\n",
      "diff:  -49.7249913667\n",
      "decs:"
     ]
    },
    {
     "name": "stderr",
     "output_type": "stream",
     "text": [
      " 92%|█████████▏| 1990/2168 [10:56:18<11:17,  3.81s/it]"
     ]
    },
    {
     "name": "stdout",
     "output_type": "stream",
     "text": [
      " -12.2823961 46.3691666667\n",
      "diff:  -58.6515627667\n",
      "decs:"
     ]
    },
    {
     "name": "stderr",
     "output_type": "stream",
     "text": [
      " 92%|█████████▏| 2000/2168 [10:56:56<10:37,  3.79s/it]"
     ]
    },
    {
     "name": "stdout",
     "output_type": "stream",
     "text": [
      " -29.9465614 46.3783333333\n",
      "diff:  -76.3248947333\n",
      "decs:"
     ]
    },
    {
     "name": "stderr",
     "output_type": "stream",
     "text": [
      " 93%|█████████▎| 2010/2168 [10:57:34<10:00,  3.80s/it]"
     ]
    },
    {
     "name": "stdout",
     "output_type": "stream",
     "text": [
      " -43.0949869 47.1266666667\n",
      "diff:  -90.2216535667\n",
      "decs:"
     ]
    },
    {
     "name": "stderr",
     "output_type": "stream",
     "text": [
      " 93%|█████████▎| 2020/2168 [10:58:12<09:23,  3.81s/it]"
     ]
    },
    {
     "name": "stdout",
     "output_type": "stream",
     "text": [
      " 7.5855314 53.5136111111\n",
      "diff:  -45.9280797111\n",
      "decs:"
     ]
    },
    {
     "name": "stderr",
     "output_type": "stream",
     "text": [
      " 94%|█████████▎| 2030/2168 [10:58:50<08:43,  3.79s/it]"
     ]
    },
    {
     "name": "stdout",
     "output_type": "stream",
     "text": [
      " -26.6665244 53.715\n",
      "diff:  -80.3815244\n",
      "decs:"
     ]
    },
    {
     "name": "stderr",
     "output_type": "stream",
     "text": [
      " 94%|█████████▍| 2040/2168 [10:59:28<08:05,  3.79s/it]"
     ]
    },
    {
     "name": "stdout",
     "output_type": "stream",
     "text": [
      " -69.0498764 47.2666666667\n",
      "diff:  -116.316543067\n",
      "decs:"
     ]
    },
    {
     "name": "stderr",
     "output_type": "stream",
     "text": [
      " 95%|█████████▍| 2050/2168 [11:00:06<07:27,  3.80s/it]"
     ]
    },
    {
     "name": "stdout",
     "output_type": "stream",
     "text": [
      " -76.4144964 72.0\n",
      "diff:  -148.4144964\n",
      "decs:"
     ]
    },
    {
     "name": "stderr",
     "output_type": "stream",
     "text": [
      " 95%|█████████▌| 2060/2168 [11:00:44<06:49,  3.79s/it]"
     ]
    },
    {
     "name": "stdout",
     "output_type": "stream",
     "text": [
      " -31.0715922 70.25\n",
      "diff:  -101.3215922\n",
      "decs:"
     ]
    },
    {
     "name": "stderr",
     "output_type": "stream",
     "text": [
      " 95%|█████████▌| 2070/2168 [11:01:22<06:11,  3.79s/it]"
     ]
    },
    {
     "name": "stdout",
     "output_type": "stream",
     "text": [
      " -72.5869203 63.2666666667\n",
      "diff:  -135.853586967\n",
      "decs:"
     ]
    },
    {
     "name": "stderr",
     "output_type": "stream",
     "text": [
      " 96%|█████████▌| 2080/2168 [11:02:00<05:33,  3.79s/it]"
     ]
    },
    {
     "name": "stdout",
     "output_type": "stream",
     "text": [
      " -19.48541 59.1333333333\n",
      "diff:  -78.6187433333\n",
      "decs:"
     ]
    },
    {
     "name": "stderr",
     "output_type": "stream",
     "text": [
      " 96%|█████████▋| 2090/2168 [11:02:38<04:55,  3.79s/it]"
     ]
    },
    {
     "name": "stdout",
     "output_type": "stream",
     "text": [
      " -20.4593719 58.9975\n",
      "diff:  -79.4568719\n",
      "decs:"
     ]
    },
    {
     "name": "stderr",
     "output_type": "stream",
     "text": [
      " 97%|█████████▋| 2100/2168 [11:03:16<04:17,  3.79s/it]"
     ]
    },
    {
     "name": "stdout",
     "output_type": "stream",
     "text": [
      " -47.6184253 59.9358333333\n",
      "diff:  -107.554258633\n",
      "decs:"
     ]
    },
    {
     "name": "stderr",
     "output_type": "stream",
     "text": [
      " 97%|█████████▋| 2110/2168 [11:03:54<03:40,  3.81s/it]"
     ]
    },
    {
     "name": "stdout",
     "output_type": "stream",
     "text": [
      " -33.9127147 59.9733333333\n",
      "diff:  -93.8860480333\n",
      "decs:"
     ]
    },
    {
     "name": "stderr",
     "output_type": "stream",
     "text": [
      " 98%|█████████▊| 2120/2168 [11:04:32<03:02,  3.80s/it]"
     ]
    },
    {
     "name": "stdout",
     "output_type": "stream",
     "text": [
      " -40.0044428 60.865\n",
      "diff:  -100.8694428\n",
      "decs:"
     ]
    },
    {
     "name": "stderr",
     "output_type": "stream",
     "text": [
      " 98%|█████████▊| 2130/2168 [11:05:10<02:23,  3.78s/it]"
     ]
    },
    {
     "name": "stdout",
     "output_type": "stream",
     "text": [
      " -31.4208881 71.75\n",
      "diff:  -103.1708881\n",
      "decs:"
     ]
    },
    {
     "name": "stderr",
     "output_type": "stream",
     "text": [
      " 99%|█████████▊| 2140/2168 [11:05:48<01:46,  3.79s/it]"
     ]
    },
    {
     "name": "stdout",
     "output_type": "stream",
     "text": [
      " 1.4812744 64.2083333333\n",
      "diff:  -62.7270589333\n",
      "decs:"
     ]
    },
    {
     "name": "stderr",
     "output_type": "stream",
     "text": [
      " 99%|█████████▉| 2150/2168 [11:06:26<01:08,  3.79s/it]"
     ]
    },
    {
     "name": "stdout",
     "output_type": "stream",
     "text": [
      " -18.6526581 58.5525\n",
      "diff:  -77.2051581\n",
      "decs:"
     ]
    },
    {
     "name": "stderr",
     "output_type": "stream",
     "text": [
      "100%|█████████▉| 2160/2168 [11:07:04<00:30,  3.79s/it]"
     ]
    },
    {
     "name": "stdout",
     "output_type": "stream",
     "text": [
      " -32.4562742 36.205\n",
      "diff:  -68.6612742\n",
      "decs:"
     ]
    },
    {
     "name": "stderr",
     "output_type": "stream",
     "text": [
      "                                                      "
     ]
    },
    {
     "name": "stdout",
     "output_type": "stream",
     "text": [
      " -47.2011 61.4005555556\n",
      "diff:  -108.601655556\n"
     ]
    },
    {
     "name": "stderr",
     "output_type": "stream",
     "text": [
      "\r"
     ]
    }
   ],
   "source": [
    "# retrieve the DEC and indicies of the found subset RAs\n",
    "# check that the DEC values are w/i tolerence and return matched indices\n",
    "# indices returned are for 2MASS\n",
    "\n",
    "\n",
    "matched_ind = []\n",
    "for i in tqdm(range(len(matched_ra))):\n",
    "    twomassind = np.where(twomass_ra == matched_ra[i])[0][0]\n",
    "    matcheddec = twomass_dec[twomassind]\n",
    "    \n",
    "    subsetind = np.where(subsetra == searched_ra[i])[0][0]\n",
    "    searcheddec = subsetdec[subsetind]\n",
    "    \n",
    "    if np.absolute(matcheddec - searcheddec) < tol:\n",
    "        matched_ind.append(i)\n",
    "    elif (not i%100):\n",
    "        print(\"decs:\", matcheddec, searcheddec)\n",
    "        print(\"diff: \", (matcheddec - searcheddec))\n",
    "    time.sleep(3)\n",
    "    \n",
    "\n",
    "    \n"
   ]
  },
  {
   "cell_type": "code",
   "execution_count": 37,
   "metadata": {
    "collapsed": false
   },
   "outputs": [
    {
     "name": "stdout",
     "output_type": "stream",
     "text": [
      "0\n"
     ]
    }
   ],
   "source": [
    "print(len(matched_ind))"
   ]
  },
  {
   "cell_type": "code",
   "execution_count": 38,
   "metadata": {
    "collapsed": false
   },
   "outputs": [
    {
     "name": "stdout",
     "output_type": "stream",
     "text": [
      "No matches for tolerance  0.0005\n"
     ]
    }
   ],
   "source": [
    "# select info on the matched RA and DECs\n",
    "if len(matched_ind) > 0:\n",
    "    print(twomass_ident[matched_ind])\n",
    "else:\n",
    "    print(\"No matches for tolerance \", tol)"
   ]
  },
  {
   "cell_type": "code",
   "execution_count": 33,
   "metadata": {
    "collapsed": false
   },
   "outputs": [
    {
     "name": "stdout",
     "output_type": "stream",
     "text": [
      "yes\n"
     ]
    }
   ],
   "source": [
    "i = 10\n",
    "if not i%10:\n",
    "    print(\"yes\")\n"
   ]
  },
  {
   "cell_type": "code",
   "execution_count": null,
   "metadata": {
    "collapsed": true
   },
   "outputs": [],
   "source": [
    "twomassind_arr = []\n",
    "subsetind_arr = []\n",
    "twomassdec_arr = []\n",
    "subsetdec_arr = []\n",
    "  \n",
    "    \n",
    "for element in matched_ra:\n",
    "    twomassind = np.where(twomass_ra == element)[0][0]\n",
    "    twomassind_arr.append(twomassind)\n",
    "    matcheddec = twomass_dec[twomassind]\n",
    "    twomassdec_arr.append(matcheddec)\n",
    "    \n",
    "for element in searched_ra:    \n",
    "    subsetind = np.where(subsetra == element)[0][0]\n",
    "    subsetind_arr.append(subsetind)\n",
    "    searcheddec = subsetdec[subsetind]\n",
    "    subsetdec_arr.append(searcheddec)\n",
    "    \n",
    "\n",
    "matched_ind = []\n",
    "for i in np.arange(0,len(twomassdec_arr)):\n",
    "    a = subsetdec_arr[i]\n",
    "    dec = twomassdec_arr[i]\n",
    "    if np.absolute(a - dec) < tol:\n",
    "        matched_ind.append(ind_arr[i])\n",
    "    elif (i%10):\n",
    "        print(\"diff: \", (a-dec))\n",
    "        \n",
    "print(\"searched for a subset of \", len(subsetra), \"Coordinates against 2mass list of\", len(twomass_ra), \"Coordinates\")\n",
    "print(\"Coordinate matches: \", len(matched_ind))        \n",
    "print(\"IDs: \", matched_ind)"
   ]
  }
 ],
 "metadata": {
  "kernelspec": {
   "display_name": "Python 3",
   "language": "python",
   "name": "python3"
  },
  "language_info": {
   "codemirror_mode": {
    "name": "ipython",
    "version": 3
   },
   "file_extension": ".py",
   "mimetype": "text/x-python",
   "name": "python",
   "nbconvert_exporter": "python",
   "pygments_lexer": "ipython3",
   "version": "3.4.3"
  }
 },
 "nbformat": 4,
 "nbformat_minor": 0
}
