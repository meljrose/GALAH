{
 "cells": [
  {
   "cell_type": "markdown",
   "metadata": {},
   "source": [
    "# AAO GALAH RESEARCH JAN-APR 2016"
   ]
  },
  {
   "cell_type": "markdown",
   "metadata": {},
   "source": [
    "### Missy McIntosh, Gayandhi de Silva, Jeffrey Simpson\n",
    "http://www.univie.ac.at/webda/cgi-bin/frame_data_list.cgi?ascc111+ad2k+ad2000.coo"
   ]
  },
  {
   "cell_type": "markdown",
   "metadata": {},
   "source": [
    "#### Check if there are any known open clusters in GALAH\n",
    "#### This is a very slow python script...."
   ]
  },
  {
   "cell_type": "code",
   "execution_count": 1,
   "metadata": {
    "collapsed": false
   },
   "outputs": [
    {
     "name": "stderr",
     "output_type": "stream",
     "text": [
      "/Users/mmcintosh/anaconda/lib/python3.4/site-packages/IPython/kernel/__init__.py:13: ShimWarning: The `IPython.kernel` package has been deprecated. You should import from ipykernel or jupyter_client instead.\n",
      "  \"You should import from ipykernel or jupyter_client instead.\", ShimWarning)\n"
     ]
    }
   ],
   "source": [
    "import numpy as np\n",
    "from astropy import units as u\n",
    "from astropy.coordinates import SkyCoord\n",
    "from astropy.coordinates import FK4\n",
    "import time\n",
    "from tqdm import *\n",
    "\n",
    "\n",
    "\n",
    "\n",
    "# Read in 2Mass input database Name, RA, and DEC information\n",
    "# note this data is presorted by RA\n",
    "\n",
    "twomass_data = np.genfromtxt('sortedgal.tbl', delimiter='\\t', names=True, dtype=float)\n",
    "\n",
    "twomass_ident = []\n",
    "twomass_ra = []\n",
    "twomass_dec = []\n",
    "for i in tqdm(range(len(twomass_data))):\n",
    "    twomass_ident.append(twomass_data[i][0])\n",
    "    twomass_ra.append(twomass_data[i][1])\n",
    "    twomass_dec.append(twomass_data[i][2])\n",
    "    time.sleep(3)"
   ]
  },
  {
   "cell_type": "code",
   "execution_count": 2,
   "metadata": {
    "collapsed": false
   },
   "outputs": [
    {
     "name": "stderr",
     "output_type": "stream",
     "text": [
      "WARNING: IllegalMinuteWarning: 'minute' was found  to be '60', which is not in range [0,60). Treating as 0 min, +1 hr/deg [astropy.coordinates.angle_utilities]\n",
      "WARNING:astropy:IllegalMinuteWarning: 'minute' was found  to be '60', which is not in range [0,60). Treating as 0 min, +1 hr/deg\n"
     ]
    }
   ],
   "source": [
    "# Read in DIAS Name, RA, DEC\n",
    "# I didn't know an easy way to read in this file so this is very messy and hacked and I apologize\n",
    "\n",
    "\n",
    "dias_data = np.genfromtxt('dias.txt', delimiter='\\t', names=None, dtype=None)\n",
    "dias_data = dias_data[1:]\n",
    "\n",
    "\n",
    "data = []\n",
    "name = []\n",
    "subsetra = []\n",
    "subsetdec = []\n",
    "for line in dias_data:\n",
    " \n",
    "    line = line.decode('UTF-8')\n",
    "\n",
    "    line = (str(line).split(\"  \"))\n",
    "\n",
    "    line = np.array(list(filter(None, line)))\n",
    "    name.append(line[0])\n",
    "    try:\n",
    "        c = SkyCoord(line[1], line[2], unit=(u.hourangle, u.deg))\n",
    "        subsetra.append(c.ra.degree)\n",
    "        subsetdec.append(c.dec.degree)\n",
    "    except:\n",
    "        print(\"error: \", line)\n",
    "    data.append(line)\n",
    "    \n",
    "# some problems with dec\n",
    "subsetra = np.asarray(subsetra)\n",
    "subsetdec = np.asarray(subsetdec)"
   ]
  },
  {
   "cell_type": "code",
   "execution_count": 75,
   "metadata": {
    "collapsed": false
   },
   "outputs": [
    {
     "name": "stdout",
     "output_type": "stream",
     "text": [
      "8395154\n"
     ]
    }
   ],
   "source": [
    "print(len(twomass_ident))\n",
    "\n"
   ]
  },
  {
   "cell_type": "code",
   "execution_count": 3,
   "metadata": {
    "collapsed": false
   },
   "outputs": [
    {
     "ename": "NameError",
     "evalue": "name 'webda_data' is not defined",
     "output_type": "error",
     "traceback": [
      "\u001b[0;31m---------------------------------------------------------------------------\u001b[0m",
      "\u001b[0;31mNameError\u001b[0m                                 Traceback (most recent call last)",
      "\u001b[0;32m<ipython-input-3-d93ee3661591>\u001b[0m in \u001b[0;36m<module>\u001b[0;34m()\u001b[0m\n\u001b[1;32m      5\u001b[0m \u001b[0msubsetra\u001b[0m \u001b[0;34m=\u001b[0m \u001b[0;34m[\u001b[0m\u001b[0;34m]\u001b[0m\u001b[0;34m\u001b[0m\u001b[0m\n\u001b[1;32m      6\u001b[0m \u001b[0msubsetdec\u001b[0m \u001b[0;34m=\u001b[0m \u001b[0;34m[\u001b[0m\u001b[0;34m]\u001b[0m\u001b[0;34m\u001b[0m\u001b[0m\n\u001b[0;32m----> 7\u001b[0;31m \u001b[0;32mfor\u001b[0m \u001b[0mi\u001b[0m \u001b[0;32min\u001b[0m \u001b[0mnp\u001b[0m\u001b[0;34m.\u001b[0m\u001b[0marange\u001b[0m\u001b[0;34m(\u001b[0m\u001b[0;36m2\u001b[0m\u001b[0;34m,\u001b[0m\u001b[0mlen\u001b[0m\u001b[0;34m(\u001b[0m\u001b[0mwebda_data\u001b[0m\u001b[0;34m)\u001b[0m\u001b[0;34m)\u001b[0m\u001b[0;34m:\u001b[0m\u001b[0;34m\u001b[0m\u001b[0m\n\u001b[0m\u001b[1;32m      8\u001b[0m     \u001b[0mcoords\u001b[0m \u001b[0;34m=\u001b[0m \u001b[0;34m[\u001b[0m\u001b[0;34m(\u001b[0m\u001b[0mwebda_data\u001b[0m\u001b[0;34m[\u001b[0m\u001b[0mi\u001b[0m\u001b[0;34m]\u001b[0m\u001b[0;34m[\u001b[0m\u001b[0;36m2\u001b[0m\u001b[0;34m]\u001b[0m\u001b[0;34m.\u001b[0m\u001b[0mdecode\u001b[0m\u001b[0;34m(\u001b[0m\u001b[0;34m'UTF-8'\u001b[0m\u001b[0;34m)\u001b[0m\u001b[0;34m)\u001b[0m\u001b[0;34m+\u001b[0m\u001b[0;34m\" \"\u001b[0m\u001b[0;34m+\u001b[0m \u001b[0;34m(\u001b[0m\u001b[0mwebda_data\u001b[0m\u001b[0;34m[\u001b[0m\u001b[0mi\u001b[0m\u001b[0;34m]\u001b[0m\u001b[0;34m[\u001b[0m\u001b[0;36m3\u001b[0m\u001b[0;34m]\u001b[0m\u001b[0;34m.\u001b[0m\u001b[0mdecode\u001b[0m\u001b[0;34m(\u001b[0m\u001b[0;34m'UTF-8'\u001b[0m\u001b[0;34m)\u001b[0m\u001b[0;34m)\u001b[0m\u001b[0;34m]\u001b[0m\u001b[0;34m\u001b[0m\u001b[0m\n\u001b[1;32m      9\u001b[0m     \u001b[0mc\u001b[0m \u001b[0;34m=\u001b[0m \u001b[0mSkyCoord\u001b[0m\u001b[0;34m(\u001b[0m\u001b[0mcoords\u001b[0m\u001b[0;34m,\u001b[0m \u001b[0munit\u001b[0m\u001b[0;34m=\u001b[0m\u001b[0;34m(\u001b[0m\u001b[0mu\u001b[0m\u001b[0;34m.\u001b[0m\u001b[0mhourangle\u001b[0m\u001b[0;34m,\u001b[0m \u001b[0mu\u001b[0m\u001b[0;34m.\u001b[0m\u001b[0mdeg\u001b[0m\u001b[0;34m)\u001b[0m\u001b[0;34m)\u001b[0m\u001b[0;34m\u001b[0m\u001b[0m\n",
      "\u001b[0;31mNameError\u001b[0m: name 'webda_data' is not defined"
     ]
    }
   ],
   "source": [
    "# Read in Webda observed Name, RA, and DEC information\n",
    "webda_data = np.genfromtxt('ad2000.coo', delimiter='\\t', names=None, dtype=None)\n",
    "\n",
    "#subset = [[10.5680911, 109.8102128, 27.831013, 1.1438403, 276.1315219, 1, 400],[-89.969946899999997, -89.9304625, 5,5,-89.915107199999994,5,-89.915107199999994]]\n",
    "subsetra = []\n",
    "subsetdec = []\n",
    "for i in np.arange(2,len(webda_data)):\n",
    "    coords = [(webda_data[i][2].decode('UTF-8'))+\" \"+ (webda_data[i][3].decode('UTF-8'))]\n",
    "    c = SkyCoord(coords, unit=(u.hourangle, u.deg))\n",
    "    subsetra.append(c.ra.degree[0])\n",
    "    subsetdec.append(c.dec.degree[0])\n",
    "    \n",
    "#subsetra.extend(subset[0])\n",
    "#subsetdec.extend(subset[1])\n",
    "subsetra = np.asarray(subsetra)\n",
    "subsetdec = np.asarray(subsetdec)\n"
   ]
  },
  {
   "cell_type": "code",
   "execution_count": 11,
   "metadata": {
    "collapsed": false
   },
   "outputs": [],
   "source": [
    "def pbsearch(sorted_data, subset, tolerance):\n",
    "    tol = tolerance\n",
    "\n",
    "    # return index if it exists, otherwise, print \"not found\"\n",
    "    searched_arr = []\n",
    "    matched_arr = []\n",
    "    bar = progressbar.ProgressBar(maxval=len(subset), \\\n",
    "    widgets=[progressbar.Bar('=', '[', ']'), ' ', progressbar.Percentage()])\n",
    "    bar.start()\n",
    "    for i in tqdm(range(len(subset))):\n",
    "        a = subset[i]\n",
    "        time.sleep(3)\n",
    "        ra = sorted_data\n",
    "        n = len(ra)\n",
    "        for element in np.arange(0,n):\n",
    "            bar.update(element+1)\n",
    "            sleep(0.1)\n",
    "            n = len(ra)\n",
    "            if a - tol > ra[int(n/2)]:\n",
    "                ra = ra[int(n/2):n]\n",
    "            elif a + tol < ra[int(n/2)]:\n",
    "                ra = ra[0:int(n/2)]\n",
    "            else:\n",
    "                match = ra[int(n/2)]\n",
    "                #print('match!  searched', a, \" found\", match, \" which is\", np.absolute(a - ra[int(n/2)]), \"away\")\n",
    "                matched_arr.append(match)\n",
    "                searched_arr.append(a)\n",
    "                break\n",
    "                \n",
    "            if n > 1:\n",
    "                continue\n",
    "            else:\n",
    "                break\n",
    "    bar.finish() \n",
    "    print(\"searched for a subset of \", len(subset), \"RAs against 2mass list of\", len(sorted_data), \"RAs\")\n",
    "    print(\"RA matches: \", len(matched_arr), \"with a tolerance of \", tol)\n",
    "    return(searched_arr,matched_arr)"
   ]
  },
  {
   "cell_type": "code",
   "execution_count": null,
   "metadata": {
    "collapsed": false
   },
   "outputs": [
    {
     "name": "stderr",
     "output_type": "stream",
     "text": [
      "  1%|▏         | 32/2168 [02:46<3:06:46,  5.25s/it]"
     ]
    }
   ],
   "source": [
    "# return subset RAs found within sorted data\n",
    "tol = 0.0005\n",
    "searched_ra, matched_ra = pbsearch(twomass_ra, subsetra, tol)"
   ]
  },
  {
   "cell_type": "code",
   "execution_count": 41,
   "metadata": {
    "collapsed": false
   },
   "outputs": [
    {
     "ename": "IndexError",
     "evalue": "index 0 is out of bounds for axis 0 with size 0",
     "output_type": "error",
     "traceback": [
      "\u001b[0;31m---------------------------------------------------------------------------\u001b[0m",
      "\u001b[0;31mIndexError\u001b[0m                                Traceback (most recent call last)",
      "\u001b[0;32m<ipython-input-41-fad352a7dad2>\u001b[0m in \u001b[0;36m<module>\u001b[0;34m()\u001b[0m\n\u001b[1;32m      6\u001b[0m \u001b[0;34m\u001b[0m\u001b[0m\n\u001b[1;32m      7\u001b[0m \u001b[0;32mfor\u001b[0m \u001b[0melement\u001b[0m \u001b[0;32min\u001b[0m \u001b[0mmatched_ra\u001b[0m\u001b[0;34m:\u001b[0m\u001b[0;34m\u001b[0m\u001b[0m\n\u001b[0;32m----> 8\u001b[0;31m     \u001b[0mtwomassind\u001b[0m \u001b[0;34m=\u001b[0m \u001b[0mnp\u001b[0m\u001b[0;34m.\u001b[0m\u001b[0mwhere\u001b[0m\u001b[0;34m(\u001b[0m\u001b[0mra\u001b[0m \u001b[0;34m==\u001b[0m \u001b[0melement\u001b[0m\u001b[0;34m)\u001b[0m\u001b[0;34m[\u001b[0m\u001b[0;36m0\u001b[0m\u001b[0;34m]\u001b[0m\u001b[0;34m[\u001b[0m\u001b[0;36m0\u001b[0m\u001b[0;34m]\u001b[0m\u001b[0;34m\u001b[0m\u001b[0m\n\u001b[0m\u001b[1;32m      9\u001b[0m     \u001b[0mtwomassind_arr\u001b[0m\u001b[0;34m.\u001b[0m\u001b[0mappend\u001b[0m\u001b[0;34m(\u001b[0m\u001b[0mtwomassind\u001b[0m\u001b[0;34m)\u001b[0m\u001b[0;34m\u001b[0m\u001b[0m\n\u001b[1;32m     10\u001b[0m     \u001b[0mmatcheddec\u001b[0m \u001b[0;34m=\u001b[0m \u001b[0mdec\u001b[0m\u001b[0;34m[\u001b[0m\u001b[0mtwomassind\u001b[0m\u001b[0;34m]\u001b[0m\u001b[0;34m\u001b[0m\u001b[0m\n",
      "\u001b[0;31mIndexError\u001b[0m: index 0 is out of bounds for axis 0 with size 0"
     ]
    }
   ],
   "source": [
    "# retrieve the DEC and indicies of the found subset RAs\n",
    "twomassind_arr = []\n",
    "subsetind_arr = []\n",
    "twomassdec_arr = []\n",
    "subsetdec_arr = []\n",
    "\n",
    "for element in matched_ra:\n",
    "    twomassind = np.where(ra == element)[0][0]\n",
    "    twomassind_arr.append(twomassind)\n",
    "    matcheddec = dec[twomassind]\n",
    "    twomassdec_arr.append(matcheddec)\n",
    "    \n",
    "for element in searched_ra:    \n",
    "    subsetind = np.where(subsetra == element)[0][0]\n",
    "    subsetind_arr.append(subsetind)\n",
    "    searcheddec = subsetdec[subsetind]\n",
    "    subsetdec_arr.append(searcheddec)\n",
    "    \n",
    "#print(twomassind_arr, twomassdec_arr)\n",
    "#print(subsetind_arr, subsetdec_arr)"
   ]
  },
  {
   "cell_type": "code",
   "execution_count": 48,
   "metadata": {
    "collapsed": false
   },
   "outputs": [
    {
     "name": "stdout",
     "output_type": "stream",
     "text": [
      "0.0876575\n"
     ]
    }
   ],
   "source": [
    "print(matched_ra)\n",
    "\n",
    "#np.where(ra == element)[0][0]\n"
   ]
  },
  {
   "cell_type": "code",
   "execution_count": null,
   "metadata": {
    "collapsed": false
   },
   "outputs": [],
   "source": [
    "# check that the DEC values are w/i tolerence and return matched indices\n",
    "# indices returned are for 2MASS\n",
    "matched_ind = []\n",
    "for i in np.arange(0,len(twomassdec_arr)):\n",
    "    a = subsetdec_arr[i]\n",
    "    dec = twomassdec_arr[i]\n",
    "    if np.absolute(a - dec) < tol:\n",
    "        matched_ind.append(ind_arr[i])\n",
    "        \n",
    "print(\"searched for a subset of \", len(subsetra), \"Coordinates against 2mass list of\", len(twomass_ra), \"Coordinates\")\n",
    "print(\"Coordinate matches: \", len(matched_ra))        \n",
    "print(\"IDs: \", matched_ind)"
   ]
  },
  {
   "cell_type": "code",
   "execution_count": null,
   "metadata": {
    "collapsed": false
   },
   "outputs": [],
   "source": [
    "# select info on the matched RA and DECs\n",
    "twomass_data['galah_id'][matched_ind]"
   ]
  },
  {
   "cell_type": "code",
   "execution_count": 10,
   "metadata": {
    "collapsed": false
   },
   "outputs": [],
   "source": [
    "import time\n",
    "from tqdm import *"
   ]
  },
  {
   "cell_type": "code",
   "execution_count": null,
   "metadata": {
    "collapsed": true
   },
   "outputs": [],
   "source": []
  }
 ],
 "metadata": {
  "kernelspec": {
   "display_name": "Python 3",
   "language": "python",
   "name": "python3"
  },
  "language_info": {
   "codemirror_mode": {
    "name": "ipython",
    "version": 3
   },
   "file_extension": ".py",
   "mimetype": "text/x-python",
   "name": "python",
   "nbconvert_exporter": "python",
   "pygments_lexer": "ipython3",
   "version": "3.4.3"
  }
 },
 "nbformat": 4,
 "nbformat_minor": 0
}
